{
 "cells": [
  {
   "cell_type": "code",
   "execution_count": 1,
   "metadata": {},
   "outputs": [],
   "source": [
    "%load_ext autoreload\n",
    "%autoreload 2"
   ]
  },
  {
   "cell_type": "code",
   "execution_count": 2,
   "metadata": {},
   "outputs": [],
   "source": [
    "# Modified from https://github.com/ieee8023/NeuralNetwork-Examples/blob/master/pytorch/pytorch-mnist.ipynb\n",
    "\n",
    "import time\n",
    "import numpy as np\n",
    "import torch\n",
    "import torch.nn as nn\n",
    "import torch.nn.functional as F\n",
    "import torch.utils.data.dataloader as dataloader\n",
    "import torch.optim as optim\n",
    "import torchvision\n",
    "import matplotlib.pyplot as plt \n",
    "%matplotlib inline\n",
    "\n",
    "from torch.autograd import Variable\n",
    "cuda = torch.cuda.is_available()\n",
    "\n",
    "torch.manual_seed(0)\n",
    "if cuda:\n",
    "    torch.cuda.manual_seed(0)"
   ]
  },
  {
   "cell_type": "code",
   "execution_count": null,
   "metadata": {},
   "outputs": [],
   "source": []
  },
  {
   "cell_type": "code",
   "execution_count": null,
   "metadata": {},
   "outputs": [],
   "source": []
  },
  {
   "cell_type": "code",
   "execution_count": 3,
   "metadata": {},
   "outputs": [
    {
     "name": "stdout",
     "output_type": "stream",
     "text": [
      "1\n",
      "Tesla P100-PCIE-12GB\n",
      "True\n"
     ]
    }
   ],
   "source": [
    "# Check GPU stuffs\n",
    "print(torch.cuda.device_count())\n",
    "print(torch.cuda.get_device_name(0))\n",
    "print(torch.cuda.is_available())"
   ]
  },
  {
   "cell_type": "code",
   "execution_count": null,
   "metadata": {},
   "outputs": [],
   "source": []
  },
  {
   "cell_type": "code",
   "execution_count": null,
   "metadata": {},
   "outputs": [],
   "source": []
  },
  {
   "cell_type": "code",
   "execution_count": null,
   "metadata": {},
   "outputs": [],
   "source": []
  },
  {
   "cell_type": "code",
   "execution_count": 4,
   "metadata": {},
   "outputs": [
    {
     "name": "stderr",
     "output_type": "stream",
     "text": [
      "/project/6037045/hasib/envs/pytorch/lib/python3.6/site-packages/torchvision/datasets/mnist.py:53: UserWarning: train_data has been renamed data\n",
      "  warnings.warn(\"train_data has been renamed data\")\n"
     ]
    }
   ],
   "source": [
    "train = torchvision.datasets.MNIST('./data', train=True, download=True, transform=torchvision.transforms.Compose([\n",
    "    torchvision.transforms.ToTensor(), # ToTensor does min-max normalization. \n",
    "]), )\n",
    "\n",
    "test = torchvision.datasets.MNIST('./data', train=False, download=True, transform=torchvision.transforms.Compose([\n",
    "    torchvision.transforms.ToTensor(), # ToTensor does min-max normalization. \n",
    "]), )\n",
    "\n",
    "# Create DataLoader\n",
    "dataloader_args = dict(shuffle=True, batch_size=10000,num_workers=4, pin_memory=True) if cuda else dict(shuffle=True, batch_size=64)\n",
    "train_loader = dataloader.DataLoader(train, **dataloader_args)\n",
    "test_loader = dataloader.DataLoader(test, **dataloader_args)\n",
    "\n",
    "train_data = train.train_data\n",
    "train_data = train.transform(train_data.numpy())"
   ]
  },
  {
   "cell_type": "code",
   "execution_count": null,
   "metadata": {},
   "outputs": [],
   "source": []
  },
  {
   "cell_type": "code",
   "execution_count": 5,
   "metadata": {},
   "outputs": [
    {
     "data": {
      "text/plain": [
       "Dataset MNIST\n",
       "    Number of datapoints: 60000\n",
       "    Root location: ./data\n",
       "    Split: Train\n",
       "    StandardTransform\n",
       "Transform: Compose(\n",
       "               ToTensor()\n",
       "           )"
      ]
     },
     "execution_count": 5,
     "metadata": {},
     "output_type": "execute_result"
    }
   ],
   "source": [
    "train"
   ]
  },
  {
   "cell_type": "code",
   "execution_count": null,
   "metadata": {},
   "outputs": [],
   "source": []
  },
  {
   "cell_type": "code",
   "execution_count": 6,
   "metadata": {},
   "outputs": [
    {
     "data": {
      "text/plain": [
       "(torch.Size([10000, 1, 28, 28]), torch.Size([10000]))"
      ]
     },
     "execution_count": 6,
     "metadata": {},
     "output_type": "execute_result"
    }
   ],
   "source": [
    "# get some random training images\n",
    "x, y = next(iter(train_loader))\n",
    "x.shape, y.shape"
   ]
  },
  {
   "cell_type": "code",
   "execution_count": 8,
   "metadata": {},
   "outputs": [
    {
     "data": {
      "text/plain": [
       "tensor([5, 6, 5, 8, 9, 3, 8, 0, 5, 4])"
      ]
     },
     "execution_count": 8,
     "metadata": {},
     "output_type": "execute_result"
    }
   ],
   "source": [
    "y[0:10]"
   ]
  },
  {
   "cell_type": "code",
   "execution_count": null,
   "metadata": {},
   "outputs": [],
   "source": []
  },
  {
   "cell_type": "code",
   "execution_count": 7,
   "metadata": {},
   "outputs": [],
   "source": [
    "def imshow(img, label):\n",
    "    # Convert to numpy\n",
    "    npimg = img.numpy()\n",
    "    # Make to w,h from w,h,1\n",
    "    npimg = npimg.squeeze()\n",
    "    \n",
    "    # Plot\n",
    "    plt.imshow(npimg)\n",
    "    plt.title(\"This is a {}\".format(label))"
   ]
  },
  {
   "cell_type": "code",
   "execution_count": null,
   "metadata": {},
   "outputs": [],
   "source": []
  },
  {
   "cell_type": "code",
   "execution_count": 8,
   "metadata": {},
   "outputs": [
    {
     "name": "stderr",
     "output_type": "stream",
     "text": [
      "Traceback (most recent call last):\n",
      "  File \"/cvmfs/soft.computecanada.ca/easybuild/software/2017/Core/python/3.6.3/lib/python3.6/multiprocessing/queues.py\", line 240, in _feed\n",
      "    send_bytes(obj)\n",
      "  File \"/cvmfs/soft.computecanada.ca/easybuild/software/2017/Core/python/3.6.3/lib/python3.6/multiprocessing/connection.py\", line 200, in send_bytes\n",
      "    self._send_bytes(m[offset:offset + size])\n",
      "  File \"/cvmfs/soft.computecanada.ca/easybuild/software/2017/Core/python/3.6.3/lib/python3.6/multiprocessing/connection.py\", line 404, in _send_bytes\n",
      "    self._send(header + buf)\n",
      "  File \"/cvmfs/soft.computecanada.ca/easybuild/software/2017/Core/python/3.6.3/lib/python3.6/multiprocessing/connection.py\", line 368, in _send\n",
      "    n = write(self._handle, buf)\n",
      "BrokenPipeError: [Errno 32] Broken pipe\n"
     ]
    },
    {
     "data": {
      "image/png": "[encoded data removed]",
      "text/plain": [
       "<Figure size 432x288 with 1 Axes>"
      ]
     },
     "metadata": {
      "needs_background": "light"
     },
     "output_type": "display_data"
    }
   ],
   "source": [
    "ct = 4000\n",
    "imshow(x[ct], y[ct])"
   ]
  },
  {
   "cell_type": "code",
   "execution_count": null,
   "metadata": {},
   "outputs": [],
   "source": []
  },
  {
   "cell_type": "code",
   "execution_count": null,
   "metadata": {},
   "outputs": [],
   "source": []
  },
  {
   "cell_type": "code",
   "execution_count": 9,
   "metadata": {},
   "outputs": [],
   "source": [
    "class Model(nn.Module):\n",
    "    def __init__(self):\n",
    "        super(Model, self).__init__()\n",
    "        self.fc = nn.Linear(784, 1000)\n",
    "        self.fc2 = nn.Linear(1000, 10)\n",
    "\n",
    "    def forward(self, x):\n",
    "        x = x.view((-1, 784))\n",
    "        h = F.relu(self.fc(x))\n",
    "        h = self.fc2(h)\n",
    "        return F.log_softmax(h, dim=1)    \n",
    "    \n",
    "# Init model\n",
    "model = None\n",
    "model = Model()\n",
    "\n",
    "# Send model to GPU\n",
    "if cuda:\n",
    "    model.cuda()\n",
    "\n",
    "# Init optimizer\n",
    "optimizer = optim.Adam(model.parameters(), lr=1e-4)"
   ]
  },
  {
   "cell_type": "code",
   "execution_count": null,
   "metadata": {},
   "outputs": [],
   "source": []
  },
  {
   "cell_type": "code",
   "execution_count": 10,
   "metadata": {},
   "outputs": [
    {
     "data": {
      "text/plain": [
       "Model(\n",
       "  (fc): Linear(in_features=784, out_features=1000, bias=True)\n",
       "  (fc2): Linear(in_features=1000, out_features=10, bias=True)\n",
       ")"
      ]
     },
     "execution_count": 10,
     "metadata": {},
     "output_type": "execute_result"
    }
   ],
   "source": [
    "# Print model\n",
    "model"
   ]
  },
  {
   "cell_type": "code",
   "execution_count": null,
   "metadata": {},
   "outputs": [],
   "source": []
  },
  {
   "cell_type": "code",
   "execution_count": 11,
   "metadata": {},
   "outputs": [
    {
     "name": "stdout",
     "output_type": "stream",
     "text": [
      "All parameters  795010\n",
      "Trainable parameters  795010\n"
     ]
    }
   ],
   "source": [
    "# Compute the number of trainable parameters\n",
    "\n",
    "#model_parameters = filter(lambda p: p.requires_grad, model.parameters())\n",
    "#params = sum([np.prod(p.size()) for p in model_parameters])\n",
    "#params\n",
    "\n",
    "# All parameters\n",
    "all_params = sum(p.numel() for p in model.parameters())\n",
    "print(\"All parameters \", all_params)\n",
    "\n",
    "# Trainable parameters\n",
    "all_train_params = sum(p.numel() for p in model.parameters() if p.requires_grad)\n",
    "print(\"Trainable parameters \", all_train_params)"
   ]
  },
  {
   "cell_type": "code",
   "execution_count": null,
   "metadata": {},
   "outputs": [],
   "source": []
  },
  {
   "cell_type": "code",
   "execution_count": null,
   "metadata": {},
   "outputs": [],
   "source": []
  },
  {
   "cell_type": "code",
   "execution_count": 12,
   "metadata": {},
   "outputs": [
    {
     "data": {
      "text/plain": [
       "(torch.Size([10000, 1, 28, 28]), torch.Size([10000]))"
      ]
     },
     "execution_count": 12,
     "metadata": {},
     "output_type": "execute_result"
    }
   ],
   "source": [
    "# get some random training images\n",
    "x, y = next(iter(train_loader))\n",
    "x.shape, y.shape"
   ]
  },
  {
   "cell_type": "code",
   "execution_count": null,
   "metadata": {},
   "outputs": [],
   "source": []
  },
  {
   "cell_type": "code",
   "execution_count": null,
   "metadata": {},
   "outputs": [],
   "source": []
  },
  {
   "cell_type": "code",
   "execution_count": null,
   "metadata": {},
   "outputs": [],
   "source": []
  },
  {
   "cell_type": "code",
   "execution_count": 13,
   "metadata": {},
   "outputs": [
    {
     "name": "stdout",
     "output_type": "stream",
     "text": [
      "0 torch.Size([10000, 1, 28, 28]) torch.Size([10000])\n",
      "1 torch.Size([10000, 1, 28, 28]) torch.Size([10000])\n",
      "2 torch.Size([10000, 1, 28, 28]) torch.Size([10000])\n",
      "3 torch.Size([10000, 1, 28, 28]) torch.Size([10000])\n",
      "4 torch.Size([10000, 1, 28, 28]) torch.Size([10000])\n",
      "5 torch.Size([10000, 1, 28, 28]) torch.Size([10000])\n"
     ]
    }
   ],
   "source": [
    "# train data loader works like this\n",
    "for b, (d, t) in enumerate(train_loader):\n",
    "    print(b, d.shape, t.shape)"
   ]
  },
  {
   "cell_type": "code",
   "execution_count": null,
   "metadata": {},
   "outputs": [],
   "source": []
  },
  {
   "cell_type": "code",
   "execution_count": null,
   "metadata": {},
   "outputs": [],
   "source": []
  },
  {
   "cell_type": "code",
   "execution_count": null,
   "metadata": {},
   "outputs": [],
   "source": []
  },
  {
   "cell_type": "code",
   "execution_count": 14,
   "metadata": {},
   "outputs": [
    {
     "name": "stdout",
     "output_type": "stream",
     "text": [
      " Train Epoch: 1/50 [0/60000 (0%)]\tLoss: 2.301749\n",
      " Train Epoch: 1/50 [10000/60000 (17%)]\tLoss: 2.281231\n",
      " Train Epoch: 1/50 [20000/60000 (33%)]\tLoss: 2.259795\n",
      " Train Epoch: 1/50 [30000/60000 (50%)]\tLoss: 2.241348\n",
      " Train Epoch: 1/50 [40000/60000 (67%)]\tLoss: 2.221066\n",
      " Train Epoch: 1/50 [50000/60000 (83%)]\tLoss: 2.201534\n",
      " Train Epoch: 1/50 [60000/60000 (83%)]\tLoss: 2.201534\t Test Accuracy: 48.22%\n"
     ]
    },
    {
     "name": "stderr",
     "output_type": "stream",
     "text": [
      "/project/6037045/hasib/envs/pytorch/lib/python3.6/site-packages/torchvision/datasets/mnist.py:58: UserWarning: test_data has been renamed data\n",
      "  warnings.warn(\"test_data has been renamed data\")\n",
      "/project/6037045/hasib/envs/pytorch/lib/python3.6/site-packages/torchvision/datasets/mnist.py:48: UserWarning: test_labels has been renamed targets\n",
      "  warnings.warn(\"test_labels has been renamed targets\")\n"
     ]
    },
    {
     "name": "stdout",
     "output_type": "stream",
     "text": [
      " Train Epoch: 2/50 [0/60000 (0%)]\tLoss: 2.181595\n",
      " Train Epoch: 2/50 [10000/60000 (17%)]\tLoss: 2.163771\n",
      " Train Epoch: 2/50 [20000/60000 (33%)]\tLoss: 2.142720\n",
      " Train Epoch: 2/50 [30000/60000 (50%)]\tLoss: 2.125050\n",
      " Train Epoch: 2/50 [40000/60000 (67%)]\tLoss: 2.103394\n",
      " Train Epoch: 2/50 [50000/60000 (83%)]\tLoss: 2.083267\n",
      " Train Epoch: 2/50 [60000/60000 (83%)]\tLoss: 2.083267\t Test Accuracy: 68.49%\n",
      " Train Epoch: 3/50 [0/60000 (0%)]\tLoss: 2.065194\n",
      " Train Epoch: 3/50 [10000/60000 (17%)]\tLoss: 2.046313\n",
      " Train Epoch: 3/50 [20000/60000 (33%)]\tLoss: 2.027190\n",
      " Train Epoch: 3/50 [30000/60000 (50%)]\tLoss: 2.002090\n",
      " Train Epoch: 3/50 [40000/60000 (67%)]\tLoss: 1.985408\n",
      " Train Epoch: 3/50 [50000/60000 (83%)]\tLoss: 1.965011\n",
      " Train Epoch: 3/50 [60000/60000 (83%)]\tLoss: 1.965011\t Test Accuracy: 73.18%\n",
      " Train Epoch: 4/50 [0/60000 (0%)]\tLoss: 1.944029\n",
      " Train Epoch: 4/50 [10000/60000 (17%)]\tLoss: 1.927472\n",
      " Train Epoch: 4/50 [20000/60000 (33%)]\tLoss: 1.902970\n",
      " Train Epoch: 4/50 [30000/60000 (50%)]\tLoss: 1.882272\n",
      " Train Epoch: 4/50 [40000/60000 (67%)]\tLoss: 1.860283\n",
      " Train Epoch: 4/50 [50000/60000 (83%)]\tLoss: 1.836995\n",
      " Train Epoch: 4/50 [60000/60000 (83%)]\tLoss: 1.836995\t Test Accuracy: 76.43%\n",
      " Train Epoch: 5/50 [0/60000 (0%)]\tLoss: 1.813941\n",
      " Train Epoch: 5/50 [10000/60000 (17%)]\tLoss: 1.800443\n",
      " Train Epoch: 5/50 [20000/60000 (33%)]\tLoss: 1.777973\n",
      " Train Epoch: 5/50 [30000/60000 (50%)]\tLoss: 1.756432\n",
      " Train Epoch: 5/50 [40000/60000 (67%)]\tLoss: 1.727450\n",
      " Train Epoch: 5/50 [50000/60000 (83%)]\tLoss: 1.706466\n",
      " Train Epoch: 5/50 [60000/60000 (83%)]\tLoss: 1.706466\t Test Accuracy: 78.91%\n",
      " Train Epoch: 6/50 [0/60000 (0%)]\tLoss: 1.690616\n",
      " Train Epoch: 6/50 [10000/60000 (17%)]\tLoss: 1.660259\n",
      " Train Epoch: 6/50 [20000/60000 (33%)]\tLoss: 1.640862\n",
      " Train Epoch: 6/50 [30000/60000 (50%)]\tLoss: 1.623094\n",
      " Train Epoch: 6/50 [40000/60000 (67%)]\tLoss: 1.600639\n",
      " Train Epoch: 6/50 [50000/60000 (83%)]\tLoss: 1.573593\n",
      " Train Epoch: 6/50 [60000/60000 (83%)]\tLoss: 1.573593\t Test Accuracy: 80.43%\n",
      " Train Epoch: 7/50 [0/60000 (0%)]\tLoss: 1.550224\n",
      " Train Epoch: 7/50 [10000/60000 (17%)]\tLoss: 1.538060\n",
      " Train Epoch: 7/50 [20000/60000 (33%)]\tLoss: 1.509290\n",
      " Train Epoch: 7/50 [30000/60000 (50%)]\tLoss: 1.487340\n",
      " Train Epoch: 7/50 [40000/60000 (67%)]\tLoss: 1.463571\n",
      " Train Epoch: 7/50 [50000/60000 (83%)]\tLoss: 1.449128\n",
      " Train Epoch: 7/50 [60000/60000 (83%)]\tLoss: 1.449128\t Test Accuracy: 81.64%\n",
      " Train Epoch: 8/50 [0/60000 (0%)]\tLoss: 1.427220\n",
      " Train Epoch: 8/50 [10000/60000 (17%)]\tLoss: 1.400071\n",
      " Train Epoch: 8/50 [20000/60000 (33%)]\tLoss: 1.382880\n",
      " Train Epoch: 8/50 [30000/60000 (50%)]\tLoss: 1.360613\n",
      " Train Epoch: 8/50 [40000/60000 (67%)]\tLoss: 1.334417\n",
      " Train Epoch: 8/50 [50000/60000 (83%)]\tLoss: 1.326565\n",
      " Train Epoch: 8/50 [60000/60000 (83%)]\tLoss: 1.326565\t Test Accuracy: 82.55%\n",
      " Train Epoch: 9/50 [0/60000 (0%)]\tLoss: 1.293537\n",
      " Train Epoch: 9/50 [10000/60000 (17%)]\tLoss: 1.276990\n",
      " Train Epoch: 9/50 [20000/60000 (33%)]\tLoss: 1.266098\n",
      " Train Epoch: 9/50 [30000/60000 (50%)]\tLoss: 1.246417\n",
      " Train Epoch: 9/50 [40000/60000 (67%)]\tLoss: 1.224237\n",
      " Train Epoch: 9/50 [50000/60000 (83%)]\tLoss: 1.206693\n",
      " Train Epoch: 9/50 [60000/60000 (83%)]\tLoss: 1.206693\t Test Accuracy: 83.10%\n",
      " Train Epoch: 10/50 [0/60000 (0%)]\tLoss: 1.177678\n",
      " Train Epoch: 10/50 [10000/60000 (17%)]\tLoss: 1.166086\n",
      " Train Epoch: 10/50 [20000/60000 (33%)]\tLoss: 1.158479\n",
      " Train Epoch: 10/50 [30000/60000 (50%)]\tLoss: 1.139710\n",
      " Train Epoch: 10/50 [40000/60000 (67%)]\tLoss: 1.120876\n",
      " Train Epoch: 10/50 [50000/60000 (83%)]\tLoss: 1.095285\n",
      " Train Epoch: 10/50 [60000/60000 (83%)]\tLoss: 1.095285\t Test Accuracy: 83.63%\n",
      " Train Epoch: 11/50 [0/60000 (0%)]\tLoss: 1.078476\n",
      " Train Epoch: 11/50 [10000/60000 (17%)]\tLoss: 1.071626\n",
      " Train Epoch: 11/50 [20000/60000 (33%)]\tLoss: 1.054592\n",
      " Train Epoch: 11/50 [30000/60000 (50%)]\tLoss: 1.042182\n",
      " Train Epoch: 11/50 [40000/60000 (67%)]\tLoss: 1.014434\n",
      " Train Epoch: 11/50 [50000/60000 (83%)]\tLoss: 1.010087\n",
      " Train Epoch: 11/50 [60000/60000 (83%)]\tLoss: 1.010087\t Test Accuracy: 84.40%\n",
      " Train Epoch: 12/50 [0/60000 (0%)]\tLoss: 0.989099\n",
      " Train Epoch: 12/50 [10000/60000 (17%)]\tLoss: 0.981772\n",
      " Train Epoch: 12/50 [20000/60000 (33%)]\tLoss: 0.966383\n",
      " Train Epoch: 12/50 [30000/60000 (50%)]\tLoss: 0.946928\n",
      " Train Epoch: 12/50 [40000/60000 (67%)]\tLoss: 0.944690\n",
      " Train Epoch: 12/50 [50000/60000 (83%)]\tLoss: 0.927162\n",
      " Train Epoch: 12/50 [60000/60000 (83%)]\tLoss: 0.927162\t Test Accuracy: 85.01%\n",
      " Train Epoch: 13/50 [0/60000 (0%)]\tLoss: 0.919496\n",
      " Train Epoch: 13/50 [10000/60000 (17%)]\tLoss: 0.904204\n",
      " Train Epoch: 13/50 [20000/60000 (33%)]\tLoss: 0.891768\n",
      " Train Epoch: 13/50 [30000/60000 (50%)]\tLoss: 0.875555\n",
      " Train Epoch: 13/50 [40000/60000 (67%)]\tLoss: 0.864153\n",
      " Train Epoch: 13/50 [50000/60000 (83%)]\tLoss: 0.852994\n",
      " Train Epoch: 13/50 [60000/60000 (83%)]\tLoss: 0.852994\t Test Accuracy: 85.57%\n",
      " Train Epoch: 14/50 [0/60000 (0%)]\tLoss: 0.862333\n",
      " Train Epoch: 14/50 [10000/60000 (17%)]\tLoss: 0.834679\n",
      " Train Epoch: 14/50 [20000/60000 (33%)]\tLoss: 0.816196\n",
      " Train Epoch: 14/50 [30000/60000 (50%)]\tLoss: 0.813606\n",
      " Train Epoch: 14/50 [40000/60000 (67%)]\tLoss: 0.805965\n",
      " Train Epoch: 14/50 [50000/60000 (83%)]\tLoss: 0.789111\n",
      " Train Epoch: 14/50 [60000/60000 (83%)]\tLoss: 0.789111\t Test Accuracy: 86.29%\n",
      " Train Epoch: 15/50 [0/60000 (0%)]\tLoss: 0.792749\n",
      " Train Epoch: 15/50 [10000/60000 (17%)]\tLoss: 0.771561\n",
      " Train Epoch: 15/50 [20000/60000 (33%)]\tLoss: 0.765184\n",
      " Train Epoch: 15/50 [30000/60000 (50%)]\tLoss: 0.768298\n",
      " Train Epoch: 15/50 [40000/60000 (67%)]\tLoss: 0.761373\n",
      " Train Epoch: 15/50 [50000/60000 (83%)]\tLoss: 0.730474\n",
      " Train Epoch: 15/50 [60000/60000 (83%)]\tLoss: 0.730474\t Test Accuracy: 86.76%\n",
      " Train Epoch: 16/50 [0/60000 (0%)]\tLoss: 0.740113\n",
      " Train Epoch: 16/50 [10000/60000 (17%)]\tLoss: 0.718937\n",
      " Train Epoch: 16/50 [20000/60000 (33%)]\tLoss: 0.727034\n",
      " Train Epoch: 16/50 [30000/60000 (50%)]\tLoss: 0.713445\n",
      " Train Epoch: 16/50 [40000/60000 (67%)]\tLoss: 0.701418\n",
      " Train Epoch: 16/50 [50000/60000 (83%)]\tLoss: 0.702667\n",
      " Train Epoch: 16/50 [60000/60000 (83%)]\tLoss: 0.702667\t Test Accuracy: 87.08%\n",
      " Train Epoch: 17/50 [0/60000 (0%)]\tLoss: 0.691116\n",
      " Train Epoch: 17/50 [10000/60000 (17%)]\tLoss: 0.682782\n",
      " Train Epoch: 17/50 [20000/60000 (33%)]\tLoss: 0.688101\n",
      " Train Epoch: 17/50 [30000/60000 (50%)]\tLoss: 0.663892\n",
      " Train Epoch: 17/50 [40000/60000 (67%)]\tLoss: 0.674722\n",
      " Train Epoch: 17/50 [50000/60000 (83%)]\tLoss: 0.656029\n",
      " Train Epoch: 17/50 [60000/60000 (83%)]\tLoss: 0.656029\t Test Accuracy: 87.43%\n",
      " Train Epoch: 18/50 [0/60000 (0%)]\tLoss: 0.658195\n",
      " Train Epoch: 18/50 [10000/60000 (17%)]\tLoss: 0.646788\n",
      " Train Epoch: 18/50 [20000/60000 (33%)]\tLoss: 0.642521\n",
      " Train Epoch: 18/50 [30000/60000 (50%)]\tLoss: 0.633374\n",
      " Train Epoch: 18/50 [40000/60000 (67%)]\tLoss: 0.629666\n",
      " Train Epoch: 18/50 [50000/60000 (83%)]\tLoss: 0.631089\n",
      " Train Epoch: 18/50 [60000/60000 (83%)]\tLoss: 0.631089\t Test Accuracy: 87.83%\n",
      " Train Epoch: 19/50 [0/60000 (0%)]\tLoss: 0.614261\n",
      " Train Epoch: 19/50 [10000/60000 (17%)]\tLoss: 0.604873\n",
      " Train Epoch: 19/50 [20000/60000 (33%)]\tLoss: 0.610442\n",
      " Train Epoch: 19/50 [30000/60000 (50%)]\tLoss: 0.604507\n",
      " Train Epoch: 19/50 [40000/60000 (67%)]\tLoss: 0.614554\n",
      " Train Epoch: 19/50 [50000/60000 (83%)]\tLoss: 0.605943\n",
      " Train Epoch: 19/50 [60000/60000 (83%)]\tLoss: 0.605943\t Test Accuracy: 88.07%\n",
      " Train Epoch: 20/50 [0/60000 (0%)]\tLoss: 0.604885\n",
      " Train Epoch: 20/50 [10000/60000 (17%)]\tLoss: 0.577597\n",
      " Train Epoch: 20/50 [20000/60000 (33%)]\tLoss: 0.592236\n",
      " Train Epoch: 20/50 [30000/60000 (50%)]\tLoss: 0.569161\n",
      " Train Epoch: 20/50 [40000/60000 (67%)]\tLoss: 0.572720\n",
      " Train Epoch: 20/50 [50000/60000 (83%)]\tLoss: 0.573232\n",
      " Train Epoch: 20/50 [60000/60000 (83%)]\tLoss: 0.573232\t Test Accuracy: 88.24%\n",
      " Train Epoch: 21/50 [0/60000 (0%)]\tLoss: 0.566973\n",
      " Train Epoch: 21/50 [10000/60000 (17%)]\tLoss: 0.556790\n",
      " Train Epoch: 21/50 [20000/60000 (33%)]\tLoss: 0.552341\n",
      " Train Epoch: 21/50 [30000/60000 (50%)]\tLoss: 0.549340\n",
      " Train Epoch: 21/50 [40000/60000 (67%)]\tLoss: 0.570342\n",
      " Train Epoch: 21/50 [50000/60000 (83%)]\tLoss: 0.548420\n",
      " Train Epoch: 21/50 [60000/60000 (83%)]\tLoss: 0.548420\t Test Accuracy: 88.58%\n",
      " Train Epoch: 22/50 [0/60000 (0%)]\tLoss: 0.552084\n",
      " Train Epoch: 22/50 [10000/60000 (17%)]\tLoss: 0.530564\n",
      " Train Epoch: 22/50 [20000/60000 (33%)]\tLoss: 0.539759\n",
      " Train Epoch: 22/50 [30000/60000 (50%)]\tLoss: 0.533793\n",
      " Train Epoch: 22/50 [40000/60000 (67%)]\tLoss: 0.528070\n",
      " Train Epoch: 22/50 [50000/60000 (83%)]\tLoss: 0.530713\n",
      " Train Epoch: 22/50 [60000/60000 (83%)]\tLoss: 0.530713\t Test Accuracy: 88.87%\n",
      " Train Epoch: 23/50 [0/60000 (0%)]\tLoss: 0.527897\n",
      " Train Epoch: 23/50 [10000/60000 (17%)]\tLoss: 0.511955\n",
      " Train Epoch: 23/50 [20000/60000 (33%)]\tLoss: 0.509551\n",
      " Train Epoch: 23/50 [30000/60000 (50%)]\tLoss: 0.518044\n",
      " Train Epoch: 23/50 [40000/60000 (67%)]\tLoss: 0.513286\n",
      " Train Epoch: 23/50 [50000/60000 (83%)]\tLoss: 0.518357\n",
      " Train Epoch: 23/50 [60000/60000 (83%)]\tLoss: 0.518357\t Test Accuracy: 89.13%\n",
      " Train Epoch: 24/50 [0/60000 (0%)]\tLoss: 0.503589\n",
      " Train Epoch: 24/50 [10000/60000 (17%)]\tLoss: 0.501890\n",
      " Train Epoch: 24/50 [20000/60000 (33%)]\tLoss: 0.503904\n",
      " Train Epoch: 24/50 [30000/60000 (50%)]\tLoss: 0.501194\n",
      " Train Epoch: 24/50 [40000/60000 (67%)]\tLoss: 0.497523\n",
      " Train Epoch: 24/50 [50000/60000 (83%)]\tLoss: 0.486813\n",
      " Train Epoch: 24/50 [60000/60000 (83%)]\tLoss: 0.486813\t Test Accuracy: 89.27%\n",
      " Train Epoch: 25/50 [0/60000 (0%)]\tLoss: 0.493938\n",
      " Train Epoch: 25/50 [10000/60000 (17%)]\tLoss: 0.490299\n",
      " Train Epoch: 25/50 [20000/60000 (33%)]\tLoss: 0.479521\n",
      " Train Epoch: 25/50 [30000/60000 (50%)]\tLoss: 0.475142\n",
      " Train Epoch: 25/50 [40000/60000 (67%)]\tLoss: 0.488641\n",
      " Train Epoch: 25/50 [50000/60000 (83%)]\tLoss: 0.473283\n",
      " Train Epoch: 25/50 [60000/60000 (83%)]\tLoss: 0.473283\t Test Accuracy: 89.45%\n",
      " Train Epoch: 26/50 [0/60000 (0%)]\tLoss: 0.472433\n",
      " Train Epoch: 26/50 [10000/60000 (17%)]\tLoss: 0.478483\n",
      " Train Epoch: 26/50 [20000/60000 (33%)]\tLoss: 0.469051\n",
      " Train Epoch: 26/50 [30000/60000 (50%)]\tLoss: 0.461217\n",
      " Train Epoch: 26/50 [40000/60000 (67%)]\tLoss: 0.475081\n",
      " Train Epoch: 26/50 [50000/60000 (83%)]\tLoss: 0.459181\n",
      " Train Epoch: 26/50 [60000/60000 (83%)]\tLoss: 0.459181\t Test Accuracy: 89.70%\n",
      " Train Epoch: 27/50 [0/60000 (0%)]\tLoss: 0.464787\n",
      " Train Epoch: 27/50 [10000/60000 (17%)]\tLoss: 0.460862\n",
      " Train Epoch: 27/50 [20000/60000 (33%)]\tLoss: 0.460104\n",
      " Train Epoch: 27/50 [30000/60000 (50%)]\tLoss: 0.452638\n",
      " Train Epoch: 27/50 [40000/60000 (67%)]\tLoss: 0.449768\n",
      " Train Epoch: 27/50 [50000/60000 (83%)]\tLoss: 0.449219\n",
      " Train Epoch: 27/50 [60000/60000 (83%)]\tLoss: 0.449219\t Test Accuracy: 89.88%\n",
      " Train Epoch: 28/50 [0/60000 (0%)]\tLoss: 0.455323\n",
      " Train Epoch: 28/50 [10000/60000 (17%)]\tLoss: 0.455837\n",
      " Train Epoch: 28/50 [20000/60000 (33%)]\tLoss: 0.438419\n",
      " Train Epoch: 28/50 [30000/60000 (50%)]\tLoss: 0.441108\n",
      " Train Epoch: 28/50 [40000/60000 (67%)]\tLoss: 0.436203\n",
      " Train Epoch: 28/50 [50000/60000 (83%)]\tLoss: 0.439141\n",
      " Train Epoch: 28/50 [60000/60000 (83%)]\tLoss: 0.439141\t Test Accuracy: 89.96%\n",
      " Train Epoch: 29/50 [0/60000 (0%)]\tLoss: 0.437146\n",
      " Train Epoch: 29/50 [10000/60000 (17%)]\tLoss: 0.437858\n",
      " Train Epoch: 29/50 [20000/60000 (33%)]\tLoss: 0.437070\n",
      " Train Epoch: 29/50 [30000/60000 (50%)]\tLoss: 0.428576\n",
      " Train Epoch: 29/50 [40000/60000 (67%)]\tLoss: 0.432858\n",
      " Train Epoch: 29/50 [50000/60000 (83%)]\tLoss: 0.426833\n",
      " Train Epoch: 29/50 [60000/60000 (83%)]\tLoss: 0.426833\t Test Accuracy: 90.09%\n",
      " Train Epoch: 30/50 [0/60000 (0%)]\tLoss: 0.434040\n",
      " Train Epoch: 30/50 [10000/60000 (17%)]\tLoss: 0.429381\n",
      " Train Epoch: 30/50 [20000/60000 (33%)]\tLoss: 0.423981\n",
      " Train Epoch: 30/50 [30000/60000 (50%)]\tLoss: 0.414216\n",
      " Train Epoch: 30/50 [40000/60000 (67%)]\tLoss: 0.416582\n",
      " Train Epoch: 30/50 [50000/60000 (83%)]\tLoss: 0.421669\n",
      " Train Epoch: 30/50 [60000/60000 (83%)]\tLoss: 0.421669\t Test Accuracy: 90.29%\n",
      " Train Epoch: 31/50 [0/60000 (0%)]\tLoss: 0.420691\n",
      " Train Epoch: 31/50 [10000/60000 (17%)]\tLoss: 0.411646\n",
      " Train Epoch: 31/50 [20000/60000 (33%)]\tLoss: 0.410647\n",
      " Train Epoch: 31/50 [30000/60000 (50%)]\tLoss: 0.419895\n",
      " Train Epoch: 31/50 [40000/60000 (67%)]\tLoss: 0.404197\n",
      " Train Epoch: 31/50 [50000/60000 (83%)]\tLoss: 0.416892\n",
      " Train Epoch: 31/50 [60000/60000 (83%)]\tLoss: 0.416892\t Test Accuracy: 90.34%\n",
      " Train Epoch: 32/50 [0/60000 (0%)]\tLoss: 0.405790\n",
      " Train Epoch: 32/50 [10000/60000 (17%)]\tLoss: 0.400406\n",
      " Train Epoch: 32/50 [20000/60000 (33%)]\tLoss: 0.407572\n",
      " Train Epoch: 32/50 [30000/60000 (50%)]\tLoss: 0.396870\n",
      " Train Epoch: 32/50 [40000/60000 (67%)]\tLoss: 0.410180\n",
      " Train Epoch: 32/50 [50000/60000 (83%)]\tLoss: 0.411083\n",
      " Train Epoch: 32/50 [60000/60000 (83%)]\tLoss: 0.411083\t Test Accuracy: 90.50%\n",
      " Train Epoch: 33/50 [0/60000 (0%)]\tLoss: 0.394379\n",
      " Train Epoch: 33/50 [10000/60000 (17%)]\tLoss: 0.403081\n",
      " Train Epoch: 33/50 [20000/60000 (33%)]\tLoss: 0.410138\n",
      " Train Epoch: 33/50 [30000/60000 (50%)]\tLoss: 0.394443\n",
      " Train Epoch: 33/50 [40000/60000 (67%)]\tLoss: 0.392752\n",
      " Train Epoch: 33/50 [50000/60000 (83%)]\tLoss: 0.389138\n",
      " Train Epoch: 33/50 [60000/60000 (83%)]\tLoss: 0.389138\t Test Accuracy: 90.57%\n",
      " Train Epoch: 34/50 [0/60000 (0%)]\tLoss: 0.385831\n",
      " Train Epoch: 34/50 [10000/60000 (17%)]\tLoss: 0.389775\n",
      " Train Epoch: 34/50 [20000/60000 (33%)]\tLoss: 0.383309\n",
      " Train Epoch: 34/50 [30000/60000 (50%)]\tLoss: 0.394295\n",
      " Train Epoch: 34/50 [40000/60000 (67%)]\tLoss: 0.396375\n",
      " Train Epoch: 34/50 [50000/60000 (83%)]\tLoss: 0.388551\n",
      " Train Epoch: 34/50 [60000/60000 (83%)]\tLoss: 0.388551\t Test Accuracy: 90.68%\n",
      " Train Epoch: 35/50 [0/60000 (0%)]\tLoss: 0.385171\n",
      " Train Epoch: 35/50 [10000/60000 (17%)]\tLoss: 0.388774\n",
      " Train Epoch: 35/50 [20000/60000 (33%)]\tLoss: 0.381561\n",
      " Train Epoch: 35/50 [30000/60000 (50%)]\tLoss: 0.380668\n",
      " Train Epoch: 35/50 [40000/60000 (67%)]\tLoss: 0.381168\n",
      " Train Epoch: 35/50 [50000/60000 (83%)]\tLoss: 0.378468\n",
      " Train Epoch: 35/50 [60000/60000 (83%)]\tLoss: 0.378468\t Test Accuracy: 90.87%\n",
      " Train Epoch: 36/50 [0/60000 (0%)]\tLoss: 0.369233\n",
      " Train Epoch: 36/50 [10000/60000 (17%)]\tLoss: 0.372352\n",
      " Train Epoch: 36/50 [20000/60000 (33%)]\tLoss: 0.377919\n",
      " Train Epoch: 36/50 [30000/60000 (50%)]\tLoss: 0.365764\n",
      " Train Epoch: 36/50 [40000/60000 (67%)]\tLoss: 0.391822\n",
      " Train Epoch: 36/50 [50000/60000 (83%)]\tLoss: 0.378860\n",
      " Train Epoch: 36/50 [60000/60000 (83%)]\tLoss: 0.378860\t Test Accuracy: 91.02%\n",
      " Train Epoch: 37/50 [0/60000 (0%)]\tLoss: 0.370147\n",
      " Train Epoch: 37/50 [10000/60000 (17%)]\tLoss: 0.369267\n",
      " Train Epoch: 37/50 [20000/60000 (33%)]\tLoss: 0.372860\n",
      " Train Epoch: 37/50 [30000/60000 (50%)]\tLoss: 0.366694\n",
      " Train Epoch: 37/50 [40000/60000 (67%)]\tLoss: 0.370452\n",
      " Train Epoch: 37/50 [50000/60000 (83%)]\tLoss: 0.369223\n",
      " Train Epoch: 37/50 [60000/60000 (83%)]\tLoss: 0.369223\t Test Accuracy: 91.11%\n",
      " Train Epoch: 38/50 [0/60000 (0%)]\tLoss: 0.367705\n",
      " Train Epoch: 38/50 [10000/60000 (17%)]\tLoss: 0.365616\n",
      " Train Epoch: 38/50 [20000/60000 (33%)]\tLoss: 0.359183\n",
      " Train Epoch: 38/50 [30000/60000 (50%)]\tLoss: 0.365948\n",
      " Train Epoch: 38/50 [40000/60000 (67%)]\tLoss: 0.366791\n",
      " Train Epoch: 38/50 [50000/60000 (83%)]\tLoss: 0.357597\n",
      " Train Epoch: 38/50 [60000/60000 (83%)]\tLoss: 0.357597\t Test Accuracy: 91.17%\n",
      " Train Epoch: 39/50 [0/60000 (0%)]\tLoss: 0.365290\n",
      " Train Epoch: 39/50 [10000/60000 (17%)]\tLoss: 0.357402\n",
      " Train Epoch: 39/50 [20000/60000 (33%)]\tLoss: 0.359082\n",
      " Train Epoch: 39/50 [30000/60000 (50%)]\tLoss: 0.354212\n",
      " Train Epoch: 39/50 [40000/60000 (67%)]\tLoss: 0.350269\n",
      " Train Epoch: 39/50 [50000/60000 (83%)]\tLoss: 0.363147\n",
      " Train Epoch: 39/50 [60000/60000 (83%)]\tLoss: 0.363147\t Test Accuracy: 91.26%\n",
      " Train Epoch: 40/50 [0/60000 (0%)]\tLoss: 0.352818\n",
      " Train Epoch: 40/50 [10000/60000 (17%)]\tLoss: 0.362066\n",
      " Train Epoch: 40/50 [20000/60000 (33%)]\tLoss: 0.352818\n",
      " Train Epoch: 40/50 [30000/60000 (50%)]\tLoss: 0.347966\n",
      " Train Epoch: 40/50 [40000/60000 (67%)]\tLoss: 0.357951\n",
      " Train Epoch: 40/50 [50000/60000 (83%)]\tLoss: 0.343840\n",
      " Train Epoch: 40/50 [60000/60000 (83%)]\tLoss: 0.343840\t Test Accuracy: 91.34%\n",
      " Train Epoch: 41/50 [0/60000 (0%)]\tLoss: 0.361586\n",
      " Train Epoch: 41/50 [10000/60000 (17%)]\tLoss: 0.353365\n",
      " Train Epoch: 41/50 [20000/60000 (33%)]\tLoss: 0.340181\n",
      " Train Epoch: 41/50 [30000/60000 (50%)]\tLoss: 0.342483\n",
      " Train Epoch: 41/50 [40000/60000 (67%)]\tLoss: 0.346293\n",
      " Train Epoch: 41/50 [50000/60000 (83%)]\tLoss: 0.343506\n",
      " Train Epoch: 41/50 [60000/60000 (83%)]\tLoss: 0.343506\t Test Accuracy: 91.39%\n",
      " Train Epoch: 42/50 [0/60000 (0%)]\tLoss: 0.347594\n",
      " Train Epoch: 42/50 [10000/60000 (17%)]\tLoss: 0.340518\n",
      " Train Epoch: 42/50 [20000/60000 (33%)]\tLoss: 0.343703\n",
      " Train Epoch: 42/50 [30000/60000 (50%)]\tLoss: 0.343823\n",
      " Train Epoch: 42/50 [40000/60000 (67%)]\tLoss: 0.337358\n",
      " Train Epoch: 42/50 [50000/60000 (83%)]\tLoss: 0.345402\n",
      " Train Epoch: 42/50 [60000/60000 (83%)]\tLoss: 0.345402\t Test Accuracy: 91.52%\n",
      " Train Epoch: 43/50 [0/60000 (0%)]\tLoss: 0.334882\n",
      " Train Epoch: 43/50 [10000/60000 (17%)]\tLoss: 0.342642\n",
      " Train Epoch: 43/50 [20000/60000 (33%)]\tLoss: 0.324087\n",
      " Train Epoch: 43/50 [30000/60000 (50%)]\tLoss: 0.344489\n",
      " Train Epoch: 43/50 [40000/60000 (67%)]\tLoss: 0.335759\n",
      " Train Epoch: 43/50 [50000/60000 (83%)]\tLoss: 0.349131\n",
      " Train Epoch: 43/50 [60000/60000 (83%)]\tLoss: 0.349131\t Test Accuracy: 91.63%\n",
      " Train Epoch: 44/50 [0/60000 (0%)]\tLoss: 0.343549\n",
      " Train Epoch: 44/50 [10000/60000 (17%)]\tLoss: 0.338911\n",
      " Train Epoch: 44/50 [20000/60000 (33%)]\tLoss: 0.333679\n",
      " Train Epoch: 44/50 [30000/60000 (50%)]\tLoss: 0.332315\n",
      " Train Epoch: 44/50 [40000/60000 (67%)]\tLoss: 0.323269\n",
      " Train Epoch: 44/50 [50000/60000 (83%)]\tLoss: 0.332886\n",
      " Train Epoch: 44/50 [60000/60000 (83%)]\tLoss: 0.332886\t Test Accuracy: 91.60%\n",
      " Train Epoch: 45/50 [0/60000 (0%)]\tLoss: 0.322929\n",
      " Train Epoch: 45/50 [10000/60000 (17%)]\tLoss: 0.336325\n",
      " Train Epoch: 45/50 [20000/60000 (33%)]\tLoss: 0.328284\n",
      " Train Epoch: 45/50 [30000/60000 (50%)]\tLoss: 0.333871\n",
      " Train Epoch: 45/50 [40000/60000 (67%)]\tLoss: 0.326715\n",
      " Train Epoch: 45/50 [50000/60000 (83%)]\tLoss: 0.331526\n",
      " Train Epoch: 45/50 [60000/60000 (83%)]\tLoss: 0.331526\t Test Accuracy: 91.74%\n",
      " Train Epoch: 46/50 [0/60000 (0%)]\tLoss: 0.321405\n",
      " Train Epoch: 46/50 [10000/60000 (17%)]\tLoss: 0.338786\n",
      " Train Epoch: 46/50 [20000/60000 (33%)]\tLoss: 0.321165\n",
      " Train Epoch: 46/50 [30000/60000 (50%)]\tLoss: 0.326351\n",
      " Train Epoch: 46/50 [40000/60000 (67%)]\tLoss: 0.315207\n",
      " Train Epoch: 46/50 [50000/60000 (83%)]\tLoss: 0.332488\n",
      " Train Epoch: 46/50 [60000/60000 (83%)]\tLoss: 0.332488\t Test Accuracy: 91.76%\n",
      " Train Epoch: 47/50 [0/60000 (0%)]\tLoss: 0.328813\n",
      " Train Epoch: 47/50 [10000/60000 (17%)]\tLoss: 0.329752\n",
      " Train Epoch: 47/50 [20000/60000 (33%)]\tLoss: 0.322188\n",
      " Train Epoch: 47/50 [30000/60000 (50%)]\tLoss: 0.322171\n",
      " Train Epoch: 47/50 [40000/60000 (67%)]\tLoss: 0.321925\n",
      " Train Epoch: 47/50 [50000/60000 (83%)]\tLoss: 0.306862\n",
      " Train Epoch: 47/50 [60000/60000 (83%)]\tLoss: 0.306862\t Test Accuracy: 91.79%\n",
      " Train Epoch: 48/50 [0/60000 (0%)]\tLoss: 0.311957\n",
      " Train Epoch: 48/50 [10000/60000 (17%)]\tLoss: 0.329080\n",
      " Train Epoch: 48/50 [20000/60000 (33%)]\tLoss: 0.317411\n",
      " Train Epoch: 48/50 [30000/60000 (50%)]\tLoss: 0.319896\n",
      " Train Epoch: 48/50 [40000/60000 (67%)]\tLoss: 0.311829\n",
      " Train Epoch: 48/50 [50000/60000 (83%)]\tLoss: 0.319330\n",
      " Train Epoch: 48/50 [60000/60000 (83%)]\tLoss: 0.319330\t Test Accuracy: 91.93%\n",
      " Train Epoch: 49/50 [0/60000 (0%)]\tLoss: 0.307752\n",
      " Train Epoch: 49/50 [10000/60000 (17%)]\tLoss: 0.314060\n",
      " Train Epoch: 49/50 [20000/60000 (33%)]\tLoss: 0.316225\n",
      " Train Epoch: 49/50 [30000/60000 (50%)]\tLoss: 0.318692\n",
      " Train Epoch: 49/50 [40000/60000 (67%)]\tLoss: 0.317566\n",
      " Train Epoch: 49/50 [50000/60000 (83%)]\tLoss: 0.313732\n",
      " Train Epoch: 49/50 [60000/60000 (83%)]\tLoss: 0.313732\t Test Accuracy: 91.91%\n",
      " Train Epoch: 50/50 [0/60000 (0%)]\tLoss: 0.310285\n",
      " Train Epoch: 50/50 [10000/60000 (17%)]\tLoss: 0.312370\n",
      " Train Epoch: 50/50 [20000/60000 (33%)]\tLoss: 0.313162\n",
      " Train Epoch: 50/50 [30000/60000 (50%)]\tLoss: 0.314800\n",
      " Train Epoch: 50/50 [40000/60000 (67%)]\tLoss: 0.309620\n",
      " Train Epoch: 50/50 [50000/60000 (83%)]\tLoss: 0.306799\n",
      " Train Epoch: 50/50 [60000/60000 (83%)]\tLoss: 0.306799\t Test Accuracy: 92.02%\n",
      "--- Time taken to train : 0.0 hours ---\n"
     ]
    }
   ],
   "source": [
    "EPOCHS = 50\n",
    "losses = []\n",
    "\n",
    "# https://github.com/hasibzunair/nnpytorch/blob/master/pytorchdocs/G.transfer_learning_tutorial.ipynb\n",
    "# Calculate the starting time    \n",
    "start_time = time.time()\n",
    "\n",
    "# Set to training model: https://discuss.pytorch.org/t/trying-to-understand-the-meaning-of-model-train-and-model-eval/20158\n",
    "model.train()\n",
    "\n",
    "# Start training\n",
    "for epoch in range(EPOCHS):\n",
    "    \n",
    "    # Iterate over dataset in batches of 10,000 images and labels\n",
    "    for batch_idx, (data, target) in enumerate(train_loader):\n",
    "        \n",
    "        data, target = Variable(data), Variable(target)\n",
    "        \n",
    "        # Send data to GPU\n",
    "        if cuda:\n",
    "            data, target = data.cuda(), target.cuda()\n",
    "        \n",
    "        # Stop grads from piling up\n",
    "        optimizer.zero_grad()\n",
    "        \n",
    "        # Get predictions\n",
    "        y_pred = model(data) \n",
    "        \n",
    "        # Compute training loss\n",
    "        loss = F.cross_entropy(y_pred, target)\n",
    "        losses.append(loss.cpu().data.item())\n",
    "        \n",
    "        # Calc gradients\n",
    "        loss.backward()\n",
    "        \n",
    "        # Update weights\n",
    "        optimizer.step()\n",
    "\n",
    "        #if batch_idx % 100 == 1:\n",
    "        print('\\r Train Epoch: {}/{} [{}/{} ({:.0f}%)]\\tLoss: {:.6f}'.format(\n",
    "            epoch+1,\n",
    "            EPOCHS,\n",
    "            batch_idx * len(data), \n",
    "            len(train_loader.dataset),\n",
    "            100. * batch_idx / len(train_loader), \n",
    "            loss.cpu().data.item()))\n",
    "\n",
    "  \n",
    "    # Get whole TEST data and label\n",
    "    evaluate_x = Variable(test_loader.dataset.test_data.type_as(torch.FloatTensor()))\n",
    "    evaluate_y = Variable(test_loader.dataset.test_labels)\n",
    "    \n",
    "    if cuda:\n",
    "        evaluate_x, evaluate_y = evaluate_x.cuda(), evaluate_y.cuda()\n",
    "    \n",
    "    # Inference mode\n",
    "    model.eval()\n",
    "    \n",
    "    # Make predictions\n",
    "    output = model(evaluate_x)\n",
    "    pred = output.data.max(1)[1]\n",
    "\n",
    "    # Compute test accuracy\n",
    "    d = pred.eq(evaluate_y.data).cpu()\n",
    "    accuracy = d.sum().item()*1./d.size()[0]\n",
    "    \n",
    "    print('\\r Train Epoch: {}/{} [{}/{} ({:.0f}%)]\\tLoss: {:.6f}\\t Test Accuracy: {:.2f}%'.format(\n",
    "        epoch+1,\n",
    "        EPOCHS,\n",
    "        len(train_loader.dataset), \n",
    "        len(train_loader.dataset),\n",
    "        100. * batch_idx / len(train_loader), \n",
    "        loss.cpu().data.item(),\n",
    "        accuracy*100.0))\n",
    "    \n",
    "end_time = time.time()\n",
    "print(\"--- Time taken to train : %s hours ---\" % ((end_time - start_time)//3600))"
   ]
  },
  {
   "cell_type": "code",
   "execution_count": null,
   "metadata": {},
   "outputs": [],
   "source": []
  },
  {
   "cell_type": "code",
   "execution_count": null,
   "metadata": {},
   "outputs": [],
   "source": []
  },
  {
   "cell_type": "code",
   "execution_count": 15,
   "metadata": {},
   "outputs": [],
   "source": [
    "def plot_metric(loss):\n",
    "    epochs = range(len(loss))\n",
    "    plt.plot(epochs, loss, 'r')\n",
    "    plt.title('Loss')\n",
    "    plt.ylabel('Performance')\n",
    "    plt.xlabel('Iterations = Epoch * len(train_loader)')\n",
    "    plt.legend(['train loss'], loc='center right', fontsize=10)\n",
    "    plt.grid(False)\n",
    "    plt.show()"
   ]
  },
  {
   "cell_type": "code",
   "execution_count": 16,
   "metadata": {},
   "outputs": [
    {
     "data": {
      "image/png": "[encoded data removed]",
      "text/plain": [
       "<Figure size 432x288 with 1 Axes>"
      ]
     },
     "metadata": {
      "needs_background": "light"
     },
     "output_type": "display_data"
    }
   ],
   "source": [
    "plot_metric(losses)"
   ]
  },
  {
   "cell_type": "code",
   "execution_count": null,
   "metadata": {},
   "outputs": [],
   "source": []
  },
  {
   "cell_type": "code",
   "execution_count": null,
   "metadata": {},
   "outputs": [],
   "source": []
  },
  {
   "cell_type": "code",
   "execution_count": null,
   "metadata": {},
   "outputs": [],
   "source": []
  },
  {
   "cell_type": "code",
   "execution_count": 17,
   "metadata": {},
   "outputs": [],
   "source": [
    "# Plot and save accuravy loss graphs individually\n",
    "def plot_loss_accu(train_accs, train_losses, test_accs, test_losses):\n",
    "    \n",
    "    loss = train_losses\n",
    "    val_loss = test_losses\n",
    "    epochs = range(len(test_losses))\n",
    "    \n",
    "    plt.plot(epochs, loss, 'g')\n",
    "    plt.plot(epochs, val_loss, 'y')\n",
    "    \n",
    "    plt.ylabel('Loss %')\n",
    "    plt.xlabel('Epoch')\n",
    "    plt.legend(['train loss', 'val loss'], loc='upper right')\n",
    "    plt.grid(True)\n",
    "    #plt.savefig('{}/{}_loss.pdf'.format(output_path, EXP_NAME), dpi=300)\n",
    "    plt.show()\n",
    "    \n",
    "    loss = train_accs\n",
    "    val_loss = test_accs\n",
    "    epochs = range(len(loss))\n",
    "    \n",
    "    plt.plot(epochs, loss, 'r')\n",
    "    plt.plot(epochs, val_loss, 'b')\n",
    "    \n",
    "    #plt.title('Training and validation accuracy')\n",
    "    plt.ylabel('Accuracy %')\n",
    "    plt.xlabel('Epoch')\n",
    "    \n",
    "    plt.legend(['train acc', 'val acc'], loc='lower right')\n",
    "    plt.grid(True)\n",
    "    #plt.savefig('{}/{}_acc.pdf'.format(output_path, EXP_NAME), dpi=300)\n",
    "    plt.show()"
   ]
  },
  {
   "cell_type": "code",
   "execution_count": 18,
   "metadata": {},
   "outputs": [],
   "source": [
    "#plot_loss_accu(train_accs, train_losses, test_accs, test_losses)"
   ]
  },
  {
   "cell_type": "code",
   "execution_count": null,
   "metadata": {},
   "outputs": [],
   "source": []
  },
  {
   "cell_type": "code",
   "execution_count": 19,
   "metadata": {},
   "outputs": [],
   "source": [
    "PATH = \"mnist_model.pt\""
   ]
  },
  {
   "cell_type": "code",
   "execution_count": 20,
   "metadata": {},
   "outputs": [],
   "source": [
    "torch.save(model.state_dict(), PATH)"
   ]
  },
  {
   "cell_type": "code",
   "execution_count": null,
   "metadata": {},
   "outputs": [],
   "source": []
  },
  {
   "cell_type": "code",
   "execution_count": null,
   "metadata": {},
   "outputs": [],
   "source": []
  },
  {
   "cell_type": "markdown",
   "metadata": {},
   "source": [
    "### Infernce"
   ]
  },
  {
   "cell_type": "code",
   "execution_count": 29,
   "metadata": {},
   "outputs": [
    {
     "data": {
      "text/plain": [
       "Model(\n",
       "  (fc): Linear(in_features=784, out_features=1000, bias=True)\n",
       "  (fc2): Linear(in_features=1000, out_features=10, bias=True)\n",
       ")"
      ]
     },
     "execution_count": 29,
     "metadata": {},
     "output_type": "execute_result"
    }
   ],
   "source": [
    "model = None\n",
    "model = Model()\n",
    "model.load_state_dict(torch.load(PATH))\n",
    "\n",
    "# Send model to GPU\n",
    "if cuda:\n",
    "    model.cuda()\n",
    "    \n",
    "model.eval()\n",
    "model"
   ]
  },
  {
   "cell_type": "code",
   "execution_count": 30,
   "metadata": {},
   "outputs": [
    {
     "data": {
      "text/plain": [
       "(torch.Size([10000, 28, 28]), torch.Size([10000]))"
      ]
     },
     "execution_count": 30,
     "metadata": {},
     "output_type": "execute_result"
    }
   ],
   "source": [
    "x_test = Variable(test_loader.dataset.test_data.type_as(torch.FloatTensor()))\n",
    "y_test = Variable(test_loader.dataset.test_labels)\n",
    "x_test.shape, y_test.shape"
   ]
  },
  {
   "cell_type": "code",
   "execution_count": null,
   "metadata": {},
   "outputs": [],
   "source": []
  },
  {
   "cell_type": "code",
   "execution_count": 31,
   "metadata": {},
   "outputs": [],
   "source": [
    "if cuda:\n",
    "    x_test, y_test = x_test.cuda(), y_test.cuda()"
   ]
  },
  {
   "cell_type": "code",
   "execution_count": null,
   "metadata": {},
   "outputs": [],
   "source": []
  },
  {
   "cell_type": "code",
   "execution_count": 32,
   "metadata": {},
   "outputs": [
    {
     "data": {
      "text/plain": [
       "torch.Size([10000, 10])"
      ]
     },
     "execution_count": 32,
     "metadata": {},
     "output_type": "execute_result"
    }
   ],
   "source": [
    "# Inference mode\n",
    "output = model(x_test)\n",
    "output.shape"
   ]
  },
  {
   "cell_type": "code",
   "execution_count": 33,
   "metadata": {},
   "outputs": [
    {
     "data": {
      "text/plain": [
       "tensor([[-1975.4288, -2981.0920, -1850.0635, -1451.3386, -2437.0823, -2131.9426,\n",
       "         -3002.7783,     0.0000, -2055.7668, -1407.2125],\n",
       "        [-1410.4796, -1899.0593,     0.0000, -1109.9188, -3465.3286, -1309.2855,\n",
       "         -1119.1973, -3372.9231, -1420.6051, -3218.0171],\n",
       "        [-1579.5532,     0.0000,  -875.3762, -1032.1548, -1470.4484, -1340.9342,\n",
       "         -1151.7391, -1106.1595,  -874.7013, -1302.5415],\n",
       "        [    0.0000, -3978.9316, -1942.4130, -2320.1836, -3227.1577, -1758.4873,\n",
       "         -1750.7869, -1906.6307, -2173.9734, -2274.2744],\n",
       "        [-1273.4043, -2201.0320,  -989.4020, -1591.6350,     0.0000, -1478.3535,\n",
       "         -1091.8073, -1026.6323,  -875.1317,  -574.4392],\n",
       "        [-2022.0461,     0.0000, -1145.7983, -1182.6533, -1811.2065, -1746.6127,\n",
       "         -1759.3857, -1163.3577,  -995.2032, -1394.1243],\n",
       "        [-2043.4427, -2211.2949, -2211.9441, -1462.0624,     0.0000,  -925.1010,\n",
       "         -1715.3405, -1193.1370,  -653.0645,  -892.0216],\n",
       "        [-2181.6313, -1488.1718, -1396.0223, -1333.6743,  -662.6945,  -938.9527,\n",
       "         -1333.8735, -1425.1079,  -856.7849,     0.0000],\n",
       "        [ -970.3710, -1870.9939, -1048.0051, -2597.1768,  -448.3208,  -727.4052,\n",
       "             0.0000, -2271.3945, -1027.2203, -1414.2228],\n",
       "        [-2106.0645, -2984.8052, -2697.0676, -2472.5759,  -903.5911, -2124.4272,\n",
       "         -2223.4929,  -606.7808, -1411.1730,     0.0000]], device='cuda:0',\n",
       "       grad_fn=<SliceBackward>)"
      ]
     },
     "execution_count": 33,
     "metadata": {},
     "output_type": "execute_result"
    }
   ],
   "source": [
    "output[:10]"
   ]
  },
  {
   "cell_type": "code",
   "execution_count": 34,
   "metadata": {},
   "outputs": [
    {
     "data": {
      "text/plain": [
       "torch.Size([10000])"
      ]
     },
     "execution_count": 34,
     "metadata": {},
     "output_type": "execute_result"
    }
   ],
   "source": [
    "pred = output.data.max(1)[1]\n",
    "pred.shape"
   ]
  },
  {
   "cell_type": "code",
   "execution_count": 35,
   "metadata": {},
   "outputs": [
    {
     "data": {
      "text/plain": [
       "tensor([7, 2, 1, 0, 4, 1, 4, 9, 6, 9], device='cuda:0')"
      ]
     },
     "execution_count": 35,
     "metadata": {},
     "output_type": "execute_result"
    }
   ],
   "source": [
    "pred[:10]"
   ]
  },
  {
   "cell_type": "code",
   "execution_count": 36,
   "metadata": {},
   "outputs": [
    {
     "data": {
      "text/plain": [
       "(torch.Size([10000]), torch.Size([10000]))"
      ]
     },
     "execution_count": 36,
     "metadata": {},
     "output_type": "execute_result"
    }
   ],
   "source": [
    "pred.shape, y_test.shape"
   ]
  },
  {
   "cell_type": "code",
   "execution_count": 37,
   "metadata": {},
   "outputs": [
    {
     "data": {
      "text/plain": [
       "(torch.int64, torch.int64)"
      ]
     },
     "execution_count": 37,
     "metadata": {},
     "output_type": "execute_result"
    }
   ],
   "source": [
    "pred.dtype, y_test.dtype"
   ]
  },
  {
   "cell_type": "code",
   "execution_count": 38,
   "metadata": {},
   "outputs": [
    {
     "data": {
      "text/plain": [
       "torch.Size([10000])"
      ]
     },
     "execution_count": 38,
     "metadata": {},
     "output_type": "execute_result"
    }
   ],
   "source": [
    "# Compute test accuracy\n",
    "d = pred.eq(y_test.data).cpu()\n",
    "d.shape"
   ]
  },
  {
   "cell_type": "code",
   "execution_count": 39,
   "metadata": {},
   "outputs": [
    {
     "data": {
      "text/plain": [
       "tensor([ True,  True,  True,  True,  True,  True,  True,  True, False,  True])"
      ]
     },
     "execution_count": 39,
     "metadata": {},
     "output_type": "execute_result"
    }
   ],
   "source": [
    "d[:10]"
   ]
  },
  {
   "cell_type": "code",
   "execution_count": 40,
   "metadata": {},
   "outputs": [
    {
     "data": {
      "text/plain": [
       "torch.bool"
      ]
     },
     "execution_count": 40,
     "metadata": {},
     "output_type": "execute_result"
    }
   ],
   "source": [
    "d.dtype"
   ]
  },
  {
   "cell_type": "code",
   "execution_count": 41,
   "metadata": {},
   "outputs": [
    {
     "data": {
      "text/plain": [
       "torch.Tensor"
      ]
     },
     "execution_count": 41,
     "metadata": {},
     "output_type": "execute_result"
    }
   ],
   "source": [
    "type(d)"
   ]
  },
  {
   "cell_type": "code",
   "execution_count": null,
   "metadata": {},
   "outputs": [],
   "source": []
  },
  {
   "cell_type": "code",
   "execution_count": 42,
   "metadata": {},
   "outputs": [
    {
     "data": {
      "text/plain": [
       "0.9202"
      ]
     },
     "execution_count": 42,
     "metadata": {},
     "output_type": "execute_result"
    }
   ],
   "source": [
    "accuracy = d.sum().item()*1./d.size()[0]\n",
    "accuracy"
   ]
  },
  {
   "cell_type": "code",
   "execution_count": null,
   "metadata": {},
   "outputs": [],
   "source": []
  }
 ],
 "metadata": {
  "kernelspec": {
   "display_name": "Python 3",
   "language": "python",
   "name": "python3"
  },
  "language_info": {
   "codemirror_mode": {
    "name": "ipython",
    "version": 3
   },
   "file_extension": ".py",
   "mimetype": "text/x-python",
   "name": "python",
   "nbconvert_exporter": "python",
   "pygments_lexer": "ipython3",
   "version": "3.6.3"
  }
 },
 "nbformat": 4,
 "nbformat_minor": 4
}
