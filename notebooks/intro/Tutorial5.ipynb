{
  "nbformat": 4,
  "nbformat_minor": 0,
  "metadata": {
    "kernelspec": {
      "display_name": "Python 3",
      "language": "python",
      "name": "python3"
    },
    "language_info": {
      "codemirror_mode": {
        "name": "ipython",
        "version": 3
      },
      "file_extension": ".py",
      "mimetype": "text/x-python",
      "name": "python",
      "nbconvert_exporter": "python",
      "pygments_lexer": "ipython3",
      "version": "3.6.12"
    },
    "colab": {
      "name": "Tutorial5.ipynb",
      "provenance": [],
      "collapsed_sections": [],
      "include_colab_link": true
    },
    "accelerator": "GPU"
  },
  "cells": [
    {
      "cell_type": "markdown",
      "metadata": {
        "id": "view-in-github",
        "colab_type": "text"
      },
      "source": [
        "<a href=\"https://colab.research.google.com/github/hasibzunair/learn-pytorch/blob/master/notebooks/intro/Tutorial5.ipynb\" target=\"_parent\"><img src=\"https://colab.research.google.com/assets/colab-badge.svg\" alt=\"Open In Colab\"/></a>"
      ]
    },
    {
      "cell_type": "markdown",
      "metadata": {
        "id": "uXgJso2e6tO4"
      },
      "source": [
        "# Tutorial 5\n",
        "Adapted from https://pytorch.org/tutorials/beginner/basics/buildmodel_tutorial.html"
      ]
    },
    {
      "cell_type": "code",
      "metadata": {
        "id": "2TzbLCcc6fHm"
      },
      "source": [
        "%matplotlib inline"
      ],
      "execution_count": 1,
      "outputs": []
    },
    {
      "cell_type": "markdown",
      "metadata": {
        "id": "Jnln-O5X6fHo"
      },
      "source": [
        "\n",
        "`Learn the Basics <intro.html>`_ ||\n",
        "`Quickstart <quickstart_tutorial.html>`_ || \n",
        "`Tensors <tensorqs_tutorial.html>`_ ||\n",
        "`Datasets & DataLoaders <data_tutorial.html>`_ ||\n",
        "`Transforms <transforms_tutorial.html>`_ ||\n",
        "**Build Model** ||\n",
        "`Autograd <autogradqs_tutorial.html>`_ ||\n",
        "`Optimization <optimization_tutorial.html>`_ ||\n",
        "`Save & Load Model <saveloadrun_tutorial.html>`_\n",
        "\n",
        "Build the Neural Network\n",
        "===================\n",
        "\n",
        "Neural networks comprise of layers/modules that perform operations on data. \n",
        "The `torch.nn <https://pytorch.org/docs/stable/nn.html>`_ namespace provides all the building blocks you need to \n",
        "build your own neural network. Every module in PyTorch subclasses the `nn.Module <https://pytorch.org/docs/stable/generated/torch.nn.Module.html>`_. \n",
        "A neural network is a module itself that consists of other modules (layers). This nested structure allows for\n",
        "building and managing complex architectures easily.\n",
        "\n",
        "In the following sections, we'll build a neural network to classify images in the FashionMNIST dataset.\n",
        "\n",
        "\n"
      ]
    },
    {
      "cell_type": "code",
      "metadata": {
        "id": "oFNrVEKz6fHq"
      },
      "source": [
        "import os\n",
        "import torch\n",
        "from torch import nn # (all building blocks to build NNs!)\n",
        "from torch.utils.data import DataLoader\n",
        "from torchvision import datasets, transforms"
      ],
      "execution_count": 2,
      "outputs": []
    },
    {
      "cell_type": "markdown",
      "metadata": {
        "id": "6eu1sOUY6fHs"
      },
      "source": [
        "Get Device for Training\n",
        "-----------------------\n",
        "We want to be able to train our model on a hardware accelerator like the GPU, \n",
        "if it is available. Let's check to see if \n",
        "`torch.cuda <https://pytorch.org/docs/stable/notes/cuda.html>`_ is available, else we \n",
        "continue to use the CPU. \n",
        "\n"
      ]
    },
    {
      "cell_type": "code",
      "metadata": {
        "id": "P8pf0paM6fHs",
        "colab": {
          "base_uri": "https://localhost:8080/"
        },
        "outputId": "0c0e605f-5fdd-40d4-a55f-6d0f09ab8779"
      },
      "source": [
        "device = 'cuda' if torch.cuda.is_available() else 'cpu'\n",
        "print('Using {} device'.format(device))"
      ],
      "execution_count": 3,
      "outputs": [
        {
          "output_type": "stream",
          "text": [
            "Using cuda device\n"
          ],
          "name": "stdout"
        }
      ]
    },
    {
      "cell_type": "markdown",
      "metadata": {
        "id": "aBx0HYoo6fHt"
      },
      "source": [
        "Define the Class\n",
        "-------------------------\n",
        "We define our neural network by subclassing ``nn.Module``, and \n",
        "initialize the neural network layers in ``__init__``. Every ``nn.Module`` subclass implements\n",
        "the operations on input data in the ``forward`` method. \n",
        "\n"
      ]
    },
    {
      "cell_type": "code",
      "metadata": {
        "id": "AX0CSLt-6fHu"
      },
      "source": [
        "# The new class inherits from nn.Module\n",
        "\n",
        "class NeuralNetwork(nn.Module):\n",
        "    def __init__(self):\n",
        "        super(NeuralNetwork, self).__init__()\n",
        "        self.flatten = nn.Flatten()\n",
        "        self.linear_relu_stack = nn.Sequential(\n",
        "            nn.Linear(28*28, 512),\n",
        "            nn.ReLU(),\n",
        "            nn.Linear(512, 512),\n",
        "            nn.ReLU(),\n",
        "            nn.Linear(512, 10),\n",
        "            nn.ReLU() #10-dimensional tensor with raw values, not softmax\n",
        "        )\n",
        "\n",
        "    def forward(self, x):\n",
        "        # operations applied to the input data are defined here\n",
        "        x = self.flatten(x)\n",
        "        logits = self.linear_relu_stack(x)\n",
        "        return logits"
      ],
      "execution_count": 4,
      "outputs": []
    },
    {
      "cell_type": "markdown",
      "metadata": {
        "id": "8_D54kKb6fHv"
      },
      "source": [
        "We create an instance of ``NeuralNetwork``, and move it to the ``device``, and print \n",
        "its structure.\n",
        "\n"
      ]
    },
    {
      "cell_type": "code",
      "metadata": {
        "id": "YAygVNXM6fHv",
        "colab": {
          "base_uri": "https://localhost:8080/"
        },
        "outputId": "73352b14-fe65-4c25-ea58-79c46ba951d5"
      },
      "source": [
        "model = NeuralNetwork().to(device)\n",
        "print(model)"
      ],
      "execution_count": 5,
      "outputs": [
        {
          "output_type": "stream",
          "text": [
            "NeuralNetwork(\n",
            "  (flatten): Flatten(start_dim=1, end_dim=-1)\n",
            "  (linear_relu_stack): Sequential(\n",
            "    (0): Linear(in_features=784, out_features=512, bias=True)\n",
            "    (1): ReLU()\n",
            "    (2): Linear(in_features=512, out_features=512, bias=True)\n",
            "    (3): ReLU()\n",
            "    (4): Linear(in_features=512, out_features=10, bias=True)\n",
            "    (5): ReLU()\n",
            "  )\n",
            ")\n"
          ],
          "name": "stdout"
        }
      ]
    },
    {
      "cell_type": "markdown",
      "metadata": {
        "id": "mciwI5HQ6fHw"
      },
      "source": [
        "To use the model, we pass it the input data. This executes the model's ``forward``,\n",
        "along with some `background operations <https://github.com/pytorch/pytorch/blob/270111b7b611d174967ed204776985cefca9c144/torch/nn/modules/module.py#L866>`_. \n",
        "Do not call ``model.forward()`` directly!\n",
        "\n",
        "Calling the model on the input returns a 10-dimensional tensor with raw predicted values for each class.\n",
        "We get the prediction probabilities by passing it through an instance of the ``nn.Softmax`` module.\n",
        "\n"
      ]
    },
    {
      "cell_type": "code",
      "metadata": {
        "id": "muQiyyr66fHx",
        "colab": {
          "base_uri": "https://localhost:8080/"
        },
        "outputId": "8f8d6170-7014-4912-aad8-dff3e4ada00f"
      },
      "source": [
        "X = torch.rand(1, 28, 28, device=device)\n",
        "logits = model(X) # raw values\n",
        "pred_probab = nn.Softmax(dim=1)(logits) # apply sotfmax\n",
        "y_pred = pred_probab.argmax(1) # similar to np.argmax\n",
        "print(f\"Predicted class: {y_pred}\")"
      ],
      "execution_count": 6,
      "outputs": [
        {
          "output_type": "stream",
          "text": [
            "Predicted class: tensor([3], device='cuda:0')\n"
          ],
          "name": "stdout"
        }
      ]
    },
    {
      "cell_type": "markdown",
      "metadata": {
        "id": "ip3QxI2-6fHz"
      },
      "source": [
        "--------------\n",
        "\n",
        "\n"
      ]
    },
    {
      "cell_type": "markdown",
      "metadata": {
        "id": "bdlvvLof6fHz"
      },
      "source": [
        "Model Layers\n",
        "-------------------------\n",
        "\n",
        "Lets break down the layers in the FashionMNIST model. To illustrate it, we \n",
        "will take a sample minibatch of 3 images of size 28x28 and see what happens to it as \n",
        "we pass it through the network. \n",
        "\n"
      ]
    },
    {
      "cell_type": "code",
      "metadata": {
        "id": "ZpQJi-0e6fH0",
        "colab": {
          "base_uri": "https://localhost:8080/"
        },
        "outputId": "0dbe15ec-2d04-4e41-8025-3f73eb26d810"
      },
      "source": [
        "input_image = torch.rand(3,28,28)\n",
        "print(input_image.size())"
      ],
      "execution_count": 7,
      "outputs": [
        {
          "output_type": "stream",
          "text": [
            "torch.Size([3, 28, 28])\n"
          ],
          "name": "stdout"
        }
      ]
    },
    {
      "cell_type": "markdown",
      "metadata": {
        "id": "9jrntIWN6fH0"
      },
      "source": [
        "nn.Flatten\n",
        "^^^^^^^^^^^^^^^^^^^^^^\n",
        "We initialize the `nn.Flatten  <https://pytorch.org/docs/stable/generated/torch.nn.Flatten.html>`_ \n",
        "layer to convert each 2D 28x28 image into a contiguous array of 784 pixel values (\n",
        "the minibatch dimension (at dim=0) is maintained).\n",
        "\n"
      ]
    },
    {
      "cell_type": "code",
      "metadata": {
        "id": "JjaAf29W6fH1",
        "colab": {
          "base_uri": "https://localhost:8080/"
        },
        "outputId": "a13e8a2d-bd0b-4423-ea08-b32b3c3b0b4e"
      },
      "source": [
        "flatten = nn.Flatten()\n",
        "flat_image = flatten(input_image)\n",
        "print(flat_image.size())"
      ],
      "execution_count": 8,
      "outputs": [
        {
          "output_type": "stream",
          "text": [
            "torch.Size([3, 784])\n"
          ],
          "name": "stdout"
        }
      ]
    },
    {
      "cell_type": "markdown",
      "metadata": {
        "id": "o8HS3R7t6fH1"
      },
      "source": [
        "nn.Linear \n",
        "^^^^^^^^^^^^^^^^^^^^^^\n",
        "The `linear layer <https://pytorch.org/docs/stable/generated/torch.nn.Linear.html>`_\n",
        "is a module that applies a linear transformation on the input using its stored weights and biases.\n",
        "\n",
        "\n"
      ]
    },
    {
      "cell_type": "code",
      "metadata": {
        "id": "7brf6IY96fH1",
        "colab": {
          "base_uri": "https://localhost:8080/"
        },
        "outputId": "ac2d9d08-82c0-42a9-8c78-53219cac0ef2"
      },
      "source": [
        "layer1 = nn.Linear(in_features=28*28, out_features=20) # y = Wx + b, W -> weights, x-> input data\n",
        "hidden1 = layer1(flat_image)\n",
        "print(hidden1.size())"
      ],
      "execution_count": 9,
      "outputs": [
        {
          "output_type": "stream",
          "text": [
            "torch.Size([3, 20])\n"
          ],
          "name": "stdout"
        }
      ]
    },
    {
      "cell_type": "code",
      "metadata": {
        "colab": {
          "base_uri": "https://localhost:8080/"
        },
        "id": "HW64n_-U81Y7",
        "outputId": "0660af75-3c43-41ef-8a99-e5d15811220e"
      },
      "source": [
        "hidden1[0]"
      ],
      "execution_count": 11,
      "outputs": [
        {
          "output_type": "execute_result",
          "data": {
            "text/plain": [
              "tensor([ 0.0050,  0.2405,  0.3159,  0.0608,  0.4854, -0.0260, -0.4059,  0.3408,\n",
              "         0.6515,  0.1884, -0.1161,  0.3447,  0.6009, -0.0368,  0.3247,  0.3727,\n",
              "         0.5872,  0.1978,  0.6001, -0.4182], grad_fn=<SelectBackward>)"
            ]
          },
          "metadata": {
            "tags": []
          },
          "execution_count": 11
        }
      ]
    },
    {
      "cell_type": "code",
      "metadata": {
        "colab": {
          "base_uri": "https://localhost:8080/"
        },
        "id": "Z6jpNGXl84l4",
        "outputId": "d7f6d3f6-60d9-4f4e-8f94-969bf86ed47b"
      },
      "source": [
        "hidden1[1]"
      ],
      "execution_count": 13,
      "outputs": [
        {
          "output_type": "execute_result",
          "data": {
            "text/plain": [
              "tensor([-0.0358, -0.3439,  0.0920,  0.1167,  0.4405,  0.1749, -0.1845,  0.4905,\n",
              "         0.5662,  0.1917,  0.1808,  0.0423,  0.5050, -0.0238,  0.3143,  0.0465,\n",
              "         0.1995, -0.1190,  0.6662, -0.3829], grad_fn=<SelectBackward>)"
            ]
          },
          "metadata": {
            "tags": []
          },
          "execution_count": 13
        }
      ]
    },
    {
      "cell_type": "markdown",
      "metadata": {
        "id": "SYgUOLi36fH2"
      },
      "source": [
        "nn.ReLU\n",
        "^^^^^^^^^^^^^^^^^^^^^^\n",
        "Non-linear activations are what create the complex mappings between the model's inputs and outputs.\n",
        "They are applied after linear transformations to introduce *nonlinearity*, helping neural networks\n",
        "learn a wide variety of phenomena.\n",
        "\n",
        "In this model, we use `nn.ReLU <https://pytorch.org/docs/stable/generated/torch.nn.ReLU.html>`_ between our\n",
        "linear layers, but there's other activations to introduce non-linearity in your model.\n",
        "\n"
      ]
    },
    {
      "cell_type": "code",
      "metadata": {
        "id": "Mo9uoauY6fH3",
        "colab": {
          "base_uri": "https://localhost:8080/"
        },
        "outputId": "ed630ed4-111b-4513-fe24-9e55179c2647"
      },
      "source": [
        "#Non-linear activations are what create the complex mappings \n",
        "#between the model's inputs and outputs. They are applied \n",
        "#after linear transformations to introduce nonlinearity,\n",
        "#helping neural networks learn a wide variety of phenomena\n",
        "\n",
        "print(f\"Before ReLU: {hidden1}\\n\\n\")\n",
        "hidden1 = nn.ReLU()(hidden1)\n",
        "print(f\"After ReLU: {hidden1}\")"
      ],
      "execution_count": 14,
      "outputs": [
        {
          "output_type": "stream",
          "text": [
            "Before ReLU: tensor([[ 0.0050,  0.2405,  0.3159,  0.0608,  0.4854, -0.0260, -0.4059,  0.3408,\n",
            "          0.6515,  0.1884, -0.1161,  0.3447,  0.6009, -0.0368,  0.3247,  0.3727,\n",
            "          0.5872,  0.1978,  0.6001, -0.4182],\n",
            "        [-0.0358, -0.3439,  0.0920,  0.1167,  0.4405,  0.1749, -0.1845,  0.4905,\n",
            "          0.5662,  0.1917,  0.1808,  0.0423,  0.5050, -0.0238,  0.3143,  0.0465,\n",
            "          0.1995, -0.1190,  0.6662, -0.3829],\n",
            "        [ 0.0343,  0.2549,  0.4607,  0.3226,  0.5278,  0.1955, -0.1284,  0.4206,\n",
            "          0.4972,  0.1426, -0.1465,  0.1922,  0.4631, -0.3976,  0.2665,  0.2616,\n",
            "          0.2392,  0.3155,  0.5532, -0.5374]], grad_fn=<AddmmBackward>)\n",
            "\n",
            "\n",
            "After ReLU: tensor([[0.0050, 0.2405, 0.3159, 0.0608, 0.4854, 0.0000, 0.0000, 0.3408, 0.6515,\n",
            "         0.1884, 0.0000, 0.3447, 0.6009, 0.0000, 0.3247, 0.3727, 0.5872, 0.1978,\n",
            "         0.6001, 0.0000],\n",
            "        [0.0000, 0.0000, 0.0920, 0.1167, 0.4405, 0.1749, 0.0000, 0.4905, 0.5662,\n",
            "         0.1917, 0.1808, 0.0423, 0.5050, 0.0000, 0.3143, 0.0465, 0.1995, 0.0000,\n",
            "         0.6662, 0.0000],\n",
            "        [0.0343, 0.2549, 0.4607, 0.3226, 0.5278, 0.1955, 0.0000, 0.4206, 0.4972,\n",
            "         0.1426, 0.0000, 0.1922, 0.4631, 0.0000, 0.2665, 0.2616, 0.2392, 0.3155,\n",
            "         0.5532, 0.0000]], grad_fn=<ReluBackward0>)\n"
          ],
          "name": "stdout"
        }
      ]
    },
    {
      "cell_type": "markdown",
      "metadata": {
        "id": "_LM3s3mE6fH3"
      },
      "source": [
        "nn.Sequential\n",
        "^^^^^^^^^^^^^^^^^^^^^^\n",
        "`nn.Sequential <https://pytorch.org/docs/stable/generated/torch.nn.Sequential.html>`_ is an ordered \n",
        "container of modules. The data is passed through all the modules in the same order as defined. You can use\n",
        "sequential containers to put together a quick network like ``seq_modules``.\n",
        "\n"
      ]
    },
    {
      "cell_type": "code",
      "metadata": {
        "id": "BF36HQfd6fH3",
        "colab": {
          "base_uri": "https://localhost:8080/"
        },
        "outputId": "d08c2e05-bdbe-499d-be6c-73408b0d0260"
      },
      "source": [
        "# nn.Sequential is a box which consists of different kinds of\n",
        "# sushi in a pre-defined order. You can eat them only in that specific order! \n",
        "seq_modules = nn.Sequential(\n",
        "    flatten,\n",
        "    layer1,\n",
        "    nn.ReLU(),\n",
        "    nn.Linear(20, 10)\n",
        ")\n",
        "input_image = torch.rand(3,28,28) # 3 images of size W and H.\n",
        "logits = seq_modules(input_image) # forward pass\n",
        "print(logits)"
      ],
      "execution_count": 15,
      "outputs": [
        {
          "output_type": "stream",
          "text": [
            "tensor([[ 0.0078, -0.1192,  0.3115,  0.1214, -0.2342,  0.3748,  0.3688,  0.1460,\n",
            "          0.0581, -0.0054],\n",
            "        [ 0.0742, -0.0522,  0.1611,  0.1451, -0.2688,  0.1163,  0.3995,  0.2041,\n",
            "         -0.1086, -0.0234],\n",
            "        [-0.0533, -0.1047,  0.3468,  0.1982, -0.4427,  0.1602,  0.3256,  0.1931,\n",
            "          0.0127,  0.1476]], grad_fn=<AddmmBackward>)\n"
          ],
          "name": "stdout"
        }
      ]
    },
    {
      "cell_type": "markdown",
      "metadata": {
        "id": "T589g3hk6fH4"
      },
      "source": [
        "nn.Softmax\n",
        "^^^^^^^^^^^^^^^^^^^^^^\n",
        "The last linear layer of the neural network returns `logits` - raw values in [-\\infty, \\infty] - which are passed to the\n",
        "`nn.Softmax <https://pytorch.org/docs/stable/generated/torch.nn.Softmax.html>`_ module. The logits are scaled to values \n",
        "[0, 1] representing the model's predicted probabilities for each class. ``dim`` parameter indicates the dimension along \n",
        "which the values must sum to 1. \n",
        "\n"
      ]
    },
    {
      "cell_type": "code",
      "metadata": {
        "id": "_jOSf4Il6fH4"
      },
      "source": [
        "softmax = nn.Softmax(dim=1) # get PROBABILITY scores, scaled to [0, 1] by softmax operation\n",
        "pred_probab = softmax(logits)"
      ],
      "execution_count": 16,
      "outputs": []
    },
    {
      "cell_type": "markdown",
      "metadata": {
        "id": "IjqXQeJS6fH4"
      },
      "source": [
        "Model Parameters\n",
        "-------------------------\n",
        "Many layers inside a neural network are *parameterized*, i.e. have associated weights \n",
        "and biases that are optimized during training. Subclassing ``nn.Module`` automatically \n",
        "tracks all fields defined inside your model object, and makes all parameters \n",
        "accessible using your model's ``parameters()`` or ``named_parameters()`` methods. \n",
        "\n",
        "In this example, we iterate over each parameter, and print its size and a preview of its values. \n",
        "\n",
        "\n"
      ]
    },
    {
      "cell_type": "code",
      "metadata": {
        "id": "rDjLelFx6fH5",
        "colab": {
          "base_uri": "https://localhost:8080/"
        },
        "outputId": "c8f462d1-3674-44c5-d51c-81743e633416"
      },
      "source": [
        "print(\"Model structure: \", model, \"\\n\\n\")\n",
        "\n",
        "for name, param in model.named_parameters():\n",
        "    print(f\"Layer: {name} | Size: {param.size()} | Values : {param[:2]} \\n\")"
      ],
      "execution_count": 17,
      "outputs": [
        {
          "output_type": "stream",
          "text": [
            "Model structure:  NeuralNetwork(\n",
            "  (flatten): Flatten(start_dim=1, end_dim=-1)\n",
            "  (linear_relu_stack): Sequential(\n",
            "    (0): Linear(in_features=784, out_features=512, bias=True)\n",
            "    (1): ReLU()\n",
            "    (2): Linear(in_features=512, out_features=512, bias=True)\n",
            "    (3): ReLU()\n",
            "    (4): Linear(in_features=512, out_features=10, bias=True)\n",
            "    (5): ReLU()\n",
            "  )\n",
            ") \n",
            "\n",
            "\n",
            "Layer: linear_relu_stack.0.weight | Size: torch.Size([512, 784]) | Values : tensor([[-0.0234, -0.0127, -0.0024,  ..., -0.0253,  0.0211, -0.0005],\n",
            "        [-0.0068, -0.0166,  0.0081,  ...,  0.0341, -0.0226,  0.0045]],\n",
            "       device='cuda:0', grad_fn=<SliceBackward>) \n",
            "\n",
            "Layer: linear_relu_stack.0.bias | Size: torch.Size([512]) | Values : tensor([-0.0056, -0.0035], device='cuda:0', grad_fn=<SliceBackward>) \n",
            "\n",
            "Layer: linear_relu_stack.2.weight | Size: torch.Size([512, 512]) | Values : tensor([[ 0.0205, -0.0330,  0.0178,  ..., -0.0147,  0.0111, -0.0331],\n",
            "        [-0.0129, -0.0193,  0.0115,  ..., -0.0331,  0.0250,  0.0383]],\n",
            "       device='cuda:0', grad_fn=<SliceBackward>) \n",
            "\n",
            "Layer: linear_relu_stack.2.bias | Size: torch.Size([512]) | Values : tensor([-0.0197,  0.0216], device='cuda:0', grad_fn=<SliceBackward>) \n",
            "\n",
            "Layer: linear_relu_stack.4.weight | Size: torch.Size([10, 512]) | Values : tensor([[ 0.0258,  0.0394,  0.0389,  ..., -0.0055,  0.0045,  0.0393],\n",
            "        [-0.0089, -0.0050,  0.0282,  ..., -0.0218,  0.0342, -0.0331]],\n",
            "       device='cuda:0', grad_fn=<SliceBackward>) \n",
            "\n",
            "Layer: linear_relu_stack.4.bias | Size: torch.Size([10]) | Values : tensor([0.0007, 0.0071], device='cuda:0', grad_fn=<SliceBackward>) \n",
            "\n"
          ],
          "name": "stdout"
        }
      ]
    },
    {
      "cell_type": "markdown",
      "metadata": {
        "id": "W1BmhMi46fH6"
      },
      "source": [
        "--------------\n",
        "\n",
        "\n"
      ]
    },
    {
      "cell_type": "markdown",
      "metadata": {
        "id": "0uoY1RYt6fH6"
      },
      "source": [
        "Further Reading\n",
        "--------------\n",
        "- `torch.nn API <https://pytorch.org/docs/stable/nn.html>`_\n",
        "\n"
      ]
    }
  ]
}