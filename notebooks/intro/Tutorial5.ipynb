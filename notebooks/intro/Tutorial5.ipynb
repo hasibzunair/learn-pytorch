{
  "nbformat": 4,
  "nbformat_minor": 0,
  "metadata": {
    "kernelspec": {
      "display_name": "Python 3",
      "language": "python",
      "name": "python3"
    },
    "language_info": {
      "codemirror_mode": {
        "name": "ipython",
        "version": 3
      },
      "file_extension": ".py",
      "mimetype": "text/x-python",
      "name": "python",
      "nbconvert_exporter": "python",
      "pygments_lexer": "ipython3",
      "version": "3.6.12"
    },
    "colab": {
      "name": "Tutorial5.ipynb",
      "provenance": [],
      "collapsed_sections": [],
      "include_colab_link": true
    },
    "accelerator": "GPU"
  },
  "cells": [
    {
      "cell_type": "markdown",
      "metadata": {
        "id": "view-in-github",
        "colab_type": "text"
      },
      "source": [
        "<a href=\"https://colab.research.google.com/github/hasibzunair/learn-pytorch/blob/master/notebooks/intro/Tutorial5.ipynb\" target=\"_parent\"><img src=\"https://colab.research.google.com/assets/colab-badge.svg\" alt=\"Open In Colab\"/></a>"
      ]
    },
    {
      "cell_type": "markdown",
      "metadata": {
        "id": "uXgJso2e6tO4"
      },
      "source": [
        "# Tutorial 5\n",
        "Adapted from https://pytorch.org/tutorials/beginner/basics/buildmodel_tutorial.html"
      ]
    },
    {
      "cell_type": "code",
      "metadata": {
        "id": "2TzbLCcc6fHm"
      },
      "source": [
        "%matplotlib inline"
      ],
      "execution_count": 1,
      "outputs": []
    },
    {
      "cell_type": "markdown",
      "metadata": {
        "id": "Jnln-O5X6fHo"
      },
      "source": [
        "\n",
        "`Learn the Basics <intro.html>`_ ||\n",
        "`Quickstart <quickstart_tutorial.html>`_ || \n",
        "`Tensors <tensorqs_tutorial.html>`_ ||\n",
        "`Datasets & DataLoaders <data_tutorial.html>`_ ||\n",
        "`Transforms <transforms_tutorial.html>`_ ||\n",
        "**Build Model** ||\n",
        "`Autograd <autogradqs_tutorial.html>`_ ||\n",
        "`Optimization <optimization_tutorial.html>`_ ||\n",
        "`Save & Load Model <saveloadrun_tutorial.html>`_\n",
        "\n",
        "Build the Neural Network\n",
        "===================\n",
        "\n",
        "Neural networks comprise of layers/modules that perform operations on data. \n",
        "The `torch.nn <https://pytorch.org/docs/stable/nn.html>`_ namespace provides all the building blocks you need to \n",
        "build your own neural network. Every module in PyTorch subclasses the `nn.Module <https://pytorch.org/docs/stable/generated/torch.nn.Module.html>`_. \n",
        "A neural network is a module itself that consists of other modules (layers). This nested structure allows for\n",
        "building and managing complex architectures easily.\n",
        "\n",
        "In the following sections, we'll build a neural network to classify images in the FashionMNIST dataset.\n",
        "\n",
        "\n"
      ]
    },
    {
      "cell_type": "code",
      "metadata": {
        "id": "oFNrVEKz6fHq"
      },
      "source": [
        "import os\n",
        "import torch\n",
        "from torch import nn # (all building blocks to build NNs!)\n",
        "from torch.utils.data import DataLoader\n",
        "from torchvision import datasets, transforms"
      ],
      "execution_count": 2,
      "outputs": []
    },
    {
      "cell_type": "markdown",
      "metadata": {
        "id": "6eu1sOUY6fHs"
      },
      "source": [
        "Get Device for Training\n",
        "-----------------------\n",
        "We want to be able to train our model on a hardware accelerator like the GPU, \n",
        "if it is available. Let's check to see if \n",
        "`torch.cuda <https://pytorch.org/docs/stable/notes/cuda.html>`_ is available, else we \n",
        "continue to use the CPU. \n",
        "\n"
      ]
    },
    {
      "cell_type": "code",
      "metadata": {
        "id": "P8pf0paM6fHs",
        "colab": {
          "base_uri": "https://localhost:8080/"
        },
        "outputId": "6f5a4d5f-cc70-4eb1-cfc9-ffbeaf7c8f40"
      },
      "source": [
        "device = 'cuda' if torch.cuda.is_available() else 'cpu'\n",
        "print('Using {} device'.format(device))"
      ],
      "execution_count": 3,
      "outputs": [
        {
          "output_type": "stream",
          "text": [
            "Using cuda device\n"
          ],
          "name": "stdout"
        }
      ]
    },
    {
      "cell_type": "markdown",
      "metadata": {
        "id": "aBx0HYoo6fHt"
      },
      "source": [
        "Define the Class\n",
        "-------------------------\n",
        "We define our neural network by subclassing ``nn.Module``, and \n",
        "initialize the neural network layers in ``__init__``. Every ``nn.Module`` subclass implements\n",
        "the operations on input data in the ``forward`` method. \n",
        "\n"
      ]
    },
    {
      "cell_type": "code",
      "metadata": {
        "id": "AX0CSLt-6fHu"
      },
      "source": [
        "# The new class inherits from nn.Module\n",
        "\n",
        "class NeuralNetwork(nn.Module):\n",
        "    def __init__(self):\n",
        "        super(NeuralNetwork, self).__init__()\n",
        "        self.flatten = nn.Flatten()\n",
        "        self.linear_relu_stack = nn.Sequential(\n",
        "            nn.Linear(28*28, 512),\n",
        "            nn.ReLU(),\n",
        "            nn.Linear(512, 512),\n",
        "            nn.ReLU(),\n",
        "            nn.Linear(512, 10),\n",
        "            nn.ReLU() #10-dimensional tensor with raw values, not softmax\n",
        "        )\n",
        "\n",
        "    def forward(self, x):\n",
        "        # operations applied to the input data are defined here\n",
        "        x = self.flatten(x)\n",
        "        logits = self.linear_relu_stack(x)\n",
        "        return logits"
      ],
      "execution_count": 4,
      "outputs": []
    },
    {
      "cell_type": "markdown",
      "metadata": {
        "id": "8_D54kKb6fHv"
      },
      "source": [
        "We create an instance of ``NeuralNetwork``, and move it to the ``device``, and print \n",
        "its structure.\n",
        "\n"
      ]
    },
    {
      "cell_type": "code",
      "metadata": {
        "id": "YAygVNXM6fHv",
        "colab": {
          "base_uri": "https://localhost:8080/"
        },
        "outputId": "71846979-75e3-4eb8-f0aa-fa3880341b42"
      },
      "source": [
        "model = NeuralNetwork().to(device)\n",
        "print(model)"
      ],
      "execution_count": 5,
      "outputs": [
        {
          "output_type": "stream",
          "text": [
            "NeuralNetwork(\n",
            "  (flatten): Flatten(start_dim=1, end_dim=-1)\n",
            "  (linear_relu_stack): Sequential(\n",
            "    (0): Linear(in_features=784, out_features=512, bias=True)\n",
            "    (1): ReLU()\n",
            "    (2): Linear(in_features=512, out_features=512, bias=True)\n",
            "    (3): ReLU()\n",
            "    (4): Linear(in_features=512, out_features=10, bias=True)\n",
            "    (5): ReLU()\n",
            "  )\n",
            ")\n"
          ],
          "name": "stdout"
        }
      ]
    },
    {
      "cell_type": "markdown",
      "metadata": {
        "id": "mciwI5HQ6fHw"
      },
      "source": [
        "To use the model, we pass it the input data. This executes the model's ``forward``,\n",
        "along with some `background operations <https://github.com/pytorch/pytorch/blob/270111b7b611d174967ed204776985cefca9c144/torch/nn/modules/module.py#L866>`_. \n",
        "Do not call ``model.forward()`` directly!\n",
        "\n",
        "Calling the model on the input returns a 10-dimensional tensor with raw predicted values for each class.\n",
        "We get the prediction probabilities by passing it through an instance of the ``nn.Softmax`` module.\n",
        "\n"
      ]
    },
    {
      "cell_type": "code",
      "metadata": {
        "id": "muQiyyr66fHx",
        "colab": {
          "base_uri": "https://localhost:8080/"
        },
        "outputId": "0f95b709-73b0-46b8-d303-eed1637e7dd3"
      },
      "source": [
        "X = torch.rand(1, 28, 28, device=device)\n",
        "logits = model(X) # raw values\n",
        "pred_probab = nn.Softmax(dim=1)(logits) # apply sotfmax\n",
        "y_pred = pred_probab.argmax(1) # similar to np.argmax\n",
        "print(f\"Predicted class: {y_pred}\")"
      ],
      "execution_count": 7,
      "outputs": [
        {
          "output_type": "stream",
          "text": [
            "Predicted class: tensor([7], device='cuda:0')\n"
          ],
          "name": "stdout"
        }
      ]
    },
    {
      "cell_type": "markdown",
      "metadata": {
        "id": "ip3QxI2-6fHz"
      },
      "source": [
        "--------------\n",
        "\n",
        "\n"
      ]
    },
    {
      "cell_type": "markdown",
      "metadata": {
        "id": "bdlvvLof6fHz"
      },
      "source": [
        "Model Layers\n",
        "-------------------------\n",
        "\n",
        "Lets break down the layers in the FashionMNIST model. To illustrate it, we \n",
        "will take a sample minibatch of 3 images of size 28x28 and see what happens to it as \n",
        "we pass it through the network. \n",
        "\n"
      ]
    },
    {
      "cell_type": "code",
      "metadata": {
        "id": "ZpQJi-0e6fH0",
        "colab": {
          "base_uri": "https://localhost:8080/"
        },
        "outputId": "18972d5f-6315-43be-aa60-339ed1300bd6"
      },
      "source": [
        "input_image = torch.rand(3,28,28)\n",
        "print(input_image.size())"
      ],
      "execution_count": 8,
      "outputs": [
        {
          "output_type": "stream",
          "text": [
            "torch.Size([3, 28, 28])\n"
          ],
          "name": "stdout"
        }
      ]
    },
    {
      "cell_type": "markdown",
      "metadata": {
        "id": "9jrntIWN6fH0"
      },
      "source": [
        "nn.Flatten\n",
        "^^^^^^^^^^^^^^^^^^^^^^\n",
        "We initialize the `nn.Flatten  <https://pytorch.org/docs/stable/generated/torch.nn.Flatten.html>`_ \n",
        "layer to convert each 2D 28x28 image into a contiguous array of 784 pixel values (\n",
        "the minibatch dimension (at dim=0) is maintained).\n",
        "\n"
      ]
    },
    {
      "cell_type": "code",
      "metadata": {
        "id": "JjaAf29W6fH1",
        "colab": {
          "base_uri": "https://localhost:8080/"
        },
        "outputId": "f63c42ff-2070-478b-ba86-22dd22548318"
      },
      "source": [
        "flatten = nn.Flatten()\n",
        "flat_image = flatten(input_image)\n",
        "print(flat_image.size())"
      ],
      "execution_count": 9,
      "outputs": [
        {
          "output_type": "stream",
          "text": [
            "torch.Size([3, 784])\n"
          ],
          "name": "stdout"
        }
      ]
    },
    {
      "cell_type": "markdown",
      "metadata": {
        "id": "o8HS3R7t6fH1"
      },
      "source": [
        "nn.Linear \n",
        "^^^^^^^^^^^^^^^^^^^^^^\n",
        "The `linear layer <https://pytorch.org/docs/stable/generated/torch.nn.Linear.html>`_\n",
        "is a module that applies a linear transformation on the input using its stored weights and biases.\n",
        "\n",
        "\n"
      ]
    },
    {
      "cell_type": "code",
      "metadata": {
        "id": "7brf6IY96fH1",
        "colab": {
          "base_uri": "https://localhost:8080/"
        },
        "outputId": "4e433a2e-2e0a-4200-d917-1c471522851a"
      },
      "source": [
        "layer1 = nn.Linear(in_features=784, out_features=20) # y = Wx + b, W -> weights, x-> input data\n",
        "hidden1 = layer1(flat_image)\n",
        "print(hidden1.size())"
      ],
      "execution_count": 10,
      "outputs": [
        {
          "output_type": "stream",
          "text": [
            "torch.Size([3, 20])\n"
          ],
          "name": "stdout"
        }
      ]
    },
    {
      "cell_type": "code",
      "metadata": {
        "colab": {
          "base_uri": "https://localhost:8080/"
        },
        "id": "HW64n_-U81Y7",
        "outputId": "a2ee46f4-6514-44b1-d5fe-c4e39470e89e"
      },
      "source": [
        "hidden1[0]"
      ],
      "execution_count": 11,
      "outputs": [
        {
          "output_type": "execute_result",
          "data": {
            "text/plain": [
              "tensor([-0.4893,  0.2240,  0.3864,  0.4155,  0.2082, -0.3094, -0.4965,  0.5678,\n",
              "        -0.6210,  0.2357,  0.2500,  0.1224,  0.6855, -0.4967, -0.2727,  0.5628,\n",
              "        -0.4314, -0.3739,  0.4154, -0.5793], grad_fn=<SelectBackward>)"
            ]
          },
          "metadata": {
            "tags": []
          },
          "execution_count": 11
        }
      ]
    },
    {
      "cell_type": "code",
      "metadata": {
        "colab": {
          "base_uri": "https://localhost:8080/"
        },
        "id": "Z6jpNGXl84l4",
        "outputId": "d48b4e4d-4ebb-455f-d113-e270fe401639"
      },
      "source": [
        "hidden1[1]"
      ],
      "execution_count": 12,
      "outputs": [
        {
          "output_type": "execute_result",
          "data": {
            "text/plain": [
              "tensor([-0.2189,  0.4443,  0.1174,  0.0303,  0.1716, -0.0728, -0.4512,  0.1068,\n",
              "        -0.5840, -0.2048,  0.3376,  0.3189,  0.8684, -0.2691, -0.2673,  0.5449,\n",
              "        -0.3267,  0.2016,  0.5241, -0.3732], grad_fn=<SelectBackward>)"
            ]
          },
          "metadata": {
            "tags": []
          },
          "execution_count": 12
        }
      ]
    },
    {
      "cell_type": "markdown",
      "metadata": {
        "id": "SYgUOLi36fH2"
      },
      "source": [
        "nn.ReLU\n",
        "^^^^^^^^^^^^^^^^^^^^^^\n",
        "Non-linear activations are what create the complex mappings between the model's inputs and outputs.\n",
        "They are applied after linear transformations to introduce *nonlinearity*, helping neural networks\n",
        "learn a wide variety of phenomena.\n",
        "\n",
        "In this model, we use `nn.ReLU <https://pytorch.org/docs/stable/generated/torch.nn.ReLU.html>`_ between our\n",
        "linear layers, but there's other activations to introduce non-linearity in your model.\n",
        "\n"
      ]
    },
    {
      "cell_type": "code",
      "metadata": {
        "id": "Mo9uoauY6fH3",
        "colab": {
          "base_uri": "https://localhost:8080/"
        },
        "outputId": "831170c4-0aa6-4227-9ad6-16682dbc7bcd"
      },
      "source": [
        "#Non-linear activations are what create the complex mappings \n",
        "#between the model's inputs and outputs. They are applied \n",
        "#after linear transformations to introduce nonlinearity,\n",
        "#helping neural networks learn a wide variety of phenomena\n",
        "\n",
        "print(f\"Before ReLU: {hidden1}\\n\\n\")\n",
        "hidden1 = nn.ReLU()(hidden1)\n",
        "print(f\"After ReLU: {hidden1}\")"
      ],
      "execution_count": 13,
      "outputs": [
        {
          "output_type": "stream",
          "text": [
            "Before ReLU: tensor([[-0.4893,  0.2240,  0.3864,  0.4155,  0.2082, -0.3094, -0.4965,  0.5678,\n",
            "         -0.6210,  0.2357,  0.2500,  0.1224,  0.6855, -0.4967, -0.2727,  0.5628,\n",
            "         -0.4314, -0.3739,  0.4154, -0.5793],\n",
            "        [-0.2189,  0.4443,  0.1174,  0.0303,  0.1716, -0.0728, -0.4512,  0.1068,\n",
            "         -0.5840, -0.2048,  0.3376,  0.3189,  0.8684, -0.2691, -0.2673,  0.5449,\n",
            "         -0.3267,  0.2016,  0.5241, -0.3732],\n",
            "        [-0.4037,  0.2799, -0.0401,  0.4938,  0.2600, -0.0719, -0.5386,  0.3710,\n",
            "         -0.5940, -0.1001,  0.4364,  0.2349,  0.7623, -0.3035,  0.0297,  0.2282,\n",
            "         -0.4089, -0.0583,  0.1635, -0.5100]], grad_fn=<AddmmBackward>)\n",
            "\n",
            "\n",
            "After ReLU: tensor([[0.0000, 0.2240, 0.3864, 0.4155, 0.2082, 0.0000, 0.0000, 0.5678, 0.0000,\n",
            "         0.2357, 0.2500, 0.1224, 0.6855, 0.0000, 0.0000, 0.5628, 0.0000, 0.0000,\n",
            "         0.4154, 0.0000],\n",
            "        [0.0000, 0.4443, 0.1174, 0.0303, 0.1716, 0.0000, 0.0000, 0.1068, 0.0000,\n",
            "         0.0000, 0.3376, 0.3189, 0.8684, 0.0000, 0.0000, 0.5449, 0.0000, 0.2016,\n",
            "         0.5241, 0.0000],\n",
            "        [0.0000, 0.2799, 0.0000, 0.4938, 0.2600, 0.0000, 0.0000, 0.3710, 0.0000,\n",
            "         0.0000, 0.4364, 0.2349, 0.7623, 0.0000, 0.0297, 0.2282, 0.0000, 0.0000,\n",
            "         0.1635, 0.0000]], grad_fn=<ReluBackward0>)\n"
          ],
          "name": "stdout"
        }
      ]
    },
    {
      "cell_type": "markdown",
      "metadata": {
        "id": "_LM3s3mE6fH3"
      },
      "source": [
        "nn.Sequential\n",
        "^^^^^^^^^^^^^^^^^^^^^^\n",
        "`nn.Sequential <https://pytorch.org/docs/stable/generated/torch.nn.Sequential.html>`_ is an ordered \n",
        "container of modules. The data is passed through all the modules in the same order as defined. You can use\n",
        "sequential containers to put together a quick network like ``seq_modules``.\n",
        "\n"
      ]
    },
    {
      "cell_type": "code",
      "metadata": {
        "id": "BF36HQfd6fH3",
        "colab": {
          "base_uri": "https://localhost:8080/"
        },
        "outputId": "76570035-bde8-4124-e5f6-a6894f0c6c9e"
      },
      "source": [
        "# nn.Sequential is a box which consists of different kinds of\n",
        "# sushi in a pre-defined order. You can eat them only in that specific order! \n",
        "seq_modules = nn.Sequential(\n",
        "    flatten,\n",
        "    layer1,\n",
        "    nn.ReLU(),\n",
        "    nn.Linear(20, 10)\n",
        ")\n",
        "input_image = torch.rand(3,28,28) # 3 images of size W and H.\n",
        "logits = seq_modules(input_image) # forward pass\n",
        "print(logits)"
      ],
      "execution_count": 14,
      "outputs": [
        {
          "output_type": "stream",
          "text": [
            "tensor([[ 0.2018, -0.2114, -0.1312,  0.1975,  0.0179,  0.2415,  0.2323, -0.0155,\n",
            "         -0.0540,  0.1613],\n",
            "        [ 0.3213, -0.3414, -0.0272,  0.2551, -0.0499,  0.2508,  0.2478, -0.0540,\n",
            "          0.0624,  0.0278],\n",
            "        [ 0.1488, -0.2254, -0.2278,  0.0778,  0.0174,  0.2283,  0.1619,  0.0282,\n",
            "         -0.1122,  0.1134]], grad_fn=<AddmmBackward>)\n"
          ],
          "name": "stdout"
        }
      ]
    },
    {
      "cell_type": "markdown",
      "metadata": {
        "id": "T589g3hk6fH4"
      },
      "source": [
        "nn.Softmax\n",
        "^^^^^^^^^^^^^^^^^^^^^^\n",
        "The last linear layer of the neural network returns `logits` - raw values in [-\\infty, \\infty] - which are passed to the\n",
        "`nn.Softmax <https://pytorch.org/docs/stable/generated/torch.nn.Softmax.html>`_ module. The logits are scaled to values \n",
        "[0, 1] representing the model's predicted probabilities for each class. ``dim`` parameter indicates the dimension along \n",
        "which the values must sum to 1. \n",
        "\n"
      ]
    },
    {
      "cell_type": "code",
      "metadata": {
        "id": "_jOSf4Il6fH4"
      },
      "source": [
        "softmax = nn.Softmax(dim=1) # get PROBABILITY scores, scaled to [0, 1] by softmax operation\n",
        "pred_probab = softmax(logits)"
      ],
      "execution_count": 15,
      "outputs": []
    },
    {
      "cell_type": "code",
      "metadata": {
        "id": "Icy7lSpMQOSn",
        "outputId": "8e02e955-be71-4503-89ec-22567c5710fa",
        "colab": {
          "base_uri": "https://localhost:8080/"
        }
      },
      "source": [
        "pred_probab"
      ],
      "execution_count": 16,
      "outputs": [
        {
          "output_type": "execute_result",
          "data": {
            "text/plain": [
              "tensor([[0.1134, 0.0750, 0.0813, 0.1129, 0.0944, 0.1180, 0.1169, 0.0913, 0.0878,\n",
              "         0.1089],\n",
              "        [0.1264, 0.0651, 0.0892, 0.1183, 0.0872, 0.1178, 0.1174, 0.0868, 0.0976,\n",
              "         0.0942],\n",
              "        [0.1124, 0.0773, 0.0771, 0.1047, 0.0985, 0.1217, 0.1138, 0.0996, 0.0865,\n",
              "         0.1085]], grad_fn=<SoftmaxBackward>)"
            ]
          },
          "metadata": {
            "tags": []
          },
          "execution_count": 16
        }
      ]
    },
    {
      "cell_type": "markdown",
      "metadata": {
        "id": "IjqXQeJS6fH4"
      },
      "source": [
        "Model Parameters\n",
        "-------------------------\n",
        "Many layers inside a neural network are *parameterized*, i.e. have associated weights \n",
        "and biases that are optimized during training. Subclassing ``nn.Module`` automatically \n",
        "tracks all fields defined inside your model object, and makes all parameters \n",
        "accessible using your model's ``parameters()`` or ``named_parameters()`` methods. \n",
        "\n",
        "In this example, we iterate over each parameter, and print its size and a preview of its values. \n",
        "\n",
        "\n"
      ]
    },
    {
      "cell_type": "code",
      "metadata": {
        "id": "rDjLelFx6fH5",
        "colab": {
          "base_uri": "https://localhost:8080/"
        },
        "outputId": "15986583-9c1e-411d-a01a-406698ee99a5"
      },
      "source": [
        "print(\"Model structure: \", model, \"\\n\\n\")\n",
        "\n",
        "for name, param in model.named_parameters():\n",
        "    print(f\"Layer: {name} | Size: {param.size()} | Values : {param[:2]} \\n\")"
      ],
      "execution_count": 17,
      "outputs": [
        {
          "output_type": "stream",
          "text": [
            "Model structure:  NeuralNetwork(\n",
            "  (flatten): Flatten(start_dim=1, end_dim=-1)\n",
            "  (linear_relu_stack): Sequential(\n",
            "    (0): Linear(in_features=784, out_features=512, bias=True)\n",
            "    (1): ReLU()\n",
            "    (2): Linear(in_features=512, out_features=512, bias=True)\n",
            "    (3): ReLU()\n",
            "    (4): Linear(in_features=512, out_features=10, bias=True)\n",
            "    (5): ReLU()\n",
            "  )\n",
            ") \n",
            "\n",
            "\n",
            "Layer: linear_relu_stack.0.weight | Size: torch.Size([512, 784]) | Values : tensor([[ 0.0080,  0.0324, -0.0334,  ..., -0.0068,  0.0246,  0.0051],\n",
            "        [ 0.0292, -0.0339, -0.0269,  ..., -0.0058, -0.0018, -0.0237]],\n",
            "       device='cuda:0', grad_fn=<SliceBackward>) \n",
            "\n",
            "Layer: linear_relu_stack.0.bias | Size: torch.Size([512]) | Values : tensor([ 0.0078, -0.0131], device='cuda:0', grad_fn=<SliceBackward>) \n",
            "\n",
            "Layer: linear_relu_stack.2.weight | Size: torch.Size([512, 512]) | Values : tensor([[-0.0340, -0.0068,  0.0200,  ...,  0.0346, -0.0175,  0.0385],\n",
            "        [ 0.0212, -0.0300,  0.0084,  ..., -0.0147,  0.0057, -0.0077]],\n",
            "       device='cuda:0', grad_fn=<SliceBackward>) \n",
            "\n",
            "Layer: linear_relu_stack.2.bias | Size: torch.Size([512]) | Values : tensor([-0.0262,  0.0296], device='cuda:0', grad_fn=<SliceBackward>) \n",
            "\n",
            "Layer: linear_relu_stack.4.weight | Size: torch.Size([10, 512]) | Values : tensor([[ 0.0094, -0.0283, -0.0167,  ..., -0.0088,  0.0047, -0.0007],\n",
            "        [-0.0143, -0.0360, -0.0376,  ...,  0.0372,  0.0154, -0.0373]],\n",
            "       device='cuda:0', grad_fn=<SliceBackward>) \n",
            "\n",
            "Layer: linear_relu_stack.4.bias | Size: torch.Size([10]) | Values : tensor([-0.0075,  0.0209], device='cuda:0', grad_fn=<SliceBackward>) \n",
            "\n"
          ],
          "name": "stdout"
        }
      ]
    },
    {
      "cell_type": "markdown",
      "metadata": {
        "id": "W1BmhMi46fH6"
      },
      "source": [
        "--------------\n",
        "\n",
        "\n"
      ]
    },
    {
      "cell_type": "markdown",
      "metadata": {
        "id": "0uoY1RYt6fH6"
      },
      "source": [
        "Further Reading\n",
        "--------------\n",
        "- `torch.nn API <https://pytorch.org/docs/stable/nn.html>`_\n",
        "\n"
      ]
    }
  ]
}