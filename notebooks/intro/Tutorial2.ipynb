{
  "nbformat": 4,
  "nbformat_minor": 0,
  "metadata": {
    "kernelspec": {
      "display_name": "Python 3",
      "language": "python",
      "name": "python3"
    },
    "language_info": {
      "codemirror_mode": {
        "name": "ipython",
        "version": 3
      },
      "file_extension": ".py",
      "mimetype": "text/x-python",
      "name": "python",
      "nbconvert_exporter": "python",
      "pygments_lexer": "ipython3",
      "version": "3.6.12"
    },
    "colab": {
      "name": "Tutorial2.ipynb",
      "provenance": [],
      "collapsed_sections": [],
      "include_colab_link": true
    },
    "accelerator": "GPU"
  },
  "cells": [
    {
      "cell_type": "markdown",
      "metadata": {
        "id": "view-in-github",
        "colab_type": "text"
      },
      "source": [
        "<a href=\"https://colab.research.google.com/github/hasibzunair/learn-pytorch/blob/master/notebooks/intro/Tutorial2.ipynb\" target=\"_parent\"><img src=\"https://colab.research.google.com/assets/colab-badge.svg\" alt=\"Open In Colab\"/></a>"
      ]
    },
    {
      "cell_type": "markdown",
      "metadata": {
        "id": "JBKnU83CJqQK"
      },
      "source": [
        "# Tutorial 2\n",
        "\n",
        "Adapted from [https://pytorch.org/tutorials/beginner/basics/intro.html](https://pytorch.org/tutorials/beginner/basics/intro.html)"
      ]
    },
    {
      "cell_type": "code",
      "metadata": {
        "id": "8lZzLauYIRsA"
      },
      "source": [
        "%matplotlib inline"
      ],
      "execution_count": 1,
      "outputs": []
    },
    {
      "cell_type": "markdown",
      "metadata": {
        "id": "1xBZfQMgIRsG"
      },
      "source": [
        "\n",
        "`Learn the Basics <intro.html>`_ ||\n",
        "`Quickstart <quickstart_tutorial.html>`_ || \n",
        "**Tensors** || \n",
        "`Datasets & DataLoaders <data_tutorial.html>`_ ||\n",
        "`Transforms <transforms_tutorial.html>`_ ||\n",
        "`Build Model <buildmodel_tutorial.html>`_ ||\n",
        "`Autograd <autogradqs_tutorial.html>`_ ||\n",
        "`Optimization <optimization_tutorial.html>`_ ||\n",
        "`Save & Load Model <saveloadrun_tutorial.html>`_\n",
        "\n",
        "Tensors \n",
        "==========================\n",
        "\n",
        "Tensors are a specialized data structure that are very similar to arrays and matrices. \n",
        "In PyTorch, we use tensors to encode the inputs and outputs of a model, as well as the model’s parameters.\n",
        "\n",
        "Tensors are similar to `NumPy’s <https://numpy.org/>`_ ndarrays, except that tensors can run on GPUs or other hardware accelerators. In fact, tensors and\n",
        "NumPy arrays can often share the same underlying memory, eliminating the need to copy data (see `bridge-to-np-label`). Tensors \n",
        "are also optimized for automatic differentiation (we'll see more about that later in the `Autograd <autogradqs_tutorial.html>`__ \n",
        "section). If you’re familiar with ndarrays, you’ll be right at home with the Tensor API. If not, follow along!\n",
        "\n"
      ]
    },
    {
      "cell_type": "code",
      "metadata": {
        "id": "ejYZZnD9IRsH"
      },
      "source": [
        "import torch\n",
        "import numpy as np"
      ],
      "execution_count": 3,
      "outputs": []
    },
    {
      "cell_type": "markdown",
      "metadata": {
        "id": "6bYjazm-IRsI"
      },
      "source": [
        "Initializing a Tensor\n",
        "~~~~~~~~~~~~~~~~~~~~~\n",
        "\n",
        "Tensors can be initialized in various ways. Take a look at the following examples:\n",
        "\n",
        "**Directly from data**\n",
        "\n",
        "Tensors can be created directly from data. The data type is automatically inferred.\n",
        "\n"
      ]
    },
    {
      "cell_type": "code",
      "metadata": {
        "id": "spFe6r9YIRsJ"
      },
      "source": [
        "data = [[1, 2],[3, 4]]\n",
        "x_data = torch.tensor(data)"
      ],
      "execution_count": 4,
      "outputs": []
    },
    {
      "cell_type": "markdown",
      "metadata": {
        "id": "ICnZruzTIRsJ"
      },
      "source": [
        "**From a NumPy array**\n",
        "\n",
        "Tensors can be created from NumPy arrays (and vice versa - see `bridge-to-np-label`).\n",
        "\n"
      ]
    },
    {
      "cell_type": "code",
      "metadata": {
        "id": "qKd6w6gtIRsK"
      },
      "source": [
        "np_array = np.array(data)\n",
        "x_np = torch.from_numpy(np_array)"
      ],
      "execution_count": null,
      "outputs": []
    },
    {
      "cell_type": "markdown",
      "metadata": {
        "id": "zi9_KqCxIRsK"
      },
      "source": [
        "**From another tensor:**\n",
        "\n",
        "The new tensor retains the properties (shape, datatype) of the argument tensor, unless explicitly overridden.\n",
        "\n"
      ]
    },
    {
      "cell_type": "code",
      "metadata": {
        "id": "Hh0LID0PIRsL",
        "colab": {
          "base_uri": "https://localhost:8080/"
        },
        "outputId": "6d9b4955-ae80-4f30-c8b9-426085d84df2"
      },
      "source": [
        "x_ones = torch.ones_like(x_data) # retains the properties of x_data\n",
        "print(f\"Ones Tensor: \\n {x_ones} \\n\")\n",
        "\n",
        "x_rand = torch.rand_like(x_data, dtype=torch.float) # overrides the datatype of x_data\n",
        "print(f\"Random Tensor: \\n {x_rand} \\n\")"
      ],
      "execution_count": 8,
      "outputs": [
        {
          "output_type": "stream",
          "text": [
            "Ones Tensor: \n",
            " tensor([[1, 1],\n",
            "        [1, 1]]) \n",
            "\n",
            "Random Tensor: \n",
            " tensor([[0.4068, 0.7193],\n",
            "        [0.5758, 0.1195]]) \n",
            "\n"
          ],
          "name": "stdout"
        }
      ]
    },
    {
      "cell_type": "markdown",
      "metadata": {
        "id": "9iSDxN6mIRsM"
      },
      "source": [
        "**With random or constant values:**\n",
        "\n",
        "``shape`` is a tuple of tensor dimensions. In the functions below, it determines the dimensionality of the output tensor.\n",
        "\n"
      ]
    },
    {
      "cell_type": "code",
      "metadata": {
        "id": "Ay6Zg-9xIRsM",
        "colab": {
          "base_uri": "https://localhost:8080/"
        },
        "outputId": "9687727f-1acd-4cee-800f-dc2cd20929e5"
      },
      "source": [
        "shape = (3,3,)\n",
        "rand_tensor = torch.rand(shape)\n",
        "ones_tensor = torch.ones(shape)\n",
        "zeros_tensor = torch.zeros(shape)\n",
        "\n",
        "print(f\"Random Tensor: \\n {rand_tensor} \\n\")\n",
        "print(f\"Ones Tensor: \\n {ones_tensor} \\n\")\n",
        "print(f\"Zeros Tensor: \\n {zeros_tensor}\")"
      ],
      "execution_count": 10,
      "outputs": [
        {
          "output_type": "stream",
          "text": [
            "Random Tensor: \n",
            " tensor([[0.0731, 0.3138, 0.2330],\n",
            "        [0.0525, 0.2531, 0.4183],\n",
            "        [0.1470, 0.7165, 0.8285]]) \n",
            "\n",
            "Ones Tensor: \n",
            " tensor([[1., 1., 1.],\n",
            "        [1., 1., 1.],\n",
            "        [1., 1., 1.]]) \n",
            "\n",
            "Zeros Tensor: \n",
            " tensor([[0., 0., 0.],\n",
            "        [0., 0., 0.],\n",
            "        [0., 0., 0.]])\n"
          ],
          "name": "stdout"
        }
      ]
    },
    {
      "cell_type": "markdown",
      "metadata": {
        "id": "-jK6ACXsIRsN"
      },
      "source": [
        "--------------\n",
        "\n",
        "\n"
      ]
    },
    {
      "cell_type": "markdown",
      "metadata": {
        "id": "jaMS0YrSIRsO"
      },
      "source": [
        "Attributes of a Tensor\n",
        "~~~~~~~~~~~~~~~~~\n",
        "\n",
        "Tensor attributes describe their shape, datatype, and the device on which they are stored.\n",
        "\n"
      ]
    },
    {
      "cell_type": "code",
      "metadata": {
        "id": "pd33RV9eIRsO",
        "colab": {
          "base_uri": "https://localhost:8080/"
        },
        "outputId": "9f7a81a2-fe41-406d-d784-497565131560"
      },
      "source": [
        "tensor = torch.rand(3,4)\n",
        "\n",
        "print(f\"Shape of tensor: {tensor.shape}\")\n",
        "print(f\"Datatype of tensor: {tensor.dtype}\")\n",
        "print(f\"Device tensor is stored on: {tensor.device}\")"
      ],
      "execution_count": 11,
      "outputs": [
        {
          "output_type": "stream",
          "text": [
            "Shape of tensor: torch.Size([3, 4])\n",
            "Datatype of tensor: torch.float32\n",
            "Device tensor is stored on: cpu\n"
          ],
          "name": "stdout"
        }
      ]
    },
    {
      "cell_type": "markdown",
      "metadata": {
        "id": "2paW-X3yIRsO"
      },
      "source": [
        "--------------\n",
        "\n",
        "\n"
      ]
    },
    {
      "cell_type": "markdown",
      "metadata": {
        "id": "AlLjq_N3IRsP"
      },
      "source": [
        "Operations on Tensors\n",
        "~~~~~~~~~~~~~~~~~\n",
        "\n",
        "Over 100 tensor operations, including arithmetic, linear algebra, matrix manipulation (transposing, \n",
        "indexing, slicing), sampling and more are\n",
        "comprehensively described `here <https://pytorch.org/docs/stable/torch.html>`__.\n",
        "\n",
        "Each of these operations can be run on the GPU (at typically higher speeds than on a\n",
        "CPU). If you’re using Colab, allocate a GPU by going to Runtime > Change runtime type > GPU.\n",
        "\n",
        "By default, tensors are created on the CPU. We need to explicitly move tensors to the GPU using \n",
        "``.to`` method (after checking for GPU availability). Keep in mind that copying large tensors\n",
        "across devices can be expensive in terms of time and memory!\n",
        "\n"
      ]
    },
    {
      "cell_type": "code",
      "metadata": {
        "id": "1SvDjGbyIRsP"
      },
      "source": [
        "# We move our tensor to the GPU if available\n",
        "if torch.cuda.is_available():\n",
        "  tensor = tensor.to('cuda')"
      ],
      "execution_count": 12,
      "outputs": []
    },
    {
      "cell_type": "markdown",
      "metadata": {
        "id": "AJhJDQNQIRsP"
      },
      "source": [
        "Try out some of the operations from the list.\n",
        "If you're familiar with the NumPy API, you'll find the Tensor API a breeze to use.\n",
        "\n",
        "\n"
      ]
    },
    {
      "cell_type": "code",
      "metadata": {
        "colab": {
          "base_uri": "https://localhost:8080/"
        },
        "id": "JwFydimmLL__",
        "outputId": "d868127c-9612-4006-8308-d491f99abeaf"
      },
      "source": [
        "x = tensor * 2\n",
        "print(x)\n",
        "print(x.shape)\n",
        "print(x.dtype)\n",
        "print(x.device) # cuda:0 -> now the new tensor is in GPU"
      ],
      "execution_count": 13,
      "outputs": [
        {
          "output_type": "stream",
          "text": [
            "tensor([[1.9857, 1.6742, 0.9642, 1.2569],\n",
            "        [0.9024, 0.0100, 0.0965, 0.7696],\n",
            "        [1.3441, 1.5754, 0.8721, 1.5910]], device='cuda:0')\n",
            "torch.Size([3, 4])\n",
            "torch.float32\n",
            "cuda:0\n"
          ],
          "name": "stdout"
        }
      ]
    },
    {
      "cell_type": "code",
      "metadata": {
        "colab": {
          "base_uri": "https://localhost:8080/"
        },
        "id": "Mk16f7MgLMCw",
        "outputId": "a4f90433-2b74-4f71-93f4-9591192787fa"
      },
      "source": [
        "x = tensor + tensor\n",
        "print(x)\n",
        "print(x.shape)\n",
        "print(x.dtype)\n",
        "print(x.device) # cuda:0 -> now the new tensor is in GPU"
      ],
      "execution_count": 14,
      "outputs": [
        {
          "output_type": "stream",
          "text": [
            "tensor([[1.9857, 1.6742, 0.9642, 1.2569],\n",
            "        [0.9024, 0.0100, 0.0965, 0.7696],\n",
            "        [1.3441, 1.5754, 0.8721, 1.5910]], device='cuda:0')\n",
            "torch.Size([3, 4])\n",
            "torch.float32\n",
            "cuda:0\n"
          ],
          "name": "stdout"
        }
      ]
    },
    {
      "cell_type": "code",
      "metadata": {
        "colab": {
          "base_uri": "https://localhost:8080/"
        },
        "id": "MHt1_pboLMFm",
        "outputId": "76edc842-a7c5-45c1-88a3-c85c3946c4c3"
      },
      "source": [
        "y = x.T\n",
        "print(y)\n",
        "print(y.shape)\n",
        "print(y.dtype)\n",
        "print(y.device) # cuda:0 -> now the new tensor is in GPU"
      ],
      "execution_count": 15,
      "outputs": [
        {
          "output_type": "stream",
          "text": [
            "tensor([[1.9857, 0.9024, 1.3441],\n",
            "        [1.6742, 0.0100, 1.5754],\n",
            "        [0.9642, 0.0965, 0.8721],\n",
            "        [1.2569, 0.7696, 1.5910]], device='cuda:0')\n",
            "torch.Size([4, 3])\n",
            "torch.float32\n",
            "cuda:0\n"
          ],
          "name": "stdout"
        }
      ]
    },
    {
      "cell_type": "markdown",
      "metadata": {
        "id": "4plUhZiLIRsP"
      },
      "source": [
        "**Standard numpy-like indexing and slicing:**\n",
        "\n"
      ]
    },
    {
      "cell_type": "code",
      "metadata": {
        "id": "13X6LKbRIRsQ",
        "colab": {
          "base_uri": "https://localhost:8080/"
        },
        "outputId": "121f6189-9478-4dbf-8087-09cbd8cd7caa"
      },
      "source": [
        "tensor = torch.ones(4, 4)\n",
        "print('First row: ',tensor[0])\n",
        "print('First column: ', tensor[:, 0])\n",
        "print('Last column:', tensor[..., -1])\n",
        "tensor[:,1] = 0\n",
        "print(tensor)"
      ],
      "execution_count": 17,
      "outputs": [
        {
          "output_type": "stream",
          "text": [
            "First row:  tensor([1., 1., 1., 1.])\n",
            "First column:  tensor([1., 1., 1., 1.])\n",
            "Last column: tensor([1., 1., 1., 1.])\n",
            "tensor([[1., 0., 1., 1.],\n",
            "        [1., 0., 1., 1.],\n",
            "        [1., 0., 1., 1.],\n",
            "        [1., 0., 1., 1.]])\n"
          ],
          "name": "stdout"
        }
      ]
    },
    {
      "cell_type": "markdown",
      "metadata": {
        "id": "lkLY-Hl9IRsQ"
      },
      "source": [
        "**Joining tensors** You can use ``torch.cat`` to concatenate a sequence of tensors along a given dimension.\n",
        "See also `torch.stack <https://pytorch.org/docs/stable/generated/torch.stack.html>`__,\n",
        "another tensor joining op that is subtly different from ``torch.cat``.\n",
        "\n"
      ]
    },
    {
      "cell_type": "code",
      "metadata": {
        "id": "mU_9IplzyxzT"
      },
      "source": [
        "tensor1 = torch.ones(4, 4)\n",
        "tensor2 = torch.rand(4,4)\n",
        "tensor3 = torch.zeros(4, 4)"
      ],
      "execution_count": 49,
      "outputs": []
    },
    {
      "cell_type": "code",
      "metadata": {
        "id": "yF_e4n21IRsQ",
        "colab": {
          "base_uri": "https://localhost:8080/"
        },
        "outputId": "ec07e134-9e08-469f-b973-23bbe16d0636"
      },
      "source": [
        "t1 = torch.cat([tensor1, tensor2, tensor3], dim=0)\n",
        "print(t1)\n",
        "print(t1.shape)"
      ],
      "execution_count": 59,
      "outputs": [
        {
          "output_type": "stream",
          "text": [
            "tensor([[1.0000, 1.0000, 1.0000, 1.0000],\n",
            "        [1.0000, 1.0000, 1.0000, 1.0000],\n",
            "        [1.0000, 1.0000, 1.0000, 1.0000],\n",
            "        [1.0000, 1.0000, 1.0000, 1.0000],\n",
            "        [0.3561, 0.5147, 0.6926, 0.9371],\n",
            "        [0.9771, 0.5119, 0.6193, 0.9548],\n",
            "        [0.3090, 0.3235, 0.9882, 0.9995],\n",
            "        [0.2769, 0.9419, 0.1129, 0.3864],\n",
            "        [0.0000, 0.0000, 0.0000, 0.0000],\n",
            "        [0.0000, 0.0000, 0.0000, 0.0000],\n",
            "        [0.0000, 0.0000, 0.0000, 0.0000],\n",
            "        [0.0000, 0.0000, 0.0000, 0.0000]])\n",
            "torch.Size([12, 4])\n"
          ],
          "name": "stdout"
        }
      ]
    },
    {
      "cell_type": "code",
      "metadata": {
        "id": "9ZAbmHIIzRXQ",
        "outputId": "a9baa6ec-96c3-4a59-f477-87d4dc936ca7",
        "colab": {
          "base_uri": "https://localhost:8080/"
        }
      },
      "source": [
        "t11 = torch.cat([tensor1, tensor2, tensor3], dim=1)\n",
        "print(t11)\n",
        "print(t11.shape)"
      ],
      "execution_count": 60,
      "outputs": [
        {
          "output_type": "stream",
          "text": [
            "tensor([[1.0000, 1.0000, 1.0000, 1.0000, 0.3561, 0.5147, 0.6926, 0.9371, 0.0000,\n",
            "         0.0000, 0.0000, 0.0000],\n",
            "        [1.0000, 1.0000, 1.0000, 1.0000, 0.9771, 0.5119, 0.6193, 0.9548, 0.0000,\n",
            "         0.0000, 0.0000, 0.0000],\n",
            "        [1.0000, 1.0000, 1.0000, 1.0000, 0.3090, 0.3235, 0.9882, 0.9995, 0.0000,\n",
            "         0.0000, 0.0000, 0.0000],\n",
            "        [1.0000, 1.0000, 1.0000, 1.0000, 0.2769, 0.9419, 0.1129, 0.3864, 0.0000,\n",
            "         0.0000, 0.0000, 0.0000]])\n",
            "torch.Size([4, 12])\n"
          ],
          "name": "stdout"
        }
      ]
    },
    {
      "cell_type": "code",
      "metadata": {
        "colab": {
          "base_uri": "https://localhost:8080/"
        },
        "id": "xo5vvjKoMPrx",
        "outputId": "9dcc0529-f066-4dca-a96f-d223bc6de180"
      },
      "source": [
        "t2 = torch.cat([tensor1, tensor2, tensor3], dim=-1)\n",
        "print(t2)\n",
        "print(t2.shape)"
      ],
      "execution_count": 63,
      "outputs": [
        {
          "output_type": "stream",
          "text": [
            "tensor([[1.0000, 1.0000, 1.0000, 1.0000, 0.3561, 0.5147, 0.6926, 0.9371, 0.0000,\n",
            "         0.0000, 0.0000, 0.0000],\n",
            "        [1.0000, 1.0000, 1.0000, 1.0000, 0.9771, 0.5119, 0.6193, 0.9548, 0.0000,\n",
            "         0.0000, 0.0000, 0.0000],\n",
            "        [1.0000, 1.0000, 1.0000, 1.0000, 0.3090, 0.3235, 0.9882, 0.9995, 0.0000,\n",
            "         0.0000, 0.0000, 0.0000],\n",
            "        [1.0000, 1.0000, 1.0000, 1.0000, 0.2769, 0.9419, 0.1129, 0.3864, 0.0000,\n",
            "         0.0000, 0.0000, 0.0000]])\n",
            "torch.Size([4, 12])\n"
          ],
          "name": "stdout"
        }
      ]
    },
    {
      "cell_type": "markdown",
      "metadata": {
        "id": "5z6UZU5jIRsQ"
      },
      "source": [
        "**Arithmetic operations**\n",
        "\n"
      ]
    },
    {
      "cell_type": "code",
      "metadata": {
        "id": "MAYJ3lAgIRsQ",
        "colab": {
          "base_uri": "https://localhost:8080/"
        },
        "outputId": "f16abf8d-a32d-484e-ed7c-4ee6b3dc51e7"
      },
      "source": [
        "# This computes the matrix multiplication between two tensors. y1, y2, y3 will have the same value\n",
        "\n",
        "# first way\n",
        "y1 = tensor @ tensor.T # @ for matrix multiplication \n",
        "# second way\n",
        "y2 = tensor.matmul(tensor.T)\n",
        "# third way\n",
        "y3 = torch.rand_like(tensor)\n",
        "torch.matmul(tensor, tensor.T, out=y3)\n",
        "\n",
        "print(y1, \"\\n\", y2, \"\\n\", y3)\n",
        "\n",
        "\n",
        "# This computes the element-wise product. z1, z2, z3 will have the same value\n",
        "z1 = tensor * tensor\n",
        "z2 = tensor.mul(tensor)\n",
        "z3 = torch.rand_like(tensor)\n",
        "torch.mul(tensor, tensor, out=z3)\n",
        "\n",
        "print(z1, \"\\n\", z2, \"\\n\", z3)"
      ],
      "execution_count": 64,
      "outputs": [
        {
          "output_type": "stream",
          "text": [
            "tensor([[3., 3., 3., 3.],\n",
            "        [3., 3., 3., 3.],\n",
            "        [3., 3., 3., 3.],\n",
            "        [3., 3., 3., 3.]]) \n",
            " tensor([[3., 3., 3., 3.],\n",
            "        [3., 3., 3., 3.],\n",
            "        [3., 3., 3., 3.],\n",
            "        [3., 3., 3., 3.]]) \n",
            " tensor([[3., 3., 3., 3.],\n",
            "        [3., 3., 3., 3.],\n",
            "        [3., 3., 3., 3.],\n",
            "        [3., 3., 3., 3.]])\n",
            "tensor([[1., 0., 1., 1.],\n",
            "        [1., 0., 1., 1.],\n",
            "        [1., 0., 1., 1.],\n",
            "        [1., 0., 1., 1.]]) \n",
            " tensor([[1., 0., 1., 1.],\n",
            "        [1., 0., 1., 1.],\n",
            "        [1., 0., 1., 1.],\n",
            "        [1., 0., 1., 1.]]) \n",
            " tensor([[1., 0., 1., 1.],\n",
            "        [1., 0., 1., 1.],\n",
            "        [1., 0., 1., 1.],\n",
            "        [1., 0., 1., 1.]])\n"
          ],
          "name": "stdout"
        }
      ]
    },
    {
      "cell_type": "markdown",
      "metadata": {
        "id": "eaTlgnY9IRsR"
      },
      "source": [
        "**Single-element tensors** If you have a one-element tensor, for example by aggregating all\n",
        "values of a tensor into one value, you can convert it to a Python\n",
        "numerical value using ``item()``:\n",
        "\n"
      ]
    },
    {
      "cell_type": "code",
      "metadata": {
        "id": "v-YPhs1pIRsR",
        "colab": {
          "base_uri": "https://localhost:8080/"
        },
        "outputId": "88794132-9241-4a6b-981b-a707e37f9ad0"
      },
      "source": [
        "agg = tensor.sum()\n",
        "print(agg)\n",
        "print(agg.dtype)\n",
        "print(agg.device)\n",
        "agg_item = agg.item() # turn to a float\n",
        "print(\"After:\")\n",
        "print(agg_item, type(agg_item))"
      ],
      "execution_count": 68,
      "outputs": [
        {
          "output_type": "stream",
          "text": [
            "tensor(12.)\n",
            "torch.float32\n",
            "cpu\n",
            "After:\n",
            "12.0 <class 'float'>\n"
          ],
          "name": "stdout"
        }
      ]
    },
    {
      "cell_type": "markdown",
      "metadata": {
        "id": "QE8RlLpmIRsS"
      },
      "source": [
        "**In-place operations**\n",
        "Operations that store the result into the operand are called in-place. They are denoted by a ``_`` suffix. \n",
        "For example: ``x.copy_(y)``, ``x.t_()``, will change ``x``.\n",
        "\n"
      ]
    },
    {
      "cell_type": "code",
      "metadata": {
        "id": "PaFOzH3rIRsS",
        "colab": {
          "base_uri": "https://localhost:8080/"
        },
        "outputId": "bc0049b4-91b6-4fb5-eb55-db23906f7b0a"
      },
      "source": [
        "print(tensor, \"\\n\")\n",
        "tensor.add_(5) # add and add_ is not the same thing\n",
        "print(tensor)"
      ],
      "execution_count": 79,
      "outputs": [
        {
          "output_type": "stream",
          "text": [
            "tensor([[21., 20., 21., 21.],\n",
            "        [21., 20., 21., 21.],\n",
            "        [21., 20., 21., 21.],\n",
            "        [21., 20., 21., 21.]]) \n",
            "\n",
            "tensor([[26., 25., 26., 26.],\n",
            "        [26., 25., 26., 26.],\n",
            "        [26., 25., 26., 26.],\n",
            "        [26., 25., 26., 26.]])\n"
          ],
          "name": "stdout"
        }
      ]
    },
    {
      "cell_type": "markdown",
      "metadata": {
        "id": "dXB6-7u8IRsS"
      },
      "source": [
        "<div class=\"alert alert-info\"><h4>Note</h4><p>In-place operations save some memory, but can be problematic when computing derivatives because of an immediate loss\n",
        "     of history. Hence, their use is discouraged.</p></div>\n",
        "\n"
      ]
    },
    {
      "cell_type": "markdown",
      "metadata": {
        "id": "T9Y804j6IRsS"
      },
      "source": [
        "--------------\n",
        "\n",
        "\n"
      ]
    },
    {
      "cell_type": "markdown",
      "metadata": {
        "id": "ovuQIQ3rIRsS"
      },
      "source": [
        "\n",
        "Bridge with NumPy\n",
        "~~~~~~~~~~~~~~~~~\n",
        "Tensors on the CPU and NumPy arrays can share their underlying memory\n",
        "locations, and changing one will change\tthe other.\n",
        "\n"
      ]
    },
    {
      "cell_type": "markdown",
      "metadata": {
        "id": "xD37cDmeIRsT"
      },
      "source": [
        "Tensor to NumPy array\n",
        "^^^^^^^^^^^^^^^^^^^^^^^^^^^^^^^^^^^^^^\n",
        "\n"
      ]
    },
    {
      "cell_type": "code",
      "metadata": {
        "id": "lXWUuYApIRsT",
        "colab": {
          "base_uri": "https://localhost:8080/"
        },
        "outputId": "2d525b06-4efe-4811-97f7-a8f9b59f016a"
      },
      "source": [
        "t = torch.ones(5)\n",
        "print(f\"t: {t}\")\n",
        "print(type(t))\n",
        "print(t.dtype)\n",
        "\n",
        "print(\"\\n\")\n",
        "\n",
        "n = t.numpy()\n",
        "print(f\"n: {n}\")\n",
        "print(type(n))\n",
        "print(n.dtype)"
      ],
      "execution_count": 82,
      "outputs": [
        {
          "output_type": "stream",
          "text": [
            "t: tensor([1., 1., 1., 1., 1.])\n",
            "<class 'torch.Tensor'>\n",
            "torch.float32\n",
            "\n",
            "\n",
            "n: [1. 1. 1. 1. 1.]\n",
            "<class 'numpy.ndarray'>\n",
            "float32\n"
          ],
          "name": "stdout"
        }
      ]
    },
    {
      "cell_type": "markdown",
      "metadata": {
        "id": "kOVojFZBIRsT"
      },
      "source": [
        "A change in the tensor reflects in the NumPy array.\n",
        "\n"
      ]
    },
    {
      "cell_type": "code",
      "metadata": {
        "id": "Jl0BkDFt3z0i",
        "outputId": "8d7ec452-b7c7-4209-8297-66822feaffa3",
        "colab": {
          "base_uri": "https://localhost:8080/"
        }
      },
      "source": [
        "print(t.dtype)"
      ],
      "execution_count": 84,
      "outputs": [
        {
          "output_type": "stream",
          "text": [
            "torch.float32\n"
          ],
          "name": "stdout"
        }
      ]
    },
    {
      "cell_type": "code",
      "metadata": {
        "id": "o64dYfDFIRsU",
        "colab": {
          "base_uri": "https://localhost:8080/"
        },
        "outputId": "c9fb07d7-3977-496d-bd11-422276346156"
      },
      "source": [
        "t.add_(1)\n",
        "print(f\"t: {t}\")\n",
        "print(f\"n: {n}\")"
      ],
      "execution_count": 86,
      "outputs": [
        {
          "output_type": "stream",
          "text": [
            "t: tensor([3., 3., 3., 3., 3.])\n",
            "n: [3. 3. 3. 3. 3.]\n"
          ],
          "name": "stdout"
        }
      ]
    },
    {
      "cell_type": "markdown",
      "metadata": {
        "id": "77smf_QbIRsU"
      },
      "source": [
        "NumPy array to Tensor\n",
        "^^^^^^^^^^^^^^^^^^^^^^^^^^^^^^^^^^^^^^\n",
        "\n"
      ]
    },
    {
      "cell_type": "code",
      "metadata": {
        "id": "RqqZ4s_WIRsU",
        "colab": {
          "base_uri": "https://localhost:8080/"
        },
        "outputId": "1ed7fbd0-d877-4291-ae37-ef8298c63194"
      },
      "source": [
        "n = np.ones(5)\n",
        "t = torch.from_numpy(n)\n",
        "print(f\"n: {n}\")\n",
        "print(f\"t: {t}\")"
      ],
      "execution_count": null,
      "outputs": [
        {
          "output_type": "stream",
          "text": [
            "n: [1. 1. 1. 1. 1.]\n",
            "t: tensor([1., 1., 1., 1., 1.], dtype=torch.float64)\n"
          ],
          "name": "stdout"
        }
      ]
    },
    {
      "cell_type": "markdown",
      "metadata": {
        "id": "JHvCgb3aIRsU"
      },
      "source": [
        "Changes in the NumPy array reflects in the tensor.\n",
        "\n"
      ]
    },
    {
      "cell_type": "code",
      "metadata": {
        "id": "Hn3IruDxIRsV",
        "colab": {
          "base_uri": "https://localhost:8080/"
        },
        "outputId": "36adbae5-7cad-4429-802b-4ecf930eb965"
      },
      "source": [
        "np.add(n, 1, out=n) # out=n means result is stored in n\n",
        "print(f\"t: {t}\")\n",
        "print(f\"n: {n}\")"
      ],
      "execution_count": 87,
      "outputs": [
        {
          "output_type": "stream",
          "text": [
            "t: tensor([4., 4., 4., 4., 4.])\n",
            "n: [4. 4. 4. 4. 4.]\n"
          ],
          "name": "stdout"
        }
      ]
    },
    {
      "cell_type": "code",
      "metadata": {
        "id": "AUZ3lq7hRZIA"
      },
      "source": [
        ""
      ],
      "execution_count": null,
      "outputs": []
    }
  ]
}