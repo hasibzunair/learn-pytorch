{
  "nbformat": 4,
  "nbformat_minor": 0,
  "metadata": {
    "accelerator": "GPU",
    "colab": {
      "name": "mnist_cnn.ipynb",
      "provenance": [],
      "collapsed_sections": []
    },
    "kernelspec": {
      "display_name": "Python 3",
      "language": "python",
      "name": "python3"
    },
    "language_info": {
      "codemirror_mode": {
        "name": "ipython",
        "version": 3
      },
      "file_extension": ".py",
      "mimetype": "text/x-python",
      "name": "python",
      "nbconvert_exporter": "python",
      "pygments_lexer": "ipython3",
      "version": "3.7.3"
    },
    "toc": {
      "nav_menu": {},
      "number_sections": true,
      "sideBar": true,
      "skip_h1_title": false,
      "title_cell": "Table of Contents",
      "title_sidebar": "Contents",
      "toc_cell": true,
      "toc_position": {
        "height": "calc(100% - 180px)",
        "left": "10px",
        "top": "150px",
        "width": "371px"
      },
      "toc_section_display": true,
      "toc_window_display": true
    },
    "widgets": {
      "application/vnd.jupyter.widget-state+json": {
        "d7ec566978cf4de7ae9383f53813e522": {
          "model_module": "@jupyter-widgets/controls",
          "model_name": "HBoxModel",
          "state": {
            "_view_name": "HBoxView",
            "_dom_classes": [],
            "_model_name": "HBoxModel",
            "_view_module": "@jupyter-widgets/controls",
            "_model_module_version": "1.5.0",
            "_view_count": null,
            "_view_module_version": "1.5.0",
            "box_style": "",
            "layout": "IPY_MODEL_4c2f50bc65b1483f932c29092d6fb9f8",
            "_model_module": "@jupyter-widgets/controls",
            "children": [
              "IPY_MODEL_85a352ffd96849a4b8a371a4d6d94761",
              "IPY_MODEL_3336e430928f4fcf808168c6ff28e934"
            ]
          }
        },
        "4c2f50bc65b1483f932c29092d6fb9f8": {
          "model_module": "@jupyter-widgets/base",
          "model_name": "LayoutModel",
          "state": {
            "_view_name": "LayoutView",
            "grid_template_rows": null,
            "right": null,
            "justify_content": null,
            "_view_module": "@jupyter-widgets/base",
            "overflow": null,
            "_model_module_version": "1.2.0",
            "_view_count": null,
            "flex_flow": null,
            "width": null,
            "min_width": null,
            "border": null,
            "align_items": null,
            "bottom": null,
            "_model_module": "@jupyter-widgets/base",
            "top": null,
            "grid_column": null,
            "overflow_y": null,
            "overflow_x": null,
            "grid_auto_flow": null,
            "grid_area": null,
            "grid_template_columns": null,
            "flex": null,
            "_model_name": "LayoutModel",
            "justify_items": null,
            "grid_row": null,
            "max_height": null,
            "align_content": null,
            "visibility": null,
            "align_self": null,
            "height": null,
            "min_height": null,
            "padding": null,
            "grid_auto_rows": null,
            "grid_gap": null,
            "max_width": null,
            "order": null,
            "_view_module_version": "1.2.0",
            "grid_template_areas": null,
            "object_position": null,
            "object_fit": null,
            "grid_auto_columns": null,
            "margin": null,
            "display": null,
            "left": null
          }
        },
        "85a352ffd96849a4b8a371a4d6d94761": {
          "model_module": "@jupyter-widgets/controls",
          "model_name": "FloatProgressModel",
          "state": {
            "_view_name": "ProgressView",
            "style": "IPY_MODEL_038119fafabe4b2b92c6fff3ffba6064",
            "_dom_classes": [],
            "description": "",
            "_model_name": "FloatProgressModel",
            "bar_style": "success",
            "max": 9912422,
            "_view_module": "@jupyter-widgets/controls",
            "_model_module_version": "1.5.0",
            "value": 9912422,
            "_view_count": null,
            "_view_module_version": "1.5.0",
            "orientation": "horizontal",
            "min": 0,
            "description_tooltip": null,
            "_model_module": "@jupyter-widgets/controls",
            "layout": "IPY_MODEL_8c26b475cd344b64a6096859681b4b4d"
          }
        },
        "3336e430928f4fcf808168c6ff28e934": {
          "model_module": "@jupyter-widgets/controls",
          "model_name": "HTMLModel",
          "state": {
            "_view_name": "HTMLView",
            "style": "IPY_MODEL_31229e31d8554d53b70ba5095582369a",
            "_dom_classes": [],
            "description": "",
            "_model_name": "HTMLModel",
            "placeholder": "​",
            "_view_module": "@jupyter-widgets/controls",
            "_model_module_version": "1.5.0",
            "value": " 9913344/? [03:00&lt;00:00, 54858.59it/s]",
            "_view_count": null,
            "_view_module_version": "1.5.0",
            "description_tooltip": null,
            "_model_module": "@jupyter-widgets/controls",
            "layout": "IPY_MODEL_51943207077342ec84fc05aecbaa4dc6"
          }
        },
        "038119fafabe4b2b92c6fff3ffba6064": {
          "model_module": "@jupyter-widgets/controls",
          "model_name": "ProgressStyleModel",
          "state": {
            "_view_name": "StyleView",
            "_model_name": "ProgressStyleModel",
            "description_width": "initial",
            "_view_module": "@jupyter-widgets/base",
            "_model_module_version": "1.5.0",
            "_view_count": null,
            "_view_module_version": "1.2.0",
            "bar_color": null,
            "_model_module": "@jupyter-widgets/controls"
          }
        },
        "8c26b475cd344b64a6096859681b4b4d": {
          "model_module": "@jupyter-widgets/base",
          "model_name": "LayoutModel",
          "state": {
            "_view_name": "LayoutView",
            "grid_template_rows": null,
            "right": null,
            "justify_content": null,
            "_view_module": "@jupyter-widgets/base",
            "overflow": null,
            "_model_module_version": "1.2.0",
            "_view_count": null,
            "flex_flow": null,
            "width": null,
            "min_width": null,
            "border": null,
            "align_items": null,
            "bottom": null,
            "_model_module": "@jupyter-widgets/base",
            "top": null,
            "grid_column": null,
            "overflow_y": null,
            "overflow_x": null,
            "grid_auto_flow": null,
            "grid_area": null,
            "grid_template_columns": null,
            "flex": null,
            "_model_name": "LayoutModel",
            "justify_items": null,
            "grid_row": null,
            "max_height": null,
            "align_content": null,
            "visibility": null,
            "align_self": null,
            "height": null,
            "min_height": null,
            "padding": null,
            "grid_auto_rows": null,
            "grid_gap": null,
            "max_width": null,
            "order": null,
            "_view_module_version": "1.2.0",
            "grid_template_areas": null,
            "object_position": null,
            "object_fit": null,
            "grid_auto_columns": null,
            "margin": null,
            "display": null,
            "left": null
          }
        },
        "31229e31d8554d53b70ba5095582369a": {
          "model_module": "@jupyter-widgets/controls",
          "model_name": "DescriptionStyleModel",
          "state": {
            "_view_name": "StyleView",
            "_model_name": "DescriptionStyleModel",
            "description_width": "",
            "_view_module": "@jupyter-widgets/base",
            "_model_module_version": "1.5.0",
            "_view_count": null,
            "_view_module_version": "1.2.0",
            "_model_module": "@jupyter-widgets/controls"
          }
        },
        "51943207077342ec84fc05aecbaa4dc6": {
          "model_module": "@jupyter-widgets/base",
          "model_name": "LayoutModel",
          "state": {
            "_view_name": "LayoutView",
            "grid_template_rows": null,
            "right": null,
            "justify_content": null,
            "_view_module": "@jupyter-widgets/base",
            "overflow": null,
            "_model_module_version": "1.2.0",
            "_view_count": null,
            "flex_flow": null,
            "width": null,
            "min_width": null,
            "border": null,
            "align_items": null,
            "bottom": null,
            "_model_module": "@jupyter-widgets/base",
            "top": null,
            "grid_column": null,
            "overflow_y": null,
            "overflow_x": null,
            "grid_auto_flow": null,
            "grid_area": null,
            "grid_template_columns": null,
            "flex": null,
            "_model_name": "LayoutModel",
            "justify_items": null,
            "grid_row": null,
            "max_height": null,
            "align_content": null,
            "visibility": null,
            "align_self": null,
            "height": null,
            "min_height": null,
            "padding": null,
            "grid_auto_rows": null,
            "grid_gap": null,
            "max_width": null,
            "order": null,
            "_view_module_version": "1.2.0",
            "grid_template_areas": null,
            "object_position": null,
            "object_fit": null,
            "grid_auto_columns": null,
            "margin": null,
            "display": null,
            "left": null
          }
        },
        "b20547ac169f49d1b6ddcb3bb44574be": {
          "model_module": "@jupyter-widgets/controls",
          "model_name": "HBoxModel",
          "state": {
            "_view_name": "HBoxView",
            "_dom_classes": [],
            "_model_name": "HBoxModel",
            "_view_module": "@jupyter-widgets/controls",
            "_model_module_version": "1.5.0",
            "_view_count": null,
            "_view_module_version": "1.5.0",
            "box_style": "",
            "layout": "IPY_MODEL_22bb9d7cd24f43dd89dd4eeebc2e014c",
            "_model_module": "@jupyter-widgets/controls",
            "children": [
              "IPY_MODEL_ce780cd034c1477b8b76d80865967b4d",
              "IPY_MODEL_5fc6cc63e41f4119af31dfcb909322de"
            ]
          }
        },
        "22bb9d7cd24f43dd89dd4eeebc2e014c": {
          "model_module": "@jupyter-widgets/base",
          "model_name": "LayoutModel",
          "state": {
            "_view_name": "LayoutView",
            "grid_template_rows": null,
            "right": null,
            "justify_content": null,
            "_view_module": "@jupyter-widgets/base",
            "overflow": null,
            "_model_module_version": "1.2.0",
            "_view_count": null,
            "flex_flow": null,
            "width": null,
            "min_width": null,
            "border": null,
            "align_items": null,
            "bottom": null,
            "_model_module": "@jupyter-widgets/base",
            "top": null,
            "grid_column": null,
            "overflow_y": null,
            "overflow_x": null,
            "grid_auto_flow": null,
            "grid_area": null,
            "grid_template_columns": null,
            "flex": null,
            "_model_name": "LayoutModel",
            "justify_items": null,
            "grid_row": null,
            "max_height": null,
            "align_content": null,
            "visibility": null,
            "align_self": null,
            "height": null,
            "min_height": null,
            "padding": null,
            "grid_auto_rows": null,
            "grid_gap": null,
            "max_width": null,
            "order": null,
            "_view_module_version": "1.2.0",
            "grid_template_areas": null,
            "object_position": null,
            "object_fit": null,
            "grid_auto_columns": null,
            "margin": null,
            "display": null,
            "left": null
          }
        },
        "ce780cd034c1477b8b76d80865967b4d": {
          "model_module": "@jupyter-widgets/controls",
          "model_name": "FloatProgressModel",
          "state": {
            "_view_name": "ProgressView",
            "style": "IPY_MODEL_2df07b6029e2498eb38e611dc6abc250",
            "_dom_classes": [],
            "description": "",
            "_model_name": "FloatProgressModel",
            "bar_style": "success",
            "max": 28881,
            "_view_module": "@jupyter-widgets/controls",
            "_model_module_version": "1.5.0",
            "value": 28881,
            "_view_count": null,
            "_view_module_version": "1.5.0",
            "orientation": "horizontal",
            "min": 0,
            "description_tooltip": null,
            "_model_module": "@jupyter-widgets/controls",
            "layout": "IPY_MODEL_ac0f87ec914745e7ac9531599ffbdab0"
          }
        },
        "5fc6cc63e41f4119af31dfcb909322de": {
          "model_module": "@jupyter-widgets/controls",
          "model_name": "HTMLModel",
          "state": {
            "_view_name": "HTMLView",
            "style": "IPY_MODEL_3ecbd56585064ccb88548a4bd6be8fce",
            "_dom_classes": [],
            "description": "",
            "_model_name": "HTMLModel",
            "placeholder": "​",
            "_view_module": "@jupyter-widgets/controls",
            "_model_module_version": "1.5.0",
            "value": " 29696/? [00:00&lt;00:00, 57852.52it/s]",
            "_view_count": null,
            "_view_module_version": "1.5.0",
            "description_tooltip": null,
            "_model_module": "@jupyter-widgets/controls",
            "layout": "IPY_MODEL_a3fea0c48215437e8b0163d0d0418e1f"
          }
        },
        "2df07b6029e2498eb38e611dc6abc250": {
          "model_module": "@jupyter-widgets/controls",
          "model_name": "ProgressStyleModel",
          "state": {
            "_view_name": "StyleView",
            "_model_name": "ProgressStyleModel",
            "description_width": "initial",
            "_view_module": "@jupyter-widgets/base",
            "_model_module_version": "1.5.0",
            "_view_count": null,
            "_view_module_version": "1.2.0",
            "bar_color": null,
            "_model_module": "@jupyter-widgets/controls"
          }
        },
        "ac0f87ec914745e7ac9531599ffbdab0": {
          "model_module": "@jupyter-widgets/base",
          "model_name": "LayoutModel",
          "state": {
            "_view_name": "LayoutView",
            "grid_template_rows": null,
            "right": null,
            "justify_content": null,
            "_view_module": "@jupyter-widgets/base",
            "overflow": null,
            "_model_module_version": "1.2.0",
            "_view_count": null,
            "flex_flow": null,
            "width": null,
            "min_width": null,
            "border": null,
            "align_items": null,
            "bottom": null,
            "_model_module": "@jupyter-widgets/base",
            "top": null,
            "grid_column": null,
            "overflow_y": null,
            "overflow_x": null,
            "grid_auto_flow": null,
            "grid_area": null,
            "grid_template_columns": null,
            "flex": null,
            "_model_name": "LayoutModel",
            "justify_items": null,
            "grid_row": null,
            "max_height": null,
            "align_content": null,
            "visibility": null,
            "align_self": null,
            "height": null,
            "min_height": null,
            "padding": null,
            "grid_auto_rows": null,
            "grid_gap": null,
            "max_width": null,
            "order": null,
            "_view_module_version": "1.2.0",
            "grid_template_areas": null,
            "object_position": null,
            "object_fit": null,
            "grid_auto_columns": null,
            "margin": null,
            "display": null,
            "left": null
          }
        },
        "3ecbd56585064ccb88548a4bd6be8fce": {
          "model_module": "@jupyter-widgets/controls",
          "model_name": "DescriptionStyleModel",
          "state": {
            "_view_name": "StyleView",
            "_model_name": "DescriptionStyleModel",
            "description_width": "",
            "_view_module": "@jupyter-widgets/base",
            "_model_module_version": "1.5.0",
            "_view_count": null,
            "_view_module_version": "1.2.0",
            "_model_module": "@jupyter-widgets/controls"
          }
        },
        "a3fea0c48215437e8b0163d0d0418e1f": {
          "model_module": "@jupyter-widgets/base",
          "model_name": "LayoutModel",
          "state": {
            "_view_name": "LayoutView",
            "grid_template_rows": null,
            "right": null,
            "justify_content": null,
            "_view_module": "@jupyter-widgets/base",
            "overflow": null,
            "_model_module_version": "1.2.0",
            "_view_count": null,
            "flex_flow": null,
            "width": null,
            "min_width": null,
            "border": null,
            "align_items": null,
            "bottom": null,
            "_model_module": "@jupyter-widgets/base",
            "top": null,
            "grid_column": null,
            "overflow_y": null,
            "overflow_x": null,
            "grid_auto_flow": null,
            "grid_area": null,
            "grid_template_columns": null,
            "flex": null,
            "_model_name": "LayoutModel",
            "justify_items": null,
            "grid_row": null,
            "max_height": null,
            "align_content": null,
            "visibility": null,
            "align_self": null,
            "height": null,
            "min_height": null,
            "padding": null,
            "grid_auto_rows": null,
            "grid_gap": null,
            "max_width": null,
            "order": null,
            "_view_module_version": "1.2.0",
            "grid_template_areas": null,
            "object_position": null,
            "object_fit": null,
            "grid_auto_columns": null,
            "margin": null,
            "display": null,
            "left": null
          }
        },
        "964d27fcff0d429e962ea6081fc7fb97": {
          "model_module": "@jupyter-widgets/controls",
          "model_name": "HBoxModel",
          "state": {
            "_view_name": "HBoxView",
            "_dom_classes": [],
            "_model_name": "HBoxModel",
            "_view_module": "@jupyter-widgets/controls",
            "_model_module_version": "1.5.0",
            "_view_count": null,
            "_view_module_version": "1.5.0",
            "box_style": "",
            "layout": "IPY_MODEL_9e0aa21054d54051bb8eb135f262aafd",
            "_model_module": "@jupyter-widgets/controls",
            "children": [
              "IPY_MODEL_f6b40c3526d443d48a1eab36b83de35d",
              "IPY_MODEL_bdd138243bcb49ba9398da32905bc17b"
            ]
          }
        },
        "9e0aa21054d54051bb8eb135f262aafd": {
          "model_module": "@jupyter-widgets/base",
          "model_name": "LayoutModel",
          "state": {
            "_view_name": "LayoutView",
            "grid_template_rows": null,
            "right": null,
            "justify_content": null,
            "_view_module": "@jupyter-widgets/base",
            "overflow": null,
            "_model_module_version": "1.2.0",
            "_view_count": null,
            "flex_flow": null,
            "width": null,
            "min_width": null,
            "border": null,
            "align_items": null,
            "bottom": null,
            "_model_module": "@jupyter-widgets/base",
            "top": null,
            "grid_column": null,
            "overflow_y": null,
            "overflow_x": null,
            "grid_auto_flow": null,
            "grid_area": null,
            "grid_template_columns": null,
            "flex": null,
            "_model_name": "LayoutModel",
            "justify_items": null,
            "grid_row": null,
            "max_height": null,
            "align_content": null,
            "visibility": null,
            "align_self": null,
            "height": null,
            "min_height": null,
            "padding": null,
            "grid_auto_rows": null,
            "grid_gap": null,
            "max_width": null,
            "order": null,
            "_view_module_version": "1.2.0",
            "grid_template_areas": null,
            "object_position": null,
            "object_fit": null,
            "grid_auto_columns": null,
            "margin": null,
            "display": null,
            "left": null
          }
        },
        "f6b40c3526d443d48a1eab36b83de35d": {
          "model_module": "@jupyter-widgets/controls",
          "model_name": "FloatProgressModel",
          "state": {
            "_view_name": "ProgressView",
            "style": "IPY_MODEL_b121302c657a4080b78ca42d0778326f",
            "_dom_classes": [],
            "description": "",
            "_model_name": "FloatProgressModel",
            "bar_style": "success",
            "max": 1648877,
            "_view_module": "@jupyter-widgets/controls",
            "_model_module_version": "1.5.0",
            "value": 1648877,
            "_view_count": null,
            "_view_module_version": "1.5.0",
            "orientation": "horizontal",
            "min": 0,
            "description_tooltip": null,
            "_model_module": "@jupyter-widgets/controls",
            "layout": "IPY_MODEL_7f2d3495080344f9b600fb966ba32130"
          }
        },
        "bdd138243bcb49ba9398da32905bc17b": {
          "model_module": "@jupyter-widgets/controls",
          "model_name": "HTMLModel",
          "state": {
            "_view_name": "HTMLView",
            "style": "IPY_MODEL_e477ad1531864bd1afaf34b8823d264c",
            "_dom_classes": [],
            "description": "",
            "_model_name": "HTMLModel",
            "placeholder": "​",
            "_view_module": "@jupyter-widgets/controls",
            "_model_module_version": "1.5.0",
            "value": " 1649664/? [00:33&lt;00:00, 48745.46it/s]",
            "_view_count": null,
            "_view_module_version": "1.5.0",
            "description_tooltip": null,
            "_model_module": "@jupyter-widgets/controls",
            "layout": "IPY_MODEL_5d8795257b5a465a94fbdaf262687f12"
          }
        },
        "b121302c657a4080b78ca42d0778326f": {
          "model_module": "@jupyter-widgets/controls",
          "model_name": "ProgressStyleModel",
          "state": {
            "_view_name": "StyleView",
            "_model_name": "ProgressStyleModel",
            "description_width": "initial",
            "_view_module": "@jupyter-widgets/base",
            "_model_module_version": "1.5.0",
            "_view_count": null,
            "_view_module_version": "1.2.0",
            "bar_color": null,
            "_model_module": "@jupyter-widgets/controls"
          }
        },
        "7f2d3495080344f9b600fb966ba32130": {
          "model_module": "@jupyter-widgets/base",
          "model_name": "LayoutModel",
          "state": {
            "_view_name": "LayoutView",
            "grid_template_rows": null,
            "right": null,
            "justify_content": null,
            "_view_module": "@jupyter-widgets/base",
            "overflow": null,
            "_model_module_version": "1.2.0",
            "_view_count": null,
            "flex_flow": null,
            "width": null,
            "min_width": null,
            "border": null,
            "align_items": null,
            "bottom": null,
            "_model_module": "@jupyter-widgets/base",
            "top": null,
            "grid_column": null,
            "overflow_y": null,
            "overflow_x": null,
            "grid_auto_flow": null,
            "grid_area": null,
            "grid_template_columns": null,
            "flex": null,
            "_model_name": "LayoutModel",
            "justify_items": null,
            "grid_row": null,
            "max_height": null,
            "align_content": null,
            "visibility": null,
            "align_self": null,
            "height": null,
            "min_height": null,
            "padding": null,
            "grid_auto_rows": null,
            "grid_gap": null,
            "max_width": null,
            "order": null,
            "_view_module_version": "1.2.0",
            "grid_template_areas": null,
            "object_position": null,
            "object_fit": null,
            "grid_auto_columns": null,
            "margin": null,
            "display": null,
            "left": null
          }
        },
        "e477ad1531864bd1afaf34b8823d264c": {
          "model_module": "@jupyter-widgets/controls",
          "model_name": "DescriptionStyleModel",
          "state": {
            "_view_name": "StyleView",
            "_model_name": "DescriptionStyleModel",
            "description_width": "",
            "_view_module": "@jupyter-widgets/base",
            "_model_module_version": "1.5.0",
            "_view_count": null,
            "_view_module_version": "1.2.0",
            "_model_module": "@jupyter-widgets/controls"
          }
        },
        "5d8795257b5a465a94fbdaf262687f12": {
          "model_module": "@jupyter-widgets/base",
          "model_name": "LayoutModel",
          "state": {
            "_view_name": "LayoutView",
            "grid_template_rows": null,
            "right": null,
            "justify_content": null,
            "_view_module": "@jupyter-widgets/base",
            "overflow": null,
            "_model_module_version": "1.2.0",
            "_view_count": null,
            "flex_flow": null,
            "width": null,
            "min_width": null,
            "border": null,
            "align_items": null,
            "bottom": null,
            "_model_module": "@jupyter-widgets/base",
            "top": null,
            "grid_column": null,
            "overflow_y": null,
            "overflow_x": null,
            "grid_auto_flow": null,
            "grid_area": null,
            "grid_template_columns": null,
            "flex": null,
            "_model_name": "LayoutModel",
            "justify_items": null,
            "grid_row": null,
            "max_height": null,
            "align_content": null,
            "visibility": null,
            "align_self": null,
            "height": null,
            "min_height": null,
            "padding": null,
            "grid_auto_rows": null,
            "grid_gap": null,
            "max_width": null,
            "order": null,
            "_view_module_version": "1.2.0",
            "grid_template_areas": null,
            "object_position": null,
            "object_fit": null,
            "grid_auto_columns": null,
            "margin": null,
            "display": null,
            "left": null
          }
        },
        "ed1f82634d9945bdbbaaad24b3299a7d": {
          "model_module": "@jupyter-widgets/controls",
          "model_name": "HBoxModel",
          "state": {
            "_view_name": "HBoxView",
            "_dom_classes": [],
            "_model_name": "HBoxModel",
            "_view_module": "@jupyter-widgets/controls",
            "_model_module_version": "1.5.0",
            "_view_count": null,
            "_view_module_version": "1.5.0",
            "box_style": "",
            "layout": "IPY_MODEL_7a1066b0942d4c11a17e282b6028596a",
            "_model_module": "@jupyter-widgets/controls",
            "children": [
              "IPY_MODEL_3d8b788edef240cd86818db172964cd9",
              "IPY_MODEL_61b1bd1deada4d83af6f6cffbb4ab2f7"
            ]
          }
        },
        "7a1066b0942d4c11a17e282b6028596a": {
          "model_module": "@jupyter-widgets/base",
          "model_name": "LayoutModel",
          "state": {
            "_view_name": "LayoutView",
            "grid_template_rows": null,
            "right": null,
            "justify_content": null,
            "_view_module": "@jupyter-widgets/base",
            "overflow": null,
            "_model_module_version": "1.2.0",
            "_view_count": null,
            "flex_flow": null,
            "width": null,
            "min_width": null,
            "border": null,
            "align_items": null,
            "bottom": null,
            "_model_module": "@jupyter-widgets/base",
            "top": null,
            "grid_column": null,
            "overflow_y": null,
            "overflow_x": null,
            "grid_auto_flow": null,
            "grid_area": null,
            "grid_template_columns": null,
            "flex": null,
            "_model_name": "LayoutModel",
            "justify_items": null,
            "grid_row": null,
            "max_height": null,
            "align_content": null,
            "visibility": null,
            "align_self": null,
            "height": null,
            "min_height": null,
            "padding": null,
            "grid_auto_rows": null,
            "grid_gap": null,
            "max_width": null,
            "order": null,
            "_view_module_version": "1.2.0",
            "grid_template_areas": null,
            "object_position": null,
            "object_fit": null,
            "grid_auto_columns": null,
            "margin": null,
            "display": null,
            "left": null
          }
        },
        "3d8b788edef240cd86818db172964cd9": {
          "model_module": "@jupyter-widgets/controls",
          "model_name": "FloatProgressModel",
          "state": {
            "_view_name": "ProgressView",
            "style": "IPY_MODEL_6b61c1928cb04cd68b063940c1afa65c",
            "_dom_classes": [],
            "description": "",
            "_model_name": "FloatProgressModel",
            "bar_style": "success",
            "max": 4542,
            "_view_module": "@jupyter-widgets/controls",
            "_model_module_version": "1.5.0",
            "value": 4542,
            "_view_count": null,
            "_view_module_version": "1.5.0",
            "orientation": "horizontal",
            "min": 0,
            "description_tooltip": null,
            "_model_module": "@jupyter-widgets/controls",
            "layout": "IPY_MODEL_e5719057624448b9a66500cd0bbf8c4f"
          }
        },
        "61b1bd1deada4d83af6f6cffbb4ab2f7": {
          "model_module": "@jupyter-widgets/controls",
          "model_name": "HTMLModel",
          "state": {
            "_view_name": "HTMLView",
            "style": "IPY_MODEL_79421434e68849de8c500278664ecbdd",
            "_dom_classes": [],
            "description": "",
            "_model_name": "HTMLModel",
            "placeholder": "​",
            "_view_module": "@jupyter-widgets/controls",
            "_model_module_version": "1.5.0",
            "value": " 5120/? [00:00&lt;00:00, 19009.83it/s]",
            "_view_count": null,
            "_view_module_version": "1.5.0",
            "description_tooltip": null,
            "_model_module": "@jupyter-widgets/controls",
            "layout": "IPY_MODEL_4551d6f24e6e4ce7a80b62649110da27"
          }
        },
        "6b61c1928cb04cd68b063940c1afa65c": {
          "model_module": "@jupyter-widgets/controls",
          "model_name": "ProgressStyleModel",
          "state": {
            "_view_name": "StyleView",
            "_model_name": "ProgressStyleModel",
            "description_width": "initial",
            "_view_module": "@jupyter-widgets/base",
            "_model_module_version": "1.5.0",
            "_view_count": null,
            "_view_module_version": "1.2.0",
            "bar_color": null,
            "_model_module": "@jupyter-widgets/controls"
          }
        },
        "e5719057624448b9a66500cd0bbf8c4f": {
          "model_module": "@jupyter-widgets/base",
          "model_name": "LayoutModel",
          "state": {
            "_view_name": "LayoutView",
            "grid_template_rows": null,
            "right": null,
            "justify_content": null,
            "_view_module": "@jupyter-widgets/base",
            "overflow": null,
            "_model_module_version": "1.2.0",
            "_view_count": null,
            "flex_flow": null,
            "width": null,
            "min_width": null,
            "border": null,
            "align_items": null,
            "bottom": null,
            "_model_module": "@jupyter-widgets/base",
            "top": null,
            "grid_column": null,
            "overflow_y": null,
            "overflow_x": null,
            "grid_auto_flow": null,
            "grid_area": null,
            "grid_template_columns": null,
            "flex": null,
            "_model_name": "LayoutModel",
            "justify_items": null,
            "grid_row": null,
            "max_height": null,
            "align_content": null,
            "visibility": null,
            "align_self": null,
            "height": null,
            "min_height": null,
            "padding": null,
            "grid_auto_rows": null,
            "grid_gap": null,
            "max_width": null,
            "order": null,
            "_view_module_version": "1.2.0",
            "grid_template_areas": null,
            "object_position": null,
            "object_fit": null,
            "grid_auto_columns": null,
            "margin": null,
            "display": null,
            "left": null
          }
        },
        "79421434e68849de8c500278664ecbdd": {
          "model_module": "@jupyter-widgets/controls",
          "model_name": "DescriptionStyleModel",
          "state": {
            "_view_name": "StyleView",
            "_model_name": "DescriptionStyleModel",
            "description_width": "",
            "_view_module": "@jupyter-widgets/base",
            "_model_module_version": "1.5.0",
            "_view_count": null,
            "_view_module_version": "1.2.0",
            "_model_module": "@jupyter-widgets/controls"
          }
        },
        "4551d6f24e6e4ce7a80b62649110da27": {
          "model_module": "@jupyter-widgets/base",
          "model_name": "LayoutModel",
          "state": {
            "_view_name": "LayoutView",
            "grid_template_rows": null,
            "right": null,
            "justify_content": null,
            "_view_module": "@jupyter-widgets/base",
            "overflow": null,
            "_model_module_version": "1.2.0",
            "_view_count": null,
            "flex_flow": null,
            "width": null,
            "min_width": null,
            "border": null,
            "align_items": null,
            "bottom": null,
            "_model_module": "@jupyter-widgets/base",
            "top": null,
            "grid_column": null,
            "overflow_y": null,
            "overflow_x": null,
            "grid_auto_flow": null,
            "grid_area": null,
            "grid_template_columns": null,
            "flex": null,
            "_model_name": "LayoutModel",
            "justify_items": null,
            "grid_row": null,
            "max_height": null,
            "align_content": null,
            "visibility": null,
            "align_self": null,
            "height": null,
            "min_height": null,
            "padding": null,
            "grid_auto_rows": null,
            "grid_gap": null,
            "max_width": null,
            "order": null,
            "_view_module_version": "1.2.0",
            "grid_template_areas": null,
            "object_position": null,
            "object_fit": null,
            "grid_auto_columns": null,
            "margin": null,
            "display": null,
            "left": null
          }
        }
      }
    }
  },
  "cells": [
    {
      "cell_type": "markdown",
      "metadata": {
        "id": "jlsvK1iUeYsk"
      },
      "source": [
        "# Train CNN on MNIST dataset\n",
        "\n",
        "Modified from [https://github.com/rasbt/deeplearning-models/blob/master/pytorch_ipynb/cnn/cnn-lenet5-mnist.ipynb](https://github.com/rasbt/deeplearning-models/blob/master/pytorch_ipynb/cnn/cnn-lenet5-mnist.ipynb)"
      ]
    },
    {
      "cell_type": "markdown",
      "metadata": {
        "id": "MkoGLH_Tj5wn"
      },
      "source": [
        "## Imports"
      ]
    },
    {
      "cell_type": "code",
      "metadata": {
        "colab": {
          "base_uri": "https://localhost:8080/"
        },
        "id": "ORj09gnrj5wp",
        "outputId": "2bb1f1b0-afd6-48dd-ae8f-a5908edd6e38"
      },
      "source": [
        "import os\n",
        "import time\n",
        "\n",
        "import numpy as np\n",
        "import pandas as pd\n",
        "\n",
        "import torch\n",
        "import torch.nn as nn\n",
        "import torch.nn.functional as F\n",
        "from torch.utils.data import DataLoader\n",
        "\n",
        "from torchvision import datasets\n",
        "from torchvision import transforms\n",
        "\n",
        "import matplotlib.pyplot as plt\n",
        "from PIL import Image\n",
        "\n",
        "\n",
        "if torch.cuda.is_available():\n",
        "    torch.backends.cudnn.deterministic = True\n",
        "\n",
        "# Check GPU stuffs\n",
        "print(torch.cuda.device_count())\n",
        "print(torch.cuda.get_device_name(0))\n",
        "print(torch.cuda.is_available())"
      ],
      "execution_count": 1,
      "outputs": [
        {
          "output_type": "stream",
          "text": [
            "1\n",
            "Tesla T4\n",
            "True\n"
          ],
          "name": "stdout"
        }
      ]
    },
    {
      "cell_type": "markdown",
      "metadata": {
        "id": "I6hghKPxj5w0"
      },
      "source": [
        "## Model Settings"
      ]
    },
    {
      "cell_type": "code",
      "metadata": {
        "id": "NnT0sZIwj5wu"
      },
      "source": [
        "##########################\n",
        "### SETTINGS\n",
        "##########################\n",
        "\n",
        "# Hyperparameters\n",
        "RANDOM_SEED = 1\n",
        "LEARNING_RATE = 0.001\n",
        "BATCH_SIZE = 128\n",
        "NUM_EPOCHS = 10\n",
        "\n",
        "# Architecture\n",
        "NUM_FEATURES = 32*32\n",
        "NUM_CLASSES = 10\n",
        "\n",
        "# Other\n",
        "DEVICE = \"cuda:0\" # can be cuda:1,2 depending on machine configuration\n",
        "GRAYSCALE = True"
      ],
      "execution_count": 2,
      "outputs": []
    },
    {
      "cell_type": "markdown",
      "metadata": {
        "id": "HehJ7Wz2IzCQ"
      },
      "source": [
        "### MNIST Dataset"
      ]
    },
    {
      "cell_type": "code",
      "metadata": {
        "colab": {
          "base_uri": "https://localhost:8080/",
          "height": 622,
          "referenced_widgets": [
            "d7ec566978cf4de7ae9383f53813e522",
            "4c2f50bc65b1483f932c29092d6fb9f8",
            "85a352ffd96849a4b8a371a4d6d94761",
            "3336e430928f4fcf808168c6ff28e934",
            "038119fafabe4b2b92c6fff3ffba6064",
            "8c26b475cd344b64a6096859681b4b4d",
            "31229e31d8554d53b70ba5095582369a",
            "51943207077342ec84fc05aecbaa4dc6",
            "b20547ac169f49d1b6ddcb3bb44574be",
            "22bb9d7cd24f43dd89dd4eeebc2e014c",
            "ce780cd034c1477b8b76d80865967b4d",
            "5fc6cc63e41f4119af31dfcb909322de",
            "2df07b6029e2498eb38e611dc6abc250",
            "ac0f87ec914745e7ac9531599ffbdab0",
            "3ecbd56585064ccb88548a4bd6be8fce",
            "a3fea0c48215437e8b0163d0d0418e1f",
            "964d27fcff0d429e962ea6081fc7fb97",
            "9e0aa21054d54051bb8eb135f262aafd",
            "f6b40c3526d443d48a1eab36b83de35d",
            "bdd138243bcb49ba9398da32905bc17b",
            "b121302c657a4080b78ca42d0778326f",
            "7f2d3495080344f9b600fb966ba32130",
            "e477ad1531864bd1afaf34b8823d264c",
            "5d8795257b5a465a94fbdaf262687f12",
            "ed1f82634d9945bdbbaaad24b3299a7d",
            "7a1066b0942d4c11a17e282b6028596a",
            "3d8b788edef240cd86818db172964cd9",
            "61b1bd1deada4d83af6f6cffbb4ab2f7",
            "6b61c1928cb04cd68b063940c1afa65c",
            "e5719057624448b9a66500cd0bbf8c4f",
            "79421434e68849de8c500278664ecbdd",
            "4551d6f24e6e4ce7a80b62649110da27"
          ]
        },
        "id": "oT9VDEgKIzCQ",
        "outputId": "3cbf9c1f-5d2e-4ba7-c37e-fcb7282633b0"
      },
      "source": [
        "##########################\n",
        "### MNIST DATASET\n",
        "##########################\n",
        "\n",
        "resize_transform = transforms.Compose([transforms.Resize((32, 32)),\n",
        "                                       transforms.ToTensor()])\n",
        "# transforms.ToTensor() scales input images\n",
        "# to 0-1 range\n",
        "\n",
        "\n",
        "train_dataset = datasets.MNIST(root='data', \n",
        "                               train=True, \n",
        "                               transform=resize_transform,\n",
        "                               download=True)\n",
        "\n",
        "test_dataset = datasets.MNIST(root='data', \n",
        "                              train=False, \n",
        "                              transform=resize_transform)\n",
        "\n",
        "\n",
        "train_loader = DataLoader(dataset=train_dataset, \n",
        "                          batch_size=BATCH_SIZE, \n",
        "                          shuffle=True)\n",
        "\n",
        "test_loader = DataLoader(dataset=test_dataset, \n",
        "                         batch_size=BATCH_SIZE, \n",
        "                         shuffle=False)\n",
        "\n",
        "# Checking the dataset\n",
        "for images, labels in train_loader:  \n",
        "    print('Image batch dimensions:', images.shape)\n",
        "    print('Image label dimensions:', labels.shape)\n",
        "    break"
      ],
      "execution_count": 3,
      "outputs": [
        {
          "output_type": "stream",
          "text": [
            "Downloading http://yann.lecun.com/exdb/mnist/train-images-idx3-ubyte.gz\n",
            "Downloading http://yann.lecun.com/exdb/mnist/train-images-idx3-ubyte.gz to data/MNIST/raw/train-images-idx3-ubyte.gz\n"
          ],
          "name": "stdout"
        },
        {
          "output_type": "display_data",
          "data": {
            "application/vnd.jupyter.widget-view+json": {
              "model_id": "d7ec566978cf4de7ae9383f53813e522",
              "version_minor": 0,
              "version_major": 2
            },
            "text/plain": [
              "HBox(children=(FloatProgress(value=0.0, max=9912422.0), HTML(value='')))"
            ]
          },
          "metadata": {
            "tags": []
          }
        },
        {
          "output_type": "stream",
          "text": [
            "\n",
            "Extracting data/MNIST/raw/train-images-idx3-ubyte.gz to data/MNIST/raw\n",
            "\n",
            "Downloading http://yann.lecun.com/exdb/mnist/train-labels-idx1-ubyte.gz\n",
            "Downloading http://yann.lecun.com/exdb/mnist/train-labels-idx1-ubyte.gz to data/MNIST/raw/train-labels-idx1-ubyte.gz\n"
          ],
          "name": "stdout"
        },
        {
          "output_type": "display_data",
          "data": {
            "application/vnd.jupyter.widget-view+json": {
              "model_id": "b20547ac169f49d1b6ddcb3bb44574be",
              "version_minor": 0,
              "version_major": 2
            },
            "text/plain": [
              "HBox(children=(FloatProgress(value=0.0, max=28881.0), HTML(value='')))"
            ]
          },
          "metadata": {
            "tags": []
          }
        },
        {
          "output_type": "stream",
          "text": [
            "\n",
            "Extracting data/MNIST/raw/train-labels-idx1-ubyte.gz to data/MNIST/raw\n",
            "\n",
            "Downloading http://yann.lecun.com/exdb/mnist/t10k-images-idx3-ubyte.gz\n",
            "Downloading http://yann.lecun.com/exdb/mnist/t10k-images-idx3-ubyte.gz to data/MNIST/raw/t10k-images-idx3-ubyte.gz\n"
          ],
          "name": "stdout"
        },
        {
          "output_type": "display_data",
          "data": {
            "application/vnd.jupyter.widget-view+json": {
              "model_id": "964d27fcff0d429e962ea6081fc7fb97",
              "version_minor": 0,
              "version_major": 2
            },
            "text/plain": [
              "HBox(children=(FloatProgress(value=0.0, max=1648877.0), HTML(value='')))"
            ]
          },
          "metadata": {
            "tags": []
          }
        },
        {
          "output_type": "stream",
          "text": [
            "\n",
            "Extracting data/MNIST/raw/t10k-images-idx3-ubyte.gz to data/MNIST/raw\n",
            "\n",
            "Downloading http://yann.lecun.com/exdb/mnist/t10k-labels-idx1-ubyte.gz\n",
            "Downloading http://yann.lecun.com/exdb/mnist/t10k-labels-idx1-ubyte.gz to data/MNIST/raw/t10k-labels-idx1-ubyte.gz\n"
          ],
          "name": "stdout"
        },
        {
          "output_type": "display_data",
          "data": {
            "application/vnd.jupyter.widget-view+json": {
              "model_id": "ed1f82634d9945bdbbaaad24b3299a7d",
              "version_minor": 0,
              "version_major": 2
            },
            "text/plain": [
              "HBox(children=(FloatProgress(value=0.0, max=4542.0), HTML(value='')))"
            ]
          },
          "metadata": {
            "tags": []
          }
        },
        {
          "output_type": "stream",
          "text": [
            "\n",
            "Extracting data/MNIST/raw/t10k-labels-idx1-ubyte.gz to data/MNIST/raw\n",
            "\n",
            "Processing...\n",
            "Done!\n",
            "Image batch dimensions: torch.Size([128, 1, 32, 32])\n",
            "Image label dimensions: torch.Size([128])\n"
          ],
          "name": "stdout"
        },
        {
          "output_type": "stream",
          "text": [
            "/usr/local/lib/python3.7/dist-packages/torchvision/datasets/mnist.py:502: UserWarning: The given NumPy array is not writeable, and PyTorch does not support non-writeable tensors. This means you can write to the underlying (supposedly non-writeable) NumPy array using the tensor. You may want to copy the array to protect its data or make it writeable before converting it to a tensor. This type of warning will be suppressed for the rest of this program. (Triggered internally at  /pytorch/torch/csrc/utils/tensor_numpy.cpp:143.)\n",
            "  return torch.from_numpy(parsed.astype(m[2], copy=False)).view(*s)\n"
          ],
          "name": "stderr"
        }
      ]
    },
    {
      "cell_type": "markdown",
      "metadata": {
        "id": "8QvUO02TLR9d"
      },
      "source": [
        "### Show image and label"
      ]
    },
    {
      "cell_type": "code",
      "metadata": {
        "id": "ECX4H_SYLRaq"
      },
      "source": [
        "def imshow(img, label):\n",
        "  # Convert to numpy\n",
        "  img = img.numpy()\n",
        "  # Make to w,h from w,h,1\n",
        "  img = img.squeeze()\n",
        "  # Plot\n",
        "  plt.imshow(img)\n",
        "  plt.title(\"This is a {}\".format(label))"
      ],
      "execution_count": 4,
      "outputs": []
    },
    {
      "cell_type": "code",
      "metadata": {
        "colab": {
          "base_uri": "https://localhost:8080/"
        },
        "id": "eXSd_l0eLXGd",
        "outputId": "4946de8a-6f67-4aea-dc46-034304ac44b0"
      },
      "source": [
        "# get some random training images\n",
        "x, y = next(iter(train_loader)) # channels first!\n",
        "x.shape, y.shape"
      ],
      "execution_count": 5,
      "outputs": [
        {
          "output_type": "execute_result",
          "data": {
            "text/plain": [
              "(torch.Size([128, 1, 32, 32]), torch.Size([128]))"
            ]
          },
          "metadata": {
            "tags": []
          },
          "execution_count": 5
        }
      ]
    },
    {
      "cell_type": "code",
      "metadata": {
        "colab": {
          "base_uri": "https://localhost:8080/",
          "height": 281
        },
        "id": "ZIEGLoGnLXJE",
        "outputId": "2a01fb1f-c2a4-4418-d8e7-2a4b391b5642"
      },
      "source": [
        "idx = 20\n",
        "imshow(x[idx], y[idx])"
      ],
      "execution_count": 6,
      "outputs": [
        {
          "output_type": "display_data",
          "data": {
            "image/png": "[encoded data removed]",
            "text/plain": [
              "<Figure size 432x288 with 1 Axes>"
            ]
          },
          "metadata": {
            "tags": [],
            "needs_background": "light"
          }
        }
      ]
    },
    {
      "cell_type": "markdown",
      "metadata": {
        "id": "WGWhdFENKpKG"
      },
      "source": [
        "### Training loop"
      ]
    },
    {
      "cell_type": "code",
      "metadata": {
        "colab": {
          "base_uri": "https://localhost:8080/"
        },
        "id": "Kpa_6fJaIzCS",
        "outputId": "a3f67bd4-5fd5-4fca-ef6f-1da64325ac14"
      },
      "source": [
        "# init device and seed\n",
        "device = torch.device(DEVICE)\n",
        "torch.manual_seed(0)\n",
        "\n",
        "# iterate over epochs\n",
        "for epoch in range(5):\n",
        "\n",
        "    # iterate over each batch of the dataset\n",
        "    for batch_idx, (x, y) in enumerate(train_loader):\n",
        "        \n",
        "        print('Epoch:', epoch+1, end='')\n",
        "        print(' | Batch index:', batch_idx, end='')\n",
        "        print(' | Batch size:', y.size()[0])\n",
        "        \n",
        "        # Send data to GPU\n",
        "        x = x.to(device)\n",
        "        y = y.to(device)\n",
        "\n",
        "        # Do stuffs here\n",
        "        break"
      ],
      "execution_count": 7,
      "outputs": [
        {
          "output_type": "stream",
          "text": [
            "Epoch: 1 | Batch index: 0 | Batch size: 128\n",
            "Epoch: 2 | Batch index: 0 | Batch size: 128\n",
            "Epoch: 3 | Batch index: 0 | Batch size: 128\n",
            "Epoch: 4 | Batch index: 0 | Batch size: 128\n",
            "Epoch: 5 | Batch index: 0 | Batch size: 128\n"
          ],
          "name": "stdout"
        }
      ]
    },
    {
      "cell_type": "markdown",
      "metadata": {
        "id": "y99F0qFfgliI"
      },
      "source": [
        "### Model"
      ]
    },
    {
      "cell_type": "code",
      "metadata": {
        "id": "WKvhKQo_IzCT"
      },
      "source": [
        "##########################\n",
        "### MODEL\n",
        "##########################\n",
        "\n",
        "\n",
        "class LeNet5(nn.Module):\n",
        "\n",
        "    def __init__(self, num_classes, grayscale=False):\n",
        "        super(LeNet5, self).__init__()\n",
        "        \n",
        "        self.grayscale = grayscale # True\n",
        "        self.num_classes = num_classes # 10\n",
        "\n",
        "        if self.grayscale:\n",
        "            in_channels = 1\n",
        "        else:\n",
        "            in_channels = 3\n",
        "\n",
        "        # define feature extractor\n",
        "        self.features = nn.Sequential(\n",
        "            # seriues of conv, activation, maxpool layers\n",
        "            nn.Conv2d(in_channels, 6, kernel_size=5), # 6 is number of kernels \n",
        "            nn.Tanh(),\n",
        "            nn.MaxPool2d(kernel_size=2),\n",
        "            nn.Conv2d(6, 16, kernel_size=5),\n",
        "            nn.Tanh(),\n",
        "            nn.MaxPool2d(kernel_size=2)\n",
        "        )\n",
        "\n",
        "        # input features to the linear layer is defined by the dimensions \n",
        "        # of the activation coming from the previous layer \n",
        "        flattened = 16*5*5 # channels * height * width\n",
        "\n",
        "        # define classifier head\n",
        "        self.classifier = nn.Sequential(\n",
        "            nn.Linear(flattened, 120),\n",
        "            nn.Tanh(),\n",
        "            nn.Linear(120, 84),\n",
        "            nn.Tanh(),\n",
        "            nn.Linear(84, num_classes),\n",
        "        )\n",
        "\n",
        "\n",
        "    def forward(self, x):\n",
        "        x = self.features(x)\n",
        "        x = torch.flatten(x, 1) # x becomes shape (batch size, 16*5*5)\n",
        "        logits = self.classifier(x)\n",
        "        probas = F.softmax(logits, dim=1)\n",
        "        return logits, probas"
      ],
      "execution_count": 8,
      "outputs": []
    },
    {
      "cell_type": "code",
      "metadata": {
        "colab": {
          "base_uri": "https://localhost:8080/"
        },
        "id": "_lza9t_uj5w1",
        "outputId": "b8245468-4743-4cbb-a58b-41f9c9aeb9fc"
      },
      "source": [
        "torch.manual_seed(RANDOM_SEED)\n",
        "\n",
        "model = LeNet5(NUM_CLASSES, GRAYSCALE)\n",
        "model.to(DEVICE)\n",
        "print(model)\n",
        "\n",
        "optimizer = torch.optim.Adam(model.parameters(), lr=LEARNING_RATE)  "
      ],
      "execution_count": 9,
      "outputs": [
        {
          "output_type": "stream",
          "text": [
            "LeNet5(\n",
            "  (features): Sequential(\n",
            "    (0): Conv2d(1, 6, kernel_size=(5, 5), stride=(1, 1))\n",
            "    (1): Tanh()\n",
            "    (2): MaxPool2d(kernel_size=2, stride=2, padding=0, dilation=1, ceil_mode=False)\n",
            "    (3): Conv2d(6, 16, kernel_size=(5, 5), stride=(1, 1))\n",
            "    (4): Tanh()\n",
            "    (5): MaxPool2d(kernel_size=2, stride=2, padding=0, dilation=1, ceil_mode=False)\n",
            "  )\n",
            "  (classifier): Sequential(\n",
            "    (0): Linear(in_features=400, out_features=120, bias=True)\n",
            "    (1): Tanh()\n",
            "    (2): Linear(in_features=120, out_features=84, bias=True)\n",
            "    (3): Tanh()\n",
            "    (4): Linear(in_features=84, out_features=10, bias=True)\n",
            "  )\n",
            ")\n"
          ],
          "name": "stdout"
        }
      ]
    },
    {
      "cell_type": "markdown",
      "metadata": {
        "id": "D0Z0FykAL5kk"
      },
      "source": [
        "### How many params to train?\n"
      ]
    },
    {
      "cell_type": "code",
      "metadata": {
        "colab": {
          "base_uri": "https://localhost:8080/"
        },
        "id": "i6QrAqx6L4-w",
        "outputId": "93930d7a-7460-4f24-fef5-6b249c5d5d7c"
      },
      "source": [
        "# All parameters\n",
        "all_params = sum(p.numel() for p in model.parameters())\n",
        "print(\"All parameters \", all_params)\n",
        "\n",
        "# Trainable parameters\n",
        "all_train_params = sum(p.numel() for p in model.parameters() if p.requires_grad)\n",
        "print(\"Trainable parameters \", all_train_params)"
      ],
      "execution_count": 10,
      "outputs": [
        {
          "output_type": "stream",
          "text": [
            "All parameters  61706\n",
            "Trainable parameters  61706\n"
          ],
          "name": "stdout"
        }
      ]
    },
    {
      "cell_type": "markdown",
      "metadata": {
        "id": "RAodboScj5w6"
      },
      "source": [
        "## Training"
      ]
    },
    {
      "cell_type": "code",
      "metadata": {
        "colab": {
          "base_uri": "https://localhost:8080/"
        },
        "id": "Dzh3ROmRj5w7",
        "outputId": "fa7619e2-5631-40ef-efe2-7e334aa1d00f"
      },
      "source": [
        "def compute_accuracy(model, data_loader, device):\n",
        "  \"\"\"Compute acc on the val/test data\"\"\"\n",
        "  correct_pred, num_examples = 0, 0\n",
        "  for i, (features, targets) in enumerate(data_loader):\n",
        "          \n",
        "      features = features.to(device)\n",
        "      targets = targets.to(device)\n",
        "      # inference\n",
        "      logits, probas = model(features)\n",
        "      # argmax raw preds\n",
        "      _, predicted_labels = torch.max(probas, 1)\n",
        "      num_examples += targets.size(0)\n",
        "      correct_pred += (predicted_labels == targets).sum()\n",
        "  return correct_pred.float()/num_examples * 100\n",
        "    \n",
        "\n",
        "# Training looooop\n",
        "start_time = time.time()\n",
        "for epoch in range(NUM_EPOCHS):\n",
        "    # Always set to train\n",
        "    model.train()\n",
        "    # Iterate over dataset\n",
        "    for batch_idx, (features, targets) in enumerate(train_loader):\n",
        "        \n",
        "        # Pass data to GPU\n",
        "        features = features.to(DEVICE)\n",
        "        targets = targets.to(DEVICE)\n",
        "            \n",
        "        ### FORWARD AND BACK PROP\n",
        "\n",
        "        # Forward pass\n",
        "        logits, probas = model(features)\n",
        "        # Compute loss\n",
        "        cost = F.cross_entropy(logits, targets)\n",
        "        # Stop grads from piling up\n",
        "        # Accumulates gradients by default which\n",
        "        # is useful for training RNNs, not so \n",
        "        # much for classifiers, so clear cache of gradients! \n",
        "        optimizer.zero_grad()\n",
        "        # Compute gradients\n",
        "        cost.backward()\n",
        "        \n",
        "        ### UPDATE MODEL PARAMETERS\n",
        "        optimizer.step()\n",
        "        \n",
        "        ### LOGGING\n",
        "        if not batch_idx % 50:\n",
        "            print ('Epoch: %03d/%03d | Batch %04d/%04d | Cost: %.4f' \n",
        "                   %(epoch+1, NUM_EPOCHS, batch_idx, \n",
        "                     len(train_loader), cost))\n",
        "\n",
        "    # Validation\n",
        "    model.eval()\n",
        "    with torch.set_grad_enabled(False): # save memory during inference\n",
        "        print('Epoch: %03d/%03d | Train: %.3f%%' % (\n",
        "              epoch+1, NUM_EPOCHS, \n",
        "              compute_accuracy(model, train_loader, device=DEVICE)))\n",
        "        \n",
        "    print('Time elapsed: %.2f min' % ((time.time() - start_time)/60))\n",
        "    \n",
        "print('Total Training Time: %.2f min' % ((time.time() - start_time)/60))"
      ],
      "execution_count": 11,
      "outputs": [
        {
          "output_type": "stream",
          "text": [
            "Epoch: 001/010 | Batch 0000/0469 | Cost: 2.2918\n",
            "Epoch: 001/010 | Batch 0050/0469 | Cost: 0.5220\n",
            "Epoch: 001/010 | Batch 0100/0469 | Cost: 0.3472\n",
            "Epoch: 001/010 | Batch 0150/0469 | Cost: 0.3450\n",
            "Epoch: 001/010 | Batch 0200/0469 | Cost: 0.1754\n",
            "Epoch: 001/010 | Batch 0250/0469 | Cost: 0.1247\n",
            "Epoch: 001/010 | Batch 0300/0469 | Cost: 0.1107\n",
            "Epoch: 001/010 | Batch 0350/0469 | Cost: 0.2396\n",
            "Epoch: 001/010 | Batch 0400/0469 | Cost: 0.0787\n",
            "Epoch: 001/010 | Batch 0450/0469 | Cost: 0.1526\n",
            "Epoch: 001/010 | Train: 97.220%\n",
            "Time elapsed: 0.20 min\n",
            "Epoch: 002/010 | Batch 0000/0469 | Cost: 0.0981\n",
            "Epoch: 002/010 | Batch 0050/0469 | Cost: 0.0747\n",
            "Epoch: 002/010 | Batch 0100/0469 | Cost: 0.0596\n",
            "Epoch: 002/010 | Batch 0150/0469 | Cost: 0.0253\n",
            "Epoch: 002/010 | Batch 0200/0469 | Cost: 0.1530\n",
            "Epoch: 002/010 | Batch 0250/0469 | Cost: 0.0533\n",
            "Epoch: 002/010 | Batch 0300/0469 | Cost: 0.1067\n",
            "Epoch: 002/010 | Batch 0350/0469 | Cost: 0.1307\n",
            "Epoch: 002/010 | Batch 0400/0469 | Cost: 0.0370\n",
            "Epoch: 002/010 | Batch 0450/0469 | Cost: 0.0814\n",
            "Epoch: 002/010 | Train: 98.392%\n",
            "Time elapsed: 0.40 min\n",
            "Epoch: 003/010 | Batch 0000/0469 | Cost: 0.0771\n",
            "Epoch: 003/010 | Batch 0050/0469 | Cost: 0.0334\n",
            "Epoch: 003/010 | Batch 0100/0469 | Cost: 0.0234\n",
            "Epoch: 003/010 | Batch 0150/0469 | Cost: 0.0251\n",
            "Epoch: 003/010 | Batch 0200/0469 | Cost: 0.0239\n",
            "Epoch: 003/010 | Batch 0250/0469 | Cost: 0.0696\n",
            "Epoch: 003/010 | Batch 0300/0469 | Cost: 0.0283\n",
            "Epoch: 003/010 | Batch 0350/0469 | Cost: 0.0466\n",
            "Epoch: 003/010 | Batch 0400/0469 | Cost: 0.0863\n",
            "Epoch: 003/010 | Batch 0450/0469 | Cost: 0.0354\n",
            "Epoch: 003/010 | Train: 98.923%\n",
            "Time elapsed: 0.60 min\n",
            "Epoch: 004/010 | Batch 0000/0469 | Cost: 0.0273\n",
            "Epoch: 004/010 | Batch 0050/0469 | Cost: 0.0188\n",
            "Epoch: 004/010 | Batch 0100/0469 | Cost: 0.0106\n",
            "Epoch: 004/010 | Batch 0150/0469 | Cost: 0.0263\n",
            "Epoch: 004/010 | Batch 0200/0469 | Cost: 0.0433\n",
            "Epoch: 004/010 | Batch 0250/0469 | Cost: 0.0099\n",
            "Epoch: 004/010 | Batch 0300/0469 | Cost: 0.0332\n",
            "Epoch: 004/010 | Batch 0350/0469 | Cost: 0.0191\n",
            "Epoch: 004/010 | Batch 0400/0469 | Cost: 0.0141\n",
            "Epoch: 004/010 | Batch 0450/0469 | Cost: 0.0321\n",
            "Epoch: 004/010 | Train: 99.050%\n",
            "Time elapsed: 0.80 min\n",
            "Epoch: 005/010 | Batch 0000/0469 | Cost: 0.0210\n",
            "Epoch: 005/010 | Batch 0050/0469 | Cost: 0.0720\n",
            "Epoch: 005/010 | Batch 0100/0469 | Cost: 0.0103\n",
            "Epoch: 005/010 | Batch 0150/0469 | Cost: 0.0338\n",
            "Epoch: 005/010 | Batch 0200/0469 | Cost: 0.0490\n",
            "Epoch: 005/010 | Batch 0250/0469 | Cost: 0.0227\n",
            "Epoch: 005/010 | Batch 0300/0469 | Cost: 0.0312\n",
            "Epoch: 005/010 | Batch 0350/0469 | Cost: 0.0684\n",
            "Epoch: 005/010 | Batch 0400/0469 | Cost: 0.0422\n",
            "Epoch: 005/010 | Batch 0450/0469 | Cost: 0.0201\n",
            "Epoch: 005/010 | Train: 99.378%\n",
            "Time elapsed: 1.00 min\n",
            "Epoch: 006/010 | Batch 0000/0469 | Cost: 0.0466\n",
            "Epoch: 006/010 | Batch 0050/0469 | Cost: 0.0057\n",
            "Epoch: 006/010 | Batch 0100/0469 | Cost: 0.0049\n",
            "Epoch: 006/010 | Batch 0150/0469 | Cost: 0.0204\n",
            "Epoch: 006/010 | Batch 0200/0469 | Cost: 0.0287\n",
            "Epoch: 006/010 | Batch 0250/0469 | Cost: 0.0055\n",
            "Epoch: 006/010 | Batch 0300/0469 | Cost: 0.0211\n",
            "Epoch: 006/010 | Batch 0350/0469 | Cost: 0.0179\n",
            "Epoch: 006/010 | Batch 0400/0469 | Cost: 0.0137\n",
            "Epoch: 006/010 | Batch 0450/0469 | Cost: 0.0232\n",
            "Epoch: 006/010 | Train: 99.545%\n",
            "Time elapsed: 1.20 min\n",
            "Epoch: 007/010 | Batch 0000/0469 | Cost: 0.0238\n",
            "Epoch: 007/010 | Batch 0050/0469 | Cost: 0.0151\n",
            "Epoch: 007/010 | Batch 0100/0469 | Cost: 0.0243\n",
            "Epoch: 007/010 | Batch 0150/0469 | Cost: 0.0085\n",
            "Epoch: 007/010 | Batch 0200/0469 | Cost: 0.0198\n",
            "Epoch: 007/010 | Batch 0250/0469 | Cost: 0.0424\n",
            "Epoch: 007/010 | Batch 0300/0469 | Cost: 0.0265\n",
            "Epoch: 007/010 | Batch 0350/0469 | Cost: 0.0067\n",
            "Epoch: 007/010 | Batch 0400/0469 | Cost: 0.0085\n",
            "Epoch: 007/010 | Batch 0450/0469 | Cost: 0.0055\n",
            "Epoch: 007/010 | Train: 99.460%\n",
            "Time elapsed: 1.41 min\n",
            "Epoch: 008/010 | Batch 0000/0469 | Cost: 0.0302\n",
            "Epoch: 008/010 | Batch 0050/0469 | Cost: 0.0127\n",
            "Epoch: 008/010 | Batch 0100/0469 | Cost: 0.0051\n",
            "Epoch: 008/010 | Batch 0150/0469 | Cost: 0.0084\n",
            "Epoch: 008/010 | Batch 0200/0469 | Cost: 0.0301\n",
            "Epoch: 008/010 | Batch 0250/0469 | Cost: 0.0290\n",
            "Epoch: 008/010 | Batch 0300/0469 | Cost: 0.0155\n",
            "Epoch: 008/010 | Batch 0350/0469 | Cost: 0.0032\n",
            "Epoch: 008/010 | Batch 0400/0469 | Cost: 0.0058\n",
            "Epoch: 008/010 | Batch 0450/0469 | Cost: 0.0142\n",
            "Epoch: 008/010 | Train: 99.718%\n",
            "Time elapsed: 1.61 min\n",
            "Epoch: 009/010 | Batch 0000/0469 | Cost: 0.0085\n",
            "Epoch: 009/010 | Batch 0050/0469 | Cost: 0.0099\n",
            "Epoch: 009/010 | Batch 0100/0469 | Cost: 0.0455\n",
            "Epoch: 009/010 | Batch 0150/0469 | Cost: 0.0015\n",
            "Epoch: 009/010 | Batch 0200/0469 | Cost: 0.0257\n",
            "Epoch: 009/010 | Batch 0250/0469 | Cost: 0.0071\n",
            "Epoch: 009/010 | Batch 0300/0469 | Cost: 0.0029\n",
            "Epoch: 009/010 | Batch 0350/0469 | Cost: 0.0183\n",
            "Epoch: 009/010 | Batch 0400/0469 | Cost: 0.0141\n",
            "Epoch: 009/010 | Batch 0450/0469 | Cost: 0.0259\n",
            "Epoch: 009/010 | Train: 99.702%\n",
            "Time elapsed: 1.81 min\n",
            "Epoch: 010/010 | Batch 0000/0469 | Cost: 0.0188\n",
            "Epoch: 010/010 | Batch 0050/0469 | Cost: 0.0053\n",
            "Epoch: 010/010 | Batch 0100/0469 | Cost: 0.0114\n",
            "Epoch: 010/010 | Batch 0150/0469 | Cost: 0.0126\n",
            "Epoch: 010/010 | Batch 0200/0469 | Cost: 0.0033\n",
            "Epoch: 010/010 | Batch 0250/0469 | Cost: 0.0015\n",
            "Epoch: 010/010 | Batch 0300/0469 | Cost: 0.0042\n",
            "Epoch: 010/010 | Batch 0350/0469 | Cost: 0.0491\n",
            "Epoch: 010/010 | Batch 0400/0469 | Cost: 0.0105\n",
            "Epoch: 010/010 | Batch 0450/0469 | Cost: 0.0526\n",
            "Epoch: 010/010 | Train: 99.583%\n",
            "Time elapsed: 2.01 min\n",
            "Total Training Time: 2.01 min\n"
          ],
          "name": "stdout"
        }
      ]
    },
    {
      "cell_type": "markdown",
      "metadata": {
        "id": "paaeEQHQj5xC"
      },
      "source": [
        "## Evaluation"
      ]
    },
    {
      "cell_type": "code",
      "metadata": {
        "colab": {
          "base_uri": "https://localhost:8080/"
        },
        "id": "gzQMWKq5j5xE",
        "outputId": "c6d16914-95e2-4d34-bebe-a0c332884436"
      },
      "source": [
        "with torch.set_grad_enabled(False): # save memory during inference\n",
        "    print('Test accuracy: %.2f%%' % (compute_accuracy(model, test_loader, device=DEVICE)))"
      ],
      "execution_count": 12,
      "outputs": [
        {
          "output_type": "stream",
          "text": [
            "Test accuracy: 98.60%\n"
          ],
          "name": "stdout"
        }
      ]
    },
    {
      "cell_type": "code",
      "metadata": {
        "colab": {
          "base_uri": "https://localhost:8080/",
          "height": 266
        },
        "id": "538Gi2SPIzCV",
        "outputId": "ce4fb0ce-1dc8-4bf7-d6b9-246894db0adb"
      },
      "source": [
        "for batch_idx, (features, targets) in enumerate(test_loader):\n",
        "\n",
        "    features = features\n",
        "    targets = targets\n",
        "    break\n",
        "    \n",
        "    \n",
        "nhwc_img = np.transpose(features[0], axes=(1, 2, 0))\n",
        "nhw_img = np.squeeze(nhwc_img.numpy(), axis=2)\n",
        "plt.imshow(nhw_img, cmap='Greys');"
      ],
      "execution_count": 13,
      "outputs": [
        {
          "output_type": "display_data",
          "data": {
            "image/png": "[encoded data removed]",
            "text/plain": [
              "<Figure size 432x288 with 1 Axes>"
            ]
          },
          "metadata": {
            "tags": [],
            "needs_background": "light"
          }
        }
      ]
    },
    {
      "cell_type": "code",
      "metadata": {
        "colab": {
          "base_uri": "https://localhost:8080/"
        },
        "id": "0Ln81PhnIzCW",
        "outputId": "6f803b17-991e-4860-9bca-36444e78288c"
      },
      "source": [
        "model.eval()\n",
        "logits, probas = model(features.to(device)[0, None])\n",
        "print('Probability 7 %.2f%%' % (probas[0][7]*100))"
      ],
      "execution_count": 14,
      "outputs": [
        {
          "output_type": "stream",
          "text": [
            "Probability 7 100.00%\n"
          ],
          "name": "stdout"
        }
      ]
    },
    {
      "cell_type": "code",
      "metadata": {
        "id": "R9Y9AgMGOpdt"
      },
      "source": [
        ""
      ],
      "execution_count": 14,
      "outputs": []
    }
  ]
}