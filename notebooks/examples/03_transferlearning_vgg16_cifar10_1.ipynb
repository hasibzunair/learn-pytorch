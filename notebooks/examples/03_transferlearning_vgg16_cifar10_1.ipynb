{
  "nbformat": 4,
  "nbformat_minor": 0,
  "metadata": {
    "kernelspec": {
      "display_name": "Python 3",
      "language": "python",
      "name": "python3"
    },
    "language_info": {
      "codemirror_mode": {
        "name": "ipython",
        "version": 3
      },
      "file_extension": ".py",
      "mimetype": "text/x-python",
      "name": "python",
      "nbconvert_exporter": "python",
      "pygments_lexer": "ipython3",
      "version": "3.7.3"
    },
    "colab": {
      "name": "03.transferlearning-vgg16-cifar10-1.ipynb",
      "provenance": [],
      "collapsed_sections": [],
      "include_colab_link": true
    },
    "accelerator": "GPU",
    "widgets": {
      "application/vnd.jupyter.widget-state+json": {
        "02a7699bdb344e9e800427cc6e6d0475": {
          "model_module": "@jupyter-widgets/controls",
          "model_name": "HBoxModel",
          "state": {
            "_view_name": "HBoxView",
            "_dom_classes": [],
            "_model_name": "HBoxModel",
            "_view_module": "@jupyter-widgets/controls",
            "_model_module_version": "1.5.0",
            "_view_count": null,
            "_view_module_version": "1.5.0",
            "box_style": "",
            "layout": "IPY_MODEL_fcce3efe736a4ad3b79d752b1c09683e",
            "_model_module": "@jupyter-widgets/controls",
            "children": [
              "IPY_MODEL_23fcf37e04dc4ea691d774620251300a",
              "IPY_MODEL_49c0b574fafb480c9234326d7d9b748f"
            ]
          }
        },
        "fcce3efe736a4ad3b79d752b1c09683e": {
          "model_module": "@jupyter-widgets/base",
          "model_name": "LayoutModel",
          "state": {
            "_view_name": "LayoutView",
            "grid_template_rows": null,
            "right": null,
            "justify_content": null,
            "_view_module": "@jupyter-widgets/base",
            "overflow": null,
            "_model_module_version": "1.2.0",
            "_view_count": null,
            "flex_flow": null,
            "width": null,
            "min_width": null,
            "border": null,
            "align_items": null,
            "bottom": null,
            "_model_module": "@jupyter-widgets/base",
            "top": null,
            "grid_column": null,
            "overflow_y": null,
            "overflow_x": null,
            "grid_auto_flow": null,
            "grid_area": null,
            "grid_template_columns": null,
            "flex": null,
            "_model_name": "LayoutModel",
            "justify_items": null,
            "grid_row": null,
            "max_height": null,
            "align_content": null,
            "visibility": null,
            "align_self": null,
            "height": null,
            "min_height": null,
            "padding": null,
            "grid_auto_rows": null,
            "grid_gap": null,
            "max_width": null,
            "order": null,
            "_view_module_version": "1.2.0",
            "grid_template_areas": null,
            "object_position": null,
            "object_fit": null,
            "grid_auto_columns": null,
            "margin": null,
            "display": null,
            "left": null
          }
        },
        "23fcf37e04dc4ea691d774620251300a": {
          "model_module": "@jupyter-widgets/controls",
          "model_name": "FloatProgressModel",
          "state": {
            "_view_name": "ProgressView",
            "style": "IPY_MODEL_8fe88acd88fc4d8180b5bde42c1ff70c",
            "_dom_classes": [],
            "description": "",
            "_model_name": "FloatProgressModel",
            "bar_style": "success",
            "max": 170498071,
            "_view_module": "@jupyter-widgets/controls",
            "_model_module_version": "1.5.0",
            "value": 170498071,
            "_view_count": null,
            "_view_module_version": "1.5.0",
            "orientation": "horizontal",
            "min": 0,
            "description_tooltip": null,
            "_model_module": "@jupyter-widgets/controls",
            "layout": "IPY_MODEL_96b02a729f0c4dc59f60b9b40a267908"
          }
        },
        "49c0b574fafb480c9234326d7d9b748f": {
          "model_module": "@jupyter-widgets/controls",
          "model_name": "HTMLModel",
          "state": {
            "_view_name": "HTMLView",
            "style": "IPY_MODEL_8ec8e2d1ac684a54aed4943a88928401",
            "_dom_classes": [],
            "description": "",
            "_model_name": "HTMLModel",
            "placeholder": "​",
            "_view_module": "@jupyter-widgets/controls",
            "_model_module_version": "1.5.0",
            "value": " 170499072/? [00:04&lt;00:00, 41428954.18it/s]",
            "_view_count": null,
            "_view_module_version": "1.5.0",
            "description_tooltip": null,
            "_model_module": "@jupyter-widgets/controls",
            "layout": "IPY_MODEL_b88baa5af5c843f6a7dd7affa77f2c9d"
          }
        },
        "8fe88acd88fc4d8180b5bde42c1ff70c": {
          "model_module": "@jupyter-widgets/controls",
          "model_name": "ProgressStyleModel",
          "state": {
            "_view_name": "StyleView",
            "_model_name": "ProgressStyleModel",
            "description_width": "initial",
            "_view_module": "@jupyter-widgets/base",
            "_model_module_version": "1.5.0",
            "_view_count": null,
            "_view_module_version": "1.2.0",
            "bar_color": null,
            "_model_module": "@jupyter-widgets/controls"
          }
        },
        "96b02a729f0c4dc59f60b9b40a267908": {
          "model_module": "@jupyter-widgets/base",
          "model_name": "LayoutModel",
          "state": {
            "_view_name": "LayoutView",
            "grid_template_rows": null,
            "right": null,
            "justify_content": null,
            "_view_module": "@jupyter-widgets/base",
            "overflow": null,
            "_model_module_version": "1.2.0",
            "_view_count": null,
            "flex_flow": null,
            "width": null,
            "min_width": null,
            "border": null,
            "align_items": null,
            "bottom": null,
            "_model_module": "@jupyter-widgets/base",
            "top": null,
            "grid_column": null,
            "overflow_y": null,
            "overflow_x": null,
            "grid_auto_flow": null,
            "grid_area": null,
            "grid_template_columns": null,
            "flex": null,
            "_model_name": "LayoutModel",
            "justify_items": null,
            "grid_row": null,
            "max_height": null,
            "align_content": null,
            "visibility": null,
            "align_self": null,
            "height": null,
            "min_height": null,
            "padding": null,
            "grid_auto_rows": null,
            "grid_gap": null,
            "max_width": null,
            "order": null,
            "_view_module_version": "1.2.0",
            "grid_template_areas": null,
            "object_position": null,
            "object_fit": null,
            "grid_auto_columns": null,
            "margin": null,
            "display": null,
            "left": null
          }
        },
        "8ec8e2d1ac684a54aed4943a88928401": {
          "model_module": "@jupyter-widgets/controls",
          "model_name": "DescriptionStyleModel",
          "state": {
            "_view_name": "StyleView",
            "_model_name": "DescriptionStyleModel",
            "description_width": "",
            "_view_module": "@jupyter-widgets/base",
            "_model_module_version": "1.5.0",
            "_view_count": null,
            "_view_module_version": "1.2.0",
            "_model_module": "@jupyter-widgets/controls"
          }
        },
        "b88baa5af5c843f6a7dd7affa77f2c9d": {
          "model_module": "@jupyter-widgets/base",
          "model_name": "LayoutModel",
          "state": {
            "_view_name": "LayoutView",
            "grid_template_rows": null,
            "right": null,
            "justify_content": null,
            "_view_module": "@jupyter-widgets/base",
            "overflow": null,
            "_model_module_version": "1.2.0",
            "_view_count": null,
            "flex_flow": null,
            "width": null,
            "min_width": null,
            "border": null,
            "align_items": null,
            "bottom": null,
            "_model_module": "@jupyter-widgets/base",
            "top": null,
            "grid_column": null,
            "overflow_y": null,
            "overflow_x": null,
            "grid_auto_flow": null,
            "grid_area": null,
            "grid_template_columns": null,
            "flex": null,
            "_model_name": "LayoutModel",
            "justify_items": null,
            "grid_row": null,
            "max_height": null,
            "align_content": null,
            "visibility": null,
            "align_self": null,
            "height": null,
            "min_height": null,
            "padding": null,
            "grid_auto_rows": null,
            "grid_gap": null,
            "max_width": null,
            "order": null,
            "_view_module_version": "1.2.0",
            "grid_template_areas": null,
            "object_position": null,
            "object_fit": null,
            "grid_auto_columns": null,
            "margin": null,
            "display": null,
            "left": null
          }
        },
        "780c2659a8434cb29b946f0b12ae8acc": {
          "model_module": "@jupyter-widgets/controls",
          "model_name": "HBoxModel",
          "state": {
            "_view_name": "HBoxView",
            "_dom_classes": [],
            "_model_name": "HBoxModel",
            "_view_module": "@jupyter-widgets/controls",
            "_model_module_version": "1.5.0",
            "_view_count": null,
            "_view_module_version": "1.5.0",
            "box_style": "",
            "layout": "IPY_MODEL_d1908d7da7e74735931dd7bcf6fd7cff",
            "_model_module": "@jupyter-widgets/controls",
            "children": [
              "IPY_MODEL_87d4f2b4df4240d6bd2ca5e6a18c377a",
              "IPY_MODEL_4297ed63878848809b6a006beec13e4d"
            ]
          }
        },
        "d1908d7da7e74735931dd7bcf6fd7cff": {
          "model_module": "@jupyter-widgets/base",
          "model_name": "LayoutModel",
          "state": {
            "_view_name": "LayoutView",
            "grid_template_rows": null,
            "right": null,
            "justify_content": null,
            "_view_module": "@jupyter-widgets/base",
            "overflow": null,
            "_model_module_version": "1.2.0",
            "_view_count": null,
            "flex_flow": null,
            "width": null,
            "min_width": null,
            "border": null,
            "align_items": null,
            "bottom": null,
            "_model_module": "@jupyter-widgets/base",
            "top": null,
            "grid_column": null,
            "overflow_y": null,
            "overflow_x": null,
            "grid_auto_flow": null,
            "grid_area": null,
            "grid_template_columns": null,
            "flex": null,
            "_model_name": "LayoutModel",
            "justify_items": null,
            "grid_row": null,
            "max_height": null,
            "align_content": null,
            "visibility": null,
            "align_self": null,
            "height": null,
            "min_height": null,
            "padding": null,
            "grid_auto_rows": null,
            "grid_gap": null,
            "max_width": null,
            "order": null,
            "_view_module_version": "1.2.0",
            "grid_template_areas": null,
            "object_position": null,
            "object_fit": null,
            "grid_auto_columns": null,
            "margin": null,
            "display": null,
            "left": null
          }
        },
        "87d4f2b4df4240d6bd2ca5e6a18c377a": {
          "model_module": "@jupyter-widgets/controls",
          "model_name": "FloatProgressModel",
          "state": {
            "_view_name": "ProgressView",
            "style": "IPY_MODEL_09be73665684446eb2c2bab961ed6112",
            "_dom_classes": [],
            "description": "100%",
            "_model_name": "FloatProgressModel",
            "bar_style": "success",
            "max": 553433881,
            "_view_module": "@jupyter-widgets/controls",
            "_model_module_version": "1.5.0",
            "value": 553433881,
            "_view_count": null,
            "_view_module_version": "1.5.0",
            "orientation": "horizontal",
            "min": 0,
            "description_tooltip": null,
            "_model_module": "@jupyter-widgets/controls",
            "layout": "IPY_MODEL_c67bac28910b459b9e646391575c5242"
          }
        },
        "4297ed63878848809b6a006beec13e4d": {
          "model_module": "@jupyter-widgets/controls",
          "model_name": "HTMLModel",
          "state": {
            "_view_name": "HTMLView",
            "style": "IPY_MODEL_7ebf91a160f647a3bc49adb6938a6d65",
            "_dom_classes": [],
            "description": "",
            "_model_name": "HTMLModel",
            "placeholder": "​",
            "_view_module": "@jupyter-widgets/controls",
            "_model_module_version": "1.5.0",
            "value": " 528M/528M [00:09&lt;00:00, 59.8MB/s]",
            "_view_count": null,
            "_view_module_version": "1.5.0",
            "description_tooltip": null,
            "_model_module": "@jupyter-widgets/controls",
            "layout": "IPY_MODEL_83f5416f61aa4ab7bffa91b555220ca5"
          }
        },
        "09be73665684446eb2c2bab961ed6112": {
          "model_module": "@jupyter-widgets/controls",
          "model_name": "ProgressStyleModel",
          "state": {
            "_view_name": "StyleView",
            "_model_name": "ProgressStyleModel",
            "description_width": "initial",
            "_view_module": "@jupyter-widgets/base",
            "_model_module_version": "1.5.0",
            "_view_count": null,
            "_view_module_version": "1.2.0",
            "bar_color": null,
            "_model_module": "@jupyter-widgets/controls"
          }
        },
        "c67bac28910b459b9e646391575c5242": {
          "model_module": "@jupyter-widgets/base",
          "model_name": "LayoutModel",
          "state": {
            "_view_name": "LayoutView",
            "grid_template_rows": null,
            "right": null,
            "justify_content": null,
            "_view_module": "@jupyter-widgets/base",
            "overflow": null,
            "_model_module_version": "1.2.0",
            "_view_count": null,
            "flex_flow": null,
            "width": null,
            "min_width": null,
            "border": null,
            "align_items": null,
            "bottom": null,
            "_model_module": "@jupyter-widgets/base",
            "top": null,
            "grid_column": null,
            "overflow_y": null,
            "overflow_x": null,
            "grid_auto_flow": null,
            "grid_area": null,
            "grid_template_columns": null,
            "flex": null,
            "_model_name": "LayoutModel",
            "justify_items": null,
            "grid_row": null,
            "max_height": null,
            "align_content": null,
            "visibility": null,
            "align_self": null,
            "height": null,
            "min_height": null,
            "padding": null,
            "grid_auto_rows": null,
            "grid_gap": null,
            "max_width": null,
            "order": null,
            "_view_module_version": "1.2.0",
            "grid_template_areas": null,
            "object_position": null,
            "object_fit": null,
            "grid_auto_columns": null,
            "margin": null,
            "display": null,
            "left": null
          }
        },
        "7ebf91a160f647a3bc49adb6938a6d65": {
          "model_module": "@jupyter-widgets/controls",
          "model_name": "DescriptionStyleModel",
          "state": {
            "_view_name": "StyleView",
            "_model_name": "DescriptionStyleModel",
            "description_width": "",
            "_view_module": "@jupyter-widgets/base",
            "_model_module_version": "1.5.0",
            "_view_count": null,
            "_view_module_version": "1.2.0",
            "_model_module": "@jupyter-widgets/controls"
          }
        },
        "83f5416f61aa4ab7bffa91b555220ca5": {
          "model_module": "@jupyter-widgets/base",
          "model_name": "LayoutModel",
          "state": {
            "_view_name": "LayoutView",
            "grid_template_rows": null,
            "right": null,
            "justify_content": null,
            "_view_module": "@jupyter-widgets/base",
            "overflow": null,
            "_model_module_version": "1.2.0",
            "_view_count": null,
            "flex_flow": null,
            "width": null,
            "min_width": null,
            "border": null,
            "align_items": null,
            "bottom": null,
            "_model_module": "@jupyter-widgets/base",
            "top": null,
            "grid_column": null,
            "overflow_y": null,
            "overflow_x": null,
            "grid_auto_flow": null,
            "grid_area": null,
            "grid_template_columns": null,
            "flex": null,
            "_model_name": "LayoutModel",
            "justify_items": null,
            "grid_row": null,
            "max_height": null,
            "align_content": null,
            "visibility": null,
            "align_self": null,
            "height": null,
            "min_height": null,
            "padding": null,
            "grid_auto_rows": null,
            "grid_gap": null,
            "max_width": null,
            "order": null,
            "_view_module_version": "1.2.0",
            "grid_template_areas": null,
            "object_position": null,
            "object_fit": null,
            "grid_auto_columns": null,
            "margin": null,
            "display": null,
            "left": null
          }
        }
      }
    }
  },
  "cells": [
    {
      "cell_type": "markdown",
      "metadata": {
        "id": "view-in-github",
        "colab_type": "text"
      },
      "source": [
        "<a href=\"https://colab.research.google.com/github/hasibzunair/learn-pytorch/blob/master/notebooks/examples/03_transferlearning_vgg16_cifar10_1.ipynb\" target=\"_parent\"><img src=\"https://colab.research.google.com/assets/colab-badge.svg\" alt=\"Open In Colab\"/></a>"
      ]
    },
    {
      "cell_type": "markdown",
      "metadata": {
        "id": "G3NVqrLoMMys"
      },
      "source": [
        "# Transfer Learning Example (VGG16 pre-trained on ImageNet for Cifar-10)\n",
        "\n",
        "Adapted from https://github.com/rasbt/deeplearning-models"
      ]
    },
    {
      "cell_type": "code",
      "metadata": {
        "colab": {
          "base_uri": "https://localhost:8080/"
        },
        "id": "rpstPZJZc5Lf",
        "outputId": "6046b22c-459b-469e-f08b-54d6cec7fb73"
      },
      "source": [
        "!pip install torch-summary"
      ],
      "execution_count": 1,
      "outputs": [
        {
          "output_type": "stream",
          "text": [
            "Collecting torch-summary\n",
            "  Downloading https://files.pythonhosted.org/packages/ca/db/93d18c84f73b214acfa4d18051d6f4263eee3e044c408928e8abe941a22c/torch_summary-1.4.5-py3-none-any.whl\n",
            "Installing collected packages: torch-summary\n",
            "Successfully installed torch-summary-1.4.5\n"
          ],
          "name": "stdout"
        }
      ]
    },
    {
      "cell_type": "code",
      "metadata": {
        "id": "oqGxy6k7MMyv"
      },
      "source": [
        "import torch\n",
        "import time\n",
        "import numpy as np\n",
        "import torch\n",
        "import torch.nn as nn\n",
        "import torch.nn.functional as F\n",
        "from torchvision import datasets\n",
        "from torchvision import transforms\n",
        "from torch.utils.data import DataLoader\n",
        "\n",
        "from torchsummary import summary\n",
        "\n",
        "#######################################\n",
        "### PRE-TRAINED MODELS AVAILABLE HERE\n",
        "## https://pytorch.org/vision/stable/models.html\n",
        "from torchvision import models\n",
        "#######################################\n",
        "\n",
        "if torch.cuda.is_available():\n",
        "    torch.backends.cudnn.deterministic = True"
      ],
      "execution_count": 2,
      "outputs": []
    },
    {
      "cell_type": "markdown",
      "metadata": {
        "id": "wExxVjWwMMyw"
      },
      "source": [
        "### Loading an Example Dataset"
      ]
    },
    {
      "cell_type": "markdown",
      "metadata": {
        "id": "rtspWbMSMMyw"
      },
      "source": [
        "In this example, we are going to work with CIFAR-10, because it's small (smaller) than ImageNet and fast to downliad. However, note that in a \"real-world application\", images with dimension > 224x224 are recommended when working with modelsthat have been trained on ImageNet images with > 224x224 size. Here, we resize the images as a workaround.\n",
        "\n",
        "- Note that due to the average pooling in the final layer, it is also possible to feed in 32x32-pixel images directly. However, I noticed that the performance is rather low (~65% test accuracy after 10 and 100 epochs).\n",
        "\n",
        "- Also note that we we normalize the images with the following parameters\n",
        "\n",
        "```\n",
        "    transforms.Normalize(mean=[0.485, 0.456, 0.406],\n",
        "                          std=[0.229, 0.224, 0.225])\n",
        "```\n",
        "\n",
        "which have been used for training the model originally on ImageNet."
      ]
    },
    {
      "cell_type": "code",
      "metadata": {
        "colab": {
          "base_uri": "https://localhost:8080/",
          "height": 217,
          "referenced_widgets": [
            "02a7699bdb344e9e800427cc6e6d0475",
            "fcce3efe736a4ad3b79d752b1c09683e",
            "23fcf37e04dc4ea691d774620251300a",
            "49c0b574fafb480c9234326d7d9b748f",
            "8fe88acd88fc4d8180b5bde42c1ff70c",
            "96b02a729f0c4dc59f60b9b40a267908",
            "8ec8e2d1ac684a54aed4943a88928401",
            "b88baa5af5c843f6a7dd7affa77f2c9d"
          ]
        },
        "id": "H8Qw31VJMMyw",
        "outputId": "52b6e87b-f189-4844-85da-2f3783dfeb9f"
      },
      "source": [
        "##########################\n",
        "### SETTINGS\n",
        "##########################\n",
        "\n",
        "# Device\n",
        "DEVICE = torch.device(\"cuda:0\" if torch.cuda.is_available() else \"cpu\")\n",
        "print('Device:', DEVICE)\n",
        "\n",
        "NUM_CLASSES = 10\n",
        "\n",
        "# Hyperparameters\n",
        "random_seed = 1\n",
        "learning_rate = 0.0001\n",
        "num_epochs = 10\n",
        "batch_size = 128\n",
        "\n",
        "\n",
        "##########################\n",
        "### MNIST DATASET\n",
        "##########################\n",
        "\n",
        "custom_transform = transforms.Compose([\n",
        "    transforms.Resize((224, 224)),\n",
        "    transforms.ToTensor(),\n",
        "    transforms.Normalize(mean=[0.485, 0.456, 0.406], # mean and std computed from ImageNet dataset\n",
        "                          std=[0.229, 0.224, 0.225])\n",
        "])\n",
        "\n",
        "## Note that this particular normalization scheme is\n",
        "## necessary since it was used for pre-training\n",
        "## the network on ImageNet.\n",
        "## These are the channel-means and standard deviations\n",
        "## for z-score normalization.\n",
        "\n",
        "\n",
        "train_dataset = datasets.CIFAR10(root='data', \n",
        "                                 train=True, \n",
        "                                 transform=custom_transform,\n",
        "                                 download=True)\n",
        "\n",
        "test_dataset = datasets.CIFAR10(root='data', \n",
        "                                train=False, \n",
        "                                transform=custom_transform)\n",
        "\n",
        "\n",
        "train_loader = DataLoader(dataset=train_dataset, \n",
        "                          batch_size=batch_size, \n",
        "                          num_workers=8,\n",
        "                          shuffle=True)\n",
        "\n",
        "test_loader = DataLoader(dataset=test_dataset, \n",
        "                         batch_size=batch_size, \n",
        "                         num_workers=8,\n",
        "                         shuffle=False)\n",
        "\n",
        "# Checking the dataset\n",
        "for images, labels in train_loader:  \n",
        "    print('Image batch dimensions:', images.shape)\n",
        "    print('Image label dimensions:', labels.shape)\n",
        "    break"
      ],
      "execution_count": 3,
      "outputs": [
        {
          "output_type": "stream",
          "text": [
            "Device: cuda:0\n",
            "Downloading https://www.cs.toronto.edu/~kriz/cifar-10-python.tar.gz to data/cifar-10-python.tar.gz\n"
          ],
          "name": "stdout"
        },
        {
          "output_type": "display_data",
          "data": {
            "application/vnd.jupyter.widget-view+json": {
              "model_id": "02a7699bdb344e9e800427cc6e6d0475",
              "version_minor": 0,
              "version_major": 2
            },
            "text/plain": [
              "HBox(children=(FloatProgress(value=0.0, max=170498071.0), HTML(value='')))"
            ]
          },
          "metadata": {
            "tags": []
          }
        },
        {
          "output_type": "stream",
          "text": [
            "\n",
            "Extracting data/cifar-10-python.tar.gz to data\n"
          ],
          "name": "stdout"
        },
        {
          "output_type": "stream",
          "text": [
            "/usr/local/lib/python3.7/dist-packages/torch/utils/data/dataloader.py:477: UserWarning: This DataLoader will create 8 worker processes in total. Our suggested max number of worker in current system is 2, which is smaller than what this DataLoader is going to create. Please be aware that excessive worker creation might get DataLoader running slow or even freeze, lower the worker number to avoid potential slowness/freeze if necessary.\n",
            "  cpuset_checked))\n"
          ],
          "name": "stderr"
        },
        {
          "output_type": "stream",
          "text": [
            "Image batch dimensions: torch.Size([128, 3, 224, 224])\n",
            "Image label dimensions: torch.Size([128])\n"
          ],
          "name": "stdout"
        }
      ]
    },
    {
      "cell_type": "markdown",
      "metadata": {
        "id": "IXlTWyW4MMyy"
      },
      "source": [
        "## Loading the Pre-Trained Model"
      ]
    },
    {
      "cell_type": "markdown",
      "metadata": {
        "id": "g5EHqrOOMMyy"
      },
      "source": [
        "Here, we are going to use VGG16 as an example for transfer learning from `torchvision`. A list of all pre-trained models is available at\n",
        "\n",
        "- https://pytorch.org/docs/stable/torchvision/models.html"
      ]
    },
    {
      "cell_type": "code",
      "metadata": {
        "colab": {
          "base_uri": "https://localhost:8080/",
          "height": 918,
          "referenced_widgets": [
            "780c2659a8434cb29b946f0b12ae8acc",
            "d1908d7da7e74735931dd7bcf6fd7cff",
            "87d4f2b4df4240d6bd2ca5e6a18c377a",
            "4297ed63878848809b6a006beec13e4d",
            "09be73665684446eb2c2bab961ed6112",
            "c67bac28910b459b9e646391575c5242",
            "7ebf91a160f647a3bc49adb6938a6d65",
            "83f5416f61aa4ab7bffa91b555220ca5"
          ]
        },
        "id": "3K4QPeypMMyy",
        "outputId": "972801f0-2334-4672-a699-7b58b9f8f2a8"
      },
      "source": [
        "model = models.vgg16(pretrained=True)\n",
        "model\n",
        "\n",
        "# all pretrained model in pytorch are normalized using\n",
        "# always using this normalizer prior passing an image through the model\n",
        "# transforms.Normalize(mean=[0.485, 0.456, 0.406]\n",
        "#                      std=[0.229, 0.224, 0.225])"
      ],
      "execution_count": 4,
      "outputs": [
        {
          "output_type": "stream",
          "text": [
            "Downloading: \"https://download.pytorch.org/models/vgg16-397923af.pth\" to /root/.cache/torch/hub/checkpoints/vgg16-397923af.pth\n"
          ],
          "name": "stderr"
        },
        {
          "output_type": "display_data",
          "data": {
            "application/vnd.jupyter.widget-view+json": {
              "model_id": "780c2659a8434cb29b946f0b12ae8acc",
              "version_minor": 0,
              "version_major": 2
            },
            "text/plain": [
              "HBox(children=(FloatProgress(value=0.0, max=553433881.0), HTML(value='')))"
            ]
          },
          "metadata": {
            "tags": []
          }
        },
        {
          "output_type": "stream",
          "text": [
            "\n"
          ],
          "name": "stdout"
        },
        {
          "output_type": "execute_result",
          "data": {
            "text/plain": [
              "VGG(\n",
              "  (features): Sequential(\n",
              "    (0): Conv2d(3, 64, kernel_size=(3, 3), stride=(1, 1), padding=(1, 1))\n",
              "    (1): ReLU(inplace=True)\n",
              "    (2): Conv2d(64, 64, kernel_size=(3, 3), stride=(1, 1), padding=(1, 1))\n",
              "    (3): ReLU(inplace=True)\n",
              "    (4): MaxPool2d(kernel_size=2, stride=2, padding=0, dilation=1, ceil_mode=False)\n",
              "    (5): Conv2d(64, 128, kernel_size=(3, 3), stride=(1, 1), padding=(1, 1))\n",
              "    (6): ReLU(inplace=True)\n",
              "    (7): Conv2d(128, 128, kernel_size=(3, 3), stride=(1, 1), padding=(1, 1))\n",
              "    (8): ReLU(inplace=True)\n",
              "    (9): MaxPool2d(kernel_size=2, stride=2, padding=0, dilation=1, ceil_mode=False)\n",
              "    (10): Conv2d(128, 256, kernel_size=(3, 3), stride=(1, 1), padding=(1, 1))\n",
              "    (11): ReLU(inplace=True)\n",
              "    (12): Conv2d(256, 256, kernel_size=(3, 3), stride=(1, 1), padding=(1, 1))\n",
              "    (13): ReLU(inplace=True)\n",
              "    (14): Conv2d(256, 256, kernel_size=(3, 3), stride=(1, 1), padding=(1, 1))\n",
              "    (15): ReLU(inplace=True)\n",
              "    (16): MaxPool2d(kernel_size=2, stride=2, padding=0, dilation=1, ceil_mode=False)\n",
              "    (17): Conv2d(256, 512, kernel_size=(3, 3), stride=(1, 1), padding=(1, 1))\n",
              "    (18): ReLU(inplace=True)\n",
              "    (19): Conv2d(512, 512, kernel_size=(3, 3), stride=(1, 1), padding=(1, 1))\n",
              "    (20): ReLU(inplace=True)\n",
              "    (21): Conv2d(512, 512, kernel_size=(3, 3), stride=(1, 1), padding=(1, 1))\n",
              "    (22): ReLU(inplace=True)\n",
              "    (23): MaxPool2d(kernel_size=2, stride=2, padding=0, dilation=1, ceil_mode=False)\n",
              "    (24): Conv2d(512, 512, kernel_size=(3, 3), stride=(1, 1), padding=(1, 1))\n",
              "    (25): ReLU(inplace=True)\n",
              "    (26): Conv2d(512, 512, kernel_size=(3, 3), stride=(1, 1), padding=(1, 1))\n",
              "    (27): ReLU(inplace=True)\n",
              "    (28): Conv2d(512, 512, kernel_size=(3, 3), stride=(1, 1), padding=(1, 1))\n",
              "    (29): ReLU(inplace=True)\n",
              "    (30): MaxPool2d(kernel_size=2, stride=2, padding=0, dilation=1, ceil_mode=False)\n",
              "  )\n",
              "  (avgpool): AdaptiveAvgPool2d(output_size=(7, 7))\n",
              "  (classifier): Sequential(\n",
              "    (0): Linear(in_features=25088, out_features=4096, bias=True)\n",
              "    (1): ReLU(inplace=True)\n",
              "    (2): Dropout(p=0.5, inplace=False)\n",
              "    (3): Linear(in_features=4096, out_features=4096, bias=True)\n",
              "    (4): ReLU(inplace=True)\n",
              "    (5): Dropout(p=0.5, inplace=False)\n",
              "    (6): Linear(in_features=4096, out_features=1000, bias=True)\n",
              "  )\n",
              ")"
            ]
          },
          "metadata": {
            "tags": []
          },
          "execution_count": 4
        }
      ]
    },
    {
      "cell_type": "markdown",
      "metadata": {
        "id": "zxmasMwkMMyz"
      },
      "source": [
        "## Freezing the Model"
      ]
    },
    {
      "cell_type": "markdown",
      "metadata": {
        "id": "A1zewHLJMMyz"
      },
      "source": [
        "First, we are going to freeze the whole model:"
      ]
    },
    {
      "cell_type": "code",
      "metadata": {
        "id": "LqywzrQBMMyz"
      },
      "source": [
        "# Freeze whole model\n",
        "for param in model.parameters():\n",
        "    param.requires_grad = False"
      ],
      "execution_count": 5,
      "outputs": []
    },
    {
      "cell_type": "markdown",
      "metadata": {
        "id": "0eJPCylLiXUf"
      },
      "source": [
        "## Unfreeze classification block layers"
      ]
    },
    {
      "cell_type": "code",
      "metadata": {
        "id": "o62noAsoiW5v"
      },
      "source": [
        "# Unfreeze all layers in classification block\n",
        "\n",
        "# for parameter in model.classifier.parameters():\n",
        "#     parameter.requires_grad = True"
      ],
      "execution_count": 6,
      "outputs": []
    },
    {
      "cell_type": "code",
      "metadata": {
        "colab": {
          "base_uri": "https://localhost:8080/"
        },
        "id": "OYmGK9NBfoxe",
        "outputId": "383537c0-4448-4a12-932b-a60748e3d76c"
      },
      "source": [
        "summary(model, input_size=(3, 224, 224))"
      ],
      "execution_count": 7,
      "outputs": [
        {
          "output_type": "stream",
          "text": [
            "=================================================================\n",
            "Layer (type:depth-idx)                   Param #\n",
            "=================================================================\n",
            "├─Sequential: 1-1                        --\n",
            "|    └─Conv2d: 2-1                       (1,792)\n",
            "|    └─ReLU: 2-2                         --\n",
            "|    └─Conv2d: 2-3                       (36,928)\n",
            "|    └─ReLU: 2-4                         --\n",
            "|    └─MaxPool2d: 2-5                    --\n",
            "|    └─Conv2d: 2-6                       (73,856)\n",
            "|    └─ReLU: 2-7                         --\n",
            "|    └─Conv2d: 2-8                       (147,584)\n",
            "|    └─ReLU: 2-9                         --\n",
            "|    └─MaxPool2d: 2-10                   --\n",
            "|    └─Conv2d: 2-11                      (295,168)\n",
            "|    └─ReLU: 2-12                        --\n",
            "|    └─Conv2d: 2-13                      (590,080)\n",
            "|    └─ReLU: 2-14                        --\n",
            "|    └─Conv2d: 2-15                      (590,080)\n",
            "|    └─ReLU: 2-16                        --\n",
            "|    └─MaxPool2d: 2-17                   --\n",
            "|    └─Conv2d: 2-18                      (1,180,160)\n",
            "|    └─ReLU: 2-19                        --\n",
            "|    └─Conv2d: 2-20                      (2,359,808)\n",
            "|    └─ReLU: 2-21                        --\n",
            "|    └─Conv2d: 2-22                      (2,359,808)\n",
            "|    └─ReLU: 2-23                        --\n",
            "|    └─MaxPool2d: 2-24                   --\n",
            "|    └─Conv2d: 2-25                      (2,359,808)\n",
            "|    └─ReLU: 2-26                        --\n",
            "|    └─Conv2d: 2-27                      (2,359,808)\n",
            "|    └─ReLU: 2-28                        --\n",
            "|    └─Conv2d: 2-29                      (2,359,808)\n",
            "|    └─ReLU: 2-30                        --\n",
            "|    └─MaxPool2d: 2-31                   --\n",
            "├─AdaptiveAvgPool2d: 1-2                 --\n",
            "├─Sequential: 1-3                        --\n",
            "|    └─Linear: 2-32                      (102,764,544)\n",
            "|    └─ReLU: 2-33                        --\n",
            "|    └─Dropout: 2-34                     --\n",
            "|    └─Linear: 2-35                      (16,781,312)\n",
            "|    └─ReLU: 2-36                        --\n",
            "|    └─Dropout: 2-37                     --\n",
            "|    └─Linear: 2-38                      (4,097,000)\n",
            "=================================================================\n",
            "Total params: 138,357,544\n",
            "Trainable params: 0\n",
            "Non-trainable params: 138,357,544\n",
            "=================================================================\n"
          ],
          "name": "stdout"
        },
        {
          "output_type": "execute_result",
          "data": {
            "text/plain": [
              "=================================================================\n",
              "Layer (type:depth-idx)                   Param #\n",
              "=================================================================\n",
              "├─Sequential: 1-1                        --\n",
              "|    └─Conv2d: 2-1                       (1,792)\n",
              "|    └─ReLU: 2-2                         --\n",
              "|    └─Conv2d: 2-3                       (36,928)\n",
              "|    └─ReLU: 2-4                         --\n",
              "|    └─MaxPool2d: 2-5                    --\n",
              "|    └─Conv2d: 2-6                       (73,856)\n",
              "|    └─ReLU: 2-7                         --\n",
              "|    └─Conv2d: 2-8                       (147,584)\n",
              "|    └─ReLU: 2-9                         --\n",
              "|    └─MaxPool2d: 2-10                   --\n",
              "|    └─Conv2d: 2-11                      (295,168)\n",
              "|    └─ReLU: 2-12                        --\n",
              "|    └─Conv2d: 2-13                      (590,080)\n",
              "|    └─ReLU: 2-14                        --\n",
              "|    └─Conv2d: 2-15                      (590,080)\n",
              "|    └─ReLU: 2-16                        --\n",
              "|    └─MaxPool2d: 2-17                   --\n",
              "|    └─Conv2d: 2-18                      (1,180,160)\n",
              "|    └─ReLU: 2-19                        --\n",
              "|    └─Conv2d: 2-20                      (2,359,808)\n",
              "|    └─ReLU: 2-21                        --\n",
              "|    └─Conv2d: 2-22                      (2,359,808)\n",
              "|    └─ReLU: 2-23                        --\n",
              "|    └─MaxPool2d: 2-24                   --\n",
              "|    └─Conv2d: 2-25                      (2,359,808)\n",
              "|    └─ReLU: 2-26                        --\n",
              "|    └─Conv2d: 2-27                      (2,359,808)\n",
              "|    └─ReLU: 2-28                        --\n",
              "|    └─Conv2d: 2-29                      (2,359,808)\n",
              "|    └─ReLU: 2-30                        --\n",
              "|    └─MaxPool2d: 2-31                   --\n",
              "├─AdaptiveAvgPool2d: 1-2                 --\n",
              "├─Sequential: 1-3                        --\n",
              "|    └─Linear: 2-32                      (102,764,544)\n",
              "|    └─ReLU: 2-33                        --\n",
              "|    └─Dropout: 2-34                     --\n",
              "|    └─Linear: 2-35                      (16,781,312)\n",
              "|    └─ReLU: 2-36                        --\n",
              "|    └─Dropout: 2-37                     --\n",
              "|    └─Linear: 2-38                      (4,097,000)\n",
              "=================================================================\n",
              "Total params: 138,357,544\n",
              "Trainable params: 0\n",
              "Non-trainable params: 138,357,544\n",
              "================================================================="
            ]
          },
          "metadata": {
            "tags": []
          },
          "execution_count": 7
        }
      ]
    },
    {
      "cell_type": "markdown",
      "metadata": {
        "id": "vBEp6AEeMMy0"
      },
      "source": [
        "Now, replace the output layer with your own output layer (here, we actually add two more output layers):"
      ]
    },
    {
      "cell_type": "code",
      "metadata": {
        "id": "6cfgg4wtMMy0"
      },
      "source": [
        "model.classifier[6] = nn.Sequential(\n",
        "                      nn.Linear(4096, 512), \n",
        "                      nn.ReLU(), \n",
        "                      nn.Dropout(0.5),\n",
        "                      nn.Linear(512, NUM_CLASSES))\n",
        "#print(model)"
      ],
      "execution_count": 8,
      "outputs": []
    },
    {
      "cell_type": "code",
      "metadata": {
        "colab": {
          "base_uri": "https://localhost:8080/"
        },
        "id": "UWV_G32KcUc4",
        "outputId": "b055515f-c594-4d39-97c0-f768689ddf7d"
      },
      "source": [
        "summary(model, input_size=(3, 224, 224))"
      ],
      "execution_count": 9,
      "outputs": [
        {
          "output_type": "stream",
          "text": [
            "=================================================================\n",
            "Layer (type:depth-idx)                   Param #\n",
            "=================================================================\n",
            "├─Sequential: 1-1                        --\n",
            "|    └─Conv2d: 2-1                       (1,792)\n",
            "|    └─ReLU: 2-2                         --\n",
            "|    └─Conv2d: 2-3                       (36,928)\n",
            "|    └─ReLU: 2-4                         --\n",
            "|    └─MaxPool2d: 2-5                    --\n",
            "|    └─Conv2d: 2-6                       (73,856)\n",
            "|    └─ReLU: 2-7                         --\n",
            "|    └─Conv2d: 2-8                       (147,584)\n",
            "|    └─ReLU: 2-9                         --\n",
            "|    └─MaxPool2d: 2-10                   --\n",
            "|    └─Conv2d: 2-11                      (295,168)\n",
            "|    └─ReLU: 2-12                        --\n",
            "|    └─Conv2d: 2-13                      (590,080)\n",
            "|    └─ReLU: 2-14                        --\n",
            "|    └─Conv2d: 2-15                      (590,080)\n",
            "|    └─ReLU: 2-16                        --\n",
            "|    └─MaxPool2d: 2-17                   --\n",
            "|    └─Conv2d: 2-18                      (1,180,160)\n",
            "|    └─ReLU: 2-19                        --\n",
            "|    └─Conv2d: 2-20                      (2,359,808)\n",
            "|    └─ReLU: 2-21                        --\n",
            "|    └─Conv2d: 2-22                      (2,359,808)\n",
            "|    └─ReLU: 2-23                        --\n",
            "|    └─MaxPool2d: 2-24                   --\n",
            "|    └─Conv2d: 2-25                      (2,359,808)\n",
            "|    └─ReLU: 2-26                        --\n",
            "|    └─Conv2d: 2-27                      (2,359,808)\n",
            "|    └─ReLU: 2-28                        --\n",
            "|    └─Conv2d: 2-29                      (2,359,808)\n",
            "|    └─ReLU: 2-30                        --\n",
            "|    └─MaxPool2d: 2-31                   --\n",
            "├─AdaptiveAvgPool2d: 1-2                 --\n",
            "├─Sequential: 1-3                        --\n",
            "|    └─Linear: 2-32                      (102,764,544)\n",
            "|    └─ReLU: 2-33                        --\n",
            "|    └─Dropout: 2-34                     --\n",
            "|    └─Linear: 2-35                      (16,781,312)\n",
            "|    └─ReLU: 2-36                        --\n",
            "|    └─Dropout: 2-37                     --\n",
            "|    └─Sequential: 2-38                  --\n",
            "|    |    └─Linear: 3-1                  2,097,664\n",
            "|    |    └─ReLU: 3-2                    --\n",
            "|    |    └─Dropout: 3-3                 --\n",
            "|    |    └─Linear: 3-4                  5,130\n",
            "=================================================================\n",
            "Total params: 136,363,338\n",
            "Trainable params: 2,102,794\n",
            "Non-trainable params: 134,260,544\n",
            "=================================================================\n"
          ],
          "name": "stdout"
        },
        {
          "output_type": "execute_result",
          "data": {
            "text/plain": [
              "=================================================================\n",
              "Layer (type:depth-idx)                   Param #\n",
              "=================================================================\n",
              "├─Sequential: 1-1                        --\n",
              "|    └─Conv2d: 2-1                       (1,792)\n",
              "|    └─ReLU: 2-2                         --\n",
              "|    └─Conv2d: 2-3                       (36,928)\n",
              "|    └─ReLU: 2-4                         --\n",
              "|    └─MaxPool2d: 2-5                    --\n",
              "|    └─Conv2d: 2-6                       (73,856)\n",
              "|    └─ReLU: 2-7                         --\n",
              "|    └─Conv2d: 2-8                       (147,584)\n",
              "|    └─ReLU: 2-9                         --\n",
              "|    └─MaxPool2d: 2-10                   --\n",
              "|    └─Conv2d: 2-11                      (295,168)\n",
              "|    └─ReLU: 2-12                        --\n",
              "|    └─Conv2d: 2-13                      (590,080)\n",
              "|    └─ReLU: 2-14                        --\n",
              "|    └─Conv2d: 2-15                      (590,080)\n",
              "|    └─ReLU: 2-16                        --\n",
              "|    └─MaxPool2d: 2-17                   --\n",
              "|    └─Conv2d: 2-18                      (1,180,160)\n",
              "|    └─ReLU: 2-19                        --\n",
              "|    └─Conv2d: 2-20                      (2,359,808)\n",
              "|    └─ReLU: 2-21                        --\n",
              "|    └─Conv2d: 2-22                      (2,359,808)\n",
              "|    └─ReLU: 2-23                        --\n",
              "|    └─MaxPool2d: 2-24                   --\n",
              "|    └─Conv2d: 2-25                      (2,359,808)\n",
              "|    └─ReLU: 2-26                        --\n",
              "|    └─Conv2d: 2-27                      (2,359,808)\n",
              "|    └─ReLU: 2-28                        --\n",
              "|    └─Conv2d: 2-29                      (2,359,808)\n",
              "|    └─ReLU: 2-30                        --\n",
              "|    └─MaxPool2d: 2-31                   --\n",
              "├─AdaptiveAvgPool2d: 1-2                 --\n",
              "├─Sequential: 1-3                        --\n",
              "|    └─Linear: 2-32                      (102,764,544)\n",
              "|    └─ReLU: 2-33                        --\n",
              "|    └─Dropout: 2-34                     --\n",
              "|    └─Linear: 2-35                      (16,781,312)\n",
              "|    └─ReLU: 2-36                        --\n",
              "|    └─Dropout: 2-37                     --\n",
              "|    └─Sequential: 2-38                  --\n",
              "|    |    └─Linear: 3-1                  2,097,664\n",
              "|    |    └─ReLU: 3-2                    --\n",
              "|    |    └─Dropout: 3-3                 --\n",
              "|    |    └─Linear: 3-4                  5,130\n",
              "=================================================================\n",
              "Total params: 136,363,338\n",
              "Trainable params: 2,102,794\n",
              "Non-trainable params: 134,260,544\n",
              "================================================================="
            ]
          },
          "metadata": {
            "tags": []
          },
          "execution_count": 9
        }
      ]
    },
    {
      "cell_type": "code",
      "metadata": {
        "colab": {
          "base_uri": "https://localhost:8080/"
        },
        "id": "Wv_SNw1hayHD",
        "outputId": "9bcd6344-a4e4-4c6e-fffa-49dac2fe52d7"
      },
      "source": [
        "# All parameters\n",
        "all_params = sum(p.numel() for p in model.parameters())\n",
        "print(\"All parameters \", all_params)\n",
        "\n",
        "# Trainable parameters\n",
        "all_train_params = sum(p.numel() for p in model.parameters() if p.requires_grad)\n",
        "print(\"Trainable parameters \", all_train_params)"
      ],
      "execution_count": 10,
      "outputs": [
        {
          "output_type": "stream",
          "text": [
            "All parameters  136363338\n",
            "Trainable parameters  2102794\n"
          ],
          "name": "stdout"
        }
      ]
    },
    {
      "cell_type": "markdown",
      "metadata": {
        "id": "JubYgQPWMMy2"
      },
      "source": [
        "## Training (as usual)"
      ]
    },
    {
      "cell_type": "code",
      "metadata": {
        "id": "bIJIakNQMMy2"
      },
      "source": [
        "model = model.to(DEVICE)\n",
        "optimizer = torch.optim.Adam(model.parameters())"
      ],
      "execution_count": 11,
      "outputs": []
    },
    {
      "cell_type": "code",
      "metadata": {
        "colab": {
          "base_uri": "https://localhost:8080/",
          "height": 245
        },
        "id": "LgKqqI6DMMy2",
        "outputId": "f1a9e5b4-6e5a-487b-8f15-57bdd4d142d0"
      },
      "source": [
        "def compute_accuracy(model, data_loader):\n",
        "    model.eval()\n",
        "    correct_pred, num_examples = 0, 0\n",
        "    for i, (features, targets) in enumerate(data_loader):\n",
        "            \n",
        "        features = features.to(DEVICE)\n",
        "        targets = targets.to(DEVICE)\n",
        "\n",
        "        logits = model(features)\n",
        "        _, predicted_labels = torch.max(logits, 1)\n",
        "        num_examples += targets.size(0)\n",
        "        correct_pred += (predicted_labels == targets).sum()\n",
        "    return correct_pred.float()/num_examples * 100\n",
        "\n",
        "\n",
        "def compute_epoch_loss(model, data_loader):\n",
        "    model.eval()\n",
        "    curr_loss, num_examples = 0., 0\n",
        "    with torch.no_grad():\n",
        "        for features, targets in data_loader:\n",
        "            features = features.to(DEVICE)\n",
        "            targets = targets.to(DEVICE)\n",
        "            logits = model(features)\n",
        "            loss = F.cross_entropy(logits, targets, reduction='sum')\n",
        "            num_examples += targets.size(0)\n",
        "            curr_loss += loss\n",
        "\n",
        "        curr_loss = curr_loss / num_examples\n",
        "        return curr_loss\n",
        "    \n",
        "    \n",
        "\n",
        "start_time = time.time()\n",
        "for epoch in range(num_epochs):\n",
        "    \n",
        "    model.train()\n",
        "    for batch_idx, (features, targets) in enumerate(train_loader):\n",
        "        \n",
        "        features = features.to(DEVICE)\n",
        "        targets = targets.to(DEVICE)\n",
        "            \n",
        "        ### FORWARD AND BACK PROP\n",
        "        logits = model(features)\n",
        "        cost = F.cross_entropy(logits, targets)\n",
        "        optimizer.zero_grad()\n",
        "        \n",
        "        cost.backward()\n",
        "        \n",
        "        ### UPDATE MODEL PARAMETERS\n",
        "        optimizer.step()\n",
        "        \n",
        "        ### LOGGING\n",
        "        if not batch_idx % 50:\n",
        "            print ('Epoch: %03d/%03d | Batch %04d/%04d | Cost: %.4f' \n",
        "                   %(epoch+1, num_epochs, batch_idx, \n",
        "                     len(train_loader), cost))\n",
        "\n",
        "    model.eval()\n",
        "    with torch.set_grad_enabled(False): # save memory during inference\n",
        "        print('Epoch: %03d/%03d | Train: %.3f%% | Loss: %.3f' % (\n",
        "              epoch+1, num_epochs, \n",
        "              compute_accuracy(model, train_loader),\n",
        "              compute_epoch_loss(model, train_loader)))\n",
        "\n",
        "\n",
        "    print('Time elapsed: %.2f min' % ((time.time() - start_time)/60))\n",
        "    \n",
        "print('Total Training Time: %.2f min' % ((time.time() - start_time)/60))"
      ],
      "execution_count": 12,
      "outputs": [
        {
          "output_type": "error",
          "ename": "KeyboardInterrupt",
          "evalue": "ignored",
          "traceback": [
            "\u001b[0;31m---------------------------------------------------------------------------\u001b[0m",
            "\u001b[0;31mKeyboardInterrupt\u001b[0m                         Traceback (most recent call last)",
            "\u001b[0;32m<ipython-input-12-3e31a0854034>\u001b[0m in \u001b[0;36m<module>\u001b[0;34m()\u001b[0m\n\u001b[1;32m     37\u001b[0m     \u001b[0;32mfor\u001b[0m \u001b[0mbatch_idx\u001b[0m\u001b[0;34m,\u001b[0m \u001b[0;34m(\u001b[0m\u001b[0mfeatures\u001b[0m\u001b[0;34m,\u001b[0m \u001b[0mtargets\u001b[0m\u001b[0;34m)\u001b[0m \u001b[0;32min\u001b[0m \u001b[0menumerate\u001b[0m\u001b[0;34m(\u001b[0m\u001b[0mtrain_loader\u001b[0m\u001b[0;34m)\u001b[0m\u001b[0;34m:\u001b[0m\u001b[0;34m\u001b[0m\u001b[0;34m\u001b[0m\u001b[0m\n\u001b[1;32m     38\u001b[0m \u001b[0;34m\u001b[0m\u001b[0m\n\u001b[0;32m---> 39\u001b[0;31m         \u001b[0mfeatures\u001b[0m \u001b[0;34m=\u001b[0m \u001b[0mfeatures\u001b[0m\u001b[0;34m.\u001b[0m\u001b[0mto\u001b[0m\u001b[0;34m(\u001b[0m\u001b[0mDEVICE\u001b[0m\u001b[0;34m)\u001b[0m\u001b[0;34m\u001b[0m\u001b[0;34m\u001b[0m\u001b[0m\n\u001b[0m\u001b[1;32m     40\u001b[0m         \u001b[0mtargets\u001b[0m \u001b[0;34m=\u001b[0m \u001b[0mtargets\u001b[0m\u001b[0;34m.\u001b[0m\u001b[0mto\u001b[0m\u001b[0;34m(\u001b[0m\u001b[0mDEVICE\u001b[0m\u001b[0;34m)\u001b[0m\u001b[0;34m\u001b[0m\u001b[0;34m\u001b[0m\u001b[0m\n\u001b[1;32m     41\u001b[0m \u001b[0;34m\u001b[0m\u001b[0m\n",
            "\u001b[0;31mKeyboardInterrupt\u001b[0m: "
          ]
        }
      ]
    },
    {
      "cell_type": "code",
      "metadata": {
        "colab": {
          "base_uri": "https://localhost:8080/"
        },
        "id": "KYLDHkzNMMy3",
        "outputId": "73cc0cb2-6b18-4c89-dde5-13ea642111e0"
      },
      "source": [
        "with torch.set_grad_enabled(False): # save memory during inference\n",
        "    print('Test accuracy: %.2f%%' % (compute_accuracy(model, test_loader)))"
      ],
      "execution_count": null,
      "outputs": [
        {
          "output_type": "stream",
          "text": [
            "/usr/local/lib/python3.7/dist-packages/torch/utils/data/dataloader.py:477: UserWarning: This DataLoader will create 8 worker processes in total. Our suggested max number of worker in current system is 2, which is smaller than what this DataLoader is going to create. Please be aware that excessive worker creation might get DataLoader running slow or even freeze, lower the worker number to avoid potential slowness/freeze if necessary.\n",
            "  cpuset_checked))\n"
          ],
          "name": "stderr"
        },
        {
          "output_type": "stream",
          "text": [
            "Test accuracy: 82.79%\n"
          ],
          "name": "stdout"
        }
      ]
    },
    {
      "cell_type": "code",
      "metadata": {
        "id": "KZNdgE_qMMy3"
      },
      "source": [
        "%matplotlib inline\n",
        "import matplotlib.pyplot as plt"
      ],
      "execution_count": null,
      "outputs": []
    },
    {
      "cell_type": "code",
      "metadata": {
        "colab": {
          "base_uri": "https://localhost:8080/"
        },
        "id": "esy8ilxlMMy3",
        "outputId": "3362fb5e-674e-47e8-9dc5-863105019bd8"
      },
      "source": [
        "classes = ('plane', 'car', 'bird', 'cat',\n",
        "           'deer', 'dog', 'frog', 'horse', 'ship', 'truck')\n",
        "\n",
        "for batch_idx, (features, targets) in enumerate(test_loader):\n",
        "\n",
        "    features = features\n",
        "    targets = targets\n",
        "    break\n",
        "\n",
        "logits = model(features.to(DEVICE))\n",
        "_, predicted_labels = torch.max(logits, 1)\n",
        "    "
      ],
      "execution_count": null,
      "outputs": [
        {
          "output_type": "stream",
          "text": [
            "/usr/local/lib/python3.7/dist-packages/torch/utils/data/dataloader.py:477: UserWarning: This DataLoader will create 8 worker processes in total. Our suggested max number of worker in current system is 2, which is smaller than what this DataLoader is going to create. Please be aware that excessive worker creation might get DataLoader running slow or even freeze, lower the worker number to avoid potential slowness/freeze if necessary.\n",
            "  cpuset_checked))\n"
          ],
          "name": "stderr"
        }
      ]
    },
    {
      "cell_type": "code",
      "metadata": {
        "id": "KgpVCDHLZgdW",
        "colab": {
          "base_uri": "https://localhost:8080/"
        },
        "outputId": "fb3850cc-7fbb-4335-9df4-a92959c98044"
      },
      "source": [
        "len(predicted_labels)"
      ],
      "execution_count": null,
      "outputs": [
        {
          "output_type": "execute_result",
          "data": {
            "text/plain": [
              "128"
            ]
          },
          "metadata": {
            "tags": []
          },
          "execution_count": 13
        }
      ]
    },
    {
      "cell_type": "code",
      "metadata": {
        "colab": {
          "base_uri": "https://localhost:8080/",
          "height": 152
        },
        "id": "i0YWL0vmMMy4",
        "outputId": "04b228c0-fb82-4ef0-9a36-744b4c00f770"
      },
      "source": [
        "def unnormalize(tensor, mean, std):\n",
        "    for t, m, s in zip(tensor, mean, std):\n",
        "        t.mul_(s).add_(m)\n",
        "    return tensor\n",
        "\n",
        "n_images = 10\n",
        "\n",
        "fig, axes = plt.subplots(nrows=1, ncols=n_images, \n",
        "                         sharex=True, sharey=True, figsize=(20, 2.5))\n",
        "orig_images = features[:n_images]\n",
        "\n",
        "for i in range(n_images):\n",
        "    curr_img = orig_images[i].detach().to(torch.device('cpu'))\n",
        "    curr_img = unnormalize(curr_img,\n",
        "                           torch.tensor([0.485, 0.456, 0.406]), # ImageNet mean and std\n",
        "                           torch.tensor([0.229, 0.224, 0.225])) \n",
        "    curr_img = curr_img.permute((1, 2, 0))\n",
        "    axes[i].imshow(curr_img)\n",
        "    axes[i].set_title(classes[predicted_labels[i]])"
      ],
      "execution_count": null,
      "outputs": [
        {
          "output_type": "display_data",
          "data": {
            "image/png": "[encoded data removed]",
            "text/plain": [
              "<Figure size 1440x180 with 10 Axes>"
            ]
          },
          "metadata": {
            "tags": [],
            "needs_background": "light"
          }
        }
      ]
    },
    {
      "cell_type": "code",
      "metadata": {
        "id": "VbxX9rnyYrOn"
      },
      "source": [
        ""
      ],
      "execution_count": null,
      "outputs": []
    }
  ]
}