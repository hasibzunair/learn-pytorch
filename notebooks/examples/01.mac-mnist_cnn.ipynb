{
 "cells": [
  {
   "cell_type": "markdown",
   "metadata": {
    "colab_type": "text",
    "id": "view-in-github"
   },
   "source": [
    "<a href=\"https://colab.research.google.com/github/hasibzunair/learn-pytorch/blob/master/notebooks/examples/mnist_cnn.ipynb\" target=\"_parent\"><img src=\"https://colab.research.google.com/assets/colab-badge.svg\" alt=\"Open In Colab\"/></a>"
   ]
  },
  {
   "cell_type": "markdown",
   "metadata": {
    "id": "jlsvK1iUeYsk"
   },
   "source": [
    "# Train CNN on MNIST dataset\n",
    "\n",
    "Modified from [https://github.com/rasbt/deeplearning-models/blob/master/pytorch_ipynb/cnn/cnn-lenet5-mnist.ipynb](https://github.com/rasbt/deeplearning-models/blob/master/pytorch_ipynb/cnn/cnn-lenet5-mnist.ipynb)"
   ]
  },
  {
   "cell_type": "markdown",
   "metadata": {
    "id": "MkoGLH_Tj5wn"
   },
   "source": [
    "## Imports"
   ]
  },
  {
   "cell_type": "code",
   "execution_count": 1,
   "metadata": {
    "colab": {
     "base_uri": "https://localhost:8080/"
    },
    "id": "ORj09gnrj5wp",
    "outputId": "2e031407-494c-4218-817d-d3a88daa7845"
   },
   "outputs": [],
   "source": [
    "import os\n",
    "import time\n",
    "\n",
    "import numpy as np\n",
    "import pandas as pd\n",
    "\n",
    "import torch\n",
    "import torch.nn as nn\n",
    "import torch.nn.functional as F\n",
    "from torch.utils.data import DataLoader\n",
    "\n",
    "from torchvision import datasets\n",
    "from torchvision import transforms\n",
    "\n",
    "import matplotlib.pyplot as plt\n",
    "from PIL import Image\n",
    "\n",
    "\n",
    "if torch.cuda.is_available():\n",
    "    torch.backends.cudnn.deterministic = True\n",
    "\n",
    "# Check GPU stuffs\n",
    "# print(torch.cuda.device_count())\n",
    "# print(torch.cuda.get_device_name(0))\n",
    "# print(torch.cuda.is_available())"
   ]
  },
  {
   "cell_type": "markdown",
   "metadata": {
    "id": "I6hghKPxj5w0"
   },
   "source": [
    "## Model Settings"
   ]
  },
  {
   "cell_type": "code",
   "execution_count": 2,
   "metadata": {
    "id": "NnT0sZIwj5wu"
   },
   "outputs": [],
   "source": [
    "##########################\n",
    "### SETTINGS\n",
    "##########################\n",
    "\n",
    "# Hyperparameters\n",
    "RANDOM_SEED = 1\n",
    "LEARNING_RATE = 0.001\n",
    "BATCH_SIZE = 128\n",
    "NUM_EPOCHS = 10\n",
    "\n",
    "# Architecture\n",
    "NUM_FEATURES = 32*32\n",
    "NUM_CLASSES = 10\n",
    "\n",
    "# Other\n",
    "DEVICE = \"cpu\" # can be cuda:1,2 depending on machine configuration\n",
    "GRAYSCALE = True"
   ]
  },
  {
   "cell_type": "markdown",
   "metadata": {
    "id": "HehJ7Wz2IzCQ"
   },
   "source": [
    "### MNIST Dataset"
   ]
  },
  {
   "cell_type": "code",
   "execution_count": 3,
   "metadata": {
    "colab": {
     "base_uri": "https://localhost:8080/",
     "height": 646,
     "referenced_widgets": [
      "422d32fe808a4b78b1126dc91f074647",
      "58439f81dd494a03949e311c87208132",
      "241c59050625452082fbb9a54a85f571",
      "b5dde12ac41e4ed3a8d3511b732b8bb5",
      "34a7e563da184ac781e59960faa297b0",
      "1d671475eb364fb6b8ac6414fd83eba5",
      "3ed5d31e624245d5b6050e56278d6d99",
      "be5aab93885144caa9ab831e2257947f",
      "96df1d5118424cd6a615cb13f7726569",
      "49cd5007cfef422496386c03670acf22",
      "e7c372b97a2a45c998ad07cf3f98f65a",
      "c1742b20043e4c618b3fdd0d02fb7de9",
      "81472b5f791d4d88b710a2fd6bd16e8f",
      "b09ea8e2d21144e5b0c127f154fbc994",
      "503edcdbe193433ba4f4a8250979de46",
      "c97e6ac6d18b44dc9d7ea3df459ce9d8",
      "8afdbee9f87b49b4abae3077ad12c5f7",
      "3d14ebcba62c4c3fbeaa90378aaae2d3",
      "c0d9148a7a4c4b24b1cc1bfaaf2952eb",
      "ef1d65d2a0834d7d9defb12d0d3c3950",
      "0a4d2bb0db004e54bd8dbf0215005225",
      "a0ea51dd62684b1f82c7bd8008cf5204",
      "e7fe05dc900a45d5ab8eb3d02f14d02a",
      "6a550faefd214427827c992b27a34ad4",
      "5df7a35f7d38448ba2d69e233c786b39",
      "a1fc9feccdb641459fb8789f46bdab36",
      "f7e3e7345a2347698e8964703f54b8dd",
      "30f2209b0bce430487cc5bff8e7cc7e4",
      "a47958ce02e746e7b992134dd7081431",
      "1f44de6d726747dfa3000f65134a6d16",
      "0c801f3ca9694d83af95c36fe55167f7",
      "9b575debbdf14215b922a5432a16a237"
     ]
    },
    "id": "oT9VDEgKIzCQ",
    "outputId": "06d4e924-7971-4913-fb64-294069d6e2a6"
   },
   "outputs": [
    {
     "name": "stderr",
     "output_type": "stream",
     "text": [
      "0.2%"
     ]
    },
    {
     "name": "stdout",
     "output_type": "stream",
     "text": [
      "Downloading http://yann.lecun.com/exdb/mnist/train-images-idx3-ubyte.gz\n",
      "Downloading http://yann.lecun.com/exdb/mnist/train-images-idx3-ubyte.gz to ../../datasets/MNIST/raw/train-images-idx3-ubyte.gz\n"
     ]
    },
    {
     "name": "stderr",
     "output_type": "stream",
     "text": [
      "36.4%IOPub message rate exceeded.\n",
      "The Jupyter server will temporarily stop sending output\n",
      "to the client in order to avoid crashing it.\n",
      "To change this limit, set the config variable\n",
      "`--ServerApp.iopub_msg_rate_limit`.\n",
      "\n",
      "Current values:\n",
      "ServerApp.iopub_msg_rate_limit=1000.0 (msgs/sec)\n",
      "ServerApp.rate_limit_window=3.0 (secs)\n",
      "\n",
      "78.0%IOPub message rate exceeded.\n",
      "The Jupyter server will temporarily stop sending output\n",
      "to the client in order to avoid crashing it.\n",
      "To change this limit, set the config variable\n",
      "`--ServerApp.iopub_msg_rate_limit`.\n",
      "\n",
      "Current values:\n",
      "ServerApp.iopub_msg_rate_limit=1000.0 (msgs/sec)\n",
      "ServerApp.rate_limit_window=3.0 (secs)\n",
      "\n",
      "100.0%\n"
     ]
    },
    {
     "name": "stdout",
     "output_type": "stream",
     "text": [
      "Extracting ../../datasets/MNIST/raw/train-images-idx3-ubyte.gz to ../../datasets/MNIST/raw\n"
     ]
    },
    {
     "name": "stderr",
     "output_type": "stream",
     "text": [
      "102.8%"
     ]
    },
    {
     "name": "stdout",
     "output_type": "stream",
     "text": [
      "\n",
      "Downloading http://yann.lecun.com/exdb/mnist/train-labels-idx1-ubyte.gz\n",
      "Downloading http://yann.lecun.com/exdb/mnist/train-labels-idx1-ubyte.gz to ../../datasets/MNIST/raw/train-labels-idx1-ubyte.gz\n",
      "Extracting ../../datasets/MNIST/raw/train-labels-idx1-ubyte.gz to ../../datasets/MNIST/raw\n",
      "\n",
      "Downloading http://yann.lecun.com/exdb/mnist/t10k-images-idx3-ubyte.gz\n",
      "Downloading http://yann.lecun.com/exdb/mnist/t10k-images-idx3-ubyte.gz to ../../datasets/MNIST/raw/t10k-images-idx3-ubyte.gz\n"
     ]
    },
    {
     "name": "stderr",
     "output_type": "stream",
     "text": [
      "\n",
      "100.0%\n"
     ]
    },
    {
     "name": "stdout",
     "output_type": "stream",
     "text": [
      "Extracting ../../datasets/MNIST/raw/t10k-images-idx3-ubyte.gz to ../../datasets/MNIST/raw\n",
      "\n",
      "Downloading http://yann.lecun.com/exdb/mnist/t10k-labels-idx1-ubyte.gz\n",
      "Downloading http://yann.lecun.com/exdb/mnist/t10k-labels-idx1-ubyte.gz to ../../datasets/MNIST/raw/t10k-labels-idx1-ubyte.gz\n"
     ]
    },
    {
     "name": "stderr",
     "output_type": "stream",
     "text": [
      "112.7%"
     ]
    },
    {
     "name": "stdout",
     "output_type": "stream",
     "text": [
      "Extracting ../../datasets/MNIST/raw/t10k-labels-idx1-ubyte.gz to ../../datasets/MNIST/raw\n",
      "\n",
      "Image batch dimensions: torch.Size([128, 1, 32, 32])\n",
      "Image label dimensions: torch.Size([128])\n"
     ]
    },
    {
     "name": "stderr",
     "output_type": "stream",
     "text": [
      "\n",
      "/Users/hasibzunair/anaconda3/envs/comp6321/lib/python3.8/site-packages/torchvision/datasets/mnist.py:498: UserWarning: The given NumPy array is not writeable, and PyTorch does not support non-writeable tensors. This means you can write to the underlying (supposedly non-writeable) NumPy array using the tensor. You may want to copy the array to protect its data or make it writeable before converting it to a tensor. This type of warning will be suppressed for the rest of this program. (Triggered internally at  /Users/distiller/project/conda/conda-bld/pytorch_1623459044803/work/torch/csrc/utils/tensor_numpy.cpp:180.)\n",
      "  return torch.from_numpy(parsed.astype(m[2], copy=False)).view(*s)\n"
     ]
    }
   ],
   "source": [
    "##########################\n",
    "### MNIST DATASET\n",
    "##########################\n",
    "\n",
    "resize_transform = transforms.Compose([transforms.Resize((32, 32)),\n",
    "                                       transforms.ToTensor()])\n",
    "# transforms.ToTensor() scales input images\n",
    "# to 0-1 range\n",
    "\n",
    "\n",
    "train_dataset = datasets.MNIST(root='../../datasets', \n",
    "                               train=True, \n",
    "                               transform=resize_transform,\n",
    "                               download=True)\n",
    "\n",
    "test_dataset = datasets.MNIST(root='../../datasets', \n",
    "                              train=False, \n",
    "                              transform=resize_transform)\n",
    "\n",
    "\n",
    "train_loader = DataLoader(dataset=train_dataset, \n",
    "                          batch_size=BATCH_SIZE, \n",
    "                          shuffle=True)\n",
    "\n",
    "test_loader = DataLoader(dataset=test_dataset, \n",
    "                         batch_size=BATCH_SIZE, \n",
    "                         shuffle=False)\n",
    "\n",
    "# Checking the dataset\n",
    "for images, labels in train_loader:  \n",
    "    print('Image batch dimensions:', images.shape)\n",
    "    print('Image label dimensions:', labels.shape)\n",
    "    break"
   ]
  },
  {
   "cell_type": "markdown",
   "metadata": {
    "id": "8QvUO02TLR9d"
   },
   "source": [
    "### Show image and label"
   ]
  },
  {
   "cell_type": "code",
   "execution_count": 4,
   "metadata": {
    "id": "ECX4H_SYLRaq"
   },
   "outputs": [],
   "source": [
    "def imshow(img, label):\n",
    "  # Convert to numpy\n",
    "  img = img.numpy()\n",
    "  # Make to w,h from w,h,1\n",
    "  img = img.squeeze()\n",
    "  # Plot\n",
    "  plt.imshow(img)\n",
    "  plt.title(\"This is a {}\".format(label))"
   ]
  },
  {
   "cell_type": "code",
   "execution_count": 5,
   "metadata": {
    "colab": {
     "base_uri": "https://localhost:8080/"
    },
    "id": "eXSd_l0eLXGd",
    "outputId": "022667d5-6a5c-467b-9f08-fa522bbdb865"
   },
   "outputs": [
    {
     "data": {
      "text/plain": [
       "(torch.Size([128, 1, 32, 32]), torch.Size([128]))"
      ]
     },
     "execution_count": 5,
     "metadata": {},
     "output_type": "execute_result"
    }
   ],
   "source": [
    "# get some random training images\n",
    "x, y = next(iter(train_loader)) # channels first!\n",
    "x.shape, y.shape"
   ]
  },
  {
   "cell_type": "code",
   "execution_count": 6,
   "metadata": {
    "colab": {
     "base_uri": "https://localhost:8080/",
     "height": 281
    },
    "id": "ZIEGLoGnLXJE",
    "outputId": "3e917260-0978-47ba-cf41-6611cc0209d0"
   },
   "outputs": [
    {
     "data": {
      "image/png": "[encoded data removed]",
      "text/plain": [
       "<Figure size 432x288 with 1 Axes>"
      ]
     },
     "metadata": {
      "needs_background": "light"
     },
     "output_type": "display_data"
    }
   ],
   "source": [
    "idx = 22\n",
    "imshow(x[idx], y[idx])"
   ]
  },
  {
   "cell_type": "markdown",
   "metadata": {
    "id": "WGWhdFENKpKG"
   },
   "source": [
    "### Training loop"
   ]
  },
  {
   "cell_type": "code",
   "execution_count": 7,
   "metadata": {
    "colab": {
     "base_uri": "https://localhost:8080/"
    },
    "id": "Kpa_6fJaIzCS",
    "outputId": "18dc0dba-853a-4be3-a36b-f16ece88a4e3"
   },
   "outputs": [
    {
     "name": "stdout",
     "output_type": "stream",
     "text": [
      "Epoch: 1 | Batch index: 0 | Batch size: 128\n",
      "Epoch: 2 | Batch index: 0 | Batch size: 128\n",
      "Epoch: 3 | Batch index: 0 | Batch size: 128\n",
      "Epoch: 4 | Batch index: 0 | Batch size: 128\n",
      "Epoch: 5 | Batch index: 0 | Batch size: 128\n"
     ]
    }
   ],
   "source": [
    "# init device and seed\n",
    "device = torch.device(DEVICE)\n",
    "torch.manual_seed(0)\n",
    "\n",
    "# iterate over epochs\n",
    "for epoch in range(5):\n",
    "\n",
    "    # iterate over each batch of the dataset\n",
    "    for batch_idx, (x, y) in enumerate(train_loader):\n",
    "        \n",
    "        print('Epoch:', epoch+1, end='')\n",
    "        print(' | Batch index:', batch_idx, end='')\n",
    "        print(' | Batch size:', y.size()[0])\n",
    "        \n",
    "        # Send data to GPU\n",
    "        x = x.to(device)\n",
    "        y = y.to(device)\n",
    "\n",
    "        # Do stuffs here\n",
    "        break"
   ]
  },
  {
   "cell_type": "markdown",
   "metadata": {
    "id": "y99F0qFfgliI"
   },
   "source": [
    "### Model"
   ]
  },
  {
   "cell_type": "code",
   "execution_count": 8,
   "metadata": {
    "id": "WKvhKQo_IzCT"
   },
   "outputs": [],
   "source": [
    "##########################\n",
    "### MODEL\n",
    "##########################\n",
    "\n",
    "\n",
    "class LeNet5(nn.Module):\n",
    "\n",
    "    def __init__(self, num_classes, grayscale=False):\n",
    "        super(LeNet5, self).__init__()\n",
    "        \n",
    "        self.grayscale = grayscale # True\n",
    "        self.num_classes = num_classes # 10\n",
    "\n",
    "        if self.grayscale:\n",
    "            in_channels = 1\n",
    "        else:\n",
    "            in_channels = 3\n",
    "\n",
    "        # define feature extractor\n",
    "        self.features = nn.Sequential(\n",
    "            # seriues of conv, activation, maxpool layers\n",
    "            nn.Conv2d(in_channels, 6, kernel_size=5), # 6 is number of kernels \n",
    "            nn.Tanh(),\n",
    "            nn.MaxPool2d(kernel_size=2),\n",
    "            nn.Conv2d(6, 16, kernel_size=5),\n",
    "            nn.Tanh(),\n",
    "            nn.MaxPool2d(kernel_size=2)\n",
    "        )\n",
    "\n",
    "        # input features to the linear layer is defined by the dimensions \n",
    "        # of the activation coming from the previous layer \n",
    "        flattened = 16*5*5 # channels * height * width\n",
    "\n",
    "        # define classifier head\n",
    "        self.classifier = nn.Sequential(\n",
    "            nn.Linear(flattened, 120),\n",
    "            nn.Tanh(),\n",
    "            nn.Linear(120, 84),\n",
    "            nn.Tanh(),\n",
    "            nn.Linear(84, num_classes),\n",
    "        )\n",
    "\n",
    "\n",
    "    def forward(self, x):\n",
    "        x = self.features(x)\n",
    "        x = torch.flatten(x, 1) # x becomes shape (batch size, 16*5*5)\n",
    "        logits = self.classifier(x)\n",
    "        probas = F.softmax(logits, dim=1)\n",
    "        return logits, probas"
   ]
  },
  {
   "cell_type": "code",
   "execution_count": 9,
   "metadata": {
    "colab": {
     "base_uri": "https://localhost:8080/"
    },
    "id": "_lza9t_uj5w1",
    "outputId": "dfe1f52d-e4c4-4431-f9b6-491fc825a29c"
   },
   "outputs": [
    {
     "name": "stdout",
     "output_type": "stream",
     "text": [
      "LeNet5(\n",
      "  (features): Sequential(\n",
      "    (0): Conv2d(1, 6, kernel_size=(5, 5), stride=(1, 1))\n",
      "    (1): Tanh()\n",
      "    (2): MaxPool2d(kernel_size=2, stride=2, padding=0, dilation=1, ceil_mode=False)\n",
      "    (3): Conv2d(6, 16, kernel_size=(5, 5), stride=(1, 1))\n",
      "    (4): Tanh()\n",
      "    (5): MaxPool2d(kernel_size=2, stride=2, padding=0, dilation=1, ceil_mode=False)\n",
      "  )\n",
      "  (classifier): Sequential(\n",
      "    (0): Linear(in_features=400, out_features=120, bias=True)\n",
      "    (1): Tanh()\n",
      "    (2): Linear(in_features=120, out_features=84, bias=True)\n",
      "    (3): Tanh()\n",
      "    (4): Linear(in_features=84, out_features=10, bias=True)\n",
      "  )\n",
      ")\n"
     ]
    }
   ],
   "source": [
    "torch.manual_seed(RANDOM_SEED)\n",
    "\n",
    "model = LeNet5(NUM_CLASSES, GRAYSCALE)\n",
    "model.to(DEVICE)\n",
    "print(model)\n",
    "\n",
    "optimizer = torch.optim.Adam(model.parameters(), lr=LEARNING_RATE)  "
   ]
  },
  {
   "cell_type": "markdown",
   "metadata": {
    "id": "D0Z0FykAL5kk"
   },
   "source": [
    "### How many params to train?\n"
   ]
  },
  {
   "cell_type": "code",
   "execution_count": 10,
   "metadata": {
    "colab": {
     "base_uri": "https://localhost:8080/"
    },
    "id": "i6QrAqx6L4-w",
    "outputId": "1195d067-ab35-479f-8245-8bfc99e862a1"
   },
   "outputs": [
    {
     "name": "stdout",
     "output_type": "stream",
     "text": [
      "All parameters  61706\n",
      "Trainable parameters  61706\n"
     ]
    }
   ],
   "source": [
    "# All parameters\n",
    "all_params = sum(p.numel() for p in model.parameters())\n",
    "print(\"All parameters \", all_params)\n",
    "\n",
    "# Trainable parameters\n",
    "all_train_params = sum(p.numel() for p in model.parameters() if p.requires_grad)\n",
    "print(\"Trainable parameters \", all_train_params)"
   ]
  },
  {
   "cell_type": "markdown",
   "metadata": {
    "id": "RAodboScj5w6"
   },
   "source": [
    "## Training"
   ]
  },
  {
   "cell_type": "code",
   "execution_count": 11,
   "metadata": {
    "colab": {
     "base_uri": "https://localhost:8080/"
    },
    "id": "Dzh3ROmRj5w7",
    "outputId": "ded2f3a2-9ae6-4e7d-cda4-29ef0914691f"
   },
   "outputs": [
    {
     "name": "stderr",
     "output_type": "stream",
     "text": [
      "/Users/hasibzunair/anaconda3/envs/comp6321/lib/python3.8/site-packages/torch/nn/functional.py:718: UserWarning: Named tensors and all their associated APIs are an experimental feature and subject to change. Please do not use them for anything important until they are released as stable. (Triggered internally at  /Users/distiller/project/conda/conda-bld/pytorch_1623459044803/work/c10/core/TensorImpl.h:1156.)\n",
      "  return torch.max_pool2d(input, kernel_size, stride, padding, dilation, ceil_mode)\n"
     ]
    },
    {
     "name": "stdout",
     "output_type": "stream",
     "text": [
      "Epoch: 001/010 | Batch 0000/0469 | Cost: 2.3056\n",
      "Epoch: 001/010 | Batch 0050/0469 | Cost: 0.5722\n",
      "Epoch: 001/010 | Batch 0100/0469 | Cost: 0.2986\n",
      "Epoch: 001/010 | Batch 0150/0469 | Cost: 0.2654\n",
      "Epoch: 001/010 | Batch 0200/0469 | Cost: 0.2660\n",
      "Epoch: 001/010 | Batch 0250/0469 | Cost: 0.1107\n",
      "Epoch: 001/010 | Batch 0300/0469 | Cost: 0.2027\n",
      "Epoch: 001/010 | Batch 0350/0469 | Cost: 0.1334\n",
      "Epoch: 001/010 | Batch 0400/0469 | Cost: 0.1609\n",
      "Epoch: 001/010 | Batch 0450/0469 | Cost: 0.0795\n",
      "Epoch: 001/010 | Validation: 97.043%\n",
      "Time elapsed: 0.42 min\n",
      "Epoch: 002/010 | Batch 0000/0469 | Cost: 0.1570\n",
      "Epoch: 002/010 | Batch 0050/0469 | Cost: 0.0803\n",
      "Epoch: 002/010 | Batch 0100/0469 | Cost: 0.0452\n",
      "Epoch: 002/010 | Batch 0150/0469 | Cost: 0.0685\n",
      "Epoch: 002/010 | Batch 0200/0469 | Cost: 0.1666\n",
      "Epoch: 002/010 | Batch 0250/0469 | Cost: 0.1194\n",
      "Epoch: 002/010 | Batch 0300/0469 | Cost: 0.1153\n",
      "Epoch: 002/010 | Batch 0350/0469 | Cost: 0.0416\n",
      "Epoch: 002/010 | Batch 0400/0469 | Cost: 0.1264\n",
      "Epoch: 002/010 | Batch 0450/0469 | Cost: 0.0465\n",
      "Epoch: 002/010 | Validation: 98.532%\n",
      "Time elapsed: 0.86 min\n",
      "Epoch: 003/010 | Batch 0000/0469 | Cost: 0.0078\n",
      "Epoch: 003/010 | Batch 0050/0469 | Cost: 0.0679\n",
      "Epoch: 003/010 | Batch 0100/0469 | Cost: 0.0736\n",
      "Epoch: 003/010 | Batch 0150/0469 | Cost: 0.0674\n",
      "Epoch: 003/010 | Batch 0200/0469 | Cost: 0.0921\n",
      "Epoch: 003/010 | Batch 0250/0469 | Cost: 0.0989\n",
      "Epoch: 003/010 | Batch 0300/0469 | Cost: 0.0311\n",
      "Epoch: 003/010 | Batch 0350/0469 | Cost: 0.0567\n",
      "Epoch: 003/010 | Batch 0400/0469 | Cost: 0.0500\n",
      "Epoch: 003/010 | Batch 0450/0469 | Cost: 0.0783\n",
      "Epoch: 003/010 | Validation: 99.027%\n",
      "Time elapsed: 1.28 min\n",
      "Epoch: 004/010 | Batch 0000/0469 | Cost: 0.0427\n",
      "Epoch: 004/010 | Batch 0050/0469 | Cost: 0.0494\n",
      "Epoch: 004/010 | Batch 0100/0469 | Cost: 0.0653\n",
      "Epoch: 004/010 | Batch 0150/0469 | Cost: 0.0687\n",
      "Epoch: 004/010 | Batch 0200/0469 | Cost: 0.0800\n",
      "Epoch: 004/010 | Batch 0250/0469 | Cost: 0.0283\n",
      "Epoch: 004/010 | Batch 0300/0469 | Cost: 0.0625\n",
      "Epoch: 004/010 | Batch 0350/0469 | Cost: 0.0218\n",
      "Epoch: 004/010 | Batch 0400/0469 | Cost: 0.0209\n",
      "Epoch: 004/010 | Batch 0450/0469 | Cost: 0.0710\n",
      "Epoch: 004/010 | Validation: 99.080%\n",
      "Time elapsed: 1.70 min\n",
      "Epoch: 005/010 | Batch 0000/0469 | Cost: 0.0224\n",
      "Epoch: 005/010 | Batch 0050/0469 | Cost: 0.0217\n",
      "Epoch: 005/010 | Batch 0100/0469 | Cost: 0.0086\n",
      "Epoch: 005/010 | Batch 0150/0469 | Cost: 0.0162\n",
      "Epoch: 005/010 | Batch 0200/0469 | Cost: 0.0323\n",
      "Epoch: 005/010 | Batch 0250/0469 | Cost: 0.0714\n",
      "Epoch: 005/010 | Batch 0300/0469 | Cost: 0.0070\n",
      "Epoch: 005/010 | Batch 0350/0469 | Cost: 0.0279\n",
      "Epoch: 005/010 | Batch 0400/0469 | Cost: 0.0201\n",
      "Epoch: 005/010 | Batch 0450/0469 | Cost: 0.0326\n",
      "Epoch: 005/010 | Validation: 99.425%\n",
      "Time elapsed: 2.15 min\n",
      "Epoch: 006/010 | Batch 0000/0469 | Cost: 0.0142\n",
      "Epoch: 006/010 | Batch 0050/0469 | Cost: 0.0230\n",
      "Epoch: 006/010 | Batch 0100/0469 | Cost: 0.0616\n",
      "Epoch: 006/010 | Batch 0150/0469 | Cost: 0.0060\n",
      "Epoch: 006/010 | Batch 0200/0469 | Cost: 0.0014\n",
      "Epoch: 006/010 | Batch 0250/0469 | Cost: 0.0559\n",
      "Epoch: 006/010 | Batch 0300/0469 | Cost: 0.0221\n",
      "Epoch: 006/010 | Batch 0350/0469 | Cost: 0.0127\n",
      "Epoch: 006/010 | Batch 0400/0469 | Cost: 0.0289\n",
      "Epoch: 006/010 | Batch 0450/0469 | Cost: 0.0107\n",
      "Epoch: 006/010 | Validation: 99.440%\n",
      "Time elapsed: 2.58 min\n",
      "Epoch: 007/010 | Batch 0000/0469 | Cost: 0.0332\n",
      "Epoch: 007/010 | Batch 0050/0469 | Cost: 0.0125\n",
      "Epoch: 007/010 | Batch 0100/0469 | Cost: 0.0062\n",
      "Epoch: 007/010 | Batch 0150/0469 | Cost: 0.0110\n",
      "Epoch: 007/010 | Batch 0200/0469 | Cost: 0.0128\n",
      "Epoch: 007/010 | Batch 0250/0469 | Cost: 0.0607\n",
      "Epoch: 007/010 | Batch 0300/0469 | Cost: 0.0159\n",
      "Epoch: 007/010 | Batch 0350/0469 | Cost: 0.0054\n",
      "Epoch: 007/010 | Batch 0400/0469 | Cost: 0.0129\n",
      "Epoch: 007/010 | Batch 0450/0469 | Cost: 0.0147\n",
      "Epoch: 007/010 | Validation: 99.652%\n",
      "Time elapsed: 3.01 min\n",
      "Epoch: 008/010 | Batch 0000/0469 | Cost: 0.0193\n",
      "Epoch: 008/010 | Batch 0050/0469 | Cost: 0.0341\n",
      "Epoch: 008/010 | Batch 0100/0469 | Cost: 0.0146\n",
      "Epoch: 008/010 | Batch 0150/0469 | Cost: 0.0012\n",
      "Epoch: 008/010 | Batch 0200/0469 | Cost: 0.0065\n",
      "Epoch: 008/010 | Batch 0250/0469 | Cost: 0.0233\n",
      "Epoch: 008/010 | Batch 0300/0469 | Cost: 0.0044\n",
      "Epoch: 008/010 | Batch 0350/0469 | Cost: 0.0118\n",
      "Epoch: 008/010 | Batch 0400/0469 | Cost: 0.0071\n",
      "Epoch: 008/010 | Batch 0450/0469 | Cost: 0.0042\n",
      "Epoch: 008/010 | Validation: 99.582%\n",
      "Time elapsed: 3.47 min\n",
      "Epoch: 009/010 | Batch 0000/0469 | Cost: 0.0030\n",
      "Epoch: 009/010 | Batch 0050/0469 | Cost: 0.0276\n",
      "Epoch: 009/010 | Batch 0100/0469 | Cost: 0.0023\n",
      "Epoch: 009/010 | Batch 0150/0469 | Cost: 0.0029\n",
      "Epoch: 009/010 | Batch 0200/0469 | Cost: 0.0073\n",
      "Epoch: 009/010 | Batch 0250/0469 | Cost: 0.0259\n",
      "Epoch: 009/010 | Batch 0300/0469 | Cost: 0.0135\n",
      "Epoch: 009/010 | Batch 0350/0469 | Cost: 0.0090\n",
      "Epoch: 009/010 | Batch 0400/0469 | Cost: 0.0056\n",
      "Epoch: 009/010 | Batch 0450/0469 | Cost: 0.0199\n",
      "Epoch: 009/010 | Validation: 99.743%\n",
      "Time elapsed: 3.94 min\n",
      "Epoch: 010/010 | Batch 0000/0469 | Cost: 0.0043\n",
      "Epoch: 010/010 | Batch 0050/0469 | Cost: 0.0221\n",
      "Epoch: 010/010 | Batch 0100/0469 | Cost: 0.0017\n",
      "Epoch: 010/010 | Batch 0150/0469 | Cost: 0.0126\n",
      "Epoch: 010/010 | Batch 0200/0469 | Cost: 0.0023\n",
      "Epoch: 010/010 | Batch 0250/0469 | Cost: 0.0054\n",
      "Epoch: 010/010 | Batch 0300/0469 | Cost: 0.0019\n",
      "Epoch: 010/010 | Batch 0350/0469 | Cost: 0.0540\n",
      "Epoch: 010/010 | Batch 0400/0469 | Cost: 0.0073\n",
      "Epoch: 010/010 | Batch 0450/0469 | Cost: 0.0422\n",
      "Epoch: 010/010 | Validation: 99.780%\n",
      "Time elapsed: 4.37 min\n",
      "Total Training Time: 4.37 min\n"
     ]
    }
   ],
   "source": [
    "def compute_accuracy(model, data_loader, device):\n",
    "  \"\"\"Compute acc on the val/test data\"\"\"\n",
    "  correct_pred, num_examples = 0, 0\n",
    "  for i, (features, targets) in enumerate(data_loader):\n",
    "          \n",
    "      features = features.to(device)\n",
    "      targets = targets.to(device)\n",
    "      # inference\n",
    "      logits, probas = model(features)\n",
    "      # argmax raw preds\n",
    "      _, predicted_labels = torch.max(probas, 1)\n",
    "      num_examples += targets.size(0)\n",
    "      correct_pred += (predicted_labels == targets).sum()\n",
    "  return correct_pred.float()/num_examples * 100\n",
    "    \n",
    "\n",
    "# Training looooop\n",
    "start_time = time.time()\n",
    "for epoch in range(NUM_EPOCHS):\n",
    "    # Always set to train\n",
    "    model.train()\n",
    "    # Iterate over dataset\n",
    "    for batch_idx, (features, targets) in enumerate(train_loader):\n",
    "        \n",
    "        # Pass data to GPU\n",
    "        features = features.to(DEVICE)\n",
    "        targets = targets.to(DEVICE)\n",
    "            \n",
    "        ### FORWARD AND BACK PROP\n",
    "\n",
    "        # Forward pass\n",
    "        logits, probas = model(features)\n",
    "        # Compute loss\n",
    "        cost = F.cross_entropy(logits, targets)\n",
    "        # Stop grads from piling up\n",
    "        # Accumulates gradients by default which\n",
    "        # is useful for training RNNs, not so \n",
    "        # much for classifiers, so clear cache of gradients! \n",
    "        optimizer.zero_grad()\n",
    "        # Compute gradients\n",
    "        cost.backward()\n",
    "        \n",
    "        ### UPDATE MODEL PARAMETERS\n",
    "        optimizer.step()\n",
    "        \n",
    "        ### LOGGING\n",
    "        if not batch_idx % 50:\n",
    "            print ('Epoch: %03d/%03d | Batch %04d/%04d | Cost: %.4f' \n",
    "                   %(epoch+1, NUM_EPOCHS, batch_idx, \n",
    "                     len(train_loader), cost))\n",
    "\n",
    "    # Validation\n",
    "    model.eval()\n",
    "    with torch.set_grad_enabled(False): # save memory during inference\n",
    "        print('Epoch: %03d/%03d | Validation: %.3f%%' % (\n",
    "              epoch+1, NUM_EPOCHS, \n",
    "              compute_accuracy(model, train_loader, device=DEVICE)))\n",
    "        \n",
    "    print('Time elapsed: %.2f min' % ((time.time() - start_time)/60))\n",
    "    \n",
    "print('Total Training Time: %.2f min' % ((time.time() - start_time)/60))"
   ]
  },
  {
   "cell_type": "markdown",
   "metadata": {
    "id": "paaeEQHQj5xC"
   },
   "source": [
    "## Evaluation"
   ]
  },
  {
   "cell_type": "code",
   "execution_count": 12,
   "metadata": {
    "colab": {
     "base_uri": "https://localhost:8080/"
    },
    "id": "gzQMWKq5j5xE",
    "outputId": "7af5e27b-f9ff-4908-ee25-e97e223dceac"
   },
   "outputs": [
    {
     "name": "stdout",
     "output_type": "stream",
     "text": [
      "Test accuracy: 98.80%\n"
     ]
    }
   ],
   "source": [
    "with torch.set_grad_enabled(False): # save memory during inference\n",
    "    print('Test accuracy: %.2f%%' % (compute_accuracy(model, test_loader, device=DEVICE)))"
   ]
  },
  {
   "cell_type": "code",
   "execution_count": 13,
   "metadata": {
    "colab": {
     "base_uri": "https://localhost:8080/",
     "height": 266
    },
    "id": "538Gi2SPIzCV",
    "outputId": "fd8515e2-c1fb-4a9d-9aed-7dd310ef8de7"
   },
   "outputs": [
    {
     "data": {
      "image/png": "[encoded data removed]",
      "text/plain": [
       "<Figure size 432x288 with 1 Axes>"
      ]
     },
     "metadata": {
      "needs_background": "light"
     },
     "output_type": "display_data"
    }
   ],
   "source": [
    "for batch_idx, (features, targets) in enumerate(test_loader):\n",
    "\n",
    "    features = features\n",
    "    targets = targets\n",
    "    break\n",
    "\n",
    "    \n",
    "nhwc_img = np.transpose(features[0], axes=(1, 2, 0))\n",
    "nhw_img = np.squeeze(nhwc_img.numpy(), axis=2)\n",
    "plt.imshow(nhw_img, cmap='Greys');"
   ]
  },
  {
   "cell_type": "code",
   "execution_count": 14,
   "metadata": {
    "colab": {
     "base_uri": "https://localhost:8080/"
    },
    "id": "C9i7hhjGv8Nw",
    "outputId": "070bb857-f599-491f-dbc2-850d8517e74e"
   },
   "outputs": [
    {
     "data": {
      "text/plain": [
       "(torch.Size([128, 1, 32, 32]), torch.Size([128]))"
      ]
     },
     "execution_count": 14,
     "metadata": {},
     "output_type": "execute_result"
    }
   ],
   "source": [
    "features.shape, targets.shape"
   ]
  },
  {
   "cell_type": "code",
   "execution_count": 15,
   "metadata": {
    "colab": {
     "base_uri": "https://localhost:8080/"
    },
    "id": "0Ln81PhnIzCW",
    "outputId": "8b801df7-b53d-4ef4-8704-da9ae0be96be"
   },
   "outputs": [
    {
     "name": "stdout",
     "output_type": "stream",
     "text": [
      "Probability 7 99.99%\n"
     ]
    }
   ],
   "source": [
    "model.eval()\n",
    "logits, probas = model(features.to(device)[0, None])\n",
    "print('Probability 7 %.2f%%' % (probas[0][7]*100))"
   ]
  },
  {
   "cell_type": "code",
   "execution_count": null,
   "metadata": {
    "id": "nYOS1ON9wOPD"
   },
   "outputs": [],
   "source": []
  }
 ],
 "metadata": {
  "accelerator": "GPU",
  "colab": {
   "collapsed_sections": [],
   "include_colab_link": true,
   "name": "mnist_cnn.ipynb",
   "provenance": []
  },
  "kernelspec": {
   "display_name": "Python 3 (ipykernel)",
   "language": "python",
   "name": "python3"
  },
  "language_info": {
   "codemirror_mode": {
    "name": "ipython",
    "version": 3
   },
   "file_extension": ".py",
   "mimetype": "text/x-python",
   "name": "python",
   "nbconvert_exporter": "python",
   "pygments_lexer": "ipython3",
   "version": "3.8.11"
  },
  "toc": {
   "nav_menu": {},
   "number_sections": true,
   "sideBar": true,
   "skip_h1_title": false,
   "title_cell": "Table of Contents",
   "title_sidebar": "Contents",
   "toc_cell": true,
   "toc_position": {
    "height": "calc(100% - 180px)",
    "left": "10px",
    "top": "150px",
    "width": "371px"
   },
   "toc_section_display": true,
   "toc_window_display": true
  },
  "widgets": {
   "application/vnd.jupyter.widget-state+json": {
    "0a4d2bb0db004e54bd8dbf0215005225": {
     "model_module": "@jupyter-widgets/controls",
     "model_name": "ProgressStyleModel",
     "state": {
      "_model_module": "@jupyter-widgets/controls",
      "_model_module_version": "1.5.0",
      "_model_name": "ProgressStyleModel",
      "_view_count": null,
      "_view_module": "@jupyter-widgets/base",
      "_view_module_version": "1.2.0",
      "_view_name": "StyleView",
      "bar_color": null,
      "description_width": "initial"
     }
    },
    "0c801f3ca9694d83af95c36fe55167f7": {
     "model_module": "@jupyter-widgets/controls",
     "model_name": "DescriptionStyleModel",
     "state": {
      "_model_module": "@jupyter-widgets/controls",
      "_model_module_version": "1.5.0",
      "_model_name": "DescriptionStyleModel",
      "_view_count": null,
      "_view_module": "@jupyter-widgets/base",
      "_view_module_version": "1.2.0",
      "_view_name": "StyleView",
      "description_width": ""
     }
    },
    "1d671475eb364fb6b8ac6414fd83eba5": {
     "model_module": "@jupyter-widgets/base",
     "model_name": "LayoutModel",
     "state": {
      "_model_module": "@jupyter-widgets/base",
      "_model_module_version": "1.2.0",
      "_model_name": "LayoutModel",
      "_view_count": null,
      "_view_module": "@jupyter-widgets/base",
      "_view_module_version": "1.2.0",
      "_view_name": "LayoutView",
      "align_content": null,
      "align_items": null,
      "align_self": null,
      "border": null,
      "bottom": null,
      "display": null,
      "flex": null,
      "flex_flow": null,
      "grid_area": null,
      "grid_auto_columns": null,
      "grid_auto_flow": null,
      "grid_auto_rows": null,
      "grid_column": null,
      "grid_gap": null,
      "grid_row": null,
      "grid_template_areas": null,
      "grid_template_columns": null,
      "grid_template_rows": null,
      "height": null,
      "justify_content": null,
      "justify_items": null,
      "left": null,
      "margin": null,
      "max_height": null,
      "max_width": null,
      "min_height": null,
      "min_width": null,
      "object_fit": null,
      "object_position": null,
      "order": null,
      "overflow": null,
      "overflow_x": null,
      "overflow_y": null,
      "padding": null,
      "right": null,
      "top": null,
      "visibility": null,
      "width": null
     }
    },
    "1f44de6d726747dfa3000f65134a6d16": {
     "model_module": "@jupyter-widgets/base",
     "model_name": "LayoutModel",
     "state": {
      "_model_module": "@jupyter-widgets/base",
      "_model_module_version": "1.2.0",
      "_model_name": "LayoutModel",
      "_view_count": null,
      "_view_module": "@jupyter-widgets/base",
      "_view_module_version": "1.2.0",
      "_view_name": "LayoutView",
      "align_content": null,
      "align_items": null,
      "align_self": null,
      "border": null,
      "bottom": null,
      "display": null,
      "flex": null,
      "flex_flow": null,
      "grid_area": null,
      "grid_auto_columns": null,
      "grid_auto_flow": null,
      "grid_auto_rows": null,
      "grid_column": null,
      "grid_gap": null,
      "grid_row": null,
      "grid_template_areas": null,
      "grid_template_columns": null,
      "grid_template_rows": null,
      "height": null,
      "justify_content": null,
      "justify_items": null,
      "left": null,
      "margin": null,
      "max_height": null,
      "max_width": null,
      "min_height": null,
      "min_width": null,
      "object_fit": null,
      "object_position": null,
      "order": null,
      "overflow": null,
      "overflow_x": null,
      "overflow_y": null,
      "padding": null,
      "right": null,
      "top": null,
      "visibility": null,
      "width": null
     }
    },
    "241c59050625452082fbb9a54a85f571": {
     "model_module": "@jupyter-widgets/controls",
     "model_name": "FloatProgressModel",
     "state": {
      "_dom_classes": [],
      "_model_module": "@jupyter-widgets/controls",
      "_model_module_version": "1.5.0",
      "_model_name": "FloatProgressModel",
      "_view_count": null,
      "_view_module": "@jupyter-widgets/controls",
      "_view_module_version": "1.5.0",
      "_view_name": "ProgressView",
      "bar_style": "success",
      "description": "",
      "description_tooltip": null,
      "layout": "IPY_MODEL_1d671475eb364fb6b8ac6414fd83eba5",
      "max": 9912422,
      "min": 0,
      "orientation": "horizontal",
      "style": "IPY_MODEL_34a7e563da184ac781e59960faa297b0",
      "value": 9912422
     }
    },
    "30f2209b0bce430487cc5bff8e7cc7e4": {
     "model_module": "@jupyter-widgets/controls",
     "model_name": "HTMLModel",
     "state": {
      "_dom_classes": [],
      "_model_module": "@jupyter-widgets/controls",
      "_model_module_version": "1.5.0",
      "_model_name": "HTMLModel",
      "_view_count": null,
      "_view_module": "@jupyter-widgets/controls",
      "_view_module_version": "1.5.0",
      "_view_name": "HTMLView",
      "description": "",
      "description_tooltip": null,
      "layout": "IPY_MODEL_9b575debbdf14215b922a5432a16a237",
      "placeholder": "​",
      "style": "IPY_MODEL_0c801f3ca9694d83af95c36fe55167f7",
      "value": " 5120/? [00:00&lt;00:00, 15024.78it/s]"
     }
    },
    "34a7e563da184ac781e59960faa297b0": {
     "model_module": "@jupyter-widgets/controls",
     "model_name": "ProgressStyleModel",
     "state": {
      "_model_module": "@jupyter-widgets/controls",
      "_model_module_version": "1.5.0",
      "_model_name": "ProgressStyleModel",
      "_view_count": null,
      "_view_module": "@jupyter-widgets/base",
      "_view_module_version": "1.2.0",
      "_view_name": "StyleView",
      "bar_color": null,
      "description_width": "initial"
     }
    },
    "3d14ebcba62c4c3fbeaa90378aaae2d3": {
     "model_module": "@jupyter-widgets/base",
     "model_name": "LayoutModel",
     "state": {
      "_model_module": "@jupyter-widgets/base",
      "_model_module_version": "1.2.0",
      "_model_name": "LayoutModel",
      "_view_count": null,
      "_view_module": "@jupyter-widgets/base",
      "_view_module_version": "1.2.0",
      "_view_name": "LayoutView",
      "align_content": null,
      "align_items": null,
      "align_self": null,
      "border": null,
      "bottom": null,
      "display": null,
      "flex": null,
      "flex_flow": null,
      "grid_area": null,
      "grid_auto_columns": null,
      "grid_auto_flow": null,
      "grid_auto_rows": null,
      "grid_column": null,
      "grid_gap": null,
      "grid_row": null,
      "grid_template_areas": null,
      "grid_template_columns": null,
      "grid_template_rows": null,
      "height": null,
      "justify_content": null,
      "justify_items": null,
      "left": null,
      "margin": null,
      "max_height": null,
      "max_width": null,
      "min_height": null,
      "min_width": null,
      "object_fit": null,
      "object_position": null,
      "order": null,
      "overflow": null,
      "overflow_x": null,
      "overflow_y": null,
      "padding": null,
      "right": null,
      "top": null,
      "visibility": null,
      "width": null
     }
    },
    "3ed5d31e624245d5b6050e56278d6d99": {
     "model_module": "@jupyter-widgets/controls",
     "model_name": "DescriptionStyleModel",
     "state": {
      "_model_module": "@jupyter-widgets/controls",
      "_model_module_version": "1.5.0",
      "_model_name": "DescriptionStyleModel",
      "_view_count": null,
      "_view_module": "@jupyter-widgets/base",
      "_view_module_version": "1.2.0",
      "_view_name": "StyleView",
      "description_width": ""
     }
    },
    "422d32fe808a4b78b1126dc91f074647": {
     "model_module": "@jupyter-widgets/controls",
     "model_name": "HBoxModel",
     "state": {
      "_dom_classes": [],
      "_model_module": "@jupyter-widgets/controls",
      "_model_module_version": "1.5.0",
      "_model_name": "HBoxModel",
      "_view_count": null,
      "_view_module": "@jupyter-widgets/controls",
      "_view_module_version": "1.5.0",
      "_view_name": "HBoxView",
      "box_style": "",
      "children": [
       "IPY_MODEL_241c59050625452082fbb9a54a85f571",
       "IPY_MODEL_b5dde12ac41e4ed3a8d3511b732b8bb5"
      ],
      "layout": "IPY_MODEL_58439f81dd494a03949e311c87208132"
     }
    },
    "49cd5007cfef422496386c03670acf22": {
     "model_module": "@jupyter-widgets/base",
     "model_name": "LayoutModel",
     "state": {
      "_model_module": "@jupyter-widgets/base",
      "_model_module_version": "1.2.0",
      "_model_name": "LayoutModel",
      "_view_count": null,
      "_view_module": "@jupyter-widgets/base",
      "_view_module_version": "1.2.0",
      "_view_name": "LayoutView",
      "align_content": null,
      "align_items": null,
      "align_self": null,
      "border": null,
      "bottom": null,
      "display": null,
      "flex": null,
      "flex_flow": null,
      "grid_area": null,
      "grid_auto_columns": null,
      "grid_auto_flow": null,
      "grid_auto_rows": null,
      "grid_column": null,
      "grid_gap": null,
      "grid_row": null,
      "grid_template_areas": null,
      "grid_template_columns": null,
      "grid_template_rows": null,
      "height": null,
      "justify_content": null,
      "justify_items": null,
      "left": null,
      "margin": null,
      "max_height": null,
      "max_width": null,
      "min_height": null,
      "min_width": null,
      "object_fit": null,
      "object_position": null,
      "order": null,
      "overflow": null,
      "overflow_x": null,
      "overflow_y": null,
      "padding": null,
      "right": null,
      "top": null,
      "visibility": null,
      "width": null
     }
    },
    "503edcdbe193433ba4f4a8250979de46": {
     "model_module": "@jupyter-widgets/controls",
     "model_name": "DescriptionStyleModel",
     "state": {
      "_model_module": "@jupyter-widgets/controls",
      "_model_module_version": "1.5.0",
      "_model_name": "DescriptionStyleModel",
      "_view_count": null,
      "_view_module": "@jupyter-widgets/base",
      "_view_module_version": "1.2.0",
      "_view_name": "StyleView",
      "description_width": ""
     }
    },
    "58439f81dd494a03949e311c87208132": {
     "model_module": "@jupyter-widgets/base",
     "model_name": "LayoutModel",
     "state": {
      "_model_module": "@jupyter-widgets/base",
      "_model_module_version": "1.2.0",
      "_model_name": "LayoutModel",
      "_view_count": null,
      "_view_module": "@jupyter-widgets/base",
      "_view_module_version": "1.2.0",
      "_view_name": "LayoutView",
      "align_content": null,
      "align_items": null,
      "align_self": null,
      "border": null,
      "bottom": null,
      "display": null,
      "flex": null,
      "flex_flow": null,
      "grid_area": null,
      "grid_auto_columns": null,
      "grid_auto_flow": null,
      "grid_auto_rows": null,
      "grid_column": null,
      "grid_gap": null,
      "grid_row": null,
      "grid_template_areas": null,
      "grid_template_columns": null,
      "grid_template_rows": null,
      "height": null,
      "justify_content": null,
      "justify_items": null,
      "left": null,
      "margin": null,
      "max_height": null,
      "max_width": null,
      "min_height": null,
      "min_width": null,
      "object_fit": null,
      "object_position": null,
      "order": null,
      "overflow": null,
      "overflow_x": null,
      "overflow_y": null,
      "padding": null,
      "right": null,
      "top": null,
      "visibility": null,
      "width": null
     }
    },
    "5df7a35f7d38448ba2d69e233c786b39": {
     "model_module": "@jupyter-widgets/controls",
     "model_name": "HBoxModel",
     "state": {
      "_dom_classes": [],
      "_model_module": "@jupyter-widgets/controls",
      "_model_module_version": "1.5.0",
      "_model_name": "HBoxModel",
      "_view_count": null,
      "_view_module": "@jupyter-widgets/controls",
      "_view_module_version": "1.5.0",
      "_view_name": "HBoxView",
      "box_style": "",
      "children": [
       "IPY_MODEL_f7e3e7345a2347698e8964703f54b8dd",
       "IPY_MODEL_30f2209b0bce430487cc5bff8e7cc7e4"
      ],
      "layout": "IPY_MODEL_a1fc9feccdb641459fb8789f46bdab36"
     }
    },
    "6a550faefd214427827c992b27a34ad4": {
     "model_module": "@jupyter-widgets/base",
     "model_name": "LayoutModel",
     "state": {
      "_model_module": "@jupyter-widgets/base",
      "_model_module_version": "1.2.0",
      "_model_name": "LayoutModel",
      "_view_count": null,
      "_view_module": "@jupyter-widgets/base",
      "_view_module_version": "1.2.0",
      "_view_name": "LayoutView",
      "align_content": null,
      "align_items": null,
      "align_self": null,
      "border": null,
      "bottom": null,
      "display": null,
      "flex": null,
      "flex_flow": null,
      "grid_area": null,
      "grid_auto_columns": null,
      "grid_auto_flow": null,
      "grid_auto_rows": null,
      "grid_column": null,
      "grid_gap": null,
      "grid_row": null,
      "grid_template_areas": null,
      "grid_template_columns": null,
      "grid_template_rows": null,
      "height": null,
      "justify_content": null,
      "justify_items": null,
      "left": null,
      "margin": null,
      "max_height": null,
      "max_width": null,
      "min_height": null,
      "min_width": null,
      "object_fit": null,
      "object_position": null,
      "order": null,
      "overflow": null,
      "overflow_x": null,
      "overflow_y": null,
      "padding": null,
      "right": null,
      "top": null,
      "visibility": null,
      "width": null
     }
    },
    "81472b5f791d4d88b710a2fd6bd16e8f": {
     "model_module": "@jupyter-widgets/controls",
     "model_name": "ProgressStyleModel",
     "state": {
      "_model_module": "@jupyter-widgets/controls",
      "_model_module_version": "1.5.0",
      "_model_name": "ProgressStyleModel",
      "_view_count": null,
      "_view_module": "@jupyter-widgets/base",
      "_view_module_version": "1.2.0",
      "_view_name": "StyleView",
      "bar_color": null,
      "description_width": "initial"
     }
    },
    "8afdbee9f87b49b4abae3077ad12c5f7": {
     "model_module": "@jupyter-widgets/controls",
     "model_name": "HBoxModel",
     "state": {
      "_dom_classes": [],
      "_model_module": "@jupyter-widgets/controls",
      "_model_module_version": "1.5.0",
      "_model_name": "HBoxModel",
      "_view_count": null,
      "_view_module": "@jupyter-widgets/controls",
      "_view_module_version": "1.5.0",
      "_view_name": "HBoxView",
      "box_style": "",
      "children": [
       "IPY_MODEL_c0d9148a7a4c4b24b1cc1bfaaf2952eb",
       "IPY_MODEL_ef1d65d2a0834d7d9defb12d0d3c3950"
      ],
      "layout": "IPY_MODEL_3d14ebcba62c4c3fbeaa90378aaae2d3"
     }
    },
    "96df1d5118424cd6a615cb13f7726569": {
     "model_module": "@jupyter-widgets/controls",
     "model_name": "HBoxModel",
     "state": {
      "_dom_classes": [],
      "_model_module": "@jupyter-widgets/controls",
      "_model_module_version": "1.5.0",
      "_model_name": "HBoxModel",
      "_view_count": null,
      "_view_module": "@jupyter-widgets/controls",
      "_view_module_version": "1.5.0",
      "_view_name": "HBoxView",
      "box_style": "",
      "children": [
       "IPY_MODEL_e7c372b97a2a45c998ad07cf3f98f65a",
       "IPY_MODEL_c1742b20043e4c618b3fdd0d02fb7de9"
      ],
      "layout": "IPY_MODEL_49cd5007cfef422496386c03670acf22"
     }
    },
    "9b575debbdf14215b922a5432a16a237": {
     "model_module": "@jupyter-widgets/base",
     "model_name": "LayoutModel",
     "state": {
      "_model_module": "@jupyter-widgets/base",
      "_model_module_version": "1.2.0",
      "_model_name": "LayoutModel",
      "_view_count": null,
      "_view_module": "@jupyter-widgets/base",
      "_view_module_version": "1.2.0",
      "_view_name": "LayoutView",
      "align_content": null,
      "align_items": null,
      "align_self": null,
      "border": null,
      "bottom": null,
      "display": null,
      "flex": null,
      "flex_flow": null,
      "grid_area": null,
      "grid_auto_columns": null,
      "grid_auto_flow": null,
      "grid_auto_rows": null,
      "grid_column": null,
      "grid_gap": null,
      "grid_row": null,
      "grid_template_areas": null,
      "grid_template_columns": null,
      "grid_template_rows": null,
      "height": null,
      "justify_content": null,
      "justify_items": null,
      "left": null,
      "margin": null,
      "max_height": null,
      "max_width": null,
      "min_height": null,
      "min_width": null,
      "object_fit": null,
      "object_position": null,
      "order": null,
      "overflow": null,
      "overflow_x": null,
      "overflow_y": null,
      "padding": null,
      "right": null,
      "top": null,
      "visibility": null,
      "width": null
     }
    },
    "a0ea51dd62684b1f82c7bd8008cf5204": {
     "model_module": "@jupyter-widgets/base",
     "model_name": "LayoutModel",
     "state": {
      "_model_module": "@jupyter-widgets/base",
      "_model_module_version": "1.2.0",
      "_model_name": "LayoutModel",
      "_view_count": null,
      "_view_module": "@jupyter-widgets/base",
      "_view_module_version": "1.2.0",
      "_view_name": "LayoutView",
      "align_content": null,
      "align_items": null,
      "align_self": null,
      "border": null,
      "bottom": null,
      "display": null,
      "flex": null,
      "flex_flow": null,
      "grid_area": null,
      "grid_auto_columns": null,
      "grid_auto_flow": null,
      "grid_auto_rows": null,
      "grid_column": null,
      "grid_gap": null,
      "grid_row": null,
      "grid_template_areas": null,
      "grid_template_columns": null,
      "grid_template_rows": null,
      "height": null,
      "justify_content": null,
      "justify_items": null,
      "left": null,
      "margin": null,
      "max_height": null,
      "max_width": null,
      "min_height": null,
      "min_width": null,
      "object_fit": null,
      "object_position": null,
      "order": null,
      "overflow": null,
      "overflow_x": null,
      "overflow_y": null,
      "padding": null,
      "right": null,
      "top": null,
      "visibility": null,
      "width": null
     }
    },
    "a1fc9feccdb641459fb8789f46bdab36": {
     "model_module": "@jupyter-widgets/base",
     "model_name": "LayoutModel",
     "state": {
      "_model_module": "@jupyter-widgets/base",
      "_model_module_version": "1.2.0",
      "_model_name": "LayoutModel",
      "_view_count": null,
      "_view_module": "@jupyter-widgets/base",
      "_view_module_version": "1.2.0",
      "_view_name": "LayoutView",
      "align_content": null,
      "align_items": null,
      "align_self": null,
      "border": null,
      "bottom": null,
      "display": null,
      "flex": null,
      "flex_flow": null,
      "grid_area": null,
      "grid_auto_columns": null,
      "grid_auto_flow": null,
      "grid_auto_rows": null,
      "grid_column": null,
      "grid_gap": null,
      "grid_row": null,
      "grid_template_areas": null,
      "grid_template_columns": null,
      "grid_template_rows": null,
      "height": null,
      "justify_content": null,
      "justify_items": null,
      "left": null,
      "margin": null,
      "max_height": null,
      "max_width": null,
      "min_height": null,
      "min_width": null,
      "object_fit": null,
      "object_position": null,
      "order": null,
      "overflow": null,
      "overflow_x": null,
      "overflow_y": null,
      "padding": null,
      "right": null,
      "top": null,
      "visibility": null,
      "width": null
     }
    },
    "a47958ce02e746e7b992134dd7081431": {
     "model_module": "@jupyter-widgets/controls",
     "model_name": "ProgressStyleModel",
     "state": {
      "_model_module": "@jupyter-widgets/controls",
      "_model_module_version": "1.5.0",
      "_model_name": "ProgressStyleModel",
      "_view_count": null,
      "_view_module": "@jupyter-widgets/base",
      "_view_module_version": "1.2.0",
      "_view_name": "StyleView",
      "bar_color": null,
      "description_width": "initial"
     }
    },
    "b09ea8e2d21144e5b0c127f154fbc994": {
     "model_module": "@jupyter-widgets/base",
     "model_name": "LayoutModel",
     "state": {
      "_model_module": "@jupyter-widgets/base",
      "_model_module_version": "1.2.0",
      "_model_name": "LayoutModel",
      "_view_count": null,
      "_view_module": "@jupyter-widgets/base",
      "_view_module_version": "1.2.0",
      "_view_name": "LayoutView",
      "align_content": null,
      "align_items": null,
      "align_self": null,
      "border": null,
      "bottom": null,
      "display": null,
      "flex": null,
      "flex_flow": null,
      "grid_area": null,
      "grid_auto_columns": null,
      "grid_auto_flow": null,
      "grid_auto_rows": null,
      "grid_column": null,
      "grid_gap": null,
      "grid_row": null,
      "grid_template_areas": null,
      "grid_template_columns": null,
      "grid_template_rows": null,
      "height": null,
      "justify_content": null,
      "justify_items": null,
      "left": null,
      "margin": null,
      "max_height": null,
      "max_width": null,
      "min_height": null,
      "min_width": null,
      "object_fit": null,
      "object_position": null,
      "order": null,
      "overflow": null,
      "overflow_x": null,
      "overflow_y": null,
      "padding": null,
      "right": null,
      "top": null,
      "visibility": null,
      "width": null
     }
    },
    "b5dde12ac41e4ed3a8d3511b732b8bb5": {
     "model_module": "@jupyter-widgets/controls",
     "model_name": "HTMLModel",
     "state": {
      "_dom_classes": [],
      "_model_module": "@jupyter-widgets/controls",
      "_model_module_version": "1.5.0",
      "_model_name": "HTMLModel",
      "_view_count": null,
      "_view_module": "@jupyter-widgets/controls",
      "_view_module_version": "1.5.0",
      "_view_name": "HTMLView",
      "description": "",
      "description_tooltip": null,
      "layout": "IPY_MODEL_be5aab93885144caa9ab831e2257947f",
      "placeholder": "​",
      "style": "IPY_MODEL_3ed5d31e624245d5b6050e56278d6d99",
      "value": " 9913344/? [06:46&lt;00:00, 24409.69it/s]"
     }
    },
    "be5aab93885144caa9ab831e2257947f": {
     "model_module": "@jupyter-widgets/base",
     "model_name": "LayoutModel",
     "state": {
      "_model_module": "@jupyter-widgets/base",
      "_model_module_version": "1.2.0",
      "_model_name": "LayoutModel",
      "_view_count": null,
      "_view_module": "@jupyter-widgets/base",
      "_view_module_version": "1.2.0",
      "_view_name": "LayoutView",
      "align_content": null,
      "align_items": null,
      "align_self": null,
      "border": null,
      "bottom": null,
      "display": null,
      "flex": null,
      "flex_flow": null,
      "grid_area": null,
      "grid_auto_columns": null,
      "grid_auto_flow": null,
      "grid_auto_rows": null,
      "grid_column": null,
      "grid_gap": null,
      "grid_row": null,
      "grid_template_areas": null,
      "grid_template_columns": null,
      "grid_template_rows": null,
      "height": null,
      "justify_content": null,
      "justify_items": null,
      "left": null,
      "margin": null,
      "max_height": null,
      "max_width": null,
      "min_height": null,
      "min_width": null,
      "object_fit": null,
      "object_position": null,
      "order": null,
      "overflow": null,
      "overflow_x": null,
      "overflow_y": null,
      "padding": null,
      "right": null,
      "top": null,
      "visibility": null,
      "width": null
     }
    },
    "c0d9148a7a4c4b24b1cc1bfaaf2952eb": {
     "model_module": "@jupyter-widgets/controls",
     "model_name": "FloatProgressModel",
     "state": {
      "_dom_classes": [],
      "_model_module": "@jupyter-widgets/controls",
      "_model_module_version": "1.5.0",
      "_model_name": "FloatProgressModel",
      "_view_count": null,
      "_view_module": "@jupyter-widgets/controls",
      "_view_module_version": "1.5.0",
      "_view_name": "ProgressView",
      "bar_style": "success",
      "description": "",
      "description_tooltip": null,
      "layout": "IPY_MODEL_a0ea51dd62684b1f82c7bd8008cf5204",
      "max": 1648877,
      "min": 0,
      "orientation": "horizontal",
      "style": "IPY_MODEL_0a4d2bb0db004e54bd8dbf0215005225",
      "value": 1648877
     }
    },
    "c1742b20043e4c618b3fdd0d02fb7de9": {
     "model_module": "@jupyter-widgets/controls",
     "model_name": "HTMLModel",
     "state": {
      "_dom_classes": [],
      "_model_module": "@jupyter-widgets/controls",
      "_model_module_version": "1.5.0",
      "_model_name": "HTMLModel",
      "_view_count": null,
      "_view_module": "@jupyter-widgets/controls",
      "_view_module_version": "1.5.0",
      "_view_name": "HTMLView",
      "description": "",
      "description_tooltip": null,
      "layout": "IPY_MODEL_c97e6ac6d18b44dc9d7ea3df459ce9d8",
      "placeholder": "​",
      "style": "IPY_MODEL_503edcdbe193433ba4f4a8250979de46",
      "value": " 29696/? [02:49&lt;00:00, 175.19it/s]"
     }
    },
    "c97e6ac6d18b44dc9d7ea3df459ce9d8": {
     "model_module": "@jupyter-widgets/base",
     "model_name": "LayoutModel",
     "state": {
      "_model_module": "@jupyter-widgets/base",
      "_model_module_version": "1.2.0",
      "_model_name": "LayoutModel",
      "_view_count": null,
      "_view_module": "@jupyter-widgets/base",
      "_view_module_version": "1.2.0",
      "_view_name": "LayoutView",
      "align_content": null,
      "align_items": null,
      "align_self": null,
      "border": null,
      "bottom": null,
      "display": null,
      "flex": null,
      "flex_flow": null,
      "grid_area": null,
      "grid_auto_columns": null,
      "grid_auto_flow": null,
      "grid_auto_rows": null,
      "grid_column": null,
      "grid_gap": null,
      "grid_row": null,
      "grid_template_areas": null,
      "grid_template_columns": null,
      "grid_template_rows": null,
      "height": null,
      "justify_content": null,
      "justify_items": null,
      "left": null,
      "margin": null,
      "max_height": null,
      "max_width": null,
      "min_height": null,
      "min_width": null,
      "object_fit": null,
      "object_position": null,
      "order": null,
      "overflow": null,
      "overflow_x": null,
      "overflow_y": null,
      "padding": null,
      "right": null,
      "top": null,
      "visibility": null,
      "width": null
     }
    },
    "e7c372b97a2a45c998ad07cf3f98f65a": {
     "model_module": "@jupyter-widgets/controls",
     "model_name": "FloatProgressModel",
     "state": {
      "_dom_classes": [],
      "_model_module": "@jupyter-widgets/controls",
      "_model_module_version": "1.5.0",
      "_model_name": "FloatProgressModel",
      "_view_count": null,
      "_view_module": "@jupyter-widgets/controls",
      "_view_module_version": "1.5.0",
      "_view_name": "ProgressView",
      "bar_style": "success",
      "description": "",
      "description_tooltip": null,
      "layout": "IPY_MODEL_b09ea8e2d21144e5b0c127f154fbc994",
      "max": 28881,
      "min": 0,
      "orientation": "horizontal",
      "style": "IPY_MODEL_81472b5f791d4d88b710a2fd6bd16e8f",
      "value": 28881
     }
    },
    "e7fe05dc900a45d5ab8eb3d02f14d02a": {
     "model_module": "@jupyter-widgets/controls",
     "model_name": "DescriptionStyleModel",
     "state": {
      "_model_module": "@jupyter-widgets/controls",
      "_model_module_version": "1.5.0",
      "_model_name": "DescriptionStyleModel",
      "_view_count": null,
      "_view_module": "@jupyter-widgets/base",
      "_view_module_version": "1.2.0",
      "_view_name": "StyleView",
      "description_width": ""
     }
    },
    "ef1d65d2a0834d7d9defb12d0d3c3950": {
     "model_module": "@jupyter-widgets/controls",
     "model_name": "HTMLModel",
     "state": {
      "_dom_classes": [],
      "_model_module": "@jupyter-widgets/controls",
      "_model_module_version": "1.5.0",
      "_model_name": "HTMLModel",
      "_view_count": null,
      "_view_module": "@jupyter-widgets/controls",
      "_view_module_version": "1.5.0",
      "_view_name": "HTMLView",
      "description": "",
      "description_tooltip": null,
      "layout": "IPY_MODEL_6a550faefd214427827c992b27a34ad4",
      "placeholder": "​",
      "style": "IPY_MODEL_e7fe05dc900a45d5ab8eb3d02f14d02a",
      "value": " 1649664/? [00:48&lt;00:00, 34056.33it/s]"
     }
    },
    "f7e3e7345a2347698e8964703f54b8dd": {
     "model_module": "@jupyter-widgets/controls",
     "model_name": "FloatProgressModel",
     "state": {
      "_dom_classes": [],
      "_model_module": "@jupyter-widgets/controls",
      "_model_module_version": "1.5.0",
      "_model_name": "FloatProgressModel",
      "_view_count": null,
      "_view_module": "@jupyter-widgets/controls",
      "_view_module_version": "1.5.0",
      "_view_name": "ProgressView",
      "bar_style": "success",
      "description": "",
      "description_tooltip": null,
      "layout": "IPY_MODEL_1f44de6d726747dfa3000f65134a6d16",
      "max": 4542,
      "min": 0,
      "orientation": "horizontal",
      "style": "IPY_MODEL_a47958ce02e746e7b992134dd7081431",
      "value": 4542
     }
    }
   }
  }
 },
 "nbformat": 4,
 "nbformat_minor": 4
}
