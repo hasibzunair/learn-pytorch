{
  "nbformat": 4,
  "nbformat_minor": 0,
  "metadata": {
    "accelerator": "GPU",
    "colab": {
      "name": "mnist_cnn.ipynb",
      "provenance": [],
      "collapsed_sections": [],
      "include_colab_link": true
    },
    "kernelspec": {
      "display_name": "Python 3",
      "language": "python",
      "name": "python3"
    },
    "language_info": {
      "codemirror_mode": {
        "name": "ipython",
        "version": 3
      },
      "file_extension": ".py",
      "mimetype": "text/x-python",
      "name": "python",
      "nbconvert_exporter": "python",
      "pygments_lexer": "ipython3",
      "version": "3.7.3"
    },
    "toc": {
      "nav_menu": {},
      "number_sections": true,
      "sideBar": true,
      "skip_h1_title": false,
      "title_cell": "Table of Contents",
      "title_sidebar": "Contents",
      "toc_cell": true,
      "toc_position": {
        "height": "calc(100% - 180px)",
        "left": "10px",
        "top": "150px",
        "width": "371px"
      },
      "toc_section_display": true,
      "toc_window_display": true
    },
    "widgets": {
      "application/vnd.jupyter.widget-state+json": {
        "422d32fe808a4b78b1126dc91f074647": {
          "model_module": "@jupyter-widgets/controls",
          "model_name": "HBoxModel",
          "state": {
            "_view_name": "HBoxView",
            "_dom_classes": [],
            "_model_name": "HBoxModel",
            "_view_module": "@jupyter-widgets/controls",
            "_model_module_version": "1.5.0",
            "_view_count": null,
            "_view_module_version": "1.5.0",
            "box_style": "",
            "layout": "IPY_MODEL_58439f81dd494a03949e311c87208132",
            "_model_module": "@jupyter-widgets/controls",
            "children": [
              "IPY_MODEL_241c59050625452082fbb9a54a85f571",
              "IPY_MODEL_b5dde12ac41e4ed3a8d3511b732b8bb5"
            ]
          }
        },
        "58439f81dd494a03949e311c87208132": {
          "model_module": "@jupyter-widgets/base",
          "model_name": "LayoutModel",
          "state": {
            "_view_name": "LayoutView",
            "grid_template_rows": null,
            "right": null,
            "justify_content": null,
            "_view_module": "@jupyter-widgets/base",
            "overflow": null,
            "_model_module_version": "1.2.0",
            "_view_count": null,
            "flex_flow": null,
            "width": null,
            "min_width": null,
            "border": null,
            "align_items": null,
            "bottom": null,
            "_model_module": "@jupyter-widgets/base",
            "top": null,
            "grid_column": null,
            "overflow_y": null,
            "overflow_x": null,
            "grid_auto_flow": null,
            "grid_area": null,
            "grid_template_columns": null,
            "flex": null,
            "_model_name": "LayoutModel",
            "justify_items": null,
            "grid_row": null,
            "max_height": null,
            "align_content": null,
            "visibility": null,
            "align_self": null,
            "height": null,
            "min_height": null,
            "padding": null,
            "grid_auto_rows": null,
            "grid_gap": null,
            "max_width": null,
            "order": null,
            "_view_module_version": "1.2.0",
            "grid_template_areas": null,
            "object_position": null,
            "object_fit": null,
            "grid_auto_columns": null,
            "margin": null,
            "display": null,
            "left": null
          }
        },
        "241c59050625452082fbb9a54a85f571": {
          "model_module": "@jupyter-widgets/controls",
          "model_name": "FloatProgressModel",
          "state": {
            "_view_name": "ProgressView",
            "style": "IPY_MODEL_34a7e563da184ac781e59960faa297b0",
            "_dom_classes": [],
            "description": "",
            "_model_name": "FloatProgressModel",
            "bar_style": "success",
            "max": 9912422,
            "_view_module": "@jupyter-widgets/controls",
            "_model_module_version": "1.5.0",
            "value": 9912422,
            "_view_count": null,
            "_view_module_version": "1.5.0",
            "orientation": "horizontal",
            "min": 0,
            "description_tooltip": null,
            "_model_module": "@jupyter-widgets/controls",
            "layout": "IPY_MODEL_1d671475eb364fb6b8ac6414fd83eba5"
          }
        },
        "b5dde12ac41e4ed3a8d3511b732b8bb5": {
          "model_module": "@jupyter-widgets/controls",
          "model_name": "HTMLModel",
          "state": {
            "_view_name": "HTMLView",
            "style": "IPY_MODEL_3ed5d31e624245d5b6050e56278d6d99",
            "_dom_classes": [],
            "description": "",
            "_model_name": "HTMLModel",
            "placeholder": "​",
            "_view_module": "@jupyter-widgets/controls",
            "_model_module_version": "1.5.0",
            "value": " 9913344/? [06:46&lt;00:00, 24409.69it/s]",
            "_view_count": null,
            "_view_module_version": "1.5.0",
            "description_tooltip": null,
            "_model_module": "@jupyter-widgets/controls",
            "layout": "IPY_MODEL_be5aab93885144caa9ab831e2257947f"
          }
        },
        "34a7e563da184ac781e59960faa297b0": {
          "model_module": "@jupyter-widgets/controls",
          "model_name": "ProgressStyleModel",
          "state": {
            "_view_name": "StyleView",
            "_model_name": "ProgressStyleModel",
            "description_width": "initial",
            "_view_module": "@jupyter-widgets/base",
            "_model_module_version": "1.5.0",
            "_view_count": null,
            "_view_module_version": "1.2.0",
            "bar_color": null,
            "_model_module": "@jupyter-widgets/controls"
          }
        },
        "1d671475eb364fb6b8ac6414fd83eba5": {
          "model_module": "@jupyter-widgets/base",
          "model_name": "LayoutModel",
          "state": {
            "_view_name": "LayoutView",
            "grid_template_rows": null,
            "right": null,
            "justify_content": null,
            "_view_module": "@jupyter-widgets/base",
            "overflow": null,
            "_model_module_version": "1.2.0",
            "_view_count": null,
            "flex_flow": null,
            "width": null,
            "min_width": null,
            "border": null,
            "align_items": null,
            "bottom": null,
            "_model_module": "@jupyter-widgets/base",
            "top": null,
            "grid_column": null,
            "overflow_y": null,
            "overflow_x": null,
            "grid_auto_flow": null,
            "grid_area": null,
            "grid_template_columns": null,
            "flex": null,
            "_model_name": "LayoutModel",
            "justify_items": null,
            "grid_row": null,
            "max_height": null,
            "align_content": null,
            "visibility": null,
            "align_self": null,
            "height": null,
            "min_height": null,
            "padding": null,
            "grid_auto_rows": null,
            "grid_gap": null,
            "max_width": null,
            "order": null,
            "_view_module_version": "1.2.0",
            "grid_template_areas": null,
            "object_position": null,
            "object_fit": null,
            "grid_auto_columns": null,
            "margin": null,
            "display": null,
            "left": null
          }
        },
        "3ed5d31e624245d5b6050e56278d6d99": {
          "model_module": "@jupyter-widgets/controls",
          "model_name": "DescriptionStyleModel",
          "state": {
            "_view_name": "StyleView",
            "_model_name": "DescriptionStyleModel",
            "description_width": "",
            "_view_module": "@jupyter-widgets/base",
            "_model_module_version": "1.5.0",
            "_view_count": null,
            "_view_module_version": "1.2.0",
            "_model_module": "@jupyter-widgets/controls"
          }
        },
        "be5aab93885144caa9ab831e2257947f": {
          "model_module": "@jupyter-widgets/base",
          "model_name": "LayoutModel",
          "state": {
            "_view_name": "LayoutView",
            "grid_template_rows": null,
            "right": null,
            "justify_content": null,
            "_view_module": "@jupyter-widgets/base",
            "overflow": null,
            "_model_module_version": "1.2.0",
            "_view_count": null,
            "flex_flow": null,
            "width": null,
            "min_width": null,
            "border": null,
            "align_items": null,
            "bottom": null,
            "_model_module": "@jupyter-widgets/base",
            "top": null,
            "grid_column": null,
            "overflow_y": null,
            "overflow_x": null,
            "grid_auto_flow": null,
            "grid_area": null,
            "grid_template_columns": null,
            "flex": null,
            "_model_name": "LayoutModel",
            "justify_items": null,
            "grid_row": null,
            "max_height": null,
            "align_content": null,
            "visibility": null,
            "align_self": null,
            "height": null,
            "min_height": null,
            "padding": null,
            "grid_auto_rows": null,
            "grid_gap": null,
            "max_width": null,
            "order": null,
            "_view_module_version": "1.2.0",
            "grid_template_areas": null,
            "object_position": null,
            "object_fit": null,
            "grid_auto_columns": null,
            "margin": null,
            "display": null,
            "left": null
          }
        },
        "96df1d5118424cd6a615cb13f7726569": {
          "model_module": "@jupyter-widgets/controls",
          "model_name": "HBoxModel",
          "state": {
            "_view_name": "HBoxView",
            "_dom_classes": [],
            "_model_name": "HBoxModel",
            "_view_module": "@jupyter-widgets/controls",
            "_model_module_version": "1.5.0",
            "_view_count": null,
            "_view_module_version": "1.5.0",
            "box_style": "",
            "layout": "IPY_MODEL_49cd5007cfef422496386c03670acf22",
            "_model_module": "@jupyter-widgets/controls",
            "children": [
              "IPY_MODEL_e7c372b97a2a45c998ad07cf3f98f65a",
              "IPY_MODEL_c1742b20043e4c618b3fdd0d02fb7de9"
            ]
          }
        },
        "49cd5007cfef422496386c03670acf22": {
          "model_module": "@jupyter-widgets/base",
          "model_name": "LayoutModel",
          "state": {
            "_view_name": "LayoutView",
            "grid_template_rows": null,
            "right": null,
            "justify_content": null,
            "_view_module": "@jupyter-widgets/base",
            "overflow": null,
            "_model_module_version": "1.2.0",
            "_view_count": null,
            "flex_flow": null,
            "width": null,
            "min_width": null,
            "border": null,
            "align_items": null,
            "bottom": null,
            "_model_module": "@jupyter-widgets/base",
            "top": null,
            "grid_column": null,
            "overflow_y": null,
            "overflow_x": null,
            "grid_auto_flow": null,
            "grid_area": null,
            "grid_template_columns": null,
            "flex": null,
            "_model_name": "LayoutModel",
            "justify_items": null,
            "grid_row": null,
            "max_height": null,
            "align_content": null,
            "visibility": null,
            "align_self": null,
            "height": null,
            "min_height": null,
            "padding": null,
            "grid_auto_rows": null,
            "grid_gap": null,
            "max_width": null,
            "order": null,
            "_view_module_version": "1.2.0",
            "grid_template_areas": null,
            "object_position": null,
            "object_fit": null,
            "grid_auto_columns": null,
            "margin": null,
            "display": null,
            "left": null
          }
        },
        "e7c372b97a2a45c998ad07cf3f98f65a": {
          "model_module": "@jupyter-widgets/controls",
          "model_name": "FloatProgressModel",
          "state": {
            "_view_name": "ProgressView",
            "style": "IPY_MODEL_81472b5f791d4d88b710a2fd6bd16e8f",
            "_dom_classes": [],
            "description": "",
            "_model_name": "FloatProgressModel",
            "bar_style": "success",
            "max": 28881,
            "_view_module": "@jupyter-widgets/controls",
            "_model_module_version": "1.5.0",
            "value": 28881,
            "_view_count": null,
            "_view_module_version": "1.5.0",
            "orientation": "horizontal",
            "min": 0,
            "description_tooltip": null,
            "_model_module": "@jupyter-widgets/controls",
            "layout": "IPY_MODEL_b09ea8e2d21144e5b0c127f154fbc994"
          }
        },
        "c1742b20043e4c618b3fdd0d02fb7de9": {
          "model_module": "@jupyter-widgets/controls",
          "model_name": "HTMLModel",
          "state": {
            "_view_name": "HTMLView",
            "style": "IPY_MODEL_503edcdbe193433ba4f4a8250979de46",
            "_dom_classes": [],
            "description": "",
            "_model_name": "HTMLModel",
            "placeholder": "​",
            "_view_module": "@jupyter-widgets/controls",
            "_model_module_version": "1.5.0",
            "value": " 29696/? [02:49&lt;00:00, 175.19it/s]",
            "_view_count": null,
            "_view_module_version": "1.5.0",
            "description_tooltip": null,
            "_model_module": "@jupyter-widgets/controls",
            "layout": "IPY_MODEL_c97e6ac6d18b44dc9d7ea3df459ce9d8"
          }
        },
        "81472b5f791d4d88b710a2fd6bd16e8f": {
          "model_module": "@jupyter-widgets/controls",
          "model_name": "ProgressStyleModel",
          "state": {
            "_view_name": "StyleView",
            "_model_name": "ProgressStyleModel",
            "description_width": "initial",
            "_view_module": "@jupyter-widgets/base",
            "_model_module_version": "1.5.0",
            "_view_count": null,
            "_view_module_version": "1.2.0",
            "bar_color": null,
            "_model_module": "@jupyter-widgets/controls"
          }
        },
        "b09ea8e2d21144e5b0c127f154fbc994": {
          "model_module": "@jupyter-widgets/base",
          "model_name": "LayoutModel",
          "state": {
            "_view_name": "LayoutView",
            "grid_template_rows": null,
            "right": null,
            "justify_content": null,
            "_view_module": "@jupyter-widgets/base",
            "overflow": null,
            "_model_module_version": "1.2.0",
            "_view_count": null,
            "flex_flow": null,
            "width": null,
            "min_width": null,
            "border": null,
            "align_items": null,
            "bottom": null,
            "_model_module": "@jupyter-widgets/base",
            "top": null,
            "grid_column": null,
            "overflow_y": null,
            "overflow_x": null,
            "grid_auto_flow": null,
            "grid_area": null,
            "grid_template_columns": null,
            "flex": null,
            "_model_name": "LayoutModel",
            "justify_items": null,
            "grid_row": null,
            "max_height": null,
            "align_content": null,
            "visibility": null,
            "align_self": null,
            "height": null,
            "min_height": null,
            "padding": null,
            "grid_auto_rows": null,
            "grid_gap": null,
            "max_width": null,
            "order": null,
            "_view_module_version": "1.2.0",
            "grid_template_areas": null,
            "object_position": null,
            "object_fit": null,
            "grid_auto_columns": null,
            "margin": null,
            "display": null,
            "left": null
          }
        },
        "503edcdbe193433ba4f4a8250979de46": {
          "model_module": "@jupyter-widgets/controls",
          "model_name": "DescriptionStyleModel",
          "state": {
            "_view_name": "StyleView",
            "_model_name": "DescriptionStyleModel",
            "description_width": "",
            "_view_module": "@jupyter-widgets/base",
            "_model_module_version": "1.5.0",
            "_view_count": null,
            "_view_module_version": "1.2.0",
            "_model_module": "@jupyter-widgets/controls"
          }
        },
        "c97e6ac6d18b44dc9d7ea3df459ce9d8": {
          "model_module": "@jupyter-widgets/base",
          "model_name": "LayoutModel",
          "state": {
            "_view_name": "LayoutView",
            "grid_template_rows": null,
            "right": null,
            "justify_content": null,
            "_view_module": "@jupyter-widgets/base",
            "overflow": null,
            "_model_module_version": "1.2.0",
            "_view_count": null,
            "flex_flow": null,
            "width": null,
            "min_width": null,
            "border": null,
            "align_items": null,
            "bottom": null,
            "_model_module": "@jupyter-widgets/base",
            "top": null,
            "grid_column": null,
            "overflow_y": null,
            "overflow_x": null,
            "grid_auto_flow": null,
            "grid_area": null,
            "grid_template_columns": null,
            "flex": null,
            "_model_name": "LayoutModel",
            "justify_items": null,
            "grid_row": null,
            "max_height": null,
            "align_content": null,
            "visibility": null,
            "align_self": null,
            "height": null,
            "min_height": null,
            "padding": null,
            "grid_auto_rows": null,
            "grid_gap": null,
            "max_width": null,
            "order": null,
            "_view_module_version": "1.2.0",
            "grid_template_areas": null,
            "object_position": null,
            "object_fit": null,
            "grid_auto_columns": null,
            "margin": null,
            "display": null,
            "left": null
          }
        },
        "8afdbee9f87b49b4abae3077ad12c5f7": {
          "model_module": "@jupyter-widgets/controls",
          "model_name": "HBoxModel",
          "state": {
            "_view_name": "HBoxView",
            "_dom_classes": [],
            "_model_name": "HBoxModel",
            "_view_module": "@jupyter-widgets/controls",
            "_model_module_version": "1.5.0",
            "_view_count": null,
            "_view_module_version": "1.5.0",
            "box_style": "",
            "layout": "IPY_MODEL_3d14ebcba62c4c3fbeaa90378aaae2d3",
            "_model_module": "@jupyter-widgets/controls",
            "children": [
              "IPY_MODEL_c0d9148a7a4c4b24b1cc1bfaaf2952eb",
              "IPY_MODEL_ef1d65d2a0834d7d9defb12d0d3c3950"
            ]
          }
        },
        "3d14ebcba62c4c3fbeaa90378aaae2d3": {
          "model_module": "@jupyter-widgets/base",
          "model_name": "LayoutModel",
          "state": {
            "_view_name": "LayoutView",
            "grid_template_rows": null,
            "right": null,
            "justify_content": null,
            "_view_module": "@jupyter-widgets/base",
            "overflow": null,
            "_model_module_version": "1.2.0",
            "_view_count": null,
            "flex_flow": null,
            "width": null,
            "min_width": null,
            "border": null,
            "align_items": null,
            "bottom": null,
            "_model_module": "@jupyter-widgets/base",
            "top": null,
            "grid_column": null,
            "overflow_y": null,
            "overflow_x": null,
            "grid_auto_flow": null,
            "grid_area": null,
            "grid_template_columns": null,
            "flex": null,
            "_model_name": "LayoutModel",
            "justify_items": null,
            "grid_row": null,
            "max_height": null,
            "align_content": null,
            "visibility": null,
            "align_self": null,
            "height": null,
            "min_height": null,
            "padding": null,
            "grid_auto_rows": null,
            "grid_gap": null,
            "max_width": null,
            "order": null,
            "_view_module_version": "1.2.0",
            "grid_template_areas": null,
            "object_position": null,
            "object_fit": null,
            "grid_auto_columns": null,
            "margin": null,
            "display": null,
            "left": null
          }
        },
        "c0d9148a7a4c4b24b1cc1bfaaf2952eb": {
          "model_module": "@jupyter-widgets/controls",
          "model_name": "FloatProgressModel",
          "state": {
            "_view_name": "ProgressView",
            "style": "IPY_MODEL_0a4d2bb0db004e54bd8dbf0215005225",
            "_dom_classes": [],
            "description": "",
            "_model_name": "FloatProgressModel",
            "bar_style": "success",
            "max": 1648877,
            "_view_module": "@jupyter-widgets/controls",
            "_model_module_version": "1.5.0",
            "value": 1648877,
            "_view_count": null,
            "_view_module_version": "1.5.0",
            "orientation": "horizontal",
            "min": 0,
            "description_tooltip": null,
            "_model_module": "@jupyter-widgets/controls",
            "layout": "IPY_MODEL_a0ea51dd62684b1f82c7bd8008cf5204"
          }
        },
        "ef1d65d2a0834d7d9defb12d0d3c3950": {
          "model_module": "@jupyter-widgets/controls",
          "model_name": "HTMLModel",
          "state": {
            "_view_name": "HTMLView",
            "style": "IPY_MODEL_e7fe05dc900a45d5ab8eb3d02f14d02a",
            "_dom_classes": [],
            "description": "",
            "_model_name": "HTMLModel",
            "placeholder": "​",
            "_view_module": "@jupyter-widgets/controls",
            "_model_module_version": "1.5.0",
            "value": " 1649664/? [00:48&lt;00:00, 34056.33it/s]",
            "_view_count": null,
            "_view_module_version": "1.5.0",
            "description_tooltip": null,
            "_model_module": "@jupyter-widgets/controls",
            "layout": "IPY_MODEL_6a550faefd214427827c992b27a34ad4"
          }
        },
        "0a4d2bb0db004e54bd8dbf0215005225": {
          "model_module": "@jupyter-widgets/controls",
          "model_name": "ProgressStyleModel",
          "state": {
            "_view_name": "StyleView",
            "_model_name": "ProgressStyleModel",
            "description_width": "initial",
            "_view_module": "@jupyter-widgets/base",
            "_model_module_version": "1.5.0",
            "_view_count": null,
            "_view_module_version": "1.2.0",
            "bar_color": null,
            "_model_module": "@jupyter-widgets/controls"
          }
        },
        "a0ea51dd62684b1f82c7bd8008cf5204": {
          "model_module": "@jupyter-widgets/base",
          "model_name": "LayoutModel",
          "state": {
            "_view_name": "LayoutView",
            "grid_template_rows": null,
            "right": null,
            "justify_content": null,
            "_view_module": "@jupyter-widgets/base",
            "overflow": null,
            "_model_module_version": "1.2.0",
            "_view_count": null,
            "flex_flow": null,
            "width": null,
            "min_width": null,
            "border": null,
            "align_items": null,
            "bottom": null,
            "_model_module": "@jupyter-widgets/base",
            "top": null,
            "grid_column": null,
            "overflow_y": null,
            "overflow_x": null,
            "grid_auto_flow": null,
            "grid_area": null,
            "grid_template_columns": null,
            "flex": null,
            "_model_name": "LayoutModel",
            "justify_items": null,
            "grid_row": null,
            "max_height": null,
            "align_content": null,
            "visibility": null,
            "align_self": null,
            "height": null,
            "min_height": null,
            "padding": null,
            "grid_auto_rows": null,
            "grid_gap": null,
            "max_width": null,
            "order": null,
            "_view_module_version": "1.2.0",
            "grid_template_areas": null,
            "object_position": null,
            "object_fit": null,
            "grid_auto_columns": null,
            "margin": null,
            "display": null,
            "left": null
          }
        },
        "e7fe05dc900a45d5ab8eb3d02f14d02a": {
          "model_module": "@jupyter-widgets/controls",
          "model_name": "DescriptionStyleModel",
          "state": {
            "_view_name": "StyleView",
            "_model_name": "DescriptionStyleModel",
            "description_width": "",
            "_view_module": "@jupyter-widgets/base",
            "_model_module_version": "1.5.0",
            "_view_count": null,
            "_view_module_version": "1.2.0",
            "_model_module": "@jupyter-widgets/controls"
          }
        },
        "6a550faefd214427827c992b27a34ad4": {
          "model_module": "@jupyter-widgets/base",
          "model_name": "LayoutModel",
          "state": {
            "_view_name": "LayoutView",
            "grid_template_rows": null,
            "right": null,
            "justify_content": null,
            "_view_module": "@jupyter-widgets/base",
            "overflow": null,
            "_model_module_version": "1.2.0",
            "_view_count": null,
            "flex_flow": null,
            "width": null,
            "min_width": null,
            "border": null,
            "align_items": null,
            "bottom": null,
            "_model_module": "@jupyter-widgets/base",
            "top": null,
            "grid_column": null,
            "overflow_y": null,
            "overflow_x": null,
            "grid_auto_flow": null,
            "grid_area": null,
            "grid_template_columns": null,
            "flex": null,
            "_model_name": "LayoutModel",
            "justify_items": null,
            "grid_row": null,
            "max_height": null,
            "align_content": null,
            "visibility": null,
            "align_self": null,
            "height": null,
            "min_height": null,
            "padding": null,
            "grid_auto_rows": null,
            "grid_gap": null,
            "max_width": null,
            "order": null,
            "_view_module_version": "1.2.0",
            "grid_template_areas": null,
            "object_position": null,
            "object_fit": null,
            "grid_auto_columns": null,
            "margin": null,
            "display": null,
            "left": null
          }
        },
        "5df7a35f7d38448ba2d69e233c786b39": {
          "model_module": "@jupyter-widgets/controls",
          "model_name": "HBoxModel",
          "state": {
            "_view_name": "HBoxView",
            "_dom_classes": [],
            "_model_name": "HBoxModel",
            "_view_module": "@jupyter-widgets/controls",
            "_model_module_version": "1.5.0",
            "_view_count": null,
            "_view_module_version": "1.5.0",
            "box_style": "",
            "layout": "IPY_MODEL_a1fc9feccdb641459fb8789f46bdab36",
            "_model_module": "@jupyter-widgets/controls",
            "children": [
              "IPY_MODEL_f7e3e7345a2347698e8964703f54b8dd",
              "IPY_MODEL_30f2209b0bce430487cc5bff8e7cc7e4"
            ]
          }
        },
        "a1fc9feccdb641459fb8789f46bdab36": {
          "model_module": "@jupyter-widgets/base",
          "model_name": "LayoutModel",
          "state": {
            "_view_name": "LayoutView",
            "grid_template_rows": null,
            "right": null,
            "justify_content": null,
            "_view_module": "@jupyter-widgets/base",
            "overflow": null,
            "_model_module_version": "1.2.0",
            "_view_count": null,
            "flex_flow": null,
            "width": null,
            "min_width": null,
            "border": null,
            "align_items": null,
            "bottom": null,
            "_model_module": "@jupyter-widgets/base",
            "top": null,
            "grid_column": null,
            "overflow_y": null,
            "overflow_x": null,
            "grid_auto_flow": null,
            "grid_area": null,
            "grid_template_columns": null,
            "flex": null,
            "_model_name": "LayoutModel",
            "justify_items": null,
            "grid_row": null,
            "max_height": null,
            "align_content": null,
            "visibility": null,
            "align_self": null,
            "height": null,
            "min_height": null,
            "padding": null,
            "grid_auto_rows": null,
            "grid_gap": null,
            "max_width": null,
            "order": null,
            "_view_module_version": "1.2.0",
            "grid_template_areas": null,
            "object_position": null,
            "object_fit": null,
            "grid_auto_columns": null,
            "margin": null,
            "display": null,
            "left": null
          }
        },
        "f7e3e7345a2347698e8964703f54b8dd": {
          "model_module": "@jupyter-widgets/controls",
          "model_name": "FloatProgressModel",
          "state": {
            "_view_name": "ProgressView",
            "style": "IPY_MODEL_a47958ce02e746e7b992134dd7081431",
            "_dom_classes": [],
            "description": "",
            "_model_name": "FloatProgressModel",
            "bar_style": "success",
            "max": 4542,
            "_view_module": "@jupyter-widgets/controls",
            "_model_module_version": "1.5.0",
            "value": 4542,
            "_view_count": null,
            "_view_module_version": "1.5.0",
            "orientation": "horizontal",
            "min": 0,
            "description_tooltip": null,
            "_model_module": "@jupyter-widgets/controls",
            "layout": "IPY_MODEL_1f44de6d726747dfa3000f65134a6d16"
          }
        },
        "30f2209b0bce430487cc5bff8e7cc7e4": {
          "model_module": "@jupyter-widgets/controls",
          "model_name": "HTMLModel",
          "state": {
            "_view_name": "HTMLView",
            "style": "IPY_MODEL_0c801f3ca9694d83af95c36fe55167f7",
            "_dom_classes": [],
            "description": "",
            "_model_name": "HTMLModel",
            "placeholder": "​",
            "_view_module": "@jupyter-widgets/controls",
            "_model_module_version": "1.5.0",
            "value": " 5120/? [00:00&lt;00:00, 15024.78it/s]",
            "_view_count": null,
            "_view_module_version": "1.5.0",
            "description_tooltip": null,
            "_model_module": "@jupyter-widgets/controls",
            "layout": "IPY_MODEL_9b575debbdf14215b922a5432a16a237"
          }
        },
        "a47958ce02e746e7b992134dd7081431": {
          "model_module": "@jupyter-widgets/controls",
          "model_name": "ProgressStyleModel",
          "state": {
            "_view_name": "StyleView",
            "_model_name": "ProgressStyleModel",
            "description_width": "initial",
            "_view_module": "@jupyter-widgets/base",
            "_model_module_version": "1.5.0",
            "_view_count": null,
            "_view_module_version": "1.2.0",
            "bar_color": null,
            "_model_module": "@jupyter-widgets/controls"
          }
        },
        "1f44de6d726747dfa3000f65134a6d16": {
          "model_module": "@jupyter-widgets/base",
          "model_name": "LayoutModel",
          "state": {
            "_view_name": "LayoutView",
            "grid_template_rows": null,
            "right": null,
            "justify_content": null,
            "_view_module": "@jupyter-widgets/base",
            "overflow": null,
            "_model_module_version": "1.2.0",
            "_view_count": null,
            "flex_flow": null,
            "width": null,
            "min_width": null,
            "border": null,
            "align_items": null,
            "bottom": null,
            "_model_module": "@jupyter-widgets/base",
            "top": null,
            "grid_column": null,
            "overflow_y": null,
            "overflow_x": null,
            "grid_auto_flow": null,
            "grid_area": null,
            "grid_template_columns": null,
            "flex": null,
            "_model_name": "LayoutModel",
            "justify_items": null,
            "grid_row": null,
            "max_height": null,
            "align_content": null,
            "visibility": null,
            "align_self": null,
            "height": null,
            "min_height": null,
            "padding": null,
            "grid_auto_rows": null,
            "grid_gap": null,
            "max_width": null,
            "order": null,
            "_view_module_version": "1.2.0",
            "grid_template_areas": null,
            "object_position": null,
            "object_fit": null,
            "grid_auto_columns": null,
            "margin": null,
            "display": null,
            "left": null
          }
        },
        "0c801f3ca9694d83af95c36fe55167f7": {
          "model_module": "@jupyter-widgets/controls",
          "model_name": "DescriptionStyleModel",
          "state": {
            "_view_name": "StyleView",
            "_model_name": "DescriptionStyleModel",
            "description_width": "",
            "_view_module": "@jupyter-widgets/base",
            "_model_module_version": "1.5.0",
            "_view_count": null,
            "_view_module_version": "1.2.0",
            "_model_module": "@jupyter-widgets/controls"
          }
        },
        "9b575debbdf14215b922a5432a16a237": {
          "model_module": "@jupyter-widgets/base",
          "model_name": "LayoutModel",
          "state": {
            "_view_name": "LayoutView",
            "grid_template_rows": null,
            "right": null,
            "justify_content": null,
            "_view_module": "@jupyter-widgets/base",
            "overflow": null,
            "_model_module_version": "1.2.0",
            "_view_count": null,
            "flex_flow": null,
            "width": null,
            "min_width": null,
            "border": null,
            "align_items": null,
            "bottom": null,
            "_model_module": "@jupyter-widgets/base",
            "top": null,
            "grid_column": null,
            "overflow_y": null,
            "overflow_x": null,
            "grid_auto_flow": null,
            "grid_area": null,
            "grid_template_columns": null,
            "flex": null,
            "_model_name": "LayoutModel",
            "justify_items": null,
            "grid_row": null,
            "max_height": null,
            "align_content": null,
            "visibility": null,
            "align_self": null,
            "height": null,
            "min_height": null,
            "padding": null,
            "grid_auto_rows": null,
            "grid_gap": null,
            "max_width": null,
            "order": null,
            "_view_module_version": "1.2.0",
            "grid_template_areas": null,
            "object_position": null,
            "object_fit": null,
            "grid_auto_columns": null,
            "margin": null,
            "display": null,
            "left": null
          }
        }
      }
    }
  },
  "cells": [
    {
      "cell_type": "markdown",
      "metadata": {
        "id": "view-in-github",
        "colab_type": "text"
      },
      "source": [
        "<a href=\"https://colab.research.google.com/github/hasibzunair/learn-pytorch/blob/master/notebooks/examples/mnist_cnn.ipynb\" target=\"_parent\"><img src=\"https://colab.research.google.com/assets/colab-badge.svg\" alt=\"Open In Colab\"/></a>"
      ]
    },
    {
      "cell_type": "markdown",
      "metadata": {
        "id": "jlsvK1iUeYsk"
      },
      "source": [
        "# Train CNN on MNIST dataset\n",
        "\n",
        "Modified from [https://github.com/rasbt/deeplearning-models/blob/master/pytorch_ipynb/cnn/cnn-lenet5-mnist.ipynb](https://github.com/rasbt/deeplearning-models/blob/master/pytorch_ipynb/cnn/cnn-lenet5-mnist.ipynb)"
      ]
    },
    {
      "cell_type": "markdown",
      "metadata": {
        "id": "MkoGLH_Tj5wn"
      },
      "source": [
        "## Imports"
      ]
    },
    {
      "cell_type": "code",
      "metadata": {
        "colab": {
          "base_uri": "https://localhost:8080/"
        },
        "id": "ORj09gnrj5wp",
        "outputId": "2e031407-494c-4218-817d-d3a88daa7845"
      },
      "source": [
        "import os\n",
        "import time\n",
        "\n",
        "import numpy as np\n",
        "import pandas as pd\n",
        "\n",
        "import torch\n",
        "import torch.nn as nn\n",
        "import torch.nn.functional as F\n",
        "from torch.utils.data import DataLoader\n",
        "\n",
        "from torchvision import datasets\n",
        "from torchvision import transforms\n",
        "\n",
        "import matplotlib.pyplot as plt\n",
        "from PIL import Image\n",
        "\n",
        "\n",
        "if torch.cuda.is_available():\n",
        "    torch.backends.cudnn.deterministic = True\n",
        "\n",
        "# Check GPU stuffs\n",
        "print(torch.cuda.device_count())\n",
        "print(torch.cuda.get_device_name(0))\n",
        "print(torch.cuda.is_available())"
      ],
      "execution_count": 2,
      "outputs": [
        {
          "output_type": "stream",
          "text": [
            "1\n",
            "Tesla K80\n",
            "True\n"
          ],
          "name": "stdout"
        }
      ]
    },
    {
      "cell_type": "markdown",
      "metadata": {
        "id": "I6hghKPxj5w0"
      },
      "source": [
        "## Model Settings"
      ]
    },
    {
      "cell_type": "code",
      "metadata": {
        "id": "NnT0sZIwj5wu"
      },
      "source": [
        "##########################\n",
        "### SETTINGS\n",
        "##########################\n",
        "\n",
        "# Hyperparameters\n",
        "RANDOM_SEED = 1\n",
        "LEARNING_RATE = 0.001\n",
        "BATCH_SIZE = 128\n",
        "NUM_EPOCHS = 10\n",
        "\n",
        "# Architecture\n",
        "NUM_FEATURES = 32*32\n",
        "NUM_CLASSES = 10\n",
        "\n",
        "# Other\n",
        "DEVICE = \"cuda:0\" # can be cuda:1,2 depending on machine configuration\n",
        "GRAYSCALE = True"
      ],
      "execution_count": 3,
      "outputs": []
    },
    {
      "cell_type": "markdown",
      "metadata": {
        "id": "HehJ7Wz2IzCQ"
      },
      "source": [
        "### MNIST Dataset"
      ]
    },
    {
      "cell_type": "code",
      "metadata": {
        "colab": {
          "base_uri": "https://localhost:8080/",
          "height": 646,
          "referenced_widgets": [
            "422d32fe808a4b78b1126dc91f074647",
            "58439f81dd494a03949e311c87208132",
            "241c59050625452082fbb9a54a85f571",
            "b5dde12ac41e4ed3a8d3511b732b8bb5",
            "34a7e563da184ac781e59960faa297b0",
            "1d671475eb364fb6b8ac6414fd83eba5",
            "3ed5d31e624245d5b6050e56278d6d99",
            "be5aab93885144caa9ab831e2257947f",
            "96df1d5118424cd6a615cb13f7726569",
            "49cd5007cfef422496386c03670acf22",
            "e7c372b97a2a45c998ad07cf3f98f65a",
            "c1742b20043e4c618b3fdd0d02fb7de9",
            "81472b5f791d4d88b710a2fd6bd16e8f",
            "b09ea8e2d21144e5b0c127f154fbc994",
            "503edcdbe193433ba4f4a8250979de46",
            "c97e6ac6d18b44dc9d7ea3df459ce9d8",
            "8afdbee9f87b49b4abae3077ad12c5f7",
            "3d14ebcba62c4c3fbeaa90378aaae2d3",
            "c0d9148a7a4c4b24b1cc1bfaaf2952eb",
            "ef1d65d2a0834d7d9defb12d0d3c3950",
            "0a4d2bb0db004e54bd8dbf0215005225",
            "a0ea51dd62684b1f82c7bd8008cf5204",
            "e7fe05dc900a45d5ab8eb3d02f14d02a",
            "6a550faefd214427827c992b27a34ad4",
            "5df7a35f7d38448ba2d69e233c786b39",
            "a1fc9feccdb641459fb8789f46bdab36",
            "f7e3e7345a2347698e8964703f54b8dd",
            "30f2209b0bce430487cc5bff8e7cc7e4",
            "a47958ce02e746e7b992134dd7081431",
            "1f44de6d726747dfa3000f65134a6d16",
            "0c801f3ca9694d83af95c36fe55167f7",
            "9b575debbdf14215b922a5432a16a237"
          ]
        },
        "id": "oT9VDEgKIzCQ",
        "outputId": "06d4e924-7971-4913-fb64-294069d6e2a6"
      },
      "source": [
        "##########################\n",
        "### MNIST DATASET\n",
        "##########################\n",
        "\n",
        "resize_transform = transforms.Compose([transforms.Resize((32, 32)),\n",
        "                                       transforms.ToTensor()])\n",
        "# transforms.ToTensor() scales input images\n",
        "# to 0-1 range\n",
        "\n",
        "\n",
        "train_dataset = datasets.MNIST(root='data', \n",
        "                               train=True, \n",
        "                               transform=resize_transform,\n",
        "                               download=True)\n",
        "\n",
        "test_dataset = datasets.MNIST(root='data', \n",
        "                              train=False, \n",
        "                              transform=resize_transform)\n",
        "\n",
        "\n",
        "train_loader = DataLoader(dataset=train_dataset, \n",
        "                          batch_size=BATCH_SIZE, \n",
        "                          shuffle=True)\n",
        "\n",
        "test_loader = DataLoader(dataset=test_dataset, \n",
        "                         batch_size=BATCH_SIZE, \n",
        "                         shuffle=False)\n",
        "\n",
        "# Checking the dataset\n",
        "for images, labels in train_loader:  \n",
        "    print('Image batch dimensions:', images.shape)\n",
        "    print('Image label dimensions:', labels.shape)\n",
        "    break"
      ],
      "execution_count": 4,
      "outputs": [
        {
          "output_type": "stream",
          "text": [
            "Downloading http://yann.lecun.com/exdb/mnist/train-images-idx3-ubyte.gz\n",
            "Downloading http://yann.lecun.com/exdb/mnist/train-images-idx3-ubyte.gz to data/MNIST/raw/train-images-idx3-ubyte.gz\n"
          ],
          "name": "stdout"
        },
        {
          "output_type": "display_data",
          "data": {
            "application/vnd.jupyter.widget-view+json": {
              "model_id": "422d32fe808a4b78b1126dc91f074647",
              "version_minor": 0,
              "version_major": 2
            },
            "text/plain": [
              "HBox(children=(FloatProgress(value=0.0, max=9912422.0), HTML(value='')))"
            ]
          },
          "metadata": {
            "tags": []
          }
        },
        {
          "output_type": "stream",
          "text": [
            "\n",
            "Extracting data/MNIST/raw/train-images-idx3-ubyte.gz to data/MNIST/raw\n",
            "\n",
            "Downloading http://yann.lecun.com/exdb/mnist/train-labels-idx1-ubyte.gz\n",
            "Downloading http://yann.lecun.com/exdb/mnist/train-labels-idx1-ubyte.gz to data/MNIST/raw/train-labels-idx1-ubyte.gz\n"
          ],
          "name": "stdout"
        },
        {
          "output_type": "display_data",
          "data": {
            "application/vnd.jupyter.widget-view+json": {
              "model_id": "96df1d5118424cd6a615cb13f7726569",
              "version_minor": 0,
              "version_major": 2
            },
            "text/plain": [
              "HBox(children=(FloatProgress(value=0.0, max=28881.0), HTML(value='')))"
            ]
          },
          "metadata": {
            "tags": []
          }
        },
        {
          "output_type": "stream",
          "text": [
            "\n",
            "Extracting data/MNIST/raw/train-labels-idx1-ubyte.gz to data/MNIST/raw\n",
            "\n",
            "Downloading http://yann.lecun.com/exdb/mnist/t10k-images-idx3-ubyte.gz\n",
            "Downloading http://yann.lecun.com/exdb/mnist/t10k-images-idx3-ubyte.gz to data/MNIST/raw/t10k-images-idx3-ubyte.gz\n"
          ],
          "name": "stdout"
        },
        {
          "output_type": "display_data",
          "data": {
            "application/vnd.jupyter.widget-view+json": {
              "model_id": "8afdbee9f87b49b4abae3077ad12c5f7",
              "version_minor": 0,
              "version_major": 2
            },
            "text/plain": [
              "HBox(children=(FloatProgress(value=0.0, max=1648877.0), HTML(value='')))"
            ]
          },
          "metadata": {
            "tags": []
          }
        },
        {
          "output_type": "stream",
          "text": [
            "\n",
            "Extracting data/MNIST/raw/t10k-images-idx3-ubyte.gz to data/MNIST/raw\n",
            "\n",
            "Downloading http://yann.lecun.com/exdb/mnist/t10k-labels-idx1-ubyte.gz\n",
            "Downloading http://yann.lecun.com/exdb/mnist/t10k-labels-idx1-ubyte.gz to data/MNIST/raw/t10k-labels-idx1-ubyte.gz\n"
          ],
          "name": "stdout"
        },
        {
          "output_type": "display_data",
          "data": {
            "application/vnd.jupyter.widget-view+json": {
              "model_id": "5df7a35f7d38448ba2d69e233c786b39",
              "version_minor": 0,
              "version_major": 2
            },
            "text/plain": [
              "HBox(children=(FloatProgress(value=0.0, max=4542.0), HTML(value='')))"
            ]
          },
          "metadata": {
            "tags": []
          }
        },
        {
          "output_type": "stream",
          "text": [
            "\n",
            "Extracting data/MNIST/raw/t10k-labels-idx1-ubyte.gz to data/MNIST/raw\n",
            "\n",
            "Processing...\n",
            "Done!\n"
          ],
          "name": "stdout"
        },
        {
          "output_type": "stream",
          "text": [
            "/usr/local/lib/python3.7/dist-packages/torchvision/datasets/mnist.py:502: UserWarning: The given NumPy array is not writeable, and PyTorch does not support non-writeable tensors. This means you can write to the underlying (supposedly non-writeable) NumPy array using the tensor. You may want to copy the array to protect its data or make it writeable before converting it to a tensor. This type of warning will be suppressed for the rest of this program. (Triggered internally at  /pytorch/torch/csrc/utils/tensor_numpy.cpp:143.)\n",
            "  return torch.from_numpy(parsed.astype(m[2], copy=False)).view(*s)\n"
          ],
          "name": "stderr"
        },
        {
          "output_type": "stream",
          "text": [
            "Image batch dimensions: torch.Size([128, 1, 32, 32])\n",
            "Image label dimensions: torch.Size([128])\n"
          ],
          "name": "stdout"
        }
      ]
    },
    {
      "cell_type": "markdown",
      "metadata": {
        "id": "8QvUO02TLR9d"
      },
      "source": [
        "### Show image and label"
      ]
    },
    {
      "cell_type": "code",
      "metadata": {
        "id": "ECX4H_SYLRaq"
      },
      "source": [
        "def imshow(img, label):\n",
        "  # Convert to numpy\n",
        "  img = img.numpy()\n",
        "  # Make to w,h from w,h,1\n",
        "  img = img.squeeze()\n",
        "  # Plot\n",
        "  plt.imshow(img)\n",
        "  plt.title(\"This is a {}\".format(label))"
      ],
      "execution_count": 7,
      "outputs": []
    },
    {
      "cell_type": "code",
      "metadata": {
        "colab": {
          "base_uri": "https://localhost:8080/"
        },
        "id": "eXSd_l0eLXGd",
        "outputId": "022667d5-6a5c-467b-9f08-fa522bbdb865"
      },
      "source": [
        "# get some random training images\n",
        "x, y = next(iter(train_loader)) # channels first!\n",
        "x.shape, y.shape"
      ],
      "execution_count": 9,
      "outputs": [
        {
          "output_type": "execute_result",
          "data": {
            "text/plain": [
              "(torch.Size([128, 1, 32, 32]), torch.Size([128]))"
            ]
          },
          "metadata": {
            "tags": []
          },
          "execution_count": 9
        }
      ]
    },
    {
      "cell_type": "code",
      "metadata": {
        "colab": {
          "base_uri": "https://localhost:8080/",
          "height": 281
        },
        "id": "ZIEGLoGnLXJE",
        "outputId": "3e917260-0978-47ba-cf41-6611cc0209d0"
      },
      "source": [
        "idx = 22\n",
        "imshow(x[idx], y[idx])"
      ],
      "execution_count": 11,
      "outputs": [
        {
          "output_type": "display_data",
          "data": {
            "image/png": "[encoded data removed]",
            "text/plain": [
              "<Figure size 432x288 with 1 Axes>"
            ]
          },
          "metadata": {
            "tags": [],
            "needs_background": "light"
          }
        }
      ]
    },
    {
      "cell_type": "markdown",
      "metadata": {
        "id": "WGWhdFENKpKG"
      },
      "source": [
        "### Training loop"
      ]
    },
    {
      "cell_type": "code",
      "metadata": {
        "colab": {
          "base_uri": "https://localhost:8080/"
        },
        "id": "Kpa_6fJaIzCS",
        "outputId": "18dc0dba-853a-4be3-a36b-f16ece88a4e3"
      },
      "source": [
        "# init device and seed\n",
        "device = torch.device(DEVICE)\n",
        "torch.manual_seed(0)\n",
        "\n",
        "# iterate over epochs\n",
        "for epoch in range(5):\n",
        "\n",
        "    # iterate over each batch of the dataset\n",
        "    for batch_idx, (x, y) in enumerate(train_loader):\n",
        "        \n",
        "        print('Epoch:', epoch+1, end='')\n",
        "        print(' | Batch index:', batch_idx, end='')\n",
        "        print(' | Batch size:', y.size()[0])\n",
        "        \n",
        "        # Send data to GPU\n",
        "        x = x.to(device)\n",
        "        y = y.to(device)\n",
        "\n",
        "        # Do stuffs here\n",
        "        break"
      ],
      "execution_count": 12,
      "outputs": [
        {
          "output_type": "stream",
          "text": [
            "Epoch: 1 | Batch index: 0 | Batch size: 128\n",
            "Epoch: 2 | Batch index: 0 | Batch size: 128\n",
            "Epoch: 3 | Batch index: 0 | Batch size: 128\n",
            "Epoch: 4 | Batch index: 0 | Batch size: 128\n",
            "Epoch: 5 | Batch index: 0 | Batch size: 128\n"
          ],
          "name": "stdout"
        }
      ]
    },
    {
      "cell_type": "markdown",
      "metadata": {
        "id": "y99F0qFfgliI"
      },
      "source": [
        "### Model"
      ]
    },
    {
      "cell_type": "code",
      "metadata": {
        "id": "WKvhKQo_IzCT"
      },
      "source": [
        "##########################\n",
        "### MODEL\n",
        "##########################\n",
        "\n",
        "\n",
        "class LeNet5(nn.Module):\n",
        "\n",
        "    def __init__(self, num_classes, grayscale=False):\n",
        "        super(LeNet5, self).__init__()\n",
        "        \n",
        "        self.grayscale = grayscale # True\n",
        "        self.num_classes = num_classes # 10\n",
        "\n",
        "        if self.grayscale:\n",
        "            in_channels = 1\n",
        "        else:\n",
        "            in_channels = 3\n",
        "\n",
        "        # define feature extractor\n",
        "        self.features = nn.Sequential(\n",
        "            # seriues of conv, activation, maxpool layers\n",
        "            nn.Conv2d(in_channels, 6, kernel_size=5), # 6 is number of kernels \n",
        "            nn.Tanh(),\n",
        "            nn.MaxPool2d(kernel_size=2),\n",
        "            nn.Conv2d(6, 16, kernel_size=5),\n",
        "            nn.Tanh(),\n",
        "            nn.MaxPool2d(kernel_size=2)\n",
        "        )\n",
        "\n",
        "        # input features to the linear layer is defined by the dimensions \n",
        "        # of the activation coming from the previous layer \n",
        "        flattened = 16*5*5 # channels * height * width\n",
        "\n",
        "        # define classifier head\n",
        "        self.classifier = nn.Sequential(\n",
        "            nn.Linear(flattened, 120),\n",
        "            nn.Tanh(),\n",
        "            nn.Linear(120, 84),\n",
        "            nn.Tanh(),\n",
        "            nn.Linear(84, num_classes),\n",
        "        )\n",
        "\n",
        "\n",
        "    def forward(self, x):\n",
        "        x = self.features(x)\n",
        "        x = torch.flatten(x, 1) # x becomes shape (batch size, 16*5*5)\n",
        "        logits = self.classifier(x)\n",
        "        probas = F.softmax(logits, dim=1)\n",
        "        return logits, probas"
      ],
      "execution_count": 13,
      "outputs": []
    },
    {
      "cell_type": "code",
      "metadata": {
        "colab": {
          "base_uri": "https://localhost:8080/"
        },
        "id": "_lza9t_uj5w1",
        "outputId": "dfe1f52d-e4c4-4431-f9b6-491fc825a29c"
      },
      "source": [
        "torch.manual_seed(RANDOM_SEED)\n",
        "\n",
        "model = LeNet5(NUM_CLASSES, GRAYSCALE)\n",
        "model.to(DEVICE)\n",
        "print(model)\n",
        "\n",
        "optimizer = torch.optim.Adam(model.parameters(), lr=LEARNING_RATE)  "
      ],
      "execution_count": 14,
      "outputs": [
        {
          "output_type": "stream",
          "text": [
            "LeNet5(\n",
            "  (features): Sequential(\n",
            "    (0): Conv2d(1, 6, kernel_size=(5, 5), stride=(1, 1))\n",
            "    (1): Tanh()\n",
            "    (2): MaxPool2d(kernel_size=2, stride=2, padding=0, dilation=1, ceil_mode=False)\n",
            "    (3): Conv2d(6, 16, kernel_size=(5, 5), stride=(1, 1))\n",
            "    (4): Tanh()\n",
            "    (5): MaxPool2d(kernel_size=2, stride=2, padding=0, dilation=1, ceil_mode=False)\n",
            "  )\n",
            "  (classifier): Sequential(\n",
            "    (0): Linear(in_features=400, out_features=120, bias=True)\n",
            "    (1): Tanh()\n",
            "    (2): Linear(in_features=120, out_features=84, bias=True)\n",
            "    (3): Tanh()\n",
            "    (4): Linear(in_features=84, out_features=10, bias=True)\n",
            "  )\n",
            ")\n"
          ],
          "name": "stdout"
        }
      ]
    },
    {
      "cell_type": "markdown",
      "metadata": {
        "id": "D0Z0FykAL5kk"
      },
      "source": [
        "### How many params to train?\n"
      ]
    },
    {
      "cell_type": "code",
      "metadata": {
        "colab": {
          "base_uri": "https://localhost:8080/"
        },
        "id": "i6QrAqx6L4-w",
        "outputId": "1195d067-ab35-479f-8245-8bfc99e862a1"
      },
      "source": [
        "# All parameters\n",
        "all_params = sum(p.numel() for p in model.parameters())\n",
        "print(\"All parameters \", all_params)\n",
        "\n",
        "# Trainable parameters\n",
        "all_train_params = sum(p.numel() for p in model.parameters() if p.requires_grad)\n",
        "print(\"Trainable parameters \", all_train_params)"
      ],
      "execution_count": 16,
      "outputs": [
        {
          "output_type": "stream",
          "text": [
            "All parameters  61706\n",
            "Trainable parameters  61706\n"
          ],
          "name": "stdout"
        }
      ]
    },
    {
      "cell_type": "markdown",
      "metadata": {
        "id": "RAodboScj5w6"
      },
      "source": [
        "## Training"
      ]
    },
    {
      "cell_type": "code",
      "metadata": {
        "colab": {
          "base_uri": "https://localhost:8080/"
        },
        "id": "Dzh3ROmRj5w7",
        "outputId": "ded2f3a2-9ae6-4e7d-cda4-29ef0914691f"
      },
      "source": [
        "def compute_accuracy(model, data_loader, device):\n",
        "  \"\"\"Compute acc on the val/test data\"\"\"\n",
        "  correct_pred, num_examples = 0, 0\n",
        "  for i, (features, targets) in enumerate(data_loader):\n",
        "          \n",
        "      features = features.to(device)\n",
        "      targets = targets.to(device)\n",
        "      # inference\n",
        "      logits, probas = model(features)\n",
        "      # argmax raw preds\n",
        "      _, predicted_labels = torch.max(probas, 1)\n",
        "      num_examples += targets.size(0)\n",
        "      correct_pred += (predicted_labels == targets).sum()\n",
        "  return correct_pred.float()/num_examples * 100\n",
        "    \n",
        "\n",
        "# Training looooop\n",
        "start_time = time.time()\n",
        "for epoch in range(NUM_EPOCHS):\n",
        "    # Always set to train\n",
        "    model.train()\n",
        "    # Iterate over dataset\n",
        "    for batch_idx, (features, targets) in enumerate(train_loader):\n",
        "        \n",
        "        # Pass data to GPU\n",
        "        features = features.to(DEVICE)\n",
        "        targets = targets.to(DEVICE)\n",
        "            \n",
        "        ### FORWARD AND BACK PROP\n",
        "\n",
        "        # Forward pass\n",
        "        logits, probas = model(features)\n",
        "        # Compute loss\n",
        "        cost = F.cross_entropy(logits, targets)\n",
        "        # Stop grads from piling up\n",
        "        # Accumulates gradients by default which\n",
        "        # is useful for training RNNs, not so \n",
        "        # much for classifiers, so clear cache of gradients! \n",
        "        optimizer.zero_grad()\n",
        "        # Compute gradients\n",
        "        cost.backward()\n",
        "        \n",
        "        ### UPDATE MODEL PARAMETERS\n",
        "        optimizer.step()\n",
        "        \n",
        "        ### LOGGING\n",
        "        if not batch_idx % 50:\n",
        "            print ('Epoch: %03d/%03d | Batch %04d/%04d | Cost: %.4f' \n",
        "                   %(epoch+1, NUM_EPOCHS, batch_idx, \n",
        "                     len(train_loader), cost))\n",
        "\n",
        "    # Validation\n",
        "    model.eval()\n",
        "    with torch.set_grad_enabled(False): # save memory during inference\n",
        "        print('Epoch: %03d/%03d | Validation: %.3f%%' % (\n",
        "              epoch+1, NUM_EPOCHS, \n",
        "              compute_accuracy(model, train_loader, device=DEVICE)))\n",
        "        \n",
        "    print('Time elapsed: %.2f min' % ((time.time() - start_time)/60))\n",
        "    \n",
        "print('Total Training Time: %.2f min' % ((time.time() - start_time)/60))"
      ],
      "execution_count": 17,
      "outputs": [
        {
          "output_type": "stream",
          "text": [
            "Epoch: 001/010 | Batch 0000/0469 | Cost: 2.2918\n",
            "Epoch: 001/010 | Batch 0050/0469 | Cost: 0.5220\n",
            "Epoch: 001/010 | Batch 0100/0469 | Cost: 0.3472\n",
            "Epoch: 001/010 | Batch 0150/0469 | Cost: 0.3450\n",
            "Epoch: 001/010 | Batch 0200/0469 | Cost: 0.1755\n",
            "Epoch: 001/010 | Batch 0250/0469 | Cost: 0.1247\n",
            "Epoch: 001/010 | Batch 0300/0469 | Cost: 0.1107\n",
            "Epoch: 001/010 | Batch 0350/0469 | Cost: 0.2394\n",
            "Epoch: 001/010 | Batch 0400/0469 | Cost: 0.0785\n",
            "Epoch: 001/010 | Batch 0450/0469 | Cost: 0.1526\n",
            "Epoch: 001/010 | Train: 97.218%\n",
            "Time elapsed: 0.34 min\n",
            "Epoch: 002/010 | Batch 0000/0469 | Cost: 0.0982\n",
            "Epoch: 002/010 | Batch 0050/0469 | Cost: 0.0747\n",
            "Epoch: 002/010 | Batch 0100/0469 | Cost: 0.0597\n",
            "Epoch: 002/010 | Batch 0150/0469 | Cost: 0.0252\n",
            "Epoch: 002/010 | Batch 0200/0469 | Cost: 0.1529\n",
            "Epoch: 002/010 | Batch 0250/0469 | Cost: 0.0531\n",
            "Epoch: 002/010 | Batch 0300/0469 | Cost: 0.1068\n",
            "Epoch: 002/010 | Batch 0350/0469 | Cost: 0.1304\n",
            "Epoch: 002/010 | Batch 0400/0469 | Cost: 0.0366\n",
            "Epoch: 002/010 | Batch 0450/0469 | Cost: 0.0820\n",
            "Epoch: 002/010 | Train: 98.395%\n",
            "Time elapsed: 0.68 min\n",
            "Epoch: 003/010 | Batch 0000/0469 | Cost: 0.0770\n",
            "Epoch: 003/010 | Batch 0050/0469 | Cost: 0.0336\n",
            "Epoch: 003/010 | Batch 0100/0469 | Cost: 0.0235\n",
            "Epoch: 003/010 | Batch 0150/0469 | Cost: 0.0253\n",
            "Epoch: 003/010 | Batch 0200/0469 | Cost: 0.0239\n",
            "Epoch: 003/010 | Batch 0250/0469 | Cost: 0.0699\n",
            "Epoch: 003/010 | Batch 0300/0469 | Cost: 0.0285\n",
            "Epoch: 003/010 | Batch 0350/0469 | Cost: 0.0469\n",
            "Epoch: 003/010 | Batch 0400/0469 | Cost: 0.0861\n",
            "Epoch: 003/010 | Batch 0450/0469 | Cost: 0.0356\n",
            "Epoch: 003/010 | Train: 98.937%\n",
            "Time elapsed: 1.02 min\n",
            "Epoch: 004/010 | Batch 0000/0469 | Cost: 0.0267\n",
            "Epoch: 004/010 | Batch 0050/0469 | Cost: 0.0191\n",
            "Epoch: 004/010 | Batch 0100/0469 | Cost: 0.0102\n",
            "Epoch: 004/010 | Batch 0150/0469 | Cost: 0.0260\n",
            "Epoch: 004/010 | Batch 0200/0469 | Cost: 0.0437\n",
            "Epoch: 004/010 | Batch 0250/0469 | Cost: 0.0099\n",
            "Epoch: 004/010 | Batch 0300/0469 | Cost: 0.0325\n",
            "Epoch: 004/010 | Batch 0350/0469 | Cost: 0.0193\n",
            "Epoch: 004/010 | Batch 0400/0469 | Cost: 0.0139\n",
            "Epoch: 004/010 | Batch 0450/0469 | Cost: 0.0319\n",
            "Epoch: 004/010 | Train: 99.053%\n",
            "Time elapsed: 1.36 min\n",
            "Epoch: 005/010 | Batch 0000/0469 | Cost: 0.0215\n",
            "Epoch: 005/010 | Batch 0050/0469 | Cost: 0.0717\n",
            "Epoch: 005/010 | Batch 0100/0469 | Cost: 0.0105\n",
            "Epoch: 005/010 | Batch 0150/0469 | Cost: 0.0333\n",
            "Epoch: 005/010 | Batch 0200/0469 | Cost: 0.0495\n",
            "Epoch: 005/010 | Batch 0250/0469 | Cost: 0.0236\n",
            "Epoch: 005/010 | Batch 0300/0469 | Cost: 0.0315\n",
            "Epoch: 005/010 | Batch 0350/0469 | Cost: 0.0684\n",
            "Epoch: 005/010 | Batch 0400/0469 | Cost: 0.0412\n",
            "Epoch: 005/010 | Batch 0450/0469 | Cost: 0.0205\n",
            "Epoch: 005/010 | Train: 99.382%\n",
            "Time elapsed: 1.70 min\n",
            "Epoch: 006/010 | Batch 0000/0469 | Cost: 0.0479\n",
            "Epoch: 006/010 | Batch 0050/0469 | Cost: 0.0060\n",
            "Epoch: 006/010 | Batch 0100/0469 | Cost: 0.0049\n",
            "Epoch: 006/010 | Batch 0150/0469 | Cost: 0.0217\n",
            "Epoch: 006/010 | Batch 0200/0469 | Cost: 0.0291\n",
            "Epoch: 006/010 | Batch 0250/0469 | Cost: 0.0058\n",
            "Epoch: 006/010 | Batch 0300/0469 | Cost: 0.0214\n",
            "Epoch: 006/010 | Batch 0350/0469 | Cost: 0.0174\n",
            "Epoch: 006/010 | Batch 0400/0469 | Cost: 0.0142\n",
            "Epoch: 006/010 | Batch 0450/0469 | Cost: 0.0245\n",
            "Epoch: 006/010 | Train: 99.543%\n",
            "Time elapsed: 2.04 min\n",
            "Epoch: 007/010 | Batch 0000/0469 | Cost: 0.0235\n",
            "Epoch: 007/010 | Batch 0050/0469 | Cost: 0.0143\n",
            "Epoch: 007/010 | Batch 0100/0469 | Cost: 0.0236\n",
            "Epoch: 007/010 | Batch 0150/0469 | Cost: 0.0080\n",
            "Epoch: 007/010 | Batch 0200/0469 | Cost: 0.0202\n",
            "Epoch: 007/010 | Batch 0250/0469 | Cost: 0.0428\n",
            "Epoch: 007/010 | Batch 0300/0469 | Cost: 0.0251\n",
            "Epoch: 007/010 | Batch 0350/0469 | Cost: 0.0067\n",
            "Epoch: 007/010 | Batch 0400/0469 | Cost: 0.0097\n",
            "Epoch: 007/010 | Batch 0450/0469 | Cost: 0.0064\n",
            "Epoch: 007/010 | Train: 99.443%\n",
            "Time elapsed: 2.38 min\n",
            "Epoch: 008/010 | Batch 0000/0469 | Cost: 0.0282\n",
            "Epoch: 008/010 | Batch 0050/0469 | Cost: 0.0123\n",
            "Epoch: 008/010 | Batch 0100/0469 | Cost: 0.0050\n",
            "Epoch: 008/010 | Batch 0150/0469 | Cost: 0.0088\n",
            "Epoch: 008/010 | Batch 0200/0469 | Cost: 0.0293\n",
            "Epoch: 008/010 | Batch 0250/0469 | Cost: 0.0292\n",
            "Epoch: 008/010 | Batch 0300/0469 | Cost: 0.0164\n",
            "Epoch: 008/010 | Batch 0350/0469 | Cost: 0.0034\n",
            "Epoch: 008/010 | Batch 0400/0469 | Cost: 0.0065\n",
            "Epoch: 008/010 | Batch 0450/0469 | Cost: 0.0138\n",
            "Epoch: 008/010 | Train: 99.728%\n",
            "Time elapsed: 2.73 min\n",
            "Epoch: 009/010 | Batch 0000/0469 | Cost: 0.0075\n",
            "Epoch: 009/010 | Batch 0050/0469 | Cost: 0.0096\n",
            "Epoch: 009/010 | Batch 0100/0469 | Cost: 0.0474\n",
            "Epoch: 009/010 | Batch 0150/0469 | Cost: 0.0016\n",
            "Epoch: 009/010 | Batch 0200/0469 | Cost: 0.0269\n",
            "Epoch: 009/010 | Batch 0250/0469 | Cost: 0.0068\n",
            "Epoch: 009/010 | Batch 0300/0469 | Cost: 0.0032\n",
            "Epoch: 009/010 | Batch 0350/0469 | Cost: 0.0162\n",
            "Epoch: 009/010 | Batch 0400/0469 | Cost: 0.0147\n",
            "Epoch: 009/010 | Batch 0450/0469 | Cost: 0.0233\n",
            "Epoch: 009/010 | Train: 99.688%\n",
            "Time elapsed: 3.07 min\n",
            "Epoch: 010/010 | Batch 0000/0469 | Cost: 0.0176\n",
            "Epoch: 010/010 | Batch 0050/0469 | Cost: 0.0055\n",
            "Epoch: 010/010 | Batch 0100/0469 | Cost: 0.0123\n",
            "Epoch: 010/010 | Batch 0150/0469 | Cost: 0.0155\n",
            "Epoch: 010/010 | Batch 0200/0469 | Cost: 0.0033\n",
            "Epoch: 010/010 | Batch 0250/0469 | Cost: 0.0022\n",
            "Epoch: 010/010 | Batch 0300/0469 | Cost: 0.0024\n",
            "Epoch: 010/010 | Batch 0350/0469 | Cost: 0.0493\n",
            "Epoch: 010/010 | Batch 0400/0469 | Cost: 0.0105\n",
            "Epoch: 010/010 | Batch 0450/0469 | Cost: 0.0477\n",
            "Epoch: 010/010 | Train: 99.650%\n",
            "Time elapsed: 3.40 min\n",
            "Total Training Time: 3.40 min\n"
          ],
          "name": "stdout"
        }
      ]
    },
    {
      "cell_type": "markdown",
      "metadata": {
        "id": "paaeEQHQj5xC"
      },
      "source": [
        "## Evaluation"
      ]
    },
    {
      "cell_type": "code",
      "metadata": {
        "colab": {
          "base_uri": "https://localhost:8080/"
        },
        "id": "gzQMWKq5j5xE",
        "outputId": "7af5e27b-f9ff-4908-ee25-e97e223dceac"
      },
      "source": [
        "with torch.set_grad_enabled(False): # save memory during inference\n",
        "    print('Test accuracy: %.2f%%' % (compute_accuracy(model, test_loader, device=DEVICE)))"
      ],
      "execution_count": 18,
      "outputs": [
        {
          "output_type": "stream",
          "text": [
            "Test accuracy: 98.68%\n"
          ],
          "name": "stdout"
        }
      ]
    },
    {
      "cell_type": "code",
      "metadata": {
        "colab": {
          "base_uri": "https://localhost:8080/",
          "height": 266
        },
        "id": "538Gi2SPIzCV",
        "outputId": "fd8515e2-c1fb-4a9d-9aed-7dd310ef8de7"
      },
      "source": [
        "for batch_idx, (features, targets) in enumerate(test_loader):\n",
        "\n",
        "    features = features\n",
        "    targets = targets\n",
        "    break\n",
        "\n",
        "    \n",
        "nhwc_img = np.transpose(features[0], axes=(1, 2, 0))\n",
        "nhw_img = np.squeeze(nhwc_img.numpy(), axis=2)\n",
        "plt.imshow(nhw_img, cmap='Greys');"
      ],
      "execution_count": 19,
      "outputs": [
        {
          "output_type": "display_data",
          "data": {
            "image/png": "[encoded data removed]",
            "text/plain": [
              "<Figure size 432x288 with 1 Axes>"
            ]
          },
          "metadata": {
            "tags": [],
            "needs_background": "light"
          }
        }
      ]
    },
    {
      "cell_type": "code",
      "metadata": {
        "id": "C9i7hhjGv8Nw",
        "outputId": "070bb857-f599-491f-dbc2-850d8517e74e",
        "colab": {
          "base_uri": "https://localhost:8080/"
        }
      },
      "source": [
        "features.shape, targets.shape"
      ],
      "execution_count": 21,
      "outputs": [
        {
          "output_type": "execute_result",
          "data": {
            "text/plain": [
              "(torch.Size([128, 1, 32, 32]), torch.Size([128]))"
            ]
          },
          "metadata": {
            "tags": []
          },
          "execution_count": 21
        }
      ]
    },
    {
      "cell_type": "code",
      "metadata": {
        "colab": {
          "base_uri": "https://localhost:8080/"
        },
        "id": "0Ln81PhnIzCW",
        "outputId": "8b801df7-b53d-4ef4-8704-da9ae0be96be"
      },
      "source": [
        "model.eval()\n",
        "logits, probas = model(features.to(device)[0, None])\n",
        "print('Probability 7 %.2f%%' % (probas[0][7]*100))"
      ],
      "execution_count": 22,
      "outputs": [
        {
          "output_type": "stream",
          "text": [
            "Probability 7 100.00%\n"
          ],
          "name": "stdout"
        }
      ]
    },
    {
      "cell_type": "code",
      "metadata": {
        "id": "nYOS1ON9wOPD"
      },
      "source": [
        ""
      ],
      "execution_count": null,
      "outputs": []
    }
  ]
}