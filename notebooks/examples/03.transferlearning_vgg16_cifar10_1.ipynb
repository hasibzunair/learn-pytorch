{
 "cells": [
  {
   "cell_type": "markdown",
   "metadata": {
    "id": "G3NVqrLoMMys"
   },
   "source": [
    "# Transfer Learning Example (VGG16 pre-trained on ImageNet for Cifar-10)\n",
    "\n",
    "Adapted from https://github.com/rasbt/deeplearning-models"
   ]
  },
  {
   "cell_type": "code",
   "execution_count": 1,
   "metadata": {
    "colab": {
     "base_uri": "https://localhost:8080/"
    },
    "id": "rpstPZJZc5Lf",
    "outputId": "6046b22c-459b-469e-f08b-54d6cec7fb73"
   },
   "outputs": [
    {
     "name": "stdout",
     "output_type": "stream",
     "text": [
      "Requirement already satisfied: torch-summary in /home/hz/anaconda3/envs/pyt/lib/python3.7/site-packages (1.4.5)\n",
      "\u001b[33mWARNING: You are using pip version 20.3; however, version 21.1.2 is available.\n",
      "You should consider upgrading via the '/home/hz/anaconda3/envs/pyt/bin/python -m pip install --upgrade pip' command.\u001b[0m\n"
     ]
    }
   ],
   "source": [
    "!pip install torch-summary"
   ]
  },
  {
   "cell_type": "code",
   "execution_count": 2,
   "metadata": {
    "id": "oqGxy6k7MMyv"
   },
   "outputs": [],
   "source": [
    "import torch\n",
    "import time\n",
    "import numpy as np\n",
    "import torch\n",
    "import torch.nn as nn\n",
    "import torch.nn.functional as F\n",
    "from torchvision import datasets\n",
    "from torchvision import transforms\n",
    "from torch.utils.data import DataLoader\n",
    "\n",
    "from torchsummary import summary\n",
    "\n",
    "#######################################\n",
    "### PRE-TRAINED MODELS AVAILABLE HERE\n",
    "## https://pytorch.org/vision/stable/models.html\n",
    "from torchvision import models\n",
    "#######################################\n",
    "\n",
    "if torch.cuda.is_available():\n",
    "    torch.backends.cudnn.deterministic = True"
   ]
  },
  {
   "cell_type": "markdown",
   "metadata": {
    "id": "wExxVjWwMMyw"
   },
   "source": [
    "### Loading an Example Dataset"
   ]
  },
  {
   "cell_type": "markdown",
   "metadata": {
    "id": "rtspWbMSMMyw"
   },
   "source": [
    "In this example, we are going to work with CIFAR-10, because it's small (smaller) than ImageNet and fast to downliad. However, note that in a \"real-world application\", images with dimension > 224x224 are recommended when working with modelsthat have been trained on ImageNet images with > 224x224 size. Here, we resize the images as a workaround.\n",
    "\n",
    "- Note that due to the average pooling in the final layer, it is also possible to feed in 32x32-pixel images directly. However, I noticed that the performance is rather low (~65% test accuracy after 10 and 100 epochs).\n",
    "\n",
    "- Also note that we we normalize the images with the following parameters\n",
    "\n",
    "```\n",
    "    transforms.Normalize(mean=[0.485, 0.456, 0.406],\n",
    "                          std=[0.229, 0.224, 0.225])\n",
    "```\n",
    "\n",
    "which have been used for training the model originally on ImageNet."
   ]
  },
  {
   "cell_type": "code",
   "execution_count": 3,
   "metadata": {
    "colab": {
     "base_uri": "https://localhost:8080/",
     "height": 217,
     "referenced_widgets": [
      "02a7699bdb344e9e800427cc6e6d0475",
      "fcce3efe736a4ad3b79d752b1c09683e",
      "23fcf37e04dc4ea691d774620251300a",
      "49c0b574fafb480c9234326d7d9b748f",
      "8fe88acd88fc4d8180b5bde42c1ff70c",
      "96b02a729f0c4dc59f60b9b40a267908",
      "8ec8e2d1ac684a54aed4943a88928401",
      "b88baa5af5c843f6a7dd7affa77f2c9d"
     ]
    },
    "id": "H8Qw31VJMMyw",
    "outputId": "52b6e87b-f189-4844-85da-2f3783dfeb9f"
   },
   "outputs": [
    {
     "name": "stdout",
     "output_type": "stream",
     "text": [
      "Device: cuda:0\n",
      "Downloading https://www.cs.toronto.edu/~kriz/cifar-10-python.tar.gz to ../../datasets/data/cifar-10-python.tar.gz\n"
     ]
    },
    {
     "data": {
      "application/vnd.jupyter.widget-view+json": {
       "model_id": "7443ac060b1d4a96b681f5fde91db95b",
       "version_major": 2,
       "version_minor": 0
      },
      "text/plain": [
       "HBox(children=(HTML(value=''), FloatProgress(value=1.0, bar_style='info', layout=Layout(width='20px'), max=1.0…"
      ]
     },
     "metadata": {},
     "output_type": "display_data"
    },
    {
     "name": "stdout",
     "output_type": "stream",
     "text": [
      "Extracting ../../datasets/data/cifar-10-python.tar.gz to ../../datasets/data\n",
      "Image batch dimensions: torch.Size([128, 3, 224, 224])\n",
      "Image label dimensions: torch.Size([128])\n"
     ]
    }
   ],
   "source": [
    "##########################\n",
    "### SETTINGS\n",
    "##########################\n",
    "\n",
    "# Device\n",
    "DEVICE = torch.device(\"cuda:0\" if torch.cuda.is_available() else \"cpu\")\n",
    "print('Device:', DEVICE)\n",
    "\n",
    "NUM_CLASSES = 10\n",
    "\n",
    "# Hyperparameters\n",
    "random_seed = 1\n",
    "learning_rate = 0.0001\n",
    "num_epochs = 10\n",
    "batch_size = 128\n",
    "\n",
    "\n",
    "##########################\n",
    "### MNIST DATASET\n",
    "##########################\n",
    "\n",
    "custom_transform = transforms.Compose([\n",
    "    transforms.Resize((224, 224)),\n",
    "    transforms.ToTensor(),\n",
    "    transforms.Normalize(mean=[0.485, 0.456, 0.406], # mean and std computed from ImageNet dataset\n",
    "                          std=[0.229, 0.224, 0.225])\n",
    "])\n",
    "\n",
    "## Note that this particular normalization scheme is\n",
    "## necessary since it was used for pre-training\n",
    "## the network on ImageNet.\n",
    "## These are the channel-means and standard deviations\n",
    "## for z-score normalization.\n",
    "\n",
    "\n",
    "train_dataset = datasets.CIFAR10(root='../../datasets/data', \n",
    "                                 train=True, \n",
    "                                 transform=custom_transform,\n",
    "                                 download=True)\n",
    "\n",
    "test_dataset = datasets.CIFAR10(root='../../datasets/data', \n",
    "                                train=False, \n",
    "                                transform=custom_transform)\n",
    "\n",
    "\n",
    "train_loader = DataLoader(dataset=train_dataset, \n",
    "                          batch_size=batch_size, \n",
    "                          num_workers=8,\n",
    "                          shuffle=True)\n",
    "\n",
    "test_loader = DataLoader(dataset=test_dataset, \n",
    "                         batch_size=batch_size, \n",
    "                         num_workers=8,\n",
    "                         shuffle=False)\n",
    "\n",
    "# Checking the dataset\n",
    "for images, labels in train_loader:  \n",
    "    print('Image batch dimensions:', images.shape)\n",
    "    print('Image label dimensions:', labels.shape)\n",
    "    break"
   ]
  },
  {
   "cell_type": "markdown",
   "metadata": {
    "id": "IXlTWyW4MMyy"
   },
   "source": [
    "## Loading the Pre-Trained Model"
   ]
  },
  {
   "cell_type": "markdown",
   "metadata": {
    "id": "g5EHqrOOMMyy"
   },
   "source": [
    "Here, we are going to use VGG16 as an example for transfer learning from `torchvision`. A list of all pre-trained models is available at\n",
    "\n",
    "- https://pytorch.org/docs/stable/torchvision/models.html"
   ]
  },
  {
   "cell_type": "code",
   "execution_count": 4,
   "metadata": {
    "colab": {
     "base_uri": "https://localhost:8080/",
     "height": 918,
     "referenced_widgets": [
      "780c2659a8434cb29b946f0b12ae8acc",
      "d1908d7da7e74735931dd7bcf6fd7cff",
      "87d4f2b4df4240d6bd2ca5e6a18c377a",
      "4297ed63878848809b6a006beec13e4d",
      "09be73665684446eb2c2bab961ed6112",
      "c67bac28910b459b9e646391575c5242",
      "7ebf91a160f647a3bc49adb6938a6d65",
      "83f5416f61aa4ab7bffa91b555220ca5"
     ]
    },
    "id": "3K4QPeypMMyy",
    "outputId": "972801f0-2334-4672-a699-7b58b9f8f2a8"
   },
   "outputs": [
    {
     "data": {
      "text/plain": [
       "VGG(\n",
       "  (features): Sequential(\n",
       "    (0): Conv2d(3, 64, kernel_size=(3, 3), stride=(1, 1), padding=(1, 1))\n",
       "    (1): ReLU(inplace=True)\n",
       "    (2): Conv2d(64, 64, kernel_size=(3, 3), stride=(1, 1), padding=(1, 1))\n",
       "    (3): ReLU(inplace=True)\n",
       "    (4): MaxPool2d(kernel_size=2, stride=2, padding=0, dilation=1, ceil_mode=False)\n",
       "    (5): Conv2d(64, 128, kernel_size=(3, 3), stride=(1, 1), padding=(1, 1))\n",
       "    (6): ReLU(inplace=True)\n",
       "    (7): Conv2d(128, 128, kernel_size=(3, 3), stride=(1, 1), padding=(1, 1))\n",
       "    (8): ReLU(inplace=True)\n",
       "    (9): MaxPool2d(kernel_size=2, stride=2, padding=0, dilation=1, ceil_mode=False)\n",
       "    (10): Conv2d(128, 256, kernel_size=(3, 3), stride=(1, 1), padding=(1, 1))\n",
       "    (11): ReLU(inplace=True)\n",
       "    (12): Conv2d(256, 256, kernel_size=(3, 3), stride=(1, 1), padding=(1, 1))\n",
       "    (13): ReLU(inplace=True)\n",
       "    (14): Conv2d(256, 256, kernel_size=(3, 3), stride=(1, 1), padding=(1, 1))\n",
       "    (15): ReLU(inplace=True)\n",
       "    (16): MaxPool2d(kernel_size=2, stride=2, padding=0, dilation=1, ceil_mode=False)\n",
       "    (17): Conv2d(256, 512, kernel_size=(3, 3), stride=(1, 1), padding=(1, 1))\n",
       "    (18): ReLU(inplace=True)\n",
       "    (19): Conv2d(512, 512, kernel_size=(3, 3), stride=(1, 1), padding=(1, 1))\n",
       "    (20): ReLU(inplace=True)\n",
       "    (21): Conv2d(512, 512, kernel_size=(3, 3), stride=(1, 1), padding=(1, 1))\n",
       "    (22): ReLU(inplace=True)\n",
       "    (23): MaxPool2d(kernel_size=2, stride=2, padding=0, dilation=1, ceil_mode=False)\n",
       "    (24): Conv2d(512, 512, kernel_size=(3, 3), stride=(1, 1), padding=(1, 1))\n",
       "    (25): ReLU(inplace=True)\n",
       "    (26): Conv2d(512, 512, kernel_size=(3, 3), stride=(1, 1), padding=(1, 1))\n",
       "    (27): ReLU(inplace=True)\n",
       "    (28): Conv2d(512, 512, kernel_size=(3, 3), stride=(1, 1), padding=(1, 1))\n",
       "    (29): ReLU(inplace=True)\n",
       "    (30): MaxPool2d(kernel_size=2, stride=2, padding=0, dilation=1, ceil_mode=False)\n",
       "  )\n",
       "  (avgpool): AdaptiveAvgPool2d(output_size=(7, 7))\n",
       "  (classifier): Sequential(\n",
       "    (0): Linear(in_features=25088, out_features=4096, bias=True)\n",
       "    (1): ReLU(inplace=True)\n",
       "    (2): Dropout(p=0.5, inplace=False)\n",
       "    (3): Linear(in_features=4096, out_features=4096, bias=True)\n",
       "    (4): ReLU(inplace=True)\n",
       "    (5): Dropout(p=0.5, inplace=False)\n",
       "    (6): Linear(in_features=4096, out_features=1000, bias=True)\n",
       "  )\n",
       ")"
      ]
     },
     "execution_count": 4,
     "metadata": {},
     "output_type": "execute_result"
    }
   ],
   "source": [
    "model = models.vgg16(pretrained=True)\n",
    "model\n",
    "\n",
    "# all pretrained model in pytorch are normalized using\n",
    "# always using this normalizer prior passing an image through the model\n",
    "# transforms.Normalize(mean=[0.485, 0.456, 0.406]\n",
    "#                      std=[0.229, 0.224, 0.225])"
   ]
  },
  {
   "cell_type": "markdown",
   "metadata": {
    "id": "zxmasMwkMMyz"
   },
   "source": [
    "## Freezing the Model"
   ]
  },
  {
   "cell_type": "markdown",
   "metadata": {
    "id": "A1zewHLJMMyz"
   },
   "source": [
    "First, we are going to freeze the whole model:"
   ]
  },
  {
   "cell_type": "code",
   "execution_count": 5,
   "metadata": {
    "id": "LqywzrQBMMyz"
   },
   "outputs": [],
   "source": [
    "# Freeze whole model\n",
    "for param in model.parameters():\n",
    "    param.requires_grad = False"
   ]
  },
  {
   "cell_type": "markdown",
   "metadata": {
    "id": "0eJPCylLiXUf"
   },
   "source": [
    "## Unfreeze classification block layers"
   ]
  },
  {
   "cell_type": "code",
   "execution_count": 6,
   "metadata": {
    "id": "o62noAsoiW5v"
   },
   "outputs": [],
   "source": [
    "# Unfreeze all layers in classification block\n",
    "\n",
    "# for parameter in model.classifier.parameters():\n",
    "#     parameter.requires_grad = True"
   ]
  },
  {
   "cell_type": "code",
   "execution_count": 7,
   "metadata": {
    "colab": {
     "base_uri": "https://localhost:8080/"
    },
    "id": "OYmGK9NBfoxe",
    "outputId": "383537c0-4448-4a12-932b-a60748e3d76c"
   },
   "outputs": [
    {
     "name": "stdout",
     "output_type": "stream",
     "text": [
      "=================================================================\n",
      "Layer (type:depth-idx)                   Param #\n",
      "=================================================================\n",
      "├─Sequential: 1-1                        --\n",
      "|    └─Conv2d: 2-1                       (1,792)\n",
      "|    └─ReLU: 2-2                         --\n",
      "|    └─Conv2d: 2-3                       (36,928)\n",
      "|    └─ReLU: 2-4                         --\n",
      "|    └─MaxPool2d: 2-5                    --\n",
      "|    └─Conv2d: 2-6                       (73,856)\n",
      "|    └─ReLU: 2-7                         --\n",
      "|    └─Conv2d: 2-8                       (147,584)\n",
      "|    └─ReLU: 2-9                         --\n",
      "|    └─MaxPool2d: 2-10                   --\n",
      "|    └─Conv2d: 2-11                      (295,168)\n",
      "|    └─ReLU: 2-12                        --\n",
      "|    └─Conv2d: 2-13                      (590,080)\n",
      "|    └─ReLU: 2-14                        --\n",
      "|    └─Conv2d: 2-15                      (590,080)\n",
      "|    └─ReLU: 2-16                        --\n",
      "|    └─MaxPool2d: 2-17                   --\n",
      "|    └─Conv2d: 2-18                      (1,180,160)\n",
      "|    └─ReLU: 2-19                        --\n",
      "|    └─Conv2d: 2-20                      (2,359,808)\n",
      "|    └─ReLU: 2-21                        --\n",
      "|    └─Conv2d: 2-22                      (2,359,808)\n",
      "|    └─ReLU: 2-23                        --\n",
      "|    └─MaxPool2d: 2-24                   --\n",
      "|    └─Conv2d: 2-25                      (2,359,808)\n",
      "|    └─ReLU: 2-26                        --\n",
      "|    └─Conv2d: 2-27                      (2,359,808)\n",
      "|    └─ReLU: 2-28                        --\n",
      "|    └─Conv2d: 2-29                      (2,359,808)\n",
      "|    └─ReLU: 2-30                        --\n",
      "|    └─MaxPool2d: 2-31                   --\n",
      "├─AdaptiveAvgPool2d: 1-2                 --\n",
      "├─Sequential: 1-3                        --\n",
      "|    └─Linear: 2-32                      (102,764,544)\n",
      "|    └─ReLU: 2-33                        --\n",
      "|    └─Dropout: 2-34                     --\n",
      "|    └─Linear: 2-35                      (16,781,312)\n",
      "|    └─ReLU: 2-36                        --\n",
      "|    └─Dropout: 2-37                     --\n",
      "|    └─Linear: 2-38                      (4,097,000)\n",
      "=================================================================\n",
      "Total params: 138,357,544\n",
      "Trainable params: 0\n",
      "Non-trainable params: 138,357,544\n",
      "=================================================================\n"
     ]
    },
    {
     "data": {
      "text/plain": [
       "=================================================================\n",
       "Layer (type:depth-idx)                   Param #\n",
       "=================================================================\n",
       "├─Sequential: 1-1                        --\n",
       "|    └─Conv2d: 2-1                       (1,792)\n",
       "|    └─ReLU: 2-2                         --\n",
       "|    └─Conv2d: 2-3                       (36,928)\n",
       "|    └─ReLU: 2-4                         --\n",
       "|    └─MaxPool2d: 2-5                    --\n",
       "|    └─Conv2d: 2-6                       (73,856)\n",
       "|    └─ReLU: 2-7                         --\n",
       "|    └─Conv2d: 2-8                       (147,584)\n",
       "|    └─ReLU: 2-9                         --\n",
       "|    └─MaxPool2d: 2-10                   --\n",
       "|    └─Conv2d: 2-11                      (295,168)\n",
       "|    └─ReLU: 2-12                        --\n",
       "|    └─Conv2d: 2-13                      (590,080)\n",
       "|    └─ReLU: 2-14                        --\n",
       "|    └─Conv2d: 2-15                      (590,080)\n",
       "|    └─ReLU: 2-16                        --\n",
       "|    └─MaxPool2d: 2-17                   --\n",
       "|    └─Conv2d: 2-18                      (1,180,160)\n",
       "|    └─ReLU: 2-19                        --\n",
       "|    └─Conv2d: 2-20                      (2,359,808)\n",
       "|    └─ReLU: 2-21                        --\n",
       "|    └─Conv2d: 2-22                      (2,359,808)\n",
       "|    └─ReLU: 2-23                        --\n",
       "|    └─MaxPool2d: 2-24                   --\n",
       "|    └─Conv2d: 2-25                      (2,359,808)\n",
       "|    └─ReLU: 2-26                        --\n",
       "|    └─Conv2d: 2-27                      (2,359,808)\n",
       "|    └─ReLU: 2-28                        --\n",
       "|    └─Conv2d: 2-29                      (2,359,808)\n",
       "|    └─ReLU: 2-30                        --\n",
       "|    └─MaxPool2d: 2-31                   --\n",
       "├─AdaptiveAvgPool2d: 1-2                 --\n",
       "├─Sequential: 1-3                        --\n",
       "|    └─Linear: 2-32                      (102,764,544)\n",
       "|    └─ReLU: 2-33                        --\n",
       "|    └─Dropout: 2-34                     --\n",
       "|    └─Linear: 2-35                      (16,781,312)\n",
       "|    └─ReLU: 2-36                        --\n",
       "|    └─Dropout: 2-37                     --\n",
       "|    └─Linear: 2-38                      (4,097,000)\n",
       "=================================================================\n",
       "Total params: 138,357,544\n",
       "Trainable params: 0\n",
       "Non-trainable params: 138,357,544\n",
       "================================================================="
      ]
     },
     "execution_count": 7,
     "metadata": {},
     "output_type": "execute_result"
    }
   ],
   "source": [
    "summary(model, input_size=(3, 224, 224))"
   ]
  },
  {
   "cell_type": "markdown",
   "metadata": {
    "id": "vBEp6AEeMMy0"
   },
   "source": [
    "Now, replace the output layer with your own output layer (here, we actually add two more output layers):"
   ]
  },
  {
   "cell_type": "code",
   "execution_count": 8,
   "metadata": {
    "id": "6cfgg4wtMMy0"
   },
   "outputs": [],
   "source": [
    "model.classifier[6] = nn.Sequential(\n",
    "                      nn.Linear(4096, 512), \n",
    "                      nn.ReLU(), \n",
    "                      nn.Dropout(0.5),\n",
    "                      nn.Linear(512, NUM_CLASSES))\n",
    "#print(model)"
   ]
  },
  {
   "cell_type": "code",
   "execution_count": 9,
   "metadata": {
    "colab": {
     "base_uri": "https://localhost:8080/"
    },
    "id": "UWV_G32KcUc4",
    "outputId": "b055515f-c594-4d39-97c0-f768689ddf7d"
   },
   "outputs": [
    {
     "name": "stdout",
     "output_type": "stream",
     "text": [
      "=================================================================\n",
      "Layer (type:depth-idx)                   Param #\n",
      "=================================================================\n",
      "├─Sequential: 1-1                        --\n",
      "|    └─Conv2d: 2-1                       (1,792)\n",
      "|    └─ReLU: 2-2                         --\n",
      "|    └─Conv2d: 2-3                       (36,928)\n",
      "|    └─ReLU: 2-4                         --\n",
      "|    └─MaxPool2d: 2-5                    --\n",
      "|    └─Conv2d: 2-6                       (73,856)\n",
      "|    └─ReLU: 2-7                         --\n",
      "|    └─Conv2d: 2-8                       (147,584)\n",
      "|    └─ReLU: 2-9                         --\n",
      "|    └─MaxPool2d: 2-10                   --\n",
      "|    └─Conv2d: 2-11                      (295,168)\n",
      "|    └─ReLU: 2-12                        --\n",
      "|    └─Conv2d: 2-13                      (590,080)\n",
      "|    └─ReLU: 2-14                        --\n",
      "|    └─Conv2d: 2-15                      (590,080)\n",
      "|    └─ReLU: 2-16                        --\n",
      "|    └─MaxPool2d: 2-17                   --\n",
      "|    └─Conv2d: 2-18                      (1,180,160)\n",
      "|    └─ReLU: 2-19                        --\n",
      "|    └─Conv2d: 2-20                      (2,359,808)\n",
      "|    └─ReLU: 2-21                        --\n",
      "|    └─Conv2d: 2-22                      (2,359,808)\n",
      "|    └─ReLU: 2-23                        --\n",
      "|    └─MaxPool2d: 2-24                   --\n",
      "|    └─Conv2d: 2-25                      (2,359,808)\n",
      "|    └─ReLU: 2-26                        --\n",
      "|    └─Conv2d: 2-27                      (2,359,808)\n",
      "|    └─ReLU: 2-28                        --\n",
      "|    └─Conv2d: 2-29                      (2,359,808)\n",
      "|    └─ReLU: 2-30                        --\n",
      "|    └─MaxPool2d: 2-31                   --\n",
      "├─AdaptiveAvgPool2d: 1-2                 --\n",
      "├─Sequential: 1-3                        --\n",
      "|    └─Linear: 2-32                      (102,764,544)\n",
      "|    └─ReLU: 2-33                        --\n",
      "|    └─Dropout: 2-34                     --\n",
      "|    └─Linear: 2-35                      (16,781,312)\n",
      "|    └─ReLU: 2-36                        --\n",
      "|    └─Dropout: 2-37                     --\n",
      "|    └─Sequential: 2-38                  --\n",
      "|    |    └─Linear: 3-1                  2,097,664\n",
      "|    |    └─ReLU: 3-2                    --\n",
      "|    |    └─Dropout: 3-3                 --\n",
      "|    |    └─Linear: 3-4                  5,130\n",
      "=================================================================\n",
      "Total params: 136,363,338\n",
      "Trainable params: 2,102,794\n",
      "Non-trainable params: 134,260,544\n",
      "=================================================================\n"
     ]
    },
    {
     "data": {
      "text/plain": [
       "=================================================================\n",
       "Layer (type:depth-idx)                   Param #\n",
       "=================================================================\n",
       "├─Sequential: 1-1                        --\n",
       "|    └─Conv2d: 2-1                       (1,792)\n",
       "|    └─ReLU: 2-2                         --\n",
       "|    └─Conv2d: 2-3                       (36,928)\n",
       "|    └─ReLU: 2-4                         --\n",
       "|    └─MaxPool2d: 2-5                    --\n",
       "|    └─Conv2d: 2-6                       (73,856)\n",
       "|    └─ReLU: 2-7                         --\n",
       "|    └─Conv2d: 2-8                       (147,584)\n",
       "|    └─ReLU: 2-9                         --\n",
       "|    └─MaxPool2d: 2-10                   --\n",
       "|    └─Conv2d: 2-11                      (295,168)\n",
       "|    └─ReLU: 2-12                        --\n",
       "|    └─Conv2d: 2-13                      (590,080)\n",
       "|    └─ReLU: 2-14                        --\n",
       "|    └─Conv2d: 2-15                      (590,080)\n",
       "|    └─ReLU: 2-16                        --\n",
       "|    └─MaxPool2d: 2-17                   --\n",
       "|    └─Conv2d: 2-18                      (1,180,160)\n",
       "|    └─ReLU: 2-19                        --\n",
       "|    └─Conv2d: 2-20                      (2,359,808)\n",
       "|    └─ReLU: 2-21                        --\n",
       "|    └─Conv2d: 2-22                      (2,359,808)\n",
       "|    └─ReLU: 2-23                        --\n",
       "|    └─MaxPool2d: 2-24                   --\n",
       "|    └─Conv2d: 2-25                      (2,359,808)\n",
       "|    └─ReLU: 2-26                        --\n",
       "|    └─Conv2d: 2-27                      (2,359,808)\n",
       "|    └─ReLU: 2-28                        --\n",
       "|    └─Conv2d: 2-29                      (2,359,808)\n",
       "|    └─ReLU: 2-30                        --\n",
       "|    └─MaxPool2d: 2-31                   --\n",
       "├─AdaptiveAvgPool2d: 1-2                 --\n",
       "├─Sequential: 1-3                        --\n",
       "|    └─Linear: 2-32                      (102,764,544)\n",
       "|    └─ReLU: 2-33                        --\n",
       "|    └─Dropout: 2-34                     --\n",
       "|    └─Linear: 2-35                      (16,781,312)\n",
       "|    └─ReLU: 2-36                        --\n",
       "|    └─Dropout: 2-37                     --\n",
       "|    └─Sequential: 2-38                  --\n",
       "|    |    └─Linear: 3-1                  2,097,664\n",
       "|    |    └─ReLU: 3-2                    --\n",
       "|    |    └─Dropout: 3-3                 --\n",
       "|    |    └─Linear: 3-4                  5,130\n",
       "=================================================================\n",
       "Total params: 136,363,338\n",
       "Trainable params: 2,102,794\n",
       "Non-trainable params: 134,260,544\n",
       "================================================================="
      ]
     },
     "execution_count": 9,
     "metadata": {},
     "output_type": "execute_result"
    }
   ],
   "source": [
    "summary(model, input_size=(3, 224, 224))"
   ]
  },
  {
   "cell_type": "code",
   "execution_count": 12,
   "metadata": {
    "colab": {
     "base_uri": "https://localhost:8080/"
    },
    "id": "Wv_SNw1hayHD",
    "outputId": "9bcd6344-a4e4-4c6e-fffa-49dac2fe52d7"
   },
   "outputs": [
    {
     "name": "stdout",
     "output_type": "stream",
     "text": [
      "All parameters  136363338\n",
      "Trainable parameters  2102794\n"
     ]
    }
   ],
   "source": [
    "# All parameters\n",
    "all_params = sum(p.numel() for p in model.parameters())\n",
    "print(\"All parameters \", all_params)\n",
    "\n",
    "# Trainable parameters\n",
    "all_train_params = sum(p.numel() for p in model.parameters() if p.requires_grad)\n",
    "print(\"Trainable parameters \", all_train_params)"
   ]
  },
  {
   "cell_type": "markdown",
   "metadata": {
    "id": "JubYgQPWMMy2"
   },
   "source": [
    "## Training (as usual)"
   ]
  },
  {
   "cell_type": "code",
   "execution_count": 13,
   "metadata": {
    "id": "bIJIakNQMMy2"
   },
   "outputs": [],
   "source": [
    "model = model.to(DEVICE)\n",
    "optimizer = torch.optim.Adam(model.parameters())"
   ]
  },
  {
   "cell_type": "code",
   "execution_count": 14,
   "metadata": {
    "colab": {
     "base_uri": "https://localhost:8080/",
     "height": 245
    },
    "id": "LgKqqI6DMMy2",
    "outputId": "f1a9e5b4-6e5a-487b-8f15-57bdd4d142d0"
   },
   "outputs": [
    {
     "name": "stdout",
     "output_type": "stream",
     "text": [
      "Epoch: 001/010 | Batch 0000/0391 | Cost: 2.3601\n",
      "Epoch: 001/010 | Batch 0050/0391 | Cost: 0.6422\n",
      "Epoch: 001/010 | Batch 0100/0391 | Cost: 0.5879\n",
      "Epoch: 001/010 | Batch 0150/0391 | Cost: 0.6881\n",
      "Epoch: 001/010 | Batch 0200/0391 | Cost: 0.8195\n",
      "Epoch: 001/010 | Batch 0250/0391 | Cost: 0.6299\n",
      "Epoch: 001/010 | Batch 0300/0391 | Cost: 0.6205\n",
      "Epoch: 001/010 | Batch 0350/0391 | Cost: 0.6127\n",
      "Epoch: 001/010 | Train: 83.662% | Loss: 0.471\n",
      "Time elapsed: 6.92 min\n",
      "Epoch: 002/010 | Batch 0000/0391 | Cost: 0.6232\n",
      "Epoch: 002/010 | Batch 0050/0391 | Cost: 0.5976\n",
      "Epoch: 002/010 | Batch 0100/0391 | Cost: 0.6036\n",
      "Epoch: 002/010 | Batch 0150/0391 | Cost: 0.5720\n",
      "Epoch: 002/010 | Batch 0200/0391 | Cost: 0.5625\n",
      "Epoch: 002/010 | Batch 0250/0391 | Cost: 0.5978\n",
      "Epoch: 002/010 | Batch 0300/0391 | Cost: 0.6106\n",
      "Epoch: 002/010 | Batch 0350/0391 | Cost: 0.8233\n",
      "Epoch: 002/010 | Train: 84.682% | Loss: 0.438\n",
      "Time elapsed: 13.84 min\n",
      "Epoch: 003/010 | Batch 0000/0391 | Cost: 0.5107\n",
      "Epoch: 003/010 | Batch 0050/0391 | Cost: 0.6582\n",
      "Epoch: 003/010 | Batch 0100/0391 | Cost: 0.4982\n",
      "Epoch: 003/010 | Batch 0150/0391 | Cost: 0.5501\n",
      "Epoch: 003/010 | Batch 0200/0391 | Cost: 0.4712\n",
      "Epoch: 003/010 | Batch 0250/0391 | Cost: 0.5919\n",
      "Epoch: 003/010 | Batch 0300/0391 | Cost: 0.5824\n",
      "Epoch: 003/010 | Batch 0350/0391 | Cost: 0.6032\n",
      "Epoch: 003/010 | Train: 85.928% | Loss: 0.400\n",
      "Time elapsed: 20.75 min\n",
      "Epoch: 004/010 | Batch 0000/0391 | Cost: 0.5019\n",
      "Epoch: 004/010 | Batch 0050/0391 | Cost: 0.4714\n",
      "Epoch: 004/010 | Batch 0100/0391 | Cost: 0.5006\n",
      "Epoch: 004/010 | Batch 0150/0391 | Cost: 0.5617\n",
      "Epoch: 004/010 | Batch 0200/0391 | Cost: 0.6131\n",
      "Epoch: 004/010 | Batch 0250/0391 | Cost: 0.5666\n",
      "Epoch: 004/010 | Batch 0300/0391 | Cost: 0.5418\n",
      "Epoch: 004/010 | Batch 0350/0391 | Cost: 0.5635\n",
      "Epoch: 004/010 | Train: 86.458% | Loss: 0.389\n",
      "Time elapsed: 27.67 min\n",
      "Epoch: 005/010 | Batch 0000/0391 | Cost: 0.5133\n",
      "Epoch: 005/010 | Batch 0050/0391 | Cost: 0.5186\n",
      "Epoch: 005/010 | Batch 0100/0391 | Cost: 0.5358\n",
      "Epoch: 005/010 | Batch 0150/0391 | Cost: 0.6835\n",
      "Epoch: 005/010 | Batch 0200/0391 | Cost: 0.5267\n",
      "Epoch: 005/010 | Batch 0250/0391 | Cost: 0.5656\n",
      "Epoch: 005/010 | Batch 0300/0391 | Cost: 0.4984\n",
      "Epoch: 005/010 | Batch 0350/0391 | Cost: 0.4901\n",
      "Epoch: 005/010 | Train: 87.288% | Loss: 0.367\n",
      "Time elapsed: 34.58 min\n",
      "Epoch: 006/010 | Batch 0000/0391 | Cost: 0.6349\n",
      "Epoch: 006/010 | Batch 0050/0391 | Cost: 0.5956\n",
      "Epoch: 006/010 | Batch 0100/0391 | Cost: 0.6194\n",
      "Epoch: 006/010 | Batch 0150/0391 | Cost: 0.4609\n",
      "Epoch: 006/010 | Batch 0200/0391 | Cost: 0.5848\n",
      "Epoch: 006/010 | Batch 0250/0391 | Cost: 0.5722\n",
      "Epoch: 006/010 | Batch 0300/0391 | Cost: 0.5526\n",
      "Epoch: 006/010 | Batch 0350/0391 | Cost: 0.5096\n",
      "Epoch: 006/010 | Train: 87.460% | Loss: 0.365\n",
      "Time elapsed: 41.50 min\n",
      "Epoch: 007/010 | Batch 0000/0391 | Cost: 0.5630\n",
      "Epoch: 007/010 | Batch 0050/0391 | Cost: 0.5956\n",
      "Epoch: 007/010 | Batch 0100/0391 | Cost: 0.5143\n",
      "Epoch: 007/010 | Batch 0150/0391 | Cost: 0.6649\n",
      "Epoch: 007/010 | Batch 0200/0391 | Cost: 0.5345\n",
      "Epoch: 007/010 | Batch 0250/0391 | Cost: 0.6044\n",
      "Epoch: 007/010 | Batch 0300/0391 | Cost: 0.4628\n",
      "Epoch: 007/010 | Batch 0350/0391 | Cost: 0.6557\n",
      "Epoch: 007/010 | Train: 87.972% | Loss: 0.353\n",
      "Time elapsed: 48.42 min\n",
      "Epoch: 008/010 | Batch 0000/0391 | Cost: 0.4696\n",
      "Epoch: 008/010 | Batch 0050/0391 | Cost: 0.4035\n",
      "Epoch: 008/010 | Batch 0100/0391 | Cost: 0.4687\n",
      "Epoch: 008/010 | Batch 0150/0391 | Cost: 0.4718\n",
      "Epoch: 008/010 | Batch 0200/0391 | Cost: 0.5484\n",
      "Epoch: 008/010 | Batch 0250/0391 | Cost: 0.5001\n",
      "Epoch: 008/010 | Batch 0300/0391 | Cost: 0.6092\n",
      "Epoch: 008/010 | Batch 0350/0391 | Cost: 0.3660\n",
      "Epoch: 008/010 | Train: 88.536% | Loss: 0.336\n",
      "Time elapsed: 55.33 min\n",
      "Epoch: 009/010 | Batch 0000/0391 | Cost: 0.3942\n",
      "Epoch: 009/010 | Batch 0050/0391 | Cost: 0.4087\n",
      "Epoch: 009/010 | Batch 0100/0391 | Cost: 0.4498\n",
      "Epoch: 009/010 | Batch 0150/0391 | Cost: 0.5632\n",
      "Epoch: 009/010 | Batch 0200/0391 | Cost: 0.4958\n",
      "Epoch: 009/010 | Batch 0250/0391 | Cost: 0.4580\n",
      "Epoch: 009/010 | Batch 0300/0391 | Cost: 0.4670\n",
      "Epoch: 009/010 | Batch 0350/0391 | Cost: 0.4524\n",
      "\n",
      "Epoch: 009/010 | Train: 88.890% | Loss: 0.332\n",
      "Time elapsed: 62.25 min\n",
      "\n",
      "Epoch: 010/010 | Batch 0000/0391 | Cost: 0.4441\n",
      "Epoch: 010/010 | Batch 0050/0391 | Cost: 0.5626\n",
      "Epoch: 010/010 | Batch 0100/0391 | Cost: 0.5634\n",
      "Epoch: 010/010 | Batch 0150/0391 | Cost: 0.5604\n",
      "Epoch: 010/010 | Batch 0200/0391 | Cost: 0.5015\n",
      "Epoch: 010/010 | Batch 0250/0391 | Cost: 0.5043\n",
      "Epoch: 010/010 | Batch 0300/0391 | Cost: 0.5111\n",
      "Epoch: 010/010 | Batch 0350/0391 | Cost: 0.4768\n",
      "\n",
      "\n",
      "Epoch: 010/010 | Train: 89.072% | Loss: 0.321\n",
      "Time elapsed: 69.17 min\n",
      "Total Training Time: 69.17 min\n"
     ]
    }
   ],
   "source": [
    "def compute_accuracy(model, data_loader):\n",
    "    model.eval()\n",
    "    correct_pred, num_examples = 0, 0\n",
    "    for i, (features, targets) in enumerate(data_loader):\n",
    "            \n",
    "        features = features.to(DEVICE)\n",
    "        targets = targets.to(DEVICE)\n",
    "\n",
    "        logits = model(features)\n",
    "        _, predicted_labels = torch.max(logits, 1)\n",
    "        num_examples += targets.size(0)\n",
    "        correct_pred += (predicted_labels == targets).sum()\n",
    "    return correct_pred.float()/num_examples * 100\n",
    "\n",
    "\n",
    "def compute_epoch_loss(model, data_loader):\n",
    "    model.eval()\n",
    "    curr_loss, num_examples = 0., 0\n",
    "    with torch.no_grad():\n",
    "        for features, targets in data_loader:\n",
    "            features = features.to(DEVICE)\n",
    "            targets = targets.to(DEVICE)\n",
    "            logits = model(features)\n",
    "            loss = F.cross_entropy(logits, targets, reduction='sum')\n",
    "            num_examples += targets.size(0)\n",
    "            curr_loss += loss\n",
    "\n",
    "        curr_loss = curr_loss / num_examples\n",
    "        return curr_loss\n",
    "    \n",
    "    \n",
    "\n",
    "start_time = time.time()\n",
    "for epoch in range(num_epochs):\n",
    "    \n",
    "    model.train()\n",
    "    for batch_idx, (features, targets) in enumerate(train_loader):\n",
    "        \n",
    "        features = features.to(DEVICE)\n",
    "        targets = targets.to(DEVICE)\n",
    "            \n",
    "        ### FORWARD AND BACK PROP\n",
    "        logits = model(features)\n",
    "        cost = F.cross_entropy(logits, targets)\n",
    "        optimizer.zero_grad()\n",
    "        \n",
    "        cost.backward()\n",
    "        \n",
    "        ### UPDATE MODEL PARAMETERS\n",
    "        optimizer.step()\n",
    "        \n",
    "        ### LOGGING\n",
    "        if not batch_idx % 50:\n",
    "            print ('Epoch: %03d/%03d | Batch %04d/%04d | Cost: %.4f' \n",
    "                   %(epoch+1, num_epochs, batch_idx, \n",
    "                     len(train_loader), cost))\n",
    "\n",
    "    model.eval()\n",
    "    with torch.set_grad_enabled(False): # save memory during inference\n",
    "        print('Epoch: %03d/%03d | Train: %.3f%% | Loss: %.3f' % (\n",
    "              epoch+1, num_epochs, \n",
    "              compute_accuracy(model, train_loader),\n",
    "              compute_epoch_loss(model, train_loader)))\n",
    "\n",
    "\n",
    "    print('Time elapsed: %.2f min' % ((time.time() - start_time)/60))\n",
    "    \n",
    "print('Total Training Time: %.2f min' % ((time.time() - start_time)/60))"
   ]
  },
  {
   "cell_type": "code",
   "execution_count": 15,
   "metadata": {
    "colab": {
     "base_uri": "https://localhost:8080/"
    },
    "id": "KYLDHkzNMMy3",
    "outputId": "73cc0cb2-6b18-4c89-dde5-13ea642111e0"
   },
   "outputs": [
    {
     "name": "stdout",
     "output_type": "stream",
     "text": [
      "\n",
      "\n",
      "\n",
      "Test accuracy: 84.37%\n"
     ]
    }
   ],
   "source": [
    "with torch.set_grad_enabled(False): # save memory during inference\n",
    "    print('Test accuracy: %.2f%%' % (compute_accuracy(model, test_loader)))"
   ]
  },
  {
   "cell_type": "code",
   "execution_count": 16,
   "metadata": {
    "id": "KZNdgE_qMMy3"
   },
   "outputs": [
    {
     "name": "stdout",
     "output_type": "stream",
     "text": [
      "\n"
     ]
    }
   ],
   "source": [
    "%matplotlib inline\n",
    "import matplotlib.pyplot as plt"
   ]
  },
  {
   "cell_type": "code",
   "execution_count": 17,
   "metadata": {
    "colab": {
     "base_uri": "https://localhost:8080/"
    },
    "id": "esy8ilxlMMy3",
    "outputId": "3362fb5e-674e-47e8-9dc5-863105019bd8"
   },
   "outputs": [],
   "source": [
    "classes = ('plane', 'car', 'bird', 'cat',\n",
    "           'deer', 'dog', 'frog', 'horse', 'ship', 'truck')\n",
    "\n",
    "for batch_idx, (features, targets) in enumerate(test_loader):\n",
    "\n",
    "    features = features\n",
    "    targets = targets\n",
    "    break\n",
    "\n",
    "logits = model(features.to(DEVICE))\n",
    "_, predicted_labels = torch.max(logits, 1)\n",
    "    "
   ]
  },
  {
   "cell_type": "code",
   "execution_count": 18,
   "metadata": {
    "colab": {
     "base_uri": "https://localhost:8080/"
    },
    "id": "KgpVCDHLZgdW",
    "outputId": "fb3850cc-7fbb-4335-9df4-a92959c98044"
   },
   "outputs": [
    {
     "data": {
      "text/plain": [
       "128"
      ]
     },
     "execution_count": 18,
     "metadata": {},
     "output_type": "execute_result"
    }
   ],
   "source": [
    "len(predicted_labels)"
   ]
  },
  {
   "cell_type": "code",
   "execution_count": 19,
   "metadata": {
    "colab": {
     "base_uri": "https://localhost:8080/",
     "height": 152
    },
    "id": "i0YWL0vmMMy4",
    "outputId": "04b228c0-fb82-4ef0-9a36-744b4c00f770"
   },
   "outputs": [
    {
     "data": {
      "image/png": "[encoded data removed]",
      "text/plain": [
       "<Figure size 1440x180 with 10 Axes>"
      ]
     },
     "metadata": {
      "needs_background": "light"
     },
     "output_type": "display_data"
    }
   ],
   "source": [
    "def unnormalize(tensor, mean, std):\n",
    "    for t, m, s in zip(tensor, mean, std):\n",
    "        t.mul_(s).add_(m)\n",
    "    return tensor\n",
    "\n",
    "n_images = 10\n",
    "\n",
    "fig, axes = plt.subplots(nrows=1, ncols=n_images, \n",
    "                         sharex=True, sharey=True, figsize=(20, 2.5))\n",
    "orig_images = features[:n_images]\n",
    "\n",
    "for i in range(n_images):\n",
    "    curr_img = orig_images[i].detach().to(torch.device('cpu'))\n",
    "    curr_img = unnormalize(curr_img,\n",
    "                           torch.tensor([0.485, 0.456, 0.406]), # ImageNet mean and std\n",
    "                           torch.tensor([0.229, 0.224, 0.225])) \n",
    "    curr_img = curr_img.permute((1, 2, 0))\n",
    "    axes[i].imshow(curr_img)\n",
    "    axes[i].set_title(classes[predicted_labels[i]])"
   ]
  },
  {
   "cell_type": "code",
   "execution_count": null,
   "metadata": {
    "id": "VbxX9rnyYrOn"
   },
   "outputs": [],
   "source": []
  },
  {
   "cell_type": "code",
   "execution_count": null,
   "metadata": {},
   "outputs": [],
   "source": []
  }
 ],
 "metadata": {
  "accelerator": "GPU",
  "colab": {
   "collapsed_sections": [],
   "include_colab_link": true,
   "name": "03.transferlearning-vgg16-cifar10-1.ipynb",
   "provenance": []
  },
  "kernelspec": {
   "display_name": "Python 3",
   "language": "python",
   "name": "python3"
  },
  "language_info": {
   "codemirror_mode": {
    "name": "ipython",
    "version": 3
   },
   "file_extension": ".py",
   "mimetype": "text/x-python",
   "name": "python",
   "nbconvert_exporter": "python",
   "pygments_lexer": "ipython3",
   "version": "3.7.9"
  },
  "widgets": {
   "application/vnd.jupyter.widget-state+json": {
    "02a7699bdb344e9e800427cc6e6d0475": {
     "model_module": "@jupyter-widgets/controls",
     "model_name": "HBoxModel",
     "state": {
      "_dom_classes": [],
      "_model_module": "@jupyter-widgets/controls",
      "_model_module_version": "1.5.0",
      "_model_name": "HBoxModel",
      "_view_count": null,
      "_view_module": "@jupyter-widgets/controls",
      "_view_module_version": "1.5.0",
      "_view_name": "HBoxView",
      "box_style": "",
      "children": [
       "IPY_MODEL_23fcf37e04dc4ea691d774620251300a",
       "IPY_MODEL_49c0b574fafb480c9234326d7d9b748f"
      ],
      "layout": "IPY_MODEL_fcce3efe736a4ad3b79d752b1c09683e"
     }
    },
    "09be73665684446eb2c2bab961ed6112": {
     "model_module": "@jupyter-widgets/controls",
     "model_name": "ProgressStyleModel",
     "state": {
      "_model_module": "@jupyter-widgets/controls",
      "_model_module_version": "1.5.0",
      "_model_name": "ProgressStyleModel",
      "_view_count": null,
      "_view_module": "@jupyter-widgets/base",
      "_view_module_version": "1.2.0",
      "_view_name": "StyleView",
      "bar_color": null,
      "description_width": "initial"
     }
    },
    "23fcf37e04dc4ea691d774620251300a": {
     "model_module": "@jupyter-widgets/controls",
     "model_name": "FloatProgressModel",
     "state": {
      "_dom_classes": [],
      "_model_module": "@jupyter-widgets/controls",
      "_model_module_version": "1.5.0",
      "_model_name": "FloatProgressModel",
      "_view_count": null,
      "_view_module": "@jupyter-widgets/controls",
      "_view_module_version": "1.5.0",
      "_view_name": "ProgressView",
      "bar_style": "success",
      "description": "",
      "description_tooltip": null,
      "layout": "IPY_MODEL_96b02a729f0c4dc59f60b9b40a267908",
      "max": 170498071,
      "min": 0,
      "orientation": "horizontal",
      "style": "IPY_MODEL_8fe88acd88fc4d8180b5bde42c1ff70c",
      "value": 170498071
     }
    },
    "4297ed63878848809b6a006beec13e4d": {
     "model_module": "@jupyter-widgets/controls",
     "model_name": "HTMLModel",
     "state": {
      "_dom_classes": [],
      "_model_module": "@jupyter-widgets/controls",
      "_model_module_version": "1.5.0",
      "_model_name": "HTMLModel",
      "_view_count": null,
      "_view_module": "@jupyter-widgets/controls",
      "_view_module_version": "1.5.0",
      "_view_name": "HTMLView",
      "description": "",
      "description_tooltip": null,
      "layout": "IPY_MODEL_83f5416f61aa4ab7bffa91b555220ca5",
      "placeholder": "​",
      "style": "IPY_MODEL_7ebf91a160f647a3bc49adb6938a6d65",
      "value": " 528M/528M [00:09&lt;00:00, 59.8MB/s]"
     }
    },
    "49c0b574fafb480c9234326d7d9b748f": {
     "model_module": "@jupyter-widgets/controls",
     "model_name": "HTMLModel",
     "state": {
      "_dom_classes": [],
      "_model_module": "@jupyter-widgets/controls",
      "_model_module_version": "1.5.0",
      "_model_name": "HTMLModel",
      "_view_count": null,
      "_view_module": "@jupyter-widgets/controls",
      "_view_module_version": "1.5.0",
      "_view_name": "HTMLView",
      "description": "",
      "description_tooltip": null,
      "layout": "IPY_MODEL_b88baa5af5c843f6a7dd7affa77f2c9d",
      "placeholder": "​",
      "style": "IPY_MODEL_8ec8e2d1ac684a54aed4943a88928401",
      "value": " 170499072/? [00:04&lt;00:00, 41428954.18it/s]"
     }
    },
    "780c2659a8434cb29b946f0b12ae8acc": {
     "model_module": "@jupyter-widgets/controls",
     "model_name": "HBoxModel",
     "state": {
      "_dom_classes": [],
      "_model_module": "@jupyter-widgets/controls",
      "_model_module_version": "1.5.0",
      "_model_name": "HBoxModel",
      "_view_count": null,
      "_view_module": "@jupyter-widgets/controls",
      "_view_module_version": "1.5.0",
      "_view_name": "HBoxView",
      "box_style": "",
      "children": [
       "IPY_MODEL_87d4f2b4df4240d6bd2ca5e6a18c377a",
       "IPY_MODEL_4297ed63878848809b6a006beec13e4d"
      ],
      "layout": "IPY_MODEL_d1908d7da7e74735931dd7bcf6fd7cff"
     }
    },
    "7ebf91a160f647a3bc49adb6938a6d65": {
     "model_module": "@jupyter-widgets/controls",
     "model_name": "DescriptionStyleModel",
     "state": {
      "_model_module": "@jupyter-widgets/controls",
      "_model_module_version": "1.5.0",
      "_model_name": "DescriptionStyleModel",
      "_view_count": null,
      "_view_module": "@jupyter-widgets/base",
      "_view_module_version": "1.2.0",
      "_view_name": "StyleView",
      "description_width": ""
     }
    },
    "83f5416f61aa4ab7bffa91b555220ca5": {
     "model_module": "@jupyter-widgets/base",
     "model_name": "LayoutModel",
     "state": {
      "_model_module": "@jupyter-widgets/base",
      "_model_module_version": "1.2.0",
      "_model_name": "LayoutModel",
      "_view_count": null,
      "_view_module": "@jupyter-widgets/base",
      "_view_module_version": "1.2.0",
      "_view_name": "LayoutView",
      "align_content": null,
      "align_items": null,
      "align_self": null,
      "border": null,
      "bottom": null,
      "display": null,
      "flex": null,
      "flex_flow": null,
      "grid_area": null,
      "grid_auto_columns": null,
      "grid_auto_flow": null,
      "grid_auto_rows": null,
      "grid_column": null,
      "grid_gap": null,
      "grid_row": null,
      "grid_template_areas": null,
      "grid_template_columns": null,
      "grid_template_rows": null,
      "height": null,
      "justify_content": null,
      "justify_items": null,
      "left": null,
      "margin": null,
      "max_height": null,
      "max_width": null,
      "min_height": null,
      "min_width": null,
      "object_fit": null,
      "object_position": null,
      "order": null,
      "overflow": null,
      "overflow_x": null,
      "overflow_y": null,
      "padding": null,
      "right": null,
      "top": null,
      "visibility": null,
      "width": null
     }
    },
    "87d4f2b4df4240d6bd2ca5e6a18c377a": {
     "model_module": "@jupyter-widgets/controls",
     "model_name": "FloatProgressModel",
     "state": {
      "_dom_classes": [],
      "_model_module": "@jupyter-widgets/controls",
      "_model_module_version": "1.5.0",
      "_model_name": "FloatProgressModel",
      "_view_count": null,
      "_view_module": "@jupyter-widgets/controls",
      "_view_module_version": "1.5.0",
      "_view_name": "ProgressView",
      "bar_style": "success",
      "description": "100%",
      "description_tooltip": null,
      "layout": "IPY_MODEL_c67bac28910b459b9e646391575c5242",
      "max": 553433881,
      "min": 0,
      "orientation": "horizontal",
      "style": "IPY_MODEL_09be73665684446eb2c2bab961ed6112",
      "value": 553433881
     }
    },
    "8ec8e2d1ac684a54aed4943a88928401": {
     "model_module": "@jupyter-widgets/controls",
     "model_name": "DescriptionStyleModel",
     "state": {
      "_model_module": "@jupyter-widgets/controls",
      "_model_module_version": "1.5.0",
      "_model_name": "DescriptionStyleModel",
      "_view_count": null,
      "_view_module": "@jupyter-widgets/base",
      "_view_module_version": "1.2.0",
      "_view_name": "StyleView",
      "description_width": ""
     }
    },
    "8fe88acd88fc4d8180b5bde42c1ff70c": {
     "model_module": "@jupyter-widgets/controls",
     "model_name": "ProgressStyleModel",
     "state": {
      "_model_module": "@jupyter-widgets/controls",
      "_model_module_version": "1.5.0",
      "_model_name": "ProgressStyleModel",
      "_view_count": null,
      "_view_module": "@jupyter-widgets/base",
      "_view_module_version": "1.2.0",
      "_view_name": "StyleView",
      "bar_color": null,
      "description_width": "initial"
     }
    },
    "96b02a729f0c4dc59f60b9b40a267908": {
     "model_module": "@jupyter-widgets/base",
     "model_name": "LayoutModel",
     "state": {
      "_model_module": "@jupyter-widgets/base",
      "_model_module_version": "1.2.0",
      "_model_name": "LayoutModel",
      "_view_count": null,
      "_view_module": "@jupyter-widgets/base",
      "_view_module_version": "1.2.0",
      "_view_name": "LayoutView",
      "align_content": null,
      "align_items": null,
      "align_self": null,
      "border": null,
      "bottom": null,
      "display": null,
      "flex": null,
      "flex_flow": null,
      "grid_area": null,
      "grid_auto_columns": null,
      "grid_auto_flow": null,
      "grid_auto_rows": null,
      "grid_column": null,
      "grid_gap": null,
      "grid_row": null,
      "grid_template_areas": null,
      "grid_template_columns": null,
      "grid_template_rows": null,
      "height": null,
      "justify_content": null,
      "justify_items": null,
      "left": null,
      "margin": null,
      "max_height": null,
      "max_width": null,
      "min_height": null,
      "min_width": null,
      "object_fit": null,
      "object_position": null,
      "order": null,
      "overflow": null,
      "overflow_x": null,
      "overflow_y": null,
      "padding": null,
      "right": null,
      "top": null,
      "visibility": null,
      "width": null
     }
    },
    "b88baa5af5c843f6a7dd7affa77f2c9d": {
     "model_module": "@jupyter-widgets/base",
     "model_name": "LayoutModel",
     "state": {
      "_model_module": "@jupyter-widgets/base",
      "_model_module_version": "1.2.0",
      "_model_name": "LayoutModel",
      "_view_count": null,
      "_view_module": "@jupyter-widgets/base",
      "_view_module_version": "1.2.0",
      "_view_name": "LayoutView",
      "align_content": null,
      "align_items": null,
      "align_self": null,
      "border": null,
      "bottom": null,
      "display": null,
      "flex": null,
      "flex_flow": null,
      "grid_area": null,
      "grid_auto_columns": null,
      "grid_auto_flow": null,
      "grid_auto_rows": null,
      "grid_column": null,
      "grid_gap": null,
      "grid_row": null,
      "grid_template_areas": null,
      "grid_template_columns": null,
      "grid_template_rows": null,
      "height": null,
      "justify_content": null,
      "justify_items": null,
      "left": null,
      "margin": null,
      "max_height": null,
      "max_width": null,
      "min_height": null,
      "min_width": null,
      "object_fit": null,
      "object_position": null,
      "order": null,
      "overflow": null,
      "overflow_x": null,
      "overflow_y": null,
      "padding": null,
      "right": null,
      "top": null,
      "visibility": null,
      "width": null
     }
    },
    "c67bac28910b459b9e646391575c5242": {
     "model_module": "@jupyter-widgets/base",
     "model_name": "LayoutModel",
     "state": {
      "_model_module": "@jupyter-widgets/base",
      "_model_module_version": "1.2.0",
      "_model_name": "LayoutModel",
      "_view_count": null,
      "_view_module": "@jupyter-widgets/base",
      "_view_module_version": "1.2.0",
      "_view_name": "LayoutView",
      "align_content": null,
      "align_items": null,
      "align_self": null,
      "border": null,
      "bottom": null,
      "display": null,
      "flex": null,
      "flex_flow": null,
      "grid_area": null,
      "grid_auto_columns": null,
      "grid_auto_flow": null,
      "grid_auto_rows": null,
      "grid_column": null,
      "grid_gap": null,
      "grid_row": null,
      "grid_template_areas": null,
      "grid_template_columns": null,
      "grid_template_rows": null,
      "height": null,
      "justify_content": null,
      "justify_items": null,
      "left": null,
      "margin": null,
      "max_height": null,
      "max_width": null,
      "min_height": null,
      "min_width": null,
      "object_fit": null,
      "object_position": null,
      "order": null,
      "overflow": null,
      "overflow_x": null,
      "overflow_y": null,
      "padding": null,
      "right": null,
      "top": null,
      "visibility": null,
      "width": null
     }
    },
    "d1908d7da7e74735931dd7bcf6fd7cff": {
     "model_module": "@jupyter-widgets/base",
     "model_name": "LayoutModel",
     "state": {
      "_model_module": "@jupyter-widgets/base",
      "_model_module_version": "1.2.0",
      "_model_name": "LayoutModel",
      "_view_count": null,
      "_view_module": "@jupyter-widgets/base",
      "_view_module_version": "1.2.0",
      "_view_name": "LayoutView",
      "align_content": null,
      "align_items": null,
      "align_self": null,
      "border": null,
      "bottom": null,
      "display": null,
      "flex": null,
      "flex_flow": null,
      "grid_area": null,
      "grid_auto_columns": null,
      "grid_auto_flow": null,
      "grid_auto_rows": null,
      "grid_column": null,
      "grid_gap": null,
      "grid_row": null,
      "grid_template_areas": null,
      "grid_template_columns": null,
      "grid_template_rows": null,
      "height": null,
      "justify_content": null,
      "justify_items": null,
      "left": null,
      "margin": null,
      "max_height": null,
      "max_width": null,
      "min_height": null,
      "min_width": null,
      "object_fit": null,
      "object_position": null,
      "order": null,
      "overflow": null,
      "overflow_x": null,
      "overflow_y": null,
      "padding": null,
      "right": null,
      "top": null,
      "visibility": null,
      "width": null
     }
    },
    "fcce3efe736a4ad3b79d752b1c09683e": {
     "model_module": "@jupyter-widgets/base",
     "model_name": "LayoutModel",
     "state": {
      "_model_module": "@jupyter-widgets/base",
      "_model_module_version": "1.2.0",
      "_model_name": "LayoutModel",
      "_view_count": null,
      "_view_module": "@jupyter-widgets/base",
      "_view_module_version": "1.2.0",
      "_view_name": "LayoutView",
      "align_content": null,
      "align_items": null,
      "align_self": null,
      "border": null,
      "bottom": null,
      "display": null,
      "flex": null,
      "flex_flow": null,
      "grid_area": null,
      "grid_auto_columns": null,
      "grid_auto_flow": null,
      "grid_auto_rows": null,
      "grid_column": null,
      "grid_gap": null,
      "grid_row": null,
      "grid_template_areas": null,
      "grid_template_columns": null,
      "grid_template_rows": null,
      "height": null,
      "justify_content": null,
      "justify_items": null,
      "left": null,
      "margin": null,
      "max_height": null,
      "max_width": null,
      "min_height": null,
      "min_width": null,
      "object_fit": null,
      "object_position": null,
      "order": null,
      "overflow": null,
      "overflow_x": null,
      "overflow_y": null,
      "padding": null,
      "right": null,
      "top": null,
      "visibility": null,
      "width": null
     }
    }
   }
  }
 },
 "nbformat": 4,
 "nbformat_minor": 4
}
